{
 "cells": [
  {
   "cell_type": "markdown",
   "id": "95d099fe",
   "metadata": {},
   "source": [
    "## This script accesses the large data file containing individual journey information, queries it with SQL via duckdb and saves aggregated dataframes to be used in the further visualisations"
   ]
  },
  {
   "cell_type": "code",
   "execution_count": 1,
   "id": "896f1ec9",
   "metadata": {},
   "outputs": [],
   "source": [
    "import duckdb"
   ]
  },
  {
   "cell_type": "code",
   "execution_count": 2,
   "id": "255af563",
   "metadata": {},
   "outputs": [],
   "source": [
    "# filepath to be referenced in queries\n",
    "bigfile = 'C:/Data/Citibike_NY_2022/merged/df_weather_duration.parquet'"
   ]
  },
  {
   "cell_type": "code",
   "execution_count": 3,
   "id": "00c01f2c",
   "metadata": {},
   "outputs": [
    {
     "data": {
      "text/plain": [
       "┌──────────────────┬───────────────┬─────────────────────────┬─────────────────────────┬────────────────────────┬──────────────────┬─────────────────────────┬────────────────┬───────────────┬─────────────────────┬───────┬───────┬───────┬─────────────┬──────────────┬─────────────┬──────────────┬────────────────────┐\n",
       "│     ride_id      │ rideable_type │       started_at        │        ended_at         │   start_station_name   │ start_station_id │    end_station_name     │ end_station_id │ member_casual │        date         │ AWND  │ PRCP  │ TAVG  │  start_lat  │  start_lng   │   end_lat   │   end_lng    │   trip_duration    │\n",
       "│     varchar      │    varchar    │      timestamp_ns       │      timestamp_ns       │        varchar         │     varchar      │         varchar         │    varchar     │    varchar    │    timestamp_ns     │ int64 │ int64 │ int64 │   double    │    double    │   double    │    double    │       double       │\n",
       "├──────────────────┼───────────────┼─────────────────────────┼─────────────────────────┼────────────────────────┼──────────────────┼─────────────────────────┼────────────────┼───────────────┼─────────────────────┼───────┼───────┼───────┼─────────────┼──────────────┼─────────────┼──────────────┼────────────────────┤\n",
       "│ FB33E3D8F21E2941 │ electric_bike │ 2022-01-01 01:49:37.374 │ 2022-01-01 01:57:50.346 │ Canal St & Rutgers St  │ 5303.08          │ Norfolk St & Broome St  │ 5374.01        │ casual        │ 2022-01-01 00:00:00 │    28 │   193 │   116 │ 40.71427487 │ -73.98990025 │  40.7172274 │ -73.98802084 │  8.216199999999999 │\n",
       "│ 755337295F178067 │ electric_bike │ 2022-01-01 03:21:09.754 │ 2022-01-01 03:49:33.047 │ Lewis Ave & Madison St │ 4425.02          │ Columbia St & Degraw St │ 4422.04        │ member        │ 2022-01-01 00:00:00 │    28 │   193 │   116 │   40.686312 │   -73.935775 │  40.6859296 │ -74.00242364 │ 28.388216666666665 │\n",
       "│ C62CA87E3A475ADD │ classic_bike  │ 2022-01-01 08:38:18.156 │ 2022-01-01 08:47:54.213 │ Carlton Ave & Park Ave │ 4732.04          │ Emerson Pl & Myrtle Ave │ 4683.02        │ casual        │ 2022-01-01 00:00:00 │    28 │   193 │   116 │ 40.69580705 │ -73.97355569 │ 40.69363137 │ -73.96223558 │  9.600950000000001 │\n",
       "│ CD7A2098AFCD5514 │ classic_bike  │ 2022-01-01 10:33:58.529 │ 2022-01-01 10:47:05.197 │ W 100 St & Broadway    │ 7580.01          │ W 67 St & Broadway      │ 7116.04        │ casual        │ 2022-01-01 00:00:00 │    28 │   193 │   116 │  40.7973721 │ -73.97041192 │ 40.77492513 │ -73.98266566 │ 13.111133333333333 │\n",
       "│ 3F9E0C51F49F78A3 │ electric_bike │ 2022-01-01 20:05:19.592 │ 2022-01-01 20:12:00.661 │ W 18 St & 6 Ave        │ 6064.08          │ W 42 St & 6 Ave         │ 6517.08        │ member        │ 2022-01-01 00:00:00 │    28 │   193 │   116 │ 40.73971301 │ -73.99456405 │    40.75492 │    -73.98455 │ 6.6844833333333336 │\n",
       "└──────────────────┴───────────────┴─────────────────────────┴─────────────────────────┴────────────────────────┴──────────────────┴─────────────────────────┴────────────────┴───────────────┴─────────────────────┴───────┴───────┴───────┴─────────────┴──────────────┴─────────────┴──────────────┴────────────────────┘"
      ]
     },
     "execution_count": 3,
     "metadata": {},
     "output_type": "execute_result"
    }
   ],
   "source": [
    "duckdb.query(f\"\"\"\n",
    "    SELECT *\n",
    "    FROM '{bigfile}'\n",
    "    LIMIT 5\n",
    "\"\"\")"
   ]
  },
  {
   "cell_type": "code",
   "execution_count": 4,
   "id": "506c8b4c",
   "metadata": {},
   "outputs": [],
   "source": [
    "# Creating table with top 20 stations by number of routes beginning there\n",
    "duckdb.query(f\"\"\"\n",
    "    COPY (\n",
    "        SELECT \n",
    "            start_station_name,\n",
    "            COUNT(*) AS num_trips\n",
    "        FROM '{bigfile}'\n",
    "        GROUP BY start_station_name\n",
    "        ORDER BY num_trips DESC\n",
    "        LIMIT 20\n",
    "    ) TO 'C:/Data/Citibike_NY_2022/merged/top_20.csv' (FORMAT CSV, HEADER TRUE);\n",
    "\"\"\")"
   ]
  },
  {
   "cell_type": "code",
   "execution_count": null,
   "id": "79d13682",
   "metadata": {},
   "outputs": [
    {
     "data": {
      "application/vnd.jupyter.widget-view+json": {
       "model_id": "f294be2a54514ebf91436124872c6cb4",
       "version_major": 2,
       "version_minor": 0
      },
      "text/plain": [
       "FloatProgress(value=0.0, layout=Layout(width='auto'), style=ProgressStyle(bar_color='black'))"
      ]
     },
     "metadata": {},
     "output_type": "display_data"
    },
    {
     "data": {
      "text/html": [
       "<div>\n",
       "<style scoped>\n",
       "    .dataframe tbody tr th:only-of-type {\n",
       "        vertical-align: middle;\n",
       "    }\n",
       "\n",
       "    .dataframe tbody tr th {\n",
       "        vertical-align: top;\n",
       "    }\n",
       "\n",
       "    .dataframe thead th {\n",
       "        text-align: right;\n",
       "    }\n",
       "</style>\n",
       "<table border=\"1\" class=\"dataframe\">\n",
       "  <thead>\n",
       "    <tr style=\"text-align: right;\">\n",
       "      <th></th>\n",
       "      <th>start_station_name</th>\n",
       "      <th>coord_versions</th>\n",
       "    </tr>\n",
       "  </thead>\n",
       "  <tbody>\n",
       "    <tr>\n",
       "      <th>0</th>\n",
       "      <td>Rivington St &amp; Ridge St</td>\n",
       "      <td>1</td>\n",
       "    </tr>\n",
       "    <tr>\n",
       "      <th>1</th>\n",
       "      <td>Pier 40 - Hudson River Park</td>\n",
       "      <td>1</td>\n",
       "    </tr>\n",
       "    <tr>\n",
       "      <th>2</th>\n",
       "      <td>W 4 St &amp; 7 Ave S</td>\n",
       "      <td>1</td>\n",
       "    </tr>\n",
       "    <tr>\n",
       "      <th>3</th>\n",
       "      <td>Atlantic Ave &amp; Furman St</td>\n",
       "      <td>1</td>\n",
       "    </tr>\n",
       "    <tr>\n",
       "      <th>4</th>\n",
       "      <td>Morningside Dr &amp; Amsterdam Ave</td>\n",
       "      <td>1</td>\n",
       "    </tr>\n",
       "    <tr>\n",
       "      <th>...</th>\n",
       "      <td>...</td>\n",
       "      <td>...</td>\n",
       "    </tr>\n",
       "    <tr>\n",
       "      <th>1734</th>\n",
       "      <td>Lafayette Ave &amp; St James Pl</td>\n",
       "      <td>1</td>\n",
       "    </tr>\n",
       "    <tr>\n",
       "      <th>1735</th>\n",
       "      <td>Hamilton Pl &amp; W 138 St</td>\n",
       "      <td>1</td>\n",
       "    </tr>\n",
       "    <tr>\n",
       "      <th>1736</th>\n",
       "      <td>Humboldt St &amp; Varet St</td>\n",
       "      <td>1</td>\n",
       "    </tr>\n",
       "    <tr>\n",
       "      <th>1737</th>\n",
       "      <td>E 134 St &amp; Walnut Ave</td>\n",
       "      <td>1</td>\n",
       "    </tr>\n",
       "    <tr>\n",
       "      <th>1738</th>\n",
       "      <td>W 33 St &amp; 7 Ave</td>\n",
       "      <td>1</td>\n",
       "    </tr>\n",
       "  </tbody>\n",
       "</table>\n",
       "<p>1739 rows × 2 columns</p>\n",
       "</div>"
      ],
      "text/plain": [
       "                  start_station_name  coord_versions\n",
       "0            Rivington St & Ridge St               1\n",
       "1        Pier 40 - Hudson River Park               1\n",
       "2                   W 4 St & 7 Ave S               1\n",
       "3           Atlantic Ave & Furman St               1\n",
       "4     Morningside Dr & Amsterdam Ave               1\n",
       "...                              ...             ...\n",
       "1734     Lafayette Ave & St James Pl               1\n",
       "1735          Hamilton Pl & W 138 St               1\n",
       "1736          Humboldt St & Varet St               1\n",
       "1737           E 134 St & Walnut Ave               1\n",
       "1738                 W 33 St & 7 Ave               1\n",
       "\n",
       "[1739 rows x 2 columns]"
      ]
     },
     "execution_count": 5,
     "metadata": {},
     "output_type": "execute_result"
    }
   ],
   "source": [
    "# Checking if start station coordinates are consistent\n",
    "duckdb.query(f\"\"\"\n",
    "    SELECT \n",
    "        start_station_name,\n",
    "        COUNT(DISTINCT start_lat || ',' || start_lng) AS coord_versions\n",
    "    FROM '{bigfile}'\n",
    "    GROUP BY start_station_name\n",
    "    ORDER BY coord_versions DESC\n",
    "\"\"\").to_df()"
   ]
  },
  {
   "cell_type": "code",
   "execution_count": 9,
   "id": "7013f691",
   "metadata": {},
   "outputs": [
    {
     "data": {
      "application/vnd.jupyter.widget-view+json": {
       "model_id": "1be85e3034e54e33921589c816230898",
       "version_major": 2,
       "version_minor": 0
      },
      "text/plain": [
       "FloatProgress(value=0.0, layout=Layout(width='auto'), style=ProgressStyle(bar_color='black'))"
      ]
     },
     "metadata": {},
     "output_type": "display_data"
    }
   ],
   "source": [
    "# Creating df at the route level showing number of trips between each route\n",
    "# Including coordinates so it can be used for maps\n",
    "routes = duckdb.query(f\"\"\"\n",
    "    SELECT \n",
    "        CONCAT(start_station_name, '-', end_station_name) AS route,\n",
    "        COUNT(*) AS num_trips,\n",
    "        start_station_name, \n",
    "        end_station_name,\n",
    "        ANY_VALUE(start_lng) AS start_lng,\n",
    "        ANY_VALUE(start_lat) AS start_lat,\n",
    "        ANY_VALUE(end_lng) AS end_lng,\n",
    "        ANY_VALUE(end_lat) AS end_lat\n",
    "    FROM '{bigfile}'\n",
    "    GROUP BY \n",
    "        start_station_name, \n",
    "        end_station_name\n",
    "    ORDER BY num_trips DESC;\n",
    "\"\"\").to_df()"
   ]
  },
  {
   "cell_type": "code",
   "execution_count": 10,
   "id": "9cbe02d9",
   "metadata": {},
   "outputs": [
    {
     "data": {
      "text/html": [
       "<div>\n",
       "<style scoped>\n",
       "    .dataframe tbody tr th:only-of-type {\n",
       "        vertical-align: middle;\n",
       "    }\n",
       "\n",
       "    .dataframe tbody tr th {\n",
       "        vertical-align: top;\n",
       "    }\n",
       "\n",
       "    .dataframe thead th {\n",
       "        text-align: right;\n",
       "    }\n",
       "</style>\n",
       "<table border=\"1\" class=\"dataframe\">\n",
       "  <thead>\n",
       "    <tr style=\"text-align: right;\">\n",
       "      <th></th>\n",
       "      <th>route</th>\n",
       "      <th>num_trips</th>\n",
       "      <th>start_station_name</th>\n",
       "      <th>end_station_name</th>\n",
       "      <th>start_lng</th>\n",
       "      <th>start_lat</th>\n",
       "      <th>end_lng</th>\n",
       "      <th>end_lat</th>\n",
       "    </tr>\n",
       "  </thead>\n",
       "  <tbody>\n",
       "    <tr>\n",
       "      <th>0</th>\n",
       "      <td>Central Park S &amp; 6 Ave-Central Park S &amp; 6 Ave</td>\n",
       "      <td>12041</td>\n",
       "      <td>Central Park S &amp; 6 Ave</td>\n",
       "      <td>Central Park S &amp; 6 Ave</td>\n",
       "      <td>-73.976342</td>\n",
       "      <td>40.765909</td>\n",
       "      <td>-73.976342</td>\n",
       "      <td>40.765909</td>\n",
       "    </tr>\n",
       "    <tr>\n",
       "      <th>1</th>\n",
       "      <td>7 Ave &amp; Central Park South-7 Ave &amp; Central Par...</td>\n",
       "      <td>8541</td>\n",
       "      <td>7 Ave &amp; Central Park South</td>\n",
       "      <td>7 Ave &amp; Central Park South</td>\n",
       "      <td>-73.979069</td>\n",
       "      <td>40.766741</td>\n",
       "      <td>-73.979069</td>\n",
       "      <td>40.766741</td>\n",
       "    </tr>\n",
       "    <tr>\n",
       "      <th>2</th>\n",
       "      <td>Roosevelt Island Tramway-Roosevelt Island Tramway</td>\n",
       "      <td>8213</td>\n",
       "      <td>Roosevelt Island Tramway</td>\n",
       "      <td>Roosevelt Island Tramway</td>\n",
       "      <td>-73.953600</td>\n",
       "      <td>40.757284</td>\n",
       "      <td>-73.953600</td>\n",
       "      <td>40.757284</td>\n",
       "    </tr>\n",
       "    <tr>\n",
       "      <th>3</th>\n",
       "      <td>Grand Army Plaza &amp; Central Park S-Grand Army P...</td>\n",
       "      <td>7287</td>\n",
       "      <td>Grand Army Plaza &amp; Central Park S</td>\n",
       "      <td>Grand Army Plaza &amp; Central Park S</td>\n",
       "      <td>-73.973715</td>\n",
       "      <td>40.764397</td>\n",
       "      <td>-73.973715</td>\n",
       "      <td>40.764397</td>\n",
       "    </tr>\n",
       "    <tr>\n",
       "      <th>4</th>\n",
       "      <td>Soissons Landing-Soissons Landing</td>\n",
       "      <td>7275</td>\n",
       "      <td>Soissons Landing</td>\n",
       "      <td>Soissons Landing</td>\n",
       "      <td>-74.014866</td>\n",
       "      <td>40.692317</td>\n",
       "      <td>-74.014866</td>\n",
       "      <td>40.692317</td>\n",
       "    </tr>\n",
       "  </tbody>\n",
       "</table>\n",
       "</div>"
      ],
      "text/plain": [
       "                                               route  num_trips  \\\n",
       "0      Central Park S & 6 Ave-Central Park S & 6 Ave      12041   \n",
       "1  7 Ave & Central Park South-7 Ave & Central Par...       8541   \n",
       "2  Roosevelt Island Tramway-Roosevelt Island Tramway       8213   \n",
       "3  Grand Army Plaza & Central Park S-Grand Army P...       7287   \n",
       "4                  Soissons Landing-Soissons Landing       7275   \n",
       "\n",
       "                  start_station_name                   end_station_name  \\\n",
       "0             Central Park S & 6 Ave             Central Park S & 6 Ave   \n",
       "1         7 Ave & Central Park South         7 Ave & Central Park South   \n",
       "2           Roosevelt Island Tramway           Roosevelt Island Tramway   \n",
       "3  Grand Army Plaza & Central Park S  Grand Army Plaza & Central Park S   \n",
       "4                   Soissons Landing                   Soissons Landing   \n",
       "\n",
       "   start_lng  start_lat    end_lng    end_lat  \n",
       "0 -73.976342  40.765909 -73.976342  40.765909  \n",
       "1 -73.979069  40.766741 -73.979069  40.766741  \n",
       "2 -73.953600  40.757284 -73.953600  40.757284  \n",
       "3 -73.973715  40.764397 -73.973715  40.764397  \n",
       "4 -74.014866  40.692317 -74.014866  40.692317  "
      ]
     },
     "execution_count": 10,
     "metadata": {},
     "output_type": "execute_result"
    }
   ],
   "source": [
    "routes.head()"
   ]
  },
  {
   "cell_type": "code",
   "execution_count": 11,
   "id": "24f695a5",
   "metadata": {},
   "outputs": [
    {
     "data": {
      "text/plain": [
       "(1006566, 8)"
      ]
     },
     "execution_count": 11,
     "metadata": {},
     "output_type": "execute_result"
    }
   ],
   "source": [
    "routes.shape"
   ]
  },
  {
   "cell_type": "code",
   "execution_count": 12,
   "id": "8b977f49",
   "metadata": {},
   "outputs": [],
   "source": [
    "# Saving object as df\n",
    "routes.to_csv(\"C:/Data/Citibike_NY_2022/merged/routes.csv\", index=False)"
   ]
  },
  {
   "cell_type": "code",
   "execution_count": 13,
   "id": "b8a89e49",
   "metadata": {},
   "outputs": [
    {
     "data": {
      "text/plain": [
       "┌───────────┬───────────┐\n",
       "│ min(TAVG) │ max(TAVG) │\n",
       "│   int64   │   int64   │\n",
       "├───────────┼───────────┤\n",
       "│      -117 │       313 │\n",
       "└───────────┴───────────┘"
      ]
     },
     "execution_count": 13,
     "metadata": {},
     "output_type": "execute_result"
    }
   ],
   "source": [
    "# Checking format of temperature\n",
    "duckdb.query(f\"\"\"\n",
    "    SELECT\n",
    "        MIN(TAVG),\n",
    "        MAX(TAVG)\n",
    "    FROM '{bigfile}'\n",
    "\"\"\")"
   ]
  },
  {
   "cell_type": "code",
   "execution_count": 19,
   "id": "b43a75bd",
   "metadata": {},
   "outputs": [],
   "source": [
    "# Query for making a df with each day as a row - showing number of trips and weather variables\n",
    "df_weather = duckdb.query(f\"\"\"\n",
    "    SELECT \n",
    "        date,\n",
    "        ANY_VALUE(TAVG) / 10 AS temperature, --- dividing by 10 so more intuitive\n",
    "        ANY_VALUE(PRCP) AS precipitation,\n",
    "        ANY_VALUE(AWND) AS wind,\n",
    "        COUNT(*) AS trip_count\n",
    "    FROM '{bigfile}'\n",
    "    GROUP BY date                       \n",
    "\"\"\").to_df()"
   ]
  },
  {
   "cell_type": "code",
   "execution_count": 20,
   "id": "228ee01c",
   "metadata": {},
   "outputs": [
    {
     "data": {
      "text/html": [
       "<div>\n",
       "<style scoped>\n",
       "    .dataframe tbody tr th:only-of-type {\n",
       "        vertical-align: middle;\n",
       "    }\n",
       "\n",
       "    .dataframe tbody tr th {\n",
       "        vertical-align: top;\n",
       "    }\n",
       "\n",
       "    .dataframe thead th {\n",
       "        text-align: right;\n",
       "    }\n",
       "</style>\n",
       "<table border=\"1\" class=\"dataframe\">\n",
       "  <thead>\n",
       "    <tr style=\"text-align: right;\">\n",
       "      <th></th>\n",
       "      <th>date</th>\n",
       "      <th>temperature</th>\n",
       "      <th>precipitation</th>\n",
       "      <th>wind</th>\n",
       "      <th>trip_count</th>\n",
       "    </tr>\n",
       "  </thead>\n",
       "  <tbody>\n",
       "    <tr>\n",
       "      <th>0</th>\n",
       "      <td>2022-06-12</td>\n",
       "      <td>20.5</td>\n",
       "      <td>20</td>\n",
       "      <td>42</td>\n",
       "      <td>90122</td>\n",
       "    </tr>\n",
       "    <tr>\n",
       "      <th>1</th>\n",
       "      <td>2022-07-19</td>\n",
       "      <td>28.2</td>\n",
       "      <td>0</td>\n",
       "      <td>56</td>\n",
       "      <td>119421</td>\n",
       "    </tr>\n",
       "    <tr>\n",
       "      <th>2</th>\n",
       "      <td>2022-01-20</td>\n",
       "      <td>5.1</td>\n",
       "      <td>64</td>\n",
       "      <td>54</td>\n",
       "      <td>33772</td>\n",
       "    </tr>\n",
       "    <tr>\n",
       "      <th>3</th>\n",
       "      <td>2022-08-17</td>\n",
       "      <td>23.6</td>\n",
       "      <td>79</td>\n",
       "      <td>30</td>\n",
       "      <td>120309</td>\n",
       "    </tr>\n",
       "    <tr>\n",
       "      <th>4</th>\n",
       "      <td>2022-08-18</td>\n",
       "      <td>24.1</td>\n",
       "      <td>0</td>\n",
       "      <td>34</td>\n",
       "      <td>121752</td>\n",
       "    </tr>\n",
       "  </tbody>\n",
       "</table>\n",
       "</div>"
      ],
      "text/plain": [
       "        date  temperature  precipitation  wind  trip_count\n",
       "0 2022-06-12         20.5             20    42       90122\n",
       "1 2022-07-19         28.2              0    56      119421\n",
       "2 2022-01-20          5.1             64    54       33772\n",
       "3 2022-08-17         23.6             79    30      120309\n",
       "4 2022-08-18         24.1              0    34      121752"
      ]
     },
     "execution_count": 20,
     "metadata": {},
     "output_type": "execute_result"
    }
   ],
   "source": [
    "df_weather.head()"
   ]
  },
  {
   "cell_type": "code",
   "execution_count": 21,
   "id": "ceeb3769",
   "metadata": {},
   "outputs": [],
   "source": [
    "# Saving object as df\n",
    "df_weather.to_csv(\"C:/Data/Citibike_NY_2022/merged/df_weather.csv\", index=False)"
   ]
  },
  {
   "cell_type": "markdown",
   "id": "cbfe7a31",
   "metadata": {},
   "source": [
    "Getting sample of rides for graph of membership and ride type. Excluding outlier trips (100 mins or longer)"
   ]
  },
  {
   "cell_type": "code",
   "execution_count": 6,
   "id": "7c8e73dc",
   "metadata": {},
   "outputs": [
    {
     "data": {
      "application/vnd.jupyter.widget-view+json": {
       "model_id": "608c7735284b4af292e1ca0cc9749aeb",
       "version_major": 2,
       "version_minor": 0
      },
      "text/plain": [
       "FloatProgress(value=0.0, layout=Layout(width='auto'), style=ProgressStyle(bar_color='black'))"
      ]
     },
     "metadata": {},
     "output_type": "display_data"
    }
   ],
   "source": [
    "df_sample_100 = duckdb.query(f\"\"\"\n",
    "    SELECT *\n",
    "    FROM '{bigfile}'\n",
    "    WHERE trip_duration < 100\n",
    "    ORDER BY hash(ride_id, 1) -- using 1 as random seed for reproducibility\n",
    "    LIMIT 100000;\n",
    "\"\"\").to_df()"
   ]
  },
  {
   "cell_type": "code",
   "execution_count": 7,
   "id": "ea814beb",
   "metadata": {},
   "outputs": [
    {
     "data": {
      "text/html": [
       "<div>\n",
       "<style scoped>\n",
       "    .dataframe tbody tr th:only-of-type {\n",
       "        vertical-align: middle;\n",
       "    }\n",
       "\n",
       "    .dataframe tbody tr th {\n",
       "        vertical-align: top;\n",
       "    }\n",
       "\n",
       "    .dataframe thead th {\n",
       "        text-align: right;\n",
       "    }\n",
       "</style>\n",
       "<table border=\"1\" class=\"dataframe\">\n",
       "  <thead>\n",
       "    <tr style=\"text-align: right;\">\n",
       "      <th></th>\n",
       "      <th>ride_id</th>\n",
       "      <th>rideable_type</th>\n",
       "      <th>started_at</th>\n",
       "      <th>ended_at</th>\n",
       "      <th>start_station_name</th>\n",
       "      <th>start_station_id</th>\n",
       "      <th>end_station_name</th>\n",
       "      <th>end_station_id</th>\n",
       "      <th>member_casual</th>\n",
       "      <th>date</th>\n",
       "      <th>AWND</th>\n",
       "      <th>PRCP</th>\n",
       "      <th>TAVG</th>\n",
       "      <th>start_lat</th>\n",
       "      <th>start_lng</th>\n",
       "      <th>end_lat</th>\n",
       "      <th>end_lng</th>\n",
       "      <th>trip_duration</th>\n",
       "    </tr>\n",
       "  </thead>\n",
       "  <tbody>\n",
       "    <tr>\n",
       "      <th>0</th>\n",
       "      <td>3610199C7DD25EE1</td>\n",
       "      <td>electric_bike</td>\n",
       "      <td>2022-03-25 16:23:26.117</td>\n",
       "      <td>2022-03-25 16:35:23.167</td>\n",
       "      <td>W 36 St &amp; 9 Ave</td>\n",
       "      <td>6569.07</td>\n",
       "      <td>West End Ave &amp; W 60 St</td>\n",
       "      <td>7059.08</td>\n",
       "      <td>member</td>\n",
       "      <td>2022-03-25</td>\n",
       "      <td>48</td>\n",
       "      <td>8</td>\n",
       "      <td>96</td>\n",
       "      <td>40.754623</td>\n",
       "      <td>-73.995168</td>\n",
       "      <td>40.772370</td>\n",
       "      <td>-73.990050</td>\n",
       "      <td>11.950833</td>\n",
       "    </tr>\n",
       "    <tr>\n",
       "      <th>1</th>\n",
       "      <td>AC3A787C575E83FA</td>\n",
       "      <td>classic_bike</td>\n",
       "      <td>2022-05-26 07:59:23.861</td>\n",
       "      <td>2022-05-26 08:03:57.614</td>\n",
       "      <td>Nassau Ave &amp; Russell St</td>\n",
       "      <td>5581.01</td>\n",
       "      <td>Kingsland Ave &amp; Nassau Ave</td>\n",
       "      <td>5613.04</td>\n",
       "      <td>member</td>\n",
       "      <td>2022-05-26</td>\n",
       "      <td>45</td>\n",
       "      <td>0</td>\n",
       "      <td>164</td>\n",
       "      <td>40.725570</td>\n",
       "      <td>-73.944340</td>\n",
       "      <td>40.725770</td>\n",
       "      <td>-73.941730</td>\n",
       "      <td>4.562550</td>\n",
       "    </tr>\n",
       "    <tr>\n",
       "      <th>2</th>\n",
       "      <td>C5A91DE83486770F</td>\n",
       "      <td>classic_bike</td>\n",
       "      <td>2022-08-21 16:48:14.678</td>\n",
       "      <td>2022-08-21 17:15:44.486</td>\n",
       "      <td>8 Ave &amp; W 16 St</td>\n",
       "      <td>6072.11</td>\n",
       "      <td>Broadway &amp; W 58 St</td>\n",
       "      <td>6948.10</td>\n",
       "      <td>casual</td>\n",
       "      <td>2022-08-21</td>\n",
       "      <td>39</td>\n",
       "      <td>0</td>\n",
       "      <td>253</td>\n",
       "      <td>40.740983</td>\n",
       "      <td>-74.001702</td>\n",
       "      <td>40.766953</td>\n",
       "      <td>-73.981693</td>\n",
       "      <td>27.496800</td>\n",
       "    </tr>\n",
       "    <tr>\n",
       "      <th>3</th>\n",
       "      <td>95A1FD80EA93D5ED</td>\n",
       "      <td>electric_bike</td>\n",
       "      <td>2022-12-19 08:27:37.252</td>\n",
       "      <td>2022-12-19 08:45:40.088</td>\n",
       "      <td>Flushing Ave &amp; Woodward Ave</td>\n",
       "      <td>5225.02</td>\n",
       "      <td>Franklin St &amp; Dupont St</td>\n",
       "      <td>5944.01</td>\n",
       "      <td>member</td>\n",
       "      <td>2022-12-19</td>\n",
       "      <td>72</td>\n",
       "      <td>0</td>\n",
       "      <td>17</td>\n",
       "      <td>40.712460</td>\n",
       "      <td>-73.918730</td>\n",
       "      <td>40.735640</td>\n",
       "      <td>-73.958660</td>\n",
       "      <td>18.047267</td>\n",
       "    </tr>\n",
       "    <tr>\n",
       "      <th>4</th>\n",
       "      <td>FB3E05590259FD43</td>\n",
       "      <td>classic_bike</td>\n",
       "      <td>2022-06-06 12:03:49.637</td>\n",
       "      <td>2022-06-06 12:14:14.689</td>\n",
       "      <td>Broadway &amp; W 25 St</td>\n",
       "      <td>6173.08</td>\n",
       "      <td>W 37 St &amp; 5 Ave</td>\n",
       "      <td>6398.06</td>\n",
       "      <td>member</td>\n",
       "      <td>2022-06-06</td>\n",
       "      <td>30</td>\n",
       "      <td>0</td>\n",
       "      <td>222</td>\n",
       "      <td>40.742869</td>\n",
       "      <td>-73.989186</td>\n",
       "      <td>40.750380</td>\n",
       "      <td>-73.983390</td>\n",
       "      <td>10.417533</td>\n",
       "    </tr>\n",
       "  </tbody>\n",
       "</table>\n",
       "</div>"
      ],
      "text/plain": [
       "            ride_id  rideable_type              started_at  \\\n",
       "0  3610199C7DD25EE1  electric_bike 2022-03-25 16:23:26.117   \n",
       "1  AC3A787C575E83FA   classic_bike 2022-05-26 07:59:23.861   \n",
       "2  C5A91DE83486770F   classic_bike 2022-08-21 16:48:14.678   \n",
       "3  95A1FD80EA93D5ED  electric_bike 2022-12-19 08:27:37.252   \n",
       "4  FB3E05590259FD43   classic_bike 2022-06-06 12:03:49.637   \n",
       "\n",
       "                 ended_at           start_station_name start_station_id  \\\n",
       "0 2022-03-25 16:35:23.167              W 36 St & 9 Ave          6569.07   \n",
       "1 2022-05-26 08:03:57.614      Nassau Ave & Russell St          5581.01   \n",
       "2 2022-08-21 17:15:44.486              8 Ave & W 16 St          6072.11   \n",
       "3 2022-12-19 08:45:40.088  Flushing Ave & Woodward Ave          5225.02   \n",
       "4 2022-06-06 12:14:14.689           Broadway & W 25 St          6173.08   \n",
       "\n",
       "             end_station_name end_station_id member_casual       date  AWND  \\\n",
       "0      West End Ave & W 60 St        7059.08        member 2022-03-25    48   \n",
       "1  Kingsland Ave & Nassau Ave        5613.04        member 2022-05-26    45   \n",
       "2          Broadway & W 58 St        6948.10        casual 2022-08-21    39   \n",
       "3     Franklin St & Dupont St        5944.01        member 2022-12-19    72   \n",
       "4             W 37 St & 5 Ave        6398.06        member 2022-06-06    30   \n",
       "\n",
       "   PRCP  TAVG  start_lat  start_lng    end_lat    end_lng  trip_duration  \n",
       "0     8    96  40.754623 -73.995168  40.772370 -73.990050      11.950833  \n",
       "1     0   164  40.725570 -73.944340  40.725770 -73.941730       4.562550  \n",
       "2     0   253  40.740983 -74.001702  40.766953 -73.981693      27.496800  \n",
       "3     0    17  40.712460 -73.918730  40.735640 -73.958660      18.047267  \n",
       "4     0   222  40.742869 -73.989186  40.750380 -73.983390      10.417533  "
      ]
     },
     "execution_count": 7,
     "metadata": {},
     "output_type": "execute_result"
    }
   ],
   "source": [
    "df_sample_100.head()"
   ]
  },
  {
   "cell_type": "code",
   "execution_count": 8,
   "id": "2f398bc4",
   "metadata": {},
   "outputs": [],
   "source": [
    "# Saving object as df\n",
    "df_sample_100.to_csv(\"C:/Data/Citibike_NY_2022/merged/df_sample_100.csv\", index=False)"
   ]
  },
  {
   "cell_type": "code",
   "execution_count": null,
   "id": "2fcecbeb",
   "metadata": {},
   "outputs": [],
   "source": []
  }
 ],
 "metadata": {
  "kernelspec": {
   "display_name": "Python (citibike)",
   "language": "python",
   "name": "citibike-env"
  },
  "language_info": {
   "codemirror_mode": {
    "name": "ipython",
    "version": 3
   },
   "file_extension": ".py",
   "mimetype": "text/x-python",
   "name": "python",
   "nbconvert_exporter": "python",
   "pygments_lexer": "ipython3",
   "version": "3.12.7"
  }
 },
 "nbformat": 4,
 "nbformat_minor": 5
}
