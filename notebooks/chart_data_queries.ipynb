{
 "cells": [
  {
   "cell_type": "markdown",
   "id": "95d099fe",
   "metadata": {},
   "source": [
    "## This script accesses the large data file containing individual journey information, queries it with SQL via duckdb and saves aggregated dataframes to be used in the further visualisations"
   ]
  },
  {
   "cell_type": "code",
   "execution_count": 1,
   "id": "896f1ec9",
   "metadata": {},
   "outputs": [],
   "source": [
    "import duckdb"
   ]
  },
  {
   "cell_type": "code",
   "execution_count": null,
   "id": "255af563",
   "metadata": {},
   "outputs": [],
   "source": [
    "# filepath to be referenced in queries\n",
    "bigfile = 'C:/Data/Citibike_NY_2022/merged/df_weather_duration.parquet'"
   ]
  },
  {
   "cell_type": "code",
   "execution_count": 19,
   "id": "00c01f2c",
   "metadata": {},
   "outputs": [
    {
     "data": {
      "text/plain": [
       "┌──────────────────┬───────────────┬─────────────────────────┬─────────────────────────┬────────────────────────┬─────────────────────────┬─────────────┬──────────────┬─────────────┬──────────────┬───────────────┬─────────────────────┬───────┬───────┬───────┬────────────────────┐\n",
       "│     ride_id      │ rideable_type │       started_at        │        ended_at         │   start_station_name   │    end_station_name     │  start_lat  │  start_lng   │   end_lat   │   end_lng    │ member_casual │        date         │ AWND  │ PRCP  │ TAVG  │   trip_duration    │\n",
       "│     varchar      │    varchar    │      timestamp_ns       │      timestamp_ns       │        varchar         │         varchar         │   double    │    double    │   double    │    double    │    varchar    │    timestamp_ns     │ int64 │ int64 │ int64 │       double       │\n",
       "├──────────────────┼───────────────┼─────────────────────────┼─────────────────────────┼────────────────────────┼─────────────────────────┼─────────────┼──────────────┼─────────────┼──────────────┼───────────────┼─────────────────────┼───────┼───────┼───────┼────────────────────┤\n",
       "│ FB33E3D8F21E2941 │ electric_bike │ 2022-01-01 01:49:37.374 │ 2022-01-01 01:57:50.346 │ Canal St & Rutgers St  │ Norfolk St & Broome St  │ 40.71427487 │ -73.98990025 │  40.7172274 │ -73.98802084 │ casual        │ 2022-01-01 00:00:00 │    28 │   193 │   116 │  8.216199999999999 │\n",
       "│ 755337295F178067 │ electric_bike │ 2022-01-01 03:21:09.754 │ 2022-01-01 03:49:33.047 │ Lewis Ave & Madison St │ Columbia St & Degraw St │   40.686312 │   -73.935775 │  40.6859296 │ -74.00242364 │ member        │ 2022-01-01 00:00:00 │    28 │   193 │   116 │ 28.388216666666665 │\n",
       "│ C62CA87E3A475ADD │ classic_bike  │ 2022-01-01 08:38:18.156 │ 2022-01-01 08:47:54.213 │ Carlton Ave & Park Ave │ Emerson Pl & Myrtle Ave │ 40.69580705 │ -73.97355569 │ 40.69363137 │ -73.96223558 │ casual        │ 2022-01-01 00:00:00 │    28 │   193 │   116 │  9.600950000000001 │\n",
       "│ CD7A2098AFCD5514 │ classic_bike  │ 2022-01-01 10:33:58.529 │ 2022-01-01 10:47:05.197 │ W 100 St & Broadway    │ W 67 St & Broadway      │  40.7973721 │ -73.97041192 │ 40.77492513 │ -73.98266566 │ casual        │ 2022-01-01 00:00:00 │    28 │   193 │   116 │ 13.111133333333333 │\n",
       "│ 3F9E0C51F49F78A3 │ electric_bike │ 2022-01-01 20:05:19.592 │ 2022-01-01 20:12:00.661 │ W 18 St & 6 Ave        │ W 42 St & 6 Ave         │ 40.73971301 │ -73.99456405 │    40.75492 │    -73.98455 │ member        │ 2022-01-01 00:00:00 │    28 │   193 │   116 │ 6.6844833333333336 │\n",
       "└──────────────────┴───────────────┴─────────────────────────┴─────────────────────────┴────────────────────────┴─────────────────────────┴─────────────┴──────────────┴─────────────┴──────────────┴───────────────┴─────────────────────┴───────┴───────┴───────┴────────────────────┘"
      ]
     },
     "execution_count": 19,
     "metadata": {},
     "output_type": "execute_result"
    }
   ],
   "source": [
    "duckdb.query(f\"\"\"\n",
    "    SELECT *\n",
    "    FROM '{bigfile}'\n",
    "    LIMIT 5\n",
    "\"\"\")"
   ]
  },
  {
   "cell_type": "code",
   "execution_count": null,
   "id": "506c8b4c",
   "metadata": {},
   "outputs": [],
   "source": [
    "# Creating table with top 20 stations by number of routes beginning there\n",
    "duckdb.query(f\"\"\"\n",
    "    COPY (\n",
    "        SELECT \n",
    "            start_station_name,\n",
    "            COUNT(*) AS num_trips\n",
    "        FROM '{bigfile}'\n",
    "        GROUP BY start_station_name\n",
    "        ORDER BY num_trips DESC\n",
    "        LIMIT 20\n",
    "    ) TO 'C:/Data/Citibike_NY_2022/merged/top_20.csv' (FORMAT CSV, HEADER TRUE);\n",
    "\"\"\")"
   ]
  },
  {
   "cell_type": "code",
   "execution_count": 5,
   "id": "79d13682",
   "metadata": {},
   "outputs": [
    {
     "data": {
      "application/vnd.jupyter.widget-view+json": {
       "model_id": "05f065c24fa64998b816ee1918722555",
       "version_major": 2,
       "version_minor": 0
      },
      "text/plain": [
       "FloatProgress(value=0.0, layout=Layout(width='auto'), style=ProgressStyle(bar_color='black'))"
      ]
     },
     "metadata": {},
     "output_type": "display_data"
    },
    {
     "data": {
      "text/html": [
       "<div>\n",
       "<style scoped>\n",
       "    .dataframe tbody tr th:only-of-type {\n",
       "        vertical-align: middle;\n",
       "    }\n",
       "\n",
       "    .dataframe tbody tr th {\n",
       "        vertical-align: top;\n",
       "    }\n",
       "\n",
       "    .dataframe thead th {\n",
       "        text-align: right;\n",
       "    }\n",
       "</style>\n",
       "<table border=\"1\" class=\"dataframe\">\n",
       "  <thead>\n",
       "    <tr style=\"text-align: right;\">\n",
       "      <th></th>\n",
       "      <th>start_station_name</th>\n",
       "      <th>coord_versions</th>\n",
       "    </tr>\n",
       "  </thead>\n",
       "  <tbody>\n",
       "    <tr>\n",
       "      <th>0</th>\n",
       "      <td>1 Ave &amp; E 68 St</td>\n",
       "      <td>16597</td>\n",
       "    </tr>\n",
       "    <tr>\n",
       "      <th>1</th>\n",
       "      <td>Broadway &amp; W 58 St</td>\n",
       "      <td>15936</td>\n",
       "    </tr>\n",
       "    <tr>\n",
       "      <th>2</th>\n",
       "      <td>W 21 St &amp; 6 Ave</td>\n",
       "      <td>12876</td>\n",
       "    </tr>\n",
       "    <tr>\n",
       "      <th>3</th>\n",
       "      <td>Broadway &amp; W 41 St</td>\n",
       "      <td>12705</td>\n",
       "    </tr>\n",
       "    <tr>\n",
       "      <th>4</th>\n",
       "      <td>E 40 St &amp; Park Ave</td>\n",
       "      <td>12003</td>\n",
       "    </tr>\n",
       "    <tr>\n",
       "      <th>...</th>\n",
       "      <td>...</td>\n",
       "      <td>...</td>\n",
       "    </tr>\n",
       "    <tr>\n",
       "      <th>1756</th>\n",
       "      <td>Schermerhorn St and Court St</td>\n",
       "      <td>1</td>\n",
       "    </tr>\n",
       "    <tr>\n",
       "      <th>1757</th>\n",
       "      <td>Folin St &amp; E 181 St</td>\n",
       "      <td>1</td>\n",
       "    </tr>\n",
       "    <tr>\n",
       "      <th>1758</th>\n",
       "      <td>Murray St\\t&amp; West St</td>\n",
       "      <td>1</td>\n",
       "    </tr>\n",
       "    <tr>\n",
       "      <th>1759</th>\n",
       "      <td>Broadway\\t&amp; W 48 St</td>\n",
       "      <td>1</td>\n",
       "    </tr>\n",
       "    <tr>\n",
       "      <th>1760</th>\n",
       "      <td>Vernon Blvd &amp; 30 Rd</td>\n",
       "      <td>1</td>\n",
       "    </tr>\n",
       "  </tbody>\n",
       "</table>\n",
       "<p>1761 rows × 2 columns</p>\n",
       "</div>"
      ],
      "text/plain": [
       "                start_station_name  coord_versions\n",
       "0                  1 Ave & E 68 St           16597\n",
       "1               Broadway & W 58 St           15936\n",
       "2                  W 21 St & 6 Ave           12876\n",
       "3               Broadway & W 41 St           12705\n",
       "4               E 40 St & Park Ave           12003\n",
       "...                            ...             ...\n",
       "1756  Schermerhorn St and Court St               1\n",
       "1757           Folin St & E 181 St               1\n",
       "1758          Murray St\\t& West St               1\n",
       "1759           Broadway\\t& W 48 St               1\n",
       "1760           Vernon Blvd & 30 Rd               1\n",
       "\n",
       "[1761 rows x 2 columns]"
      ]
     },
     "execution_count": 5,
     "metadata": {},
     "output_type": "execute_result"
    }
   ],
   "source": [
    "# Check how many unique coordinates each start station has\n",
    "duckdb.query(f\"\"\"\n",
    "    SELECT \n",
    "        start_station_name,\n",
    "        COUNT(DISTINCT start_lat || ',' || start_lng) AS coord_versions\n",
    "    FROM '{bigfile}'\n",
    "    GROUP BY start_station_name\n",
    "    ORDER BY coord_versions DESC\n",
    "\"\"\").to_df()"
   ]
  },
  {
   "cell_type": "code",
   "execution_count": 22,
   "id": "12579c5c",
   "metadata": {},
   "outputs": [
    {
     "data": {
      "application/vnd.jupyter.widget-view+json": {
       "model_id": "f41c852a3a844d5586cc2a830370fdbe",
       "version_major": 2,
       "version_minor": 0
      },
      "text/plain": [
       "FloatProgress(value=0.0, layout=Layout(width='auto'), style=ProgressStyle(bar_color='black'))"
      ]
     },
     "metadata": {},
     "output_type": "display_data"
    },
    {
     "data": {
      "text/html": [
       "<div>\n",
       "<style scoped>\n",
       "    .dataframe tbody tr th:only-of-type {\n",
       "        vertical-align: middle;\n",
       "    }\n",
       "\n",
       "    .dataframe tbody tr th {\n",
       "        vertical-align: top;\n",
       "    }\n",
       "\n",
       "    .dataframe thead th {\n",
       "        text-align: right;\n",
       "    }\n",
       "</style>\n",
       "<table border=\"1\" class=\"dataframe\">\n",
       "  <thead>\n",
       "    <tr style=\"text-align: right;\">\n",
       "      <th></th>\n",
       "      <th>start_station_name</th>\n",
       "      <th>coord_variants</th>\n",
       "      <th>variant_count</th>\n",
       "    </tr>\n",
       "  </thead>\n",
       "  <tbody>\n",
       "    <tr>\n",
       "      <th>0</th>\n",
       "      <td>1 Ave &amp; E 68 St</td>\n",
       "      <td>[40.765034318,-73.958014488, 40.764937162,-73....</td>\n",
       "      <td>16633</td>\n",
       "    </tr>\n",
       "    <tr>\n",
       "      <th>1</th>\n",
       "      <td>Broadway &amp; W 58 St</td>\n",
       "      <td>[40.766798735,-73.981944203, 40.766861439,-73....</td>\n",
       "      <td>16074</td>\n",
       "    </tr>\n",
       "    <tr>\n",
       "      <th>2</th>\n",
       "      <td>W 21 St &amp; 6 Ave</td>\n",
       "      <td>[40.741863489,-73.994309425, 40.741694808,-73....</td>\n",
       "      <td>12901</td>\n",
       "    </tr>\n",
       "    <tr>\n",
       "      <th>3</th>\n",
       "      <td>Broadway &amp; W 41 St</td>\n",
       "      <td>[40.755205631,-73.986714959, 40.755051017,-73....</td>\n",
       "      <td>12898</td>\n",
       "    </tr>\n",
       "    <tr>\n",
       "      <th>4</th>\n",
       "      <td>W 31 St &amp; 7 Ave</td>\n",
       "      <td>[40.749011874,-73.991641998, 40.749185681,-73....</td>\n",
       "      <td>12035</td>\n",
       "    </tr>\n",
       "    <tr>\n",
       "      <th>...</th>\n",
       "      <td>...</td>\n",
       "      <td>...</td>\n",
       "      <td>...</td>\n",
       "    </tr>\n",
       "    <tr>\n",
       "      <th>1744</th>\n",
       "      <td>Fulton St &amp; Pearl St</td>\n",
       "      <td>[40.707722,-74.004386, 40.70772198491691,-74.0...</td>\n",
       "      <td>2</td>\n",
       "    </tr>\n",
       "    <tr>\n",
       "      <th>1745</th>\n",
       "      <td>E 110 St &amp; Madison Ave</td>\n",
       "      <td>[40.796154,-73.947821, 40.7961535,-73.94782145]</td>\n",
       "      <td>2</td>\n",
       "    </tr>\n",
       "    <tr>\n",
       "      <th>1746</th>\n",
       "      <td>E 20 St &amp; FDR Drive</td>\n",
       "      <td>[40.73314259,-73.97573881, 40.733143,-73.975739]</td>\n",
       "      <td>2</td>\n",
       "    </tr>\n",
       "    <tr>\n",
       "      <th>1747</th>\n",
       "      <td>Broad St &amp; Water St</td>\n",
       "      <td>[40.702938,-74.011494, 40.70293782409166,-74.0...</td>\n",
       "      <td>2</td>\n",
       "    </tr>\n",
       "    <tr>\n",
       "      <th>1748</th>\n",
       "      <td>Sharon St &amp; Olive St_new</td>\n",
       "      <td>[40.715387821,-73.938456535, 40.71534162042448...</td>\n",
       "      <td>2</td>\n",
       "    </tr>\n",
       "  </tbody>\n",
       "</table>\n",
       "<p>1749 rows × 3 columns</p>\n",
       "</div>"
      ],
      "text/plain": [
       "            start_station_name  \\\n",
       "0              1 Ave & E 68 St   \n",
       "1           Broadway & W 58 St   \n",
       "2              W 21 St & 6 Ave   \n",
       "3           Broadway & W 41 St   \n",
       "4              W 31 St & 7 Ave   \n",
       "...                        ...   \n",
       "1744      Fulton St & Pearl St   \n",
       "1745    E 110 St & Madison Ave   \n",
       "1746       E 20 St & FDR Drive   \n",
       "1747       Broad St & Water St   \n",
       "1748  Sharon St & Olive St_new   \n",
       "\n",
       "                                         coord_variants  variant_count  \n",
       "0     [40.765034318,-73.958014488, 40.764937162,-73....          16633  \n",
       "1     [40.766798735,-73.981944203, 40.766861439,-73....          16074  \n",
       "2     [40.741863489,-73.994309425, 40.741694808,-73....          12901  \n",
       "3     [40.755205631,-73.986714959, 40.755051017,-73....          12898  \n",
       "4     [40.749011874,-73.991641998, 40.749185681,-73....          12035  \n",
       "...                                                 ...            ...  \n",
       "1744  [40.707722,-74.004386, 40.70772198491691,-74.0...              2  \n",
       "1745    [40.796154,-73.947821, 40.7961535,-73.94782145]              2  \n",
       "1746   [40.73314259,-73.97573881, 40.733143,-73.975739]              2  \n",
       "1747  [40.702938,-74.011494, 40.70293782409166,-74.0...              2  \n",
       "1748  [40.715387821,-73.938456535, 40.71534162042448...              2  \n",
       "\n",
       "[1749 rows x 3 columns]"
      ]
     },
     "execution_count": 22,
     "metadata": {},
     "output_type": "execute_result"
    }
   ],
   "source": [
    "# Count how many versions of coordinates there are for each station and also collect \n",
    "# these variants to have a look at them\n",
    "duckdb.query(f\"\"\"\n",
    "    SELECT \n",
    "        start_station_name,\n",
    "        ARRAY_AGG(DISTINCT start_lat || ',' || start_lng) AS coord_variants,\n",
    "        COUNT(DISTINCT start_lat || ',' || start_lng) AS variant_count\n",
    "    FROM '{bigfile}'\n",
    "    GROUP BY start_station_name\n",
    "    HAVING variant_count > 1\n",
    "    ORDER BY variant_count DESC\n",
    "\"\"\").to_df()"
   ]
  },
  {
   "cell_type": "code",
   "execution_count": 40,
   "id": "2b7c6628",
   "metadata": {},
   "outputs": [],
   "source": [
    "# Determining what are the most common coordinates for each station and then joining them onto the main file\n",
    "    # Save as view \n",
    "duckdb.query(f\"\"\"\n",
    "CREATE OR REPLACE TEMP VIEW cleaned_trips AS\n",
    "-- CTE to get the common coordinates per start station\n",
    "WITH most_common_coords_s AS (\n",
    "    SELECT start_station_name,\n",
    "        start_lat,\n",
    "        start_lng,\n",
    "        ROW_NUMBER() OVER (\n",
    "            PARTITION BY start_station_name\n",
    "            ORDER BY COUNT(*) DESC\n",
    "        ) AS rn\n",
    "    FROM '{bigfile}'\n",
    "    GROUP BY start_station_name,\n",
    "        start_lat,\n",
    "        start_lng\n",
    "),\n",
    "\n",
    "-- CTE to get the common coordinates per end station\n",
    "most_common_coords_e AS (\n",
    "    SELECT end_station_name,\n",
    "        end_lat,\n",
    "        end_lng,\n",
    "        ROW_NUMBER() OVER (\n",
    "            PARTITION BY end_station_name\n",
    "            ORDER BY COUNT(*) DESC\n",
    "        ) AS rn\n",
    "    FROM '{bigfile}'\n",
    "    GROUP BY end_station_name,\n",
    "        end_lat,\n",
    "        end_lng\n",
    ")\n",
    "\n",
    "-- joining most common coordinates to main table\n",
    "SELECT\n",
    "    s.start_lat AS start_lat,\n",
    "    s.start_lng AS start_lng,\n",
    "    e.end_lat AS end_lat,\n",
    "    e.end_lng AS end_lng,\n",
    "    t.*\n",
    "    EXCLUDE(start_lat, start_lng, end_lat, end_lng)\n",
    "FROM '{bigfile}' t\n",
    "JOIN most_common_coords_s s\n",
    "    ON t.start_station_name = s.start_station_name AND s.rn = 1\n",
    "JOIN most_common_coords_e e\n",
    "    ON t.end_station_name = e.end_station_name AND e.rn = 1\n",
    "\"\"\")"
   ]
  },
  {
   "cell_type": "code",
   "execution_count": 41,
   "id": "68e98385",
   "metadata": {},
   "outputs": [
    {
     "data": {
      "application/vnd.jupyter.widget-view+json": {
       "model_id": "ca89f98e58ab401cb0cf517bb8b4fce5",
       "version_major": 2,
       "version_minor": 0
      },
      "text/plain": [
       "FloatProgress(value=0.0, layout=Layout(width='auto'), style=ProgressStyle(bar_color='black'))"
      ]
     },
     "metadata": {},
     "output_type": "display_data"
    },
    {
     "data": {
      "text/plain": [
       "┌───────────────────┬────────────────────┬─────────────┬────────────────┬──────────────────┬───────────────┬─────────────────────────┬─────────────────────────┬────────────────────────┬─────────────────────────┬───────────────┬─────────────────────┬───────┬───────┬───────┬────────────────────┐\n",
       "│     start_lat     │     start_lng      │   end_lat   │    end_lng     │     ride_id      │ rideable_type │       started_at        │        ended_at         │   start_station_name   │    end_station_name     │ member_casual │        date         │ AWND  │ PRCP  │ TAVG  │   trip_duration    │\n",
       "│      double       │       double       │   double    │     double     │     varchar      │    varchar    │      timestamp_ns       │      timestamp_ns       │        varchar         │         varchar         │    varchar    │    timestamp_ns     │ int64 │ int64 │ int64 │       double       │\n",
       "├───────────────────┼────────────────────┼─────────────┼────────────────┼──────────────────┼───────────────┼─────────────────────────┼─────────────────────────┼────────────────────────┼─────────────────────────┼───────────────┼─────────────────────┼───────┼───────┼───────┼────────────────────┤\n",
       "│       40.71427487 │       -73.98990025 │  40.7172274 │   -73.98802084 │ FB33E3D8F21E2941 │ electric_bike │ 2022-01-01 01:49:37.374 │ 2022-01-01 01:57:50.346 │ Canal St & Rutgers St  │ Norfolk St & Broome St  │ casual        │ 2022-01-01 00:00:00 │    28 │   193 │   116 │  8.216199999999999 │\n",
       "│         40.686312 │         -73.935775 │  40.6859296 │   -74.00242364 │ 755337295F178067 │ electric_bike │ 2022-01-01 03:21:09.754 │ 2022-01-01 03:49:33.047 │ Lewis Ave & Madison St │ Columbia St & Degraw St │ member        │ 2022-01-01 00:00:00 │    28 │   193 │   116 │ 28.388216666666665 │\n",
       "│       40.69580705 │       -73.97355569 │ 40.69363137 │   -73.96223558 │ C62CA87E3A475ADD │ classic_bike  │ 2022-01-01 08:38:18.156 │ 2022-01-01 08:47:54.213 │ Carlton Ave & Park Ave │ Emerson Pl & Myrtle Ave │ casual        │ 2022-01-01 00:00:00 │    28 │   193 │   116 │  9.600950000000001 │\n",
       "│        40.7973721 │       -73.97041192 │ 40.77492513 │   -73.98266566 │ CD7A2098AFCD5514 │ classic_bike  │ 2022-01-01 10:33:58.529 │ 2022-01-01 10:47:05.197 │ W 100 St & Broadway    │ W 67 St & Broadway      │ casual        │ 2022-01-01 00:00:00 │    28 │   193 │   116 │ 13.111133333333333 │\n",
       "│       40.73971301 │       -73.99456405 │    40.75492 │      -73.98455 │ 3F9E0C51F49F78A3 │ electric_bike │ 2022-01-01 20:05:19.592 │ 2022-01-01 20:12:00.661 │ W 18 St & 6 Ave        │ W 42 St & 6 Ave         │ member        │ 2022-01-01 00:00:00 │    28 │   193 │   116 │ 6.6844833333333336 │\n",
       "│       40.73935542 │       -73.99931783 │   40.735445 │      -73.99431 │ 0FFCAB59B12FD537 │ electric_bike │ 2022-01-01 01:00:29.883 │ 2022-01-01 01:04:53.624 │ W 15 St & 7 Ave        │ W 13 St & 5 Ave         │ member        │ 2022-01-01 00:00:00 │    28 │   193 │   116 │  4.395683333333333 │\n",
       "│ 40.72506551015475 │ -73.97515833377838 │  40.6864442 │   -73.98759104 │ BD2E4847E0C55BCE │ electric_bike │ 2022-01-01 13:34:23.629 │ 2022-01-01 13:54:54.106 │ Avenue D & E 10 St     │ Dean St & Hoyt St       │ member        │ 2022-01-01 00:00:00 │    28 │   193 │   116 │           20.50795 │\n",
       "│       40.77163851 │       -73.98261428 │  40.7997568 │ -73.9621128676 │ 37766BEAF9464AC1 │ classic_bike  │ 2022-01-01 16:06:48.332 │ 2022-01-01 17:16:07.174 │ W 63 St & Broadway     │ W 107 St & Columbus Ave │ casual        │ 2022-01-01 00:00:00 │    28 │   193 │   116 │  69.31403333333333 │\n",
       "│ 40.75186951421875 │ -73.93349289894103 │  40.7711528 │    -73.9170074 │ 864C211900B085B5 │ classic_bike  │ 2022-01-01 08:40:36.37  │ 2022-01-01 08:53:35.283 │ 31 St & Northern Blvd  │ 31 St & Hoyt Ave N      │ member        │ 2022-01-01 00:00:00 │    28 │   193 │   116 │ 12.981883333333334 │\n",
       "│       40.75640548 │        -73.9900262 │   40.750756 │     -73.978326 │ A9D01C85D2EE6CA3 │ classic_bike  │ 2022-01-01 16:47:44.557 │ 2022-01-01 16:55:03.897 │ W 41 St & 8 Ave        │ E 40 St & Park Ave      │ member        │ 2022-01-01 00:00:00 │    28 │   193 │   116 │  7.322333333333333 │\n",
       "├───────────────────┴────────────────────┴─────────────┴────────────────┴──────────────────┴───────────────┴─────────────────────────┴─────────────────────────┴────────────────────────┴─────────────────────────┴───────────────┴─────────────────────┴───────┴───────┴───────┴────────────────────┤\n",
       "│ 10 rows                                                                                                                                                                                                                                                                                 16 columns │\n",
       "└────────────────────────────────────────────────────────────────────────────────────────────────────────────────────────────────────────────────────────────────────────────────────────────────────────────────────────────────────────────────────────────────────────────────────────────────────┘"
      ]
     },
     "execution_count": 41,
     "metadata": {},
     "output_type": "execute_result"
    }
   ],
   "source": [
    "# Preview first 10 rows of view\n",
    "duckdb.query(\"\"\"\n",
    "    SELECT *\n",
    "    FROM cleaned_trips \n",
    "    LIMIT 10\"\"\")"
   ]
  },
  {
   "cell_type": "code",
   "execution_count": 42,
   "id": "94d664df",
   "metadata": {},
   "outputs": [
    {
     "data": {
      "application/vnd.jupyter.widget-view+json": {
       "model_id": "0a182cb32ba64811b40abcf2828467bd",
       "version_major": 2,
       "version_minor": 0
      },
      "text/plain": [
       "FloatProgress(value=0.0, layout=Layout(width='auto'), style=ProgressStyle(bar_color='black'))"
      ]
     },
     "metadata": {},
     "output_type": "display_data"
    },
    {
     "data": {
      "text/html": [
       "<div>\n",
       "<style scoped>\n",
       "    .dataframe tbody tr th:only-of-type {\n",
       "        vertical-align: middle;\n",
       "    }\n",
       "\n",
       "    .dataframe tbody tr th {\n",
       "        vertical-align: top;\n",
       "    }\n",
       "\n",
       "    .dataframe thead th {\n",
       "        text-align: right;\n",
       "    }\n",
       "</style>\n",
       "<table border=\"1\" class=\"dataframe\">\n",
       "  <thead>\n",
       "    <tr style=\"text-align: right;\">\n",
       "      <th></th>\n",
       "      <th>start_station_name</th>\n",
       "      <th>coord_versions</th>\n",
       "    </tr>\n",
       "  </thead>\n",
       "  <tbody>\n",
       "    <tr>\n",
       "      <th>0</th>\n",
       "      <td>W 54 St &amp; 11 Ave</td>\n",
       "      <td>1</td>\n",
       "    </tr>\n",
       "    <tr>\n",
       "      <th>1</th>\n",
       "      <td>27 Ave &amp; 3 St</td>\n",
       "      <td>1</td>\n",
       "    </tr>\n",
       "    <tr>\n",
       "      <th>2</th>\n",
       "      <td>7 Ave &amp; 40 St</td>\n",
       "      <td>1</td>\n",
       "    </tr>\n",
       "    <tr>\n",
       "      <th>3</th>\n",
       "      <td>Longwood Ave &amp; Southern Blvd</td>\n",
       "      <td>1</td>\n",
       "    </tr>\n",
       "    <tr>\n",
       "      <th>4</th>\n",
       "      <td>Grand Concourse &amp; E 144 St</td>\n",
       "      <td>1</td>\n",
       "    </tr>\n",
       "    <tr>\n",
       "      <th>...</th>\n",
       "      <td>...</td>\n",
       "      <td>...</td>\n",
       "    </tr>\n",
       "    <tr>\n",
       "      <th>1756</th>\n",
       "      <td>21 Ave &amp; Shore Blvd</td>\n",
       "      <td>1</td>\n",
       "    </tr>\n",
       "    <tr>\n",
       "      <th>1757</th>\n",
       "      <td>Westchester Ave &amp; Longwood Ave</td>\n",
       "      <td>1</td>\n",
       "    </tr>\n",
       "    <tr>\n",
       "      <th>1758</th>\n",
       "      <td>46 St &amp; Queens Blvd</td>\n",
       "      <td>1</td>\n",
       "    </tr>\n",
       "    <tr>\n",
       "      <th>1759</th>\n",
       "      <td>Church St &amp; Thomas St</td>\n",
       "      <td>1</td>\n",
       "    </tr>\n",
       "    <tr>\n",
       "      <th>1760</th>\n",
       "      <td>Bergen St &amp; Saratoga Ave</td>\n",
       "      <td>1</td>\n",
       "    </tr>\n",
       "  </tbody>\n",
       "</table>\n",
       "<p>1761 rows × 2 columns</p>\n",
       "</div>"
      ],
      "text/plain": [
       "                  start_station_name  coord_versions\n",
       "0                   W 54 St & 11 Ave               1\n",
       "1                      27 Ave & 3 St               1\n",
       "2                      7 Ave & 40 St               1\n",
       "3       Longwood Ave & Southern Blvd               1\n",
       "4         Grand Concourse & E 144 St               1\n",
       "...                              ...             ...\n",
       "1756             21 Ave & Shore Blvd               1\n",
       "1757  Westchester Ave & Longwood Ave               1\n",
       "1758             46 St & Queens Blvd               1\n",
       "1759           Church St & Thomas St               1\n",
       "1760        Bergen St & Saratoga Ave               1\n",
       "\n",
       "[1761 rows x 2 columns]"
      ]
     },
     "execution_count": 42,
     "metadata": {},
     "output_type": "execute_result"
    }
   ],
   "source": [
    "# Check that each start station only has one set of coords in view\n",
    "duckdb.query(f\"\"\"\n",
    "SELECT \n",
    "    start_station_name,\n",
    "    COUNT(DISTINCT start_lat::text || ',' || start_lng::text) AS coord_versions\n",
    "FROM cleaned_trips\n",
    "GROUP BY start_station_name\n",
    "ORDER BY coord_versions DESC\n",
    "\"\"\").to_df()"
   ]
  },
  {
   "cell_type": "code",
   "execution_count": 43,
   "id": "2f4af25a",
   "metadata": {},
   "outputs": [
    {
     "data": {
      "application/vnd.jupyter.widget-view+json": {
       "model_id": "f1f354dbba8c40219d092da902a7c0cd",
       "version_major": 2,
       "version_minor": 0
      },
      "text/plain": [
       "FloatProgress(value=0.0, layout=Layout(width='auto'), style=ProgressStyle(bar_color='black'))"
      ]
     },
     "metadata": {},
     "output_type": "display_data"
    },
    {
     "data": {
      "text/html": [
       "<div>\n",
       "<style scoped>\n",
       "    .dataframe tbody tr th:only-of-type {\n",
       "        vertical-align: middle;\n",
       "    }\n",
       "\n",
       "    .dataframe tbody tr th {\n",
       "        vertical-align: top;\n",
       "    }\n",
       "\n",
       "    .dataframe thead th {\n",
       "        text-align: right;\n",
       "    }\n",
       "</style>\n",
       "<table border=\"1\" class=\"dataframe\">\n",
       "  <thead>\n",
       "    <tr style=\"text-align: right;\">\n",
       "      <th></th>\n",
       "      <th>end_station_name</th>\n",
       "      <th>coord_versions</th>\n",
       "    </tr>\n",
       "  </thead>\n",
       "  <tbody>\n",
       "    <tr>\n",
       "      <th>0</th>\n",
       "      <td>E 97 St &amp; Madison Ave</td>\n",
       "      <td>1</td>\n",
       "    </tr>\n",
       "    <tr>\n",
       "      <th>1</th>\n",
       "      <td>Lafayette Park</td>\n",
       "      <td>1</td>\n",
       "    </tr>\n",
       "    <tr>\n",
       "      <th>2</th>\n",
       "      <td>Suydam St &amp; Broadway</td>\n",
       "      <td>1</td>\n",
       "    </tr>\n",
       "    <tr>\n",
       "      <th>3</th>\n",
       "      <td>Willis Ave &amp; E 143 St</td>\n",
       "      <td>1</td>\n",
       "    </tr>\n",
       "    <tr>\n",
       "      <th>4</th>\n",
       "      <td>Greenwich St &amp; Hubert St</td>\n",
       "      <td>1</td>\n",
       "    </tr>\n",
       "    <tr>\n",
       "      <th>...</th>\n",
       "      <td>...</td>\n",
       "      <td>...</td>\n",
       "    </tr>\n",
       "    <tr>\n",
       "      <th>1836</th>\n",
       "      <td>Bergen St &amp; 4 Ave</td>\n",
       "      <td>1</td>\n",
       "    </tr>\n",
       "    <tr>\n",
       "      <th>1837</th>\n",
       "      <td>River Ave &amp; McClellan St</td>\n",
       "      <td>1</td>\n",
       "    </tr>\n",
       "    <tr>\n",
       "      <th>1838</th>\n",
       "      <td>W 170 St &amp; University Ave</td>\n",
       "      <td>1</td>\n",
       "    </tr>\n",
       "    <tr>\n",
       "      <th>1839</th>\n",
       "      <td>59 St &amp; 5 Ave</td>\n",
       "      <td>1</td>\n",
       "    </tr>\n",
       "    <tr>\n",
       "      <th>1840</th>\n",
       "      <td>Sigourney St &amp; Columbia St</td>\n",
       "      <td>1</td>\n",
       "    </tr>\n",
       "  </tbody>\n",
       "</table>\n",
       "<p>1841 rows × 2 columns</p>\n",
       "</div>"
      ],
      "text/plain": [
       "                end_station_name  coord_versions\n",
       "0          E 97 St & Madison Ave               1\n",
       "1                 Lafayette Park               1\n",
       "2           Suydam St & Broadway               1\n",
       "3          Willis Ave & E 143 St               1\n",
       "4       Greenwich St & Hubert St               1\n",
       "...                          ...             ...\n",
       "1836           Bergen St & 4 Ave               1\n",
       "1837    River Ave & McClellan St               1\n",
       "1838   W 170 St & University Ave               1\n",
       "1839               59 St & 5 Ave               1\n",
       "1840  Sigourney St & Columbia St               1\n",
       "\n",
       "[1841 rows x 2 columns]"
      ]
     },
     "execution_count": 43,
     "metadata": {},
     "output_type": "execute_result"
    }
   ],
   "source": [
    "# Now for end station\n",
    "duckdb.query(f\"\"\"\n",
    "SELECT \n",
    "    end_station_name,\n",
    "    COUNT(DISTINCT end_lat::text || ',' || end_lng::text) AS coord_versions\n",
    "FROM cleaned_trips\n",
    "GROUP BY end_station_name\n",
    "ORDER BY coord_versions DESC\n",
    "\"\"\").to_df()"
   ]
  },
  {
   "cell_type": "code",
   "execution_count": 44,
   "id": "7013f691",
   "metadata": {},
   "outputs": [
    {
     "data": {
      "application/vnd.jupyter.widget-view+json": {
       "model_id": "47206ee6caa1443a9945a8f4e920415d",
       "version_major": 2,
       "version_minor": 0
      },
      "text/plain": [
       "FloatProgress(value=0.0, layout=Layout(width='auto'), style=ProgressStyle(bar_color='black'))"
      ]
     },
     "metadata": {},
     "output_type": "display_data"
    }
   ],
   "source": [
    "# Creating df at the route level showing number of trips between each route\n",
    "# Including coordinates so it can be used for maps\n",
    "routes = duckdb.query( \"\"\"\n",
    "    SELECT \n",
    "        CONCAT(start_station_name, '-', end_station_name) AS route,\n",
    "        COUNT(*) AS num_trips,\n",
    "        start_station_name, \n",
    "        end_station_name,\n",
    "        ANY_VALUE(start_lng) AS start_lng,\n",
    "        ANY_VALUE(start_lat) AS start_lat,\n",
    "        ANY_VALUE(end_lng) AS end_lng,\n",
    "        ANY_VALUE(end_lat) AS end_lat\n",
    "    FROM cleaned_trips\n",
    "    GROUP BY \n",
    "        start_station_name, \n",
    "        end_station_name\n",
    "    ORDER BY num_trips DESC;\n",
    "\"\"\").to_df()"
   ]
  },
  {
   "cell_type": "code",
   "execution_count": 45,
   "id": "9cbe02d9",
   "metadata": {},
   "outputs": [
    {
     "data": {
      "text/html": [
       "<div>\n",
       "<style scoped>\n",
       "    .dataframe tbody tr th:only-of-type {\n",
       "        vertical-align: middle;\n",
       "    }\n",
       "\n",
       "    .dataframe tbody tr th {\n",
       "        vertical-align: top;\n",
       "    }\n",
       "\n",
       "    .dataframe thead th {\n",
       "        text-align: right;\n",
       "    }\n",
       "</style>\n",
       "<table border=\"1\" class=\"dataframe\">\n",
       "  <thead>\n",
       "    <tr style=\"text-align: right;\">\n",
       "      <th></th>\n",
       "      <th>route</th>\n",
       "      <th>num_trips</th>\n",
       "      <th>start_station_name</th>\n",
       "      <th>end_station_name</th>\n",
       "      <th>start_lng</th>\n",
       "      <th>start_lat</th>\n",
       "      <th>end_lng</th>\n",
       "      <th>end_lat</th>\n",
       "    </tr>\n",
       "  </thead>\n",
       "  <tbody>\n",
       "    <tr>\n",
       "      <th>0</th>\n",
       "      <td>Central Park S &amp; 6 Ave-Central Park S &amp; 6 Ave</td>\n",
       "      <td>12041</td>\n",
       "      <td>Central Park S &amp; 6 Ave</td>\n",
       "      <td>Central Park S &amp; 6 Ave</td>\n",
       "      <td>-73.976342</td>\n",
       "      <td>40.765909</td>\n",
       "      <td>-73.976342</td>\n",
       "      <td>40.765909</td>\n",
       "    </tr>\n",
       "    <tr>\n",
       "      <th>1</th>\n",
       "      <td>7 Ave &amp; Central Park South-7 Ave &amp; Central Par...</td>\n",
       "      <td>8541</td>\n",
       "      <td>7 Ave &amp; Central Park South</td>\n",
       "      <td>7 Ave &amp; Central Park South</td>\n",
       "      <td>-73.979069</td>\n",
       "      <td>40.766741</td>\n",
       "      <td>-73.979069</td>\n",
       "      <td>40.766741</td>\n",
       "    </tr>\n",
       "    <tr>\n",
       "      <th>2</th>\n",
       "      <td>Roosevelt Island Tramway-Roosevelt Island Tramway</td>\n",
       "      <td>8213</td>\n",
       "      <td>Roosevelt Island Tramway</td>\n",
       "      <td>Roosevelt Island Tramway</td>\n",
       "      <td>-73.953600</td>\n",
       "      <td>40.757284</td>\n",
       "      <td>-73.953600</td>\n",
       "      <td>40.757284</td>\n",
       "    </tr>\n",
       "    <tr>\n",
       "      <th>3</th>\n",
       "      <td>Grand Army Plaza &amp; Central Park S-Grand Army P...</td>\n",
       "      <td>7287</td>\n",
       "      <td>Grand Army Plaza &amp; Central Park S</td>\n",
       "      <td>Grand Army Plaza &amp; Central Park S</td>\n",
       "      <td>-73.973715</td>\n",
       "      <td>40.764397</td>\n",
       "      <td>-73.973715</td>\n",
       "      <td>40.764397</td>\n",
       "    </tr>\n",
       "    <tr>\n",
       "      <th>4</th>\n",
       "      <td>Soissons Landing-Soissons Landing</td>\n",
       "      <td>7275</td>\n",
       "      <td>Soissons Landing</td>\n",
       "      <td>Soissons Landing</td>\n",
       "      <td>-74.014866</td>\n",
       "      <td>40.692317</td>\n",
       "      <td>-74.014866</td>\n",
       "      <td>40.692317</td>\n",
       "    </tr>\n",
       "  </tbody>\n",
       "</table>\n",
       "</div>"
      ],
      "text/plain": [
       "                                               route  num_trips  \\\n",
       "0      Central Park S & 6 Ave-Central Park S & 6 Ave      12041   \n",
       "1  7 Ave & Central Park South-7 Ave & Central Par...       8541   \n",
       "2  Roosevelt Island Tramway-Roosevelt Island Tramway       8213   \n",
       "3  Grand Army Plaza & Central Park S-Grand Army P...       7287   \n",
       "4                  Soissons Landing-Soissons Landing       7275   \n",
       "\n",
       "                  start_station_name                   end_station_name  \\\n",
       "0             Central Park S & 6 Ave             Central Park S & 6 Ave   \n",
       "1         7 Ave & Central Park South         7 Ave & Central Park South   \n",
       "2           Roosevelt Island Tramway           Roosevelt Island Tramway   \n",
       "3  Grand Army Plaza & Central Park S  Grand Army Plaza & Central Park S   \n",
       "4                   Soissons Landing                   Soissons Landing   \n",
       "\n",
       "   start_lng  start_lat    end_lng    end_lat  \n",
       "0 -73.976342  40.765909 -73.976342  40.765909  \n",
       "1 -73.979069  40.766741 -73.979069  40.766741  \n",
       "2 -73.953600  40.757284 -73.953600  40.757284  \n",
       "3 -73.973715  40.764397 -73.973715  40.764397  \n",
       "4 -74.014866  40.692317 -74.014866  40.692317  "
      ]
     },
     "execution_count": 45,
     "metadata": {},
     "output_type": "execute_result"
    }
   ],
   "source": [
    "routes.head()"
   ]
  },
  {
   "cell_type": "code",
   "execution_count": 46,
   "id": "24f695a5",
   "metadata": {},
   "outputs": [
    {
     "data": {
      "text/plain": [
       "(1013379, 8)"
      ]
     },
     "execution_count": 46,
     "metadata": {},
     "output_type": "execute_result"
    }
   ],
   "source": [
    "routes.shape"
   ]
  },
  {
   "cell_type": "code",
   "execution_count": 47,
   "id": "8b977f49",
   "metadata": {},
   "outputs": [],
   "source": [
    "# Saving object as df\n",
    "routes.to_csv(\"C:/Data/Citibike_NY_2022/merged/routes.csv\", index=False)"
   ]
  },
  {
   "cell_type": "code",
   "execution_count": 48,
   "id": "b8a89e49",
   "metadata": {},
   "outputs": [
    {
     "data": {
      "text/plain": [
       "┌───────────┬───────────┐\n",
       "│ min(TAVG) │ max(TAVG) │\n",
       "│   int64   │   int64   │\n",
       "├───────────┼───────────┤\n",
       "│      -117 │       313 │\n",
       "└───────────┴───────────┘"
      ]
     },
     "execution_count": 48,
     "metadata": {},
     "output_type": "execute_result"
    }
   ],
   "source": [
    "# Checking format of temperature\n",
    "duckdb.query(f\"\"\"\n",
    "    SELECT\n",
    "        MIN(TAVG),\n",
    "        MAX(TAVG)\n",
    "    FROM '{bigfile}'\n",
    "\"\"\")"
   ]
  },
  {
   "cell_type": "code",
   "execution_count": 49,
   "id": "b43a75bd",
   "metadata": {},
   "outputs": [
    {
     "data": {
      "application/vnd.jupyter.widget-view+json": {
       "model_id": "71d924c760b54087a3b44c86cc0a692c",
       "version_major": 2,
       "version_minor": 0
      },
      "text/plain": [
       "FloatProgress(value=0.0, layout=Layout(width='auto'), style=ProgressStyle(bar_color='black'))"
      ]
     },
     "metadata": {},
     "output_type": "display_data"
    }
   ],
   "source": [
    "# Query for making a df with each day as a row - showing number of trips and weather variables\n",
    "df_weather = duckdb.query(\"\"\"\n",
    "    SELECT \n",
    "        date,\n",
    "        ANY_VALUE(TAVG) / 10 AS temperature, --- dividing by 10 so more intuitive\n",
    "        ANY_VALUE(PRCP) AS precipitation,\n",
    "        ANY_VALUE(AWND) AS wind,\n",
    "        COUNT(*) AS trip_count\n",
    "    FROM cleaned_trips\n",
    "    GROUP BY date                       \n",
    "\"\"\").to_df()"
   ]
  },
  {
   "cell_type": "code",
   "execution_count": 50,
   "id": "228ee01c",
   "metadata": {},
   "outputs": [
    {
     "data": {
      "text/html": [
       "<div>\n",
       "<style scoped>\n",
       "    .dataframe tbody tr th:only-of-type {\n",
       "        vertical-align: middle;\n",
       "    }\n",
       "\n",
       "    .dataframe tbody tr th {\n",
       "        vertical-align: top;\n",
       "    }\n",
       "\n",
       "    .dataframe thead th {\n",
       "        text-align: right;\n",
       "    }\n",
       "</style>\n",
       "<table border=\"1\" class=\"dataframe\">\n",
       "  <thead>\n",
       "    <tr style=\"text-align: right;\">\n",
       "      <th></th>\n",
       "      <th>date</th>\n",
       "      <th>temperature</th>\n",
       "      <th>precipitation</th>\n",
       "      <th>wind</th>\n",
       "      <th>trip_count</th>\n",
       "    </tr>\n",
       "  </thead>\n",
       "  <tbody>\n",
       "    <tr>\n",
       "      <th>0</th>\n",
       "      <td>2022-04-05</td>\n",
       "      <td>9.7</td>\n",
       "      <td>15</td>\n",
       "      <td>34</td>\n",
       "      <td>72590</td>\n",
       "    </tr>\n",
       "    <tr>\n",
       "      <th>1</th>\n",
       "      <td>2022-04-17</td>\n",
       "      <td>8.3</td>\n",
       "      <td>0</td>\n",
       "      <td>70</td>\n",
       "      <td>54053</td>\n",
       "    </tr>\n",
       "    <tr>\n",
       "      <th>2</th>\n",
       "      <td>2022-03-19</td>\n",
       "      <td>13.1</td>\n",
       "      <td>18</td>\n",
       "      <td>33</td>\n",
       "      <td>77738</td>\n",
       "    </tr>\n",
       "    <tr>\n",
       "      <th>3</th>\n",
       "      <td>2022-03-31</td>\n",
       "      <td>9.9</td>\n",
       "      <td>13</td>\n",
       "      <td>48</td>\n",
       "      <td>72571</td>\n",
       "    </tr>\n",
       "    <tr>\n",
       "      <th>4</th>\n",
       "      <td>2022-09-21</td>\n",
       "      <td>22.0</td>\n",
       "      <td>0</td>\n",
       "      <td>33</td>\n",
       "      <td>133363</td>\n",
       "    </tr>\n",
       "  </tbody>\n",
       "</table>\n",
       "</div>"
      ],
      "text/plain": [
       "        date  temperature  precipitation  wind  trip_count\n",
       "0 2022-04-05          9.7             15    34       72590\n",
       "1 2022-04-17          8.3              0    70       54053\n",
       "2 2022-03-19         13.1             18    33       77738\n",
       "3 2022-03-31          9.9             13    48       72571\n",
       "4 2022-09-21         22.0              0    33      133363"
      ]
     },
     "execution_count": 50,
     "metadata": {},
     "output_type": "execute_result"
    }
   ],
   "source": [
    "df_weather.head()"
   ]
  },
  {
   "cell_type": "code",
   "execution_count": 51,
   "id": "ceeb3769",
   "metadata": {},
   "outputs": [],
   "source": [
    "# Saving object as df\n",
    "df_weather.to_csv(\"C:/Data/Citibike_NY_2022/merged/df_weather.csv\", index=False)"
   ]
  }
 ],
 "metadata": {
  "kernelspec": {
   "display_name": "Python (citibike)",
   "language": "python",
   "name": "citibike-env"
  },
  "language_info": {
   "codemirror_mode": {
    "name": "ipython",
    "version": 3
   },
   "file_extension": ".py",
   "mimetype": "text/x-python",
   "name": "python",
   "nbconvert_exporter": "python",
   "pygments_lexer": "ipython3",
   "version": "3.12.7"
  }
 },
 "nbformat": 4,
 "nbformat_minor": 5
}
