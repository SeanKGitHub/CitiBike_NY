{
 "cells": [
  {
   "cell_type": "markdown",
   "id": "fa9d42b0",
   "metadata": {},
   "source": [
    "## This script loads, filters and merges data on NYC population and income"
   ]
  },
  {
   "cell_type": "markdown",
   "id": "b04004e2",
   "metadata": {},
   "source": [
    "The income data is from the American Community Survey (ACS) 5 year file (2018-2022). Downloaded from https://www.nyc.gov/content/planning/pages/resources/datasets/american-community-survey on 17.07.25\n",
    "\n",
    "Population data from U.S. Census Bureau, 2010 and 2020 Census Redistricting Data (Public Law 94-171) Summary Files. Downloaded from https://www.nyc.gov/assets/planning/download/office/planning-level/nyc-population/census2020/nyc_decennialcensusdata_2010_2020_change.xlsx on 17.07.25 \n",
    "\n",
    "GeoJSON data on NY NTAs downloaded on 21.07.25 from: \n",
    "https://data.cityofnewyork.us/City-Government/2020-Neighborhood-Tabulation-Areas-NTAs-/9nt8-h7nd/about_data "
   ]
  },
  {
   "cell_type": "code",
   "execution_count": 76,
   "id": "c307c17f",
   "metadata": {},
   "outputs": [],
   "source": [
    "# Importing Libraries\n",
    "import pandas as pd\n",
    "import numpy as np\n",
    "import os\n",
    "import geopandas as gpd"
   ]
  },
  {
   "cell_type": "code",
   "execution_count": null,
   "id": "d2cb975d",
   "metadata": {},
   "outputs": [],
   "source": [
    "# Loading population data. Pop_20 column is population of a given NTA in 2020\n",
    "census = pd.read_excel(\n",
    "    r'C:/Data/Citibike_NY_2022/nyc_decennialcensusdata_2010_2020_change.xlsx',\n",
    "    sheet_name='2010, 2020, and Change',\n",
    "    header = 3,\n",
    "    usecols=['GeoType', \"Borough\", \"GeoID\", \"Name\", \"NTA Type\", \"Pop_20\"]\n",
    "    )"
   ]
  },
  {
   "cell_type": "code",
   "execution_count": 4,
   "id": "d13b360a",
   "metadata": {},
   "outputs": [
    {
     "data": {
      "text/html": [
       "<div>\n",
       "<style scoped>\n",
       "    .dataframe tbody tr th:only-of-type {\n",
       "        vertical-align: middle;\n",
       "    }\n",
       "\n",
       "    .dataframe tbody tr th {\n",
       "        vertical-align: top;\n",
       "    }\n",
       "\n",
       "    .dataframe thead th {\n",
       "        text-align: right;\n",
       "    }\n",
       "</style>\n",
       "<table border=\"1\" class=\"dataframe\">\n",
       "  <thead>\n",
       "    <tr style=\"text-align: right;\">\n",
       "      <th></th>\n",
       "      <th>GeoType</th>\n",
       "      <th>Borough</th>\n",
       "      <th>GeoID</th>\n",
       "      <th>Name</th>\n",
       "      <th>NTA Type</th>\n",
       "      <th>Pop_20</th>\n",
       "    </tr>\n",
       "  </thead>\n",
       "  <tbody>\n",
       "    <tr>\n",
       "      <th>0</th>\n",
       "      <td>NYC</td>\n",
       "      <td>New York City</td>\n",
       "      <td>0</td>\n",
       "      <td>NYC</td>\n",
       "      <td>NaN</td>\n",
       "      <td>8804190</td>\n",
       "    </tr>\n",
       "    <tr>\n",
       "      <th>1</th>\n",
       "      <td>Boro</td>\n",
       "      <td>Manhattan</td>\n",
       "      <td>1</td>\n",
       "      <td>Manhattan</td>\n",
       "      <td>NaN</td>\n",
       "      <td>1694251</td>\n",
       "    </tr>\n",
       "    <tr>\n",
       "      <th>2</th>\n",
       "      <td>Boro</td>\n",
       "      <td>Bronx</td>\n",
       "      <td>2</td>\n",
       "      <td>Bronx</td>\n",
       "      <td>NaN</td>\n",
       "      <td>1472654</td>\n",
       "    </tr>\n",
       "    <tr>\n",
       "      <th>3</th>\n",
       "      <td>Boro</td>\n",
       "      <td>Brooklyn</td>\n",
       "      <td>3</td>\n",
       "      <td>Brooklyn</td>\n",
       "      <td>NaN</td>\n",
       "      <td>2736074</td>\n",
       "    </tr>\n",
       "    <tr>\n",
       "      <th>4</th>\n",
       "      <td>Boro</td>\n",
       "      <td>Queens</td>\n",
       "      <td>4</td>\n",
       "      <td>Queens</td>\n",
       "      <td>NaN</td>\n",
       "      <td>2405464</td>\n",
       "    </tr>\n",
       "  </tbody>\n",
       "</table>\n",
       "</div>"
      ],
      "text/plain": [
       "  GeoType        Borough GeoID       Name  NTA Type   Pop_20\n",
       "0     NYC  New York City     0        NYC       NaN  8804190\n",
       "1    Boro      Manhattan     1  Manhattan       NaN  1694251\n",
       "2    Boro          Bronx     2      Bronx       NaN  1472654\n",
       "3    Boro       Brooklyn     3   Brooklyn       NaN  2736074\n",
       "4    Boro         Queens     4     Queens       NaN  2405464"
      ]
     },
     "execution_count": 4,
     "metadata": {},
     "output_type": "execute_result"
    }
   ],
   "source": [
    "census.head()"
   ]
  },
  {
   "cell_type": "code",
   "execution_count": null,
   "id": "5a3a0d5f",
   "metadata": {},
   "outputs": [],
   "source": [
    "# Limiting rows to NTAs (excluding other aggregation types like borough)\n",
    "NTA_census = census[census['NTA Type'].notna()]"
   ]
  },
  {
   "cell_type": "code",
   "execution_count": 6,
   "id": "f39c7542",
   "metadata": {},
   "outputs": [
    {
     "data": {
      "text/plain": [
       "(262, 6)"
      ]
     },
     "execution_count": 6,
     "metadata": {},
     "output_type": "execute_result"
    }
   ],
   "source": [
    "NTA_census.shape"
   ]
  },
  {
   "cell_type": "code",
   "execution_count": 7,
   "id": "f9e1ae0b",
   "metadata": {},
   "outputs": [
    {
     "data": {
      "text/html": [
       "<div>\n",
       "<style scoped>\n",
       "    .dataframe tbody tr th:only-of-type {\n",
       "        vertical-align: middle;\n",
       "    }\n",
       "\n",
       "    .dataframe tbody tr th {\n",
       "        vertical-align: top;\n",
       "    }\n",
       "\n",
       "    .dataframe thead th {\n",
       "        text-align: right;\n",
       "    }\n",
       "</style>\n",
       "<table border=\"1\" class=\"dataframe\">\n",
       "  <thead>\n",
       "    <tr style=\"text-align: right;\">\n",
       "      <th></th>\n",
       "      <th>GeoType</th>\n",
       "      <th>Borough</th>\n",
       "      <th>GeoID</th>\n",
       "      <th>Name</th>\n",
       "      <th>NTA Type</th>\n",
       "      <th>Pop_20</th>\n",
       "    </tr>\n",
       "  </thead>\n",
       "  <tbody>\n",
       "    <tr>\n",
       "      <th>128</th>\n",
       "      <td>NTA2020</td>\n",
       "      <td>Brooklyn</td>\n",
       "      <td>BK0101</td>\n",
       "      <td>Greenpoint</td>\n",
       "      <td>0.0</td>\n",
       "      <td>38980</td>\n",
       "    </tr>\n",
       "    <tr>\n",
       "      <th>129</th>\n",
       "      <td>NTA2020</td>\n",
       "      <td>Brooklyn</td>\n",
       "      <td>BK0102</td>\n",
       "      <td>Williamsburg</td>\n",
       "      <td>0.0</td>\n",
       "      <td>64444</td>\n",
       "    </tr>\n",
       "    <tr>\n",
       "      <th>130</th>\n",
       "      <td>NTA2020</td>\n",
       "      <td>Brooklyn</td>\n",
       "      <td>BK0103</td>\n",
       "      <td>South Williamsburg</td>\n",
       "      <td>0.0</td>\n",
       "      <td>47703</td>\n",
       "    </tr>\n",
       "    <tr>\n",
       "      <th>131</th>\n",
       "      <td>NTA2020</td>\n",
       "      <td>Brooklyn</td>\n",
       "      <td>BK0104</td>\n",
       "      <td>East Williamsburg</td>\n",
       "      <td>0.0</td>\n",
       "      <td>52998</td>\n",
       "    </tr>\n",
       "    <tr>\n",
       "      <th>132</th>\n",
       "      <td>NTA2020</td>\n",
       "      <td>Brooklyn</td>\n",
       "      <td>BK0201</td>\n",
       "      <td>Brooklyn Heights</td>\n",
       "      <td>0.0</td>\n",
       "      <td>25092</td>\n",
       "    </tr>\n",
       "  </tbody>\n",
       "</table>\n",
       "</div>"
      ],
      "text/plain": [
       "     GeoType   Borough   GeoID                Name  NTA Type  Pop_20\n",
       "128  NTA2020  Brooklyn  BK0101          Greenpoint       0.0   38980\n",
       "129  NTA2020  Brooklyn  BK0102        Williamsburg       0.0   64444\n",
       "130  NTA2020  Brooklyn  BK0103  South Williamsburg       0.0   47703\n",
       "131  NTA2020  Brooklyn  BK0104   East Williamsburg       0.0   52998\n",
       "132  NTA2020  Brooklyn  BK0201    Brooklyn Heights       0.0   25092"
      ]
     },
     "execution_count": 7,
     "metadata": {},
     "output_type": "execute_result"
    }
   ],
   "source": [
    "NTA_census.head()"
   ]
  },
  {
   "cell_type": "code",
   "execution_count": 17,
   "id": "91e22662",
   "metadata": {},
   "outputs": [
    {
     "data": {
      "text/plain": [
       "Borough\n",
       "Queens           82\n",
       "Brooklyn         69\n",
       "Bronx            50\n",
       "Manhattan        38\n",
       "Staten Island    23\n",
       "Name: count, dtype: int64"
      ]
     },
     "execution_count": 17,
     "metadata": {},
     "output_type": "execute_result"
    }
   ],
   "source": [
    "NTA_census['Borough'].value_counts()"
   ]
  },
  {
   "cell_type": "code",
   "execution_count": 35,
   "id": "50860c0a",
   "metadata": {},
   "outputs": [
    {
     "data": {
      "text/plain": [
       "GeoType     0\n",
       "Borough     0\n",
       "GeoID       0\n",
       "Name        0\n",
       "NTA Type    0\n",
       "Pop_20      0\n",
       "dtype: int64"
      ]
     },
     "execution_count": 35,
     "metadata": {},
     "output_type": "execute_result"
    }
   ],
   "source": [
    "NTA_census.isna().sum()"
   ]
  },
  {
   "cell_type": "markdown",
   "id": "f4e4bd33",
   "metadata": {},
   "source": [
    "## Loading Income Data"
   ]
  },
  {
   "cell_type": "code",
   "execution_count": 21,
   "id": "2464866d",
   "metadata": {},
   "outputs": [],
   "source": [
    "# MdHHIncE is the estimate of median household income\n",
    "income = pd.read_excel(r'C:/Data/Citibike_NY_2022/Econ_1822_NTA.xlsx',\n",
    "                       sheet_name='EconData',\n",
    "                       header=0,\n",
    "                       usecols=[\"GeoType\", \"NTAType\", \"GeogName\", \"GeoID\", \"Borough\", 'MdHHIncE'])"
   ]
  },
  {
   "cell_type": "code",
   "execution_count": 22,
   "id": "0460693a",
   "metadata": {},
   "outputs": [
    {
     "data": {
      "text/html": [
       "<div>\n",
       "<style scoped>\n",
       "    .dataframe tbody tr th:only-of-type {\n",
       "        vertical-align: middle;\n",
       "    }\n",
       "\n",
       "    .dataframe tbody tr th {\n",
       "        vertical-align: top;\n",
       "    }\n",
       "\n",
       "    .dataframe thead th {\n",
       "        text-align: right;\n",
       "    }\n",
       "</style>\n",
       "<table border=\"1\" class=\"dataframe\">\n",
       "  <thead>\n",
       "    <tr style=\"text-align: right;\">\n",
       "      <th></th>\n",
       "      <th>GeoType</th>\n",
       "      <th>NTAType</th>\n",
       "      <th>GeogName</th>\n",
       "      <th>GeoID</th>\n",
       "      <th>Borough</th>\n",
       "      <th>MdHHIncE</th>\n",
       "    </tr>\n",
       "  </thead>\n",
       "  <tbody>\n",
       "    <tr>\n",
       "      <th>0</th>\n",
       "      <td>NTA2020</td>\n",
       "      <td>0</td>\n",
       "      <td>Greenpoint</td>\n",
       "      <td>BK0101</td>\n",
       "      <td>Brooklyn</td>\n",
       "      <td>125469.0</td>\n",
       "    </tr>\n",
       "    <tr>\n",
       "      <th>1</th>\n",
       "      <td>NTA2020</td>\n",
       "      <td>0</td>\n",
       "      <td>Williamsburg</td>\n",
       "      <td>BK0102</td>\n",
       "      <td>Brooklyn</td>\n",
       "      <td>129838.0</td>\n",
       "    </tr>\n",
       "    <tr>\n",
       "      <th>2</th>\n",
       "      <td>NTA2020</td>\n",
       "      <td>0</td>\n",
       "      <td>South Williamsburg</td>\n",
       "      <td>BK0103</td>\n",
       "      <td>Brooklyn</td>\n",
       "      <td>36951.0</td>\n",
       "    </tr>\n",
       "    <tr>\n",
       "      <th>3</th>\n",
       "      <td>NTA2020</td>\n",
       "      <td>0</td>\n",
       "      <td>East Williamsburg</td>\n",
       "      <td>BK0104</td>\n",
       "      <td>Brooklyn</td>\n",
       "      <td>71107.0</td>\n",
       "    </tr>\n",
       "    <tr>\n",
       "      <th>4</th>\n",
       "      <td>NTA2020</td>\n",
       "      <td>0</td>\n",
       "      <td>Brooklyn Heights</td>\n",
       "      <td>BK0201</td>\n",
       "      <td>Brooklyn</td>\n",
       "      <td>179877.0</td>\n",
       "    </tr>\n",
       "  </tbody>\n",
       "</table>\n",
       "</div>"
      ],
      "text/plain": [
       "   GeoType  NTAType            GeogName   GeoID   Borough  MdHHIncE\n",
       "0  NTA2020        0          Greenpoint  BK0101  Brooklyn  125469.0\n",
       "1  NTA2020        0        Williamsburg  BK0102  Brooklyn  129838.0\n",
       "2  NTA2020        0  South Williamsburg  BK0103  Brooklyn   36951.0\n",
       "3  NTA2020        0   East Williamsburg  BK0104  Brooklyn   71107.0\n",
       "4  NTA2020        0    Brooklyn Heights  BK0201  Brooklyn  179877.0"
      ]
     },
     "execution_count": 22,
     "metadata": {},
     "output_type": "execute_result"
    }
   ],
   "source": [
    "income.head()"
   ]
  },
  {
   "cell_type": "code",
   "execution_count": 23,
   "id": "fbed4dd6",
   "metadata": {},
   "outputs": [
    {
     "data": {
      "text/plain": [
       "(262, 6)"
      ]
     },
     "execution_count": 23,
     "metadata": {},
     "output_type": "execute_result"
    }
   ],
   "source": [
    "income.shape"
   ]
  },
  {
   "cell_type": "code",
   "execution_count": 24,
   "id": "3e493daa",
   "metadata": {},
   "outputs": [
    {
     "data": {
      "text/plain": [
       "Borough\n",
       "Queens           83\n",
       "Brooklyn         69\n",
       "Bronx            49\n",
       "Manhattan        38\n",
       "Staten Island    23\n",
       "Name: count, dtype: int64"
      ]
     },
     "execution_count": 24,
     "metadata": {},
     "output_type": "execute_result"
    }
   ],
   "source": [
    "income['Borough'].value_counts()"
   ]
  },
  {
   "cell_type": "markdown",
   "id": "481c28ea",
   "metadata": {},
   "source": [
    "One more queens and one less Bronx than the population df"
   ]
  },
  {
   "cell_type": "code",
   "execution_count": 34,
   "id": "8718075f",
   "metadata": {},
   "outputs": [
    {
     "data": {
      "text/plain": [
       "GeoType      0\n",
       "NTAType      0\n",
       "GeogName     0\n",
       "GeoID        0\n",
       "Borough      0\n",
       "MdHHIncE    51\n",
       "dtype: int64"
      ]
     },
     "execution_count": 34,
     "metadata": {},
     "output_type": "execute_result"
    }
   ],
   "source": [
    "income.isna().sum()"
   ]
  },
  {
   "cell_type": "code",
   "execution_count": 36,
   "id": "8d00d58b",
   "metadata": {},
   "outputs": [],
   "source": [
    "inc_missings = income[income['MdHHIncE'].isna()].copy()"
   ]
  },
  {
   "cell_type": "code",
   "execution_count": 39,
   "id": "65a2cf4f",
   "metadata": {},
   "outputs": [
    {
     "data": {
      "text/plain": [
       "NTAType\n",
       "9    32\n",
       "7    11\n",
       "6     5\n",
       "8     2\n",
       "5     1\n",
       "Name: count, dtype: int64"
      ]
     },
     "execution_count": 39,
     "metadata": {},
     "output_type": "execute_result"
    }
   ],
   "source": [
    "inc_missings['NTAType'].value_counts()"
   ]
  },
  {
   "cell_type": "markdown",
   "id": "74c16b6b",
   "metadata": {},
   "source": [
    "Can see from NTA codes (5-9), that these are all non residential codes, so OK to drop"
   ]
  },
  {
   "cell_type": "code",
   "execution_count": 40,
   "id": "67f0b317",
   "metadata": {},
   "outputs": [],
   "source": [
    "income = income.dropna(subset=['MdHHIncE'])"
   ]
  },
  {
   "cell_type": "code",
   "execution_count": 41,
   "id": "d80a36af",
   "metadata": {},
   "outputs": [
    {
     "data": {
      "text/plain": [
       "GeoType     0\n",
       "NTAType     0\n",
       "GeogName    0\n",
       "GeoID       0\n",
       "Borough     0\n",
       "MdHHIncE    0\n",
       "dtype: int64"
      ]
     },
     "execution_count": 41,
     "metadata": {},
     "output_type": "execute_result"
    }
   ],
   "source": [
    "income.isna().sum()"
   ]
  },
  {
   "cell_type": "markdown",
   "id": "99b0b494",
   "metadata": {},
   "source": [
    "## Merging into one df"
   ]
  },
  {
   "cell_type": "code",
   "execution_count": 51,
   "id": "c776c447",
   "metadata": {},
   "outputs": [],
   "source": [
    "pop_inc = NTA_census.merge(income[['GeoID', 'MdHHIncE']],\n",
    "                           how='left',\n",
    "                           on='GeoID',\n",
    "                           indicator=True\n",
    "                           )"
   ]
  },
  {
   "cell_type": "code",
   "execution_count": 52,
   "id": "bdcc17fd",
   "metadata": {},
   "outputs": [
    {
     "data": {
      "text/html": [
       "<div>\n",
       "<style scoped>\n",
       "    .dataframe tbody tr th:only-of-type {\n",
       "        vertical-align: middle;\n",
       "    }\n",
       "\n",
       "    .dataframe tbody tr th {\n",
       "        vertical-align: top;\n",
       "    }\n",
       "\n",
       "    .dataframe thead th {\n",
       "        text-align: right;\n",
       "    }\n",
       "</style>\n",
       "<table border=\"1\" class=\"dataframe\">\n",
       "  <thead>\n",
       "    <tr style=\"text-align: right;\">\n",
       "      <th></th>\n",
       "      <th>GeoType</th>\n",
       "      <th>Borough</th>\n",
       "      <th>GeoID</th>\n",
       "      <th>Name</th>\n",
       "      <th>NTA Type</th>\n",
       "      <th>Pop_20</th>\n",
       "      <th>MdHHIncE</th>\n",
       "      <th>_merge</th>\n",
       "    </tr>\n",
       "  </thead>\n",
       "  <tbody>\n",
       "    <tr>\n",
       "      <th>0</th>\n",
       "      <td>NTA2020</td>\n",
       "      <td>Brooklyn</td>\n",
       "      <td>BK0101</td>\n",
       "      <td>Greenpoint</td>\n",
       "      <td>0.0</td>\n",
       "      <td>38980</td>\n",
       "      <td>125469.0</td>\n",
       "      <td>both</td>\n",
       "    </tr>\n",
       "    <tr>\n",
       "      <th>1</th>\n",
       "      <td>NTA2020</td>\n",
       "      <td>Brooklyn</td>\n",
       "      <td>BK0102</td>\n",
       "      <td>Williamsburg</td>\n",
       "      <td>0.0</td>\n",
       "      <td>64444</td>\n",
       "      <td>129838.0</td>\n",
       "      <td>both</td>\n",
       "    </tr>\n",
       "    <tr>\n",
       "      <th>2</th>\n",
       "      <td>NTA2020</td>\n",
       "      <td>Brooklyn</td>\n",
       "      <td>BK0103</td>\n",
       "      <td>South Williamsburg</td>\n",
       "      <td>0.0</td>\n",
       "      <td>47703</td>\n",
       "      <td>36951.0</td>\n",
       "      <td>both</td>\n",
       "    </tr>\n",
       "    <tr>\n",
       "      <th>3</th>\n",
       "      <td>NTA2020</td>\n",
       "      <td>Brooklyn</td>\n",
       "      <td>BK0104</td>\n",
       "      <td>East Williamsburg</td>\n",
       "      <td>0.0</td>\n",
       "      <td>52998</td>\n",
       "      <td>71107.0</td>\n",
       "      <td>both</td>\n",
       "    </tr>\n",
       "    <tr>\n",
       "      <th>4</th>\n",
       "      <td>NTA2020</td>\n",
       "      <td>Brooklyn</td>\n",
       "      <td>BK0201</td>\n",
       "      <td>Brooklyn Heights</td>\n",
       "      <td>0.0</td>\n",
       "      <td>25092</td>\n",
       "      <td>179877.0</td>\n",
       "      <td>both</td>\n",
       "    </tr>\n",
       "  </tbody>\n",
       "</table>\n",
       "</div>"
      ],
      "text/plain": [
       "   GeoType   Borough   GeoID                Name  NTA Type  Pop_20  MdHHIncE  \\\n",
       "0  NTA2020  Brooklyn  BK0101          Greenpoint       0.0   38980  125469.0   \n",
       "1  NTA2020  Brooklyn  BK0102        Williamsburg       0.0   64444  129838.0   \n",
       "2  NTA2020  Brooklyn  BK0103  South Williamsburg       0.0   47703   36951.0   \n",
       "3  NTA2020  Brooklyn  BK0104   East Williamsburg       0.0   52998   71107.0   \n",
       "4  NTA2020  Brooklyn  BK0201    Brooklyn Heights       0.0   25092  179877.0   \n",
       "\n",
       "  _merge  \n",
       "0   both  \n",
       "1   both  \n",
       "2   both  \n",
       "3   both  \n",
       "4   both  "
      ]
     },
     "execution_count": 52,
     "metadata": {},
     "output_type": "execute_result"
    }
   ],
   "source": [
    "pop_inc.head()"
   ]
  },
  {
   "cell_type": "code",
   "execution_count": 54,
   "id": "5a54f328",
   "metadata": {},
   "outputs": [
    {
     "data": {
      "text/plain": [
       "_merge\n",
       "both          211\n",
       "left_only      51\n",
       "right_only      0\n",
       "Name: count, dtype: int64"
      ]
     },
     "execution_count": 54,
     "metadata": {},
     "output_type": "execute_result"
    }
   ],
   "source": [
    "pop_inc['_merge'].value_counts()"
   ]
  },
  {
   "cell_type": "code",
   "execution_count": 55,
   "id": "aa0b2e90",
   "metadata": {},
   "outputs": [
    {
     "data": {
      "text/plain": [
       "GeoType\n",
       "NTA2020    262\n",
       "Name: count, dtype: int64"
      ]
     },
     "execution_count": 55,
     "metadata": {},
     "output_type": "execute_result"
    }
   ],
   "source": [
    "pop_inc['GeoType'].value_counts()"
   ]
  },
  {
   "cell_type": "code",
   "execution_count": 57,
   "id": "bd21ccc0",
   "metadata": {},
   "outputs": [
    {
     "data": {
      "text/plain": [
       "NTA Type\n",
       "0.0    197\n",
       "9.0     40\n",
       "7.0     14\n",
       "6.0      8\n",
       "8.0      2\n",
       "5.0      1\n",
       "Name: count, dtype: int64"
      ]
     },
     "execution_count": 57,
     "metadata": {},
     "output_type": "execute_result"
    }
   ],
   "source": [
    "pop_inc['NTA Type'].value_counts()"
   ]
  },
  {
   "cell_type": "markdown",
   "id": "0941fbe0",
   "metadata": {},
   "source": [
    "55 non residential NTAs"
   ]
  },
  {
   "cell_type": "code",
   "execution_count": 64,
   "id": "d4c09eeb",
   "metadata": {},
   "outputs": [],
   "source": [
    "# Looking into which NTAs are non residential yet have income data, to see if any issues with dropping them\n",
    "non_residential = pop_inc[(pop_inc['NTA Type'] >= 5) & (pop_inc['MdHHIncE'].notna())].copy()"
   ]
  },
  {
   "cell_type": "code",
   "execution_count": 65,
   "id": "cebb56d6",
   "metadata": {},
   "outputs": [
    {
     "data": {
      "text/plain": [
       "(14, 8)"
      ]
     },
     "execution_count": 65,
     "metadata": {},
     "output_type": "execute_result"
    }
   ],
   "source": [
    "non_residential.shape"
   ]
  },
  {
   "cell_type": "code",
   "execution_count": 67,
   "id": "9b4e2e79",
   "metadata": {},
   "outputs": [
    {
     "data": {
      "text/html": [
       "<div>\n",
       "<style scoped>\n",
       "    .dataframe tbody tr th:only-of-type {\n",
       "        vertical-align: middle;\n",
       "    }\n",
       "\n",
       "    .dataframe tbody tr th {\n",
       "        vertical-align: top;\n",
       "    }\n",
       "\n",
       "    .dataframe thead th {\n",
       "        text-align: right;\n",
       "    }\n",
       "</style>\n",
       "<table border=\"1\" class=\"dataframe\">\n",
       "  <thead>\n",
       "    <tr style=\"text-align: right;\">\n",
       "      <th></th>\n",
       "      <th>GeoType</th>\n",
       "      <th>Borough</th>\n",
       "      <th>GeoID</th>\n",
       "      <th>Name</th>\n",
       "      <th>NTA Type</th>\n",
       "      <th>Pop_20</th>\n",
       "      <th>MdHHIncE</th>\n",
       "      <th>_merge</th>\n",
       "    </tr>\n",
       "  </thead>\n",
       "  <tbody>\n",
       "    <tr>\n",
       "      <th>33</th>\n",
       "      <td>NTA2020</td>\n",
       "      <td>Brooklyn</td>\n",
       "      <td>BK1061</td>\n",
       "      <td>Fort Hamilton</td>\n",
       "      <td>6.0</td>\n",
       "      <td>775</td>\n",
       "      <td>129317.0</td>\n",
       "      <td>both</td>\n",
       "    </tr>\n",
       "    <tr>\n",
       "      <th>58</th>\n",
       "      <td>NTA2020</td>\n",
       "      <td>Brooklyn</td>\n",
       "      <td>BK1771</td>\n",
       "      <td>Holy Cross Cemetery</td>\n",
       "      <td>7.0</td>\n",
       "      <td>32</td>\n",
       "      <td>174998.0</td>\n",
       "      <td>both</td>\n",
       "    </tr>\n",
       "    <tr>\n",
       "      <th>66</th>\n",
       "      <td>NTA2020</td>\n",
       "      <td>Brooklyn</td>\n",
       "      <td>BK5691</td>\n",
       "      <td>Barren Island-Floyd Bennett Field</td>\n",
       "      <td>9.0</td>\n",
       "      <td>21</td>\n",
       "      <td>137498.0</td>\n",
       "      <td>both</td>\n",
       "    </tr>\n",
       "    <tr>\n",
       "      <th>115</th>\n",
       "      <td>NTA2020</td>\n",
       "      <td>Bronx</td>\n",
       "      <td>BX2691</td>\n",
       "      <td>Van Cortlandt Park</td>\n",
       "      <td>9.0</td>\n",
       "      <td>122</td>\n",
       "      <td>84374.0</td>\n",
       "      <td>both</td>\n",
       "    </tr>\n",
       "    <tr>\n",
       "      <th>116</th>\n",
       "      <td>NTA2020</td>\n",
       "      <td>Bronx</td>\n",
       "      <td>BX2791</td>\n",
       "      <td>Bronx Park</td>\n",
       "      <td>9.0</td>\n",
       "      <td>69</td>\n",
       "      <td>67498.0</td>\n",
       "      <td>both</td>\n",
       "    </tr>\n",
       "    <tr>\n",
       "      <th>117</th>\n",
       "      <td>NTA2020</td>\n",
       "      <td>Bronx</td>\n",
       "      <td>BX2891</td>\n",
       "      <td>Pelham Bay Park</td>\n",
       "      <td>9.0</td>\n",
       "      <td>28</td>\n",
       "      <td>17915.0</td>\n",
       "      <td>both</td>\n",
       "    </tr>\n",
       "    <tr>\n",
       "      <th>162</th>\n",
       "      <td>NTA2020</td>\n",
       "      <td>Queens</td>\n",
       "      <td>QN0161</td>\n",
       "      <td>Sunnyside Yards (North)</td>\n",
       "      <td>6.0</td>\n",
       "      <td>27</td>\n",
       "      <td>174998.0</td>\n",
       "      <td>both</td>\n",
       "    </tr>\n",
       "    <tr>\n",
       "      <th>179</th>\n",
       "      <td>NTA2020</td>\n",
       "      <td>Queens</td>\n",
       "      <td>QN0571</td>\n",
       "      <td>Mount Olivet &amp; All Faiths Cemeteries</td>\n",
       "      <td>7.0</td>\n",
       "      <td>3</td>\n",
       "      <td>87498.0</td>\n",
       "      <td>both</td>\n",
       "    </tr>\n",
       "    <tr>\n",
       "      <th>182</th>\n",
       "      <td>NTA2020</td>\n",
       "      <td>Queens</td>\n",
       "      <td>QN0574</td>\n",
       "      <td>Highland Park-Cypress Hills Cemeteries (North)</td>\n",
       "      <td>7.0</td>\n",
       "      <td>20</td>\n",
       "      <td>156249.0</td>\n",
       "      <td>both</td>\n",
       "    </tr>\n",
       "    <tr>\n",
       "      <th>238</th>\n",
       "      <td>NTA2020</td>\n",
       "      <td>Queens</td>\n",
       "      <td>QN8492</td>\n",
       "      <td>Jacob Riis Park-Fort Tilden-Breezy Point Tip</td>\n",
       "      <td>9.0</td>\n",
       "      <td>24</td>\n",
       "      <td>200000.0</td>\n",
       "      <td>both</td>\n",
       "    </tr>\n",
       "    <tr>\n",
       "      <th>246</th>\n",
       "      <td>NTA2020</td>\n",
       "      <td>Staten Island</td>\n",
       "      <td>SI0191</td>\n",
       "      <td>Snug Harbor</td>\n",
       "      <td>9.0</td>\n",
       "      <td>8</td>\n",
       "      <td>109867.0</td>\n",
       "      <td>both</td>\n",
       "    </tr>\n",
       "    <tr>\n",
       "      <th>257</th>\n",
       "      <td>NTA2020</td>\n",
       "      <td>Staten Island</td>\n",
       "      <td>SI0391</td>\n",
       "      <td>Freshkills Park (South)</td>\n",
       "      <td>9.0</td>\n",
       "      <td>95</td>\n",
       "      <td>200000.0</td>\n",
       "      <td>both</td>\n",
       "    </tr>\n",
       "    <tr>\n",
       "      <th>258</th>\n",
       "      <td>NTA2020</td>\n",
       "      <td>Staten Island</td>\n",
       "      <td>SI9561</td>\n",
       "      <td>Fort Wadsworth</td>\n",
       "      <td>6.0</td>\n",
       "      <td>495</td>\n",
       "      <td>80654.0</td>\n",
       "      <td>both</td>\n",
       "    </tr>\n",
       "    <tr>\n",
       "      <th>260</th>\n",
       "      <td>NTA2020</td>\n",
       "      <td>Staten Island</td>\n",
       "      <td>SI9592</td>\n",
       "      <td>Miller Field</td>\n",
       "      <td>9.0</td>\n",
       "      <td>46</td>\n",
       "      <td>97654.0</td>\n",
       "      <td>both</td>\n",
       "    </tr>\n",
       "  </tbody>\n",
       "</table>\n",
       "</div>"
      ],
      "text/plain": [
       "     GeoType        Borough   GeoID  \\\n",
       "33   NTA2020       Brooklyn  BK1061   \n",
       "58   NTA2020       Brooklyn  BK1771   \n",
       "66   NTA2020       Brooklyn  BK5691   \n",
       "115  NTA2020          Bronx  BX2691   \n",
       "116  NTA2020          Bronx  BX2791   \n",
       "117  NTA2020          Bronx  BX2891   \n",
       "162  NTA2020         Queens  QN0161   \n",
       "179  NTA2020         Queens  QN0571   \n",
       "182  NTA2020         Queens  QN0574   \n",
       "238  NTA2020         Queens  QN8492   \n",
       "246  NTA2020  Staten Island  SI0191   \n",
       "257  NTA2020  Staten Island  SI0391   \n",
       "258  NTA2020  Staten Island  SI9561   \n",
       "260  NTA2020  Staten Island  SI9592   \n",
       "\n",
       "                                               Name  NTA Type  Pop_20  \\\n",
       "33                                    Fort Hamilton       6.0     775   \n",
       "58                              Holy Cross Cemetery       7.0      32   \n",
       "66                Barren Island-Floyd Bennett Field       9.0      21   \n",
       "115                              Van Cortlandt Park       9.0     122   \n",
       "116                                      Bronx Park       9.0      69   \n",
       "117                                 Pelham Bay Park       9.0      28   \n",
       "162                         Sunnyside Yards (North)       6.0      27   \n",
       "179            Mount Olivet & All Faiths Cemeteries       7.0       3   \n",
       "182  Highland Park-Cypress Hills Cemeteries (North)       7.0      20   \n",
       "238    Jacob Riis Park-Fort Tilden-Breezy Point Tip       9.0      24   \n",
       "246                                     Snug Harbor       9.0       8   \n",
       "257                         Freshkills Park (South)       9.0      95   \n",
       "258                                  Fort Wadsworth       6.0     495   \n",
       "260                                    Miller Field       9.0      46   \n",
       "\n",
       "     MdHHIncE _merge  \n",
       "33   129317.0   both  \n",
       "58   174998.0   both  \n",
       "66   137498.0   both  \n",
       "115   84374.0   both  \n",
       "116   67498.0   both  \n",
       "117   17915.0   both  \n",
       "162  174998.0   both  \n",
       "179   87498.0   both  \n",
       "182  156249.0   both  \n",
       "238  200000.0   both  \n",
       "246  109867.0   both  \n",
       "257  200000.0   both  \n",
       "258   80654.0   both  \n",
       "260   97654.0   both  "
      ]
     },
     "execution_count": 67,
     "metadata": {},
     "output_type": "execute_result"
    }
   ],
   "source": [
    "non_residential.head(14)"
   ]
  },
  {
   "cell_type": "markdown",
   "id": "c52feba6",
   "metadata": {},
   "source": [
    "Going to drop all non residential NTAs. These with income data are mostly all very small populations, with exceptions of Fort Wadsworth and Fort Hamilton. I checked both in the original Excel and the margins of error are also pretty large for the income variable (Hamilton Estimate: 129,317, Margin of error: 38,240; Wadsworth Estimate: 80,654, Margin of Error: 49,796)."
   ]
  },
  {
   "cell_type": "code",
   "execution_count": null,
   "id": "7a8fb7c0",
   "metadata": {},
   "outputs": [
    {
     "data": {
      "text/plain": [
       "(197, 8)"
      ]
     },
     "execution_count": 69,
     "metadata": {},
     "output_type": "execute_result"
    }
   ],
   "source": [
    "# Keeping all NTAs of type 0 (residential), that have income data\n",
    "pop_inc_res = pop_inc[(pop_inc['NTA Type'] == 0) & (pop_inc['MdHHIncE'].notna())].copy()\n",
    "pop_inc_res.shape"
   ]
  },
  {
   "cell_type": "code",
   "execution_count": 70,
   "id": "d3d3086d",
   "metadata": {},
   "outputs": [
    {
     "data": {
      "text/html": [
       "<div>\n",
       "<style scoped>\n",
       "    .dataframe tbody tr th:only-of-type {\n",
       "        vertical-align: middle;\n",
       "    }\n",
       "\n",
       "    .dataframe tbody tr th {\n",
       "        vertical-align: top;\n",
       "    }\n",
       "\n",
       "    .dataframe thead th {\n",
       "        text-align: right;\n",
       "    }\n",
       "</style>\n",
       "<table border=\"1\" class=\"dataframe\">\n",
       "  <thead>\n",
       "    <tr style=\"text-align: right;\">\n",
       "      <th></th>\n",
       "      <th>GeoType</th>\n",
       "      <th>Borough</th>\n",
       "      <th>GeoID</th>\n",
       "      <th>Name</th>\n",
       "      <th>NTA Type</th>\n",
       "      <th>Pop_20</th>\n",
       "      <th>MdHHIncE</th>\n",
       "      <th>_merge</th>\n",
       "    </tr>\n",
       "  </thead>\n",
       "  <tbody>\n",
       "    <tr>\n",
       "      <th>0</th>\n",
       "      <td>NTA2020</td>\n",
       "      <td>Brooklyn</td>\n",
       "      <td>BK0101</td>\n",
       "      <td>Greenpoint</td>\n",
       "      <td>0.0</td>\n",
       "      <td>38980</td>\n",
       "      <td>125469.0</td>\n",
       "      <td>both</td>\n",
       "    </tr>\n",
       "    <tr>\n",
       "      <th>1</th>\n",
       "      <td>NTA2020</td>\n",
       "      <td>Brooklyn</td>\n",
       "      <td>BK0102</td>\n",
       "      <td>Williamsburg</td>\n",
       "      <td>0.0</td>\n",
       "      <td>64444</td>\n",
       "      <td>129838.0</td>\n",
       "      <td>both</td>\n",
       "    </tr>\n",
       "    <tr>\n",
       "      <th>2</th>\n",
       "      <td>NTA2020</td>\n",
       "      <td>Brooklyn</td>\n",
       "      <td>BK0103</td>\n",
       "      <td>South Williamsburg</td>\n",
       "      <td>0.0</td>\n",
       "      <td>47703</td>\n",
       "      <td>36951.0</td>\n",
       "      <td>both</td>\n",
       "    </tr>\n",
       "    <tr>\n",
       "      <th>3</th>\n",
       "      <td>NTA2020</td>\n",
       "      <td>Brooklyn</td>\n",
       "      <td>BK0104</td>\n",
       "      <td>East Williamsburg</td>\n",
       "      <td>0.0</td>\n",
       "      <td>52998</td>\n",
       "      <td>71107.0</td>\n",
       "      <td>both</td>\n",
       "    </tr>\n",
       "    <tr>\n",
       "      <th>4</th>\n",
       "      <td>NTA2020</td>\n",
       "      <td>Brooklyn</td>\n",
       "      <td>BK0201</td>\n",
       "      <td>Brooklyn Heights</td>\n",
       "      <td>0.0</td>\n",
       "      <td>25092</td>\n",
       "      <td>179877.0</td>\n",
       "      <td>both</td>\n",
       "    </tr>\n",
       "  </tbody>\n",
       "</table>\n",
       "</div>"
      ],
      "text/plain": [
       "   GeoType   Borough   GeoID                Name  NTA Type  Pop_20  MdHHIncE  \\\n",
       "0  NTA2020  Brooklyn  BK0101          Greenpoint       0.0   38980  125469.0   \n",
       "1  NTA2020  Brooklyn  BK0102        Williamsburg       0.0   64444  129838.0   \n",
       "2  NTA2020  Brooklyn  BK0103  South Williamsburg       0.0   47703   36951.0   \n",
       "3  NTA2020  Brooklyn  BK0104   East Williamsburg       0.0   52998   71107.0   \n",
       "4  NTA2020  Brooklyn  BK0201    Brooklyn Heights       0.0   25092  179877.0   \n",
       "\n",
       "  _merge  \n",
       "0   both  \n",
       "1   both  \n",
       "2   both  \n",
       "3   both  \n",
       "4   both  "
      ]
     },
     "execution_count": 70,
     "metadata": {},
     "output_type": "execute_result"
    }
   ],
   "source": [
    "pop_inc_res.head()"
   ]
  },
  {
   "cell_type": "code",
   "execution_count": 73,
   "id": "e77d92bd",
   "metadata": {},
   "outputs": [
    {
     "data": {
      "text/html": [
       "<div>\n",
       "<style scoped>\n",
       "    .dataframe tbody tr th:only-of-type {\n",
       "        vertical-align: middle;\n",
       "    }\n",
       "\n",
       "    .dataframe tbody tr th {\n",
       "        vertical-align: top;\n",
       "    }\n",
       "\n",
       "    .dataframe thead th {\n",
       "        text-align: right;\n",
       "    }\n",
       "</style>\n",
       "<table border=\"1\" class=\"dataframe\">\n",
       "  <thead>\n",
       "    <tr style=\"text-align: right;\">\n",
       "      <th></th>\n",
       "      <th>GeoID</th>\n",
       "      <th>Name</th>\n",
       "      <th>Pop_20</th>\n",
       "      <th>MdHHIncE</th>\n",
       "    </tr>\n",
       "  </thead>\n",
       "  <tbody>\n",
       "    <tr>\n",
       "      <th>0</th>\n",
       "      <td>BK0101</td>\n",
       "      <td>Greenpoint</td>\n",
       "      <td>38980</td>\n",
       "      <td>125469.0</td>\n",
       "    </tr>\n",
       "    <tr>\n",
       "      <th>1</th>\n",
       "      <td>BK0102</td>\n",
       "      <td>Williamsburg</td>\n",
       "      <td>64444</td>\n",
       "      <td>129838.0</td>\n",
       "    </tr>\n",
       "    <tr>\n",
       "      <th>2</th>\n",
       "      <td>BK0103</td>\n",
       "      <td>South Williamsburg</td>\n",
       "      <td>47703</td>\n",
       "      <td>36951.0</td>\n",
       "    </tr>\n",
       "    <tr>\n",
       "      <th>3</th>\n",
       "      <td>BK0104</td>\n",
       "      <td>East Williamsburg</td>\n",
       "      <td>52998</td>\n",
       "      <td>71107.0</td>\n",
       "    </tr>\n",
       "    <tr>\n",
       "      <th>4</th>\n",
       "      <td>BK0201</td>\n",
       "      <td>Brooklyn Heights</td>\n",
       "      <td>25092</td>\n",
       "      <td>179877.0</td>\n",
       "    </tr>\n",
       "  </tbody>\n",
       "</table>\n",
       "</div>"
      ],
      "text/plain": [
       "    GeoID                Name  Pop_20  MdHHIncE\n",
       "0  BK0101          Greenpoint   38980  125469.0\n",
       "1  BK0102        Williamsburg   64444  129838.0\n",
       "2  BK0103  South Williamsburg   47703   36951.0\n",
       "3  BK0104   East Williamsburg   52998   71107.0\n",
       "4  BK0201    Brooklyn Heights   25092  179877.0"
      ]
     },
     "execution_count": 73,
     "metadata": {},
     "output_type": "execute_result"
    }
   ],
   "source": [
    "df_for_export = pop_inc_res[['GeoID', 'Name', 'Pop_20', 'MdHHIncE']].copy()\n",
    "df_for_export.head()"
   ]
  },
  {
   "cell_type": "code",
   "execution_count": 74,
   "id": "bad2090d",
   "metadata": {},
   "outputs": [],
   "source": [
    "df_for_export.rename(columns={'MdHHIncE': 'median_hh_income',\n",
    "                              'Pop_20': 'population',\n",
    "                              'Name': 'Borough'},\n",
    "                              inplace=True)"
   ]
  },
  {
   "cell_type": "code",
   "execution_count": 75,
   "id": "b3a25f34",
   "metadata": {},
   "outputs": [],
   "source": [
    "# Saving as csv\n",
    "df_for_export.to_csv('C:/Data/Citibike_NY_2022/merged/population_income.csv',\n",
    "                     index=False)"
   ]
  },
  {
   "cell_type": "markdown",
   "id": "23208b30",
   "metadata": {},
   "source": [
    "Merging income and population data to GeoJson file of NTA shapes"
   ]
  },
  {
   "cell_type": "code",
   "execution_count": 80,
   "id": "d9c0ea50",
   "metadata": {},
   "outputs": [],
   "source": [
    "# GeoJSON data on NY NTAs downloaded on 21.07.25 from: \n",
    "# https://data.cityofnewyork.us/City-Government/2020-Neighborhood-Tabulation-Areas-NTAs-/9nt8-h7nd/about_data\n",
    "nta_geo = gpd.read_file(\"C:/Data/Citibike_NY_2022/2020 Neighborhood Tabulation Areas (NTAs)_20250721.geojson\")"
   ]
  },
  {
   "cell_type": "code",
   "execution_count": 81,
   "id": "348ed8f9",
   "metadata": {},
   "outputs": [
    {
     "data": {
      "text/html": [
       "<div>\n",
       "<style scoped>\n",
       "    .dataframe tbody tr th:only-of-type {\n",
       "        vertical-align: middle;\n",
       "    }\n",
       "\n",
       "    .dataframe tbody tr th {\n",
       "        vertical-align: top;\n",
       "    }\n",
       "\n",
       "    .dataframe thead th {\n",
       "        text-align: right;\n",
       "    }\n",
       "</style>\n",
       "<table border=\"1\" class=\"dataframe\">\n",
       "  <thead>\n",
       "    <tr style=\"text-align: right;\">\n",
       "      <th></th>\n",
       "      <th>shape_area</th>\n",
       "      <th>ntaname</th>\n",
       "      <th>cdtaname</th>\n",
       "      <th>shape_leng</th>\n",
       "      <th>boroname</th>\n",
       "      <th>ntatype</th>\n",
       "      <th>nta2020</th>\n",
       "      <th>borocode</th>\n",
       "      <th>countyfips</th>\n",
       "      <th>ntaabbrev</th>\n",
       "      <th>cdta2020</th>\n",
       "      <th>geometry</th>\n",
       "    </tr>\n",
       "  </thead>\n",
       "  <tbody>\n",
       "    <tr>\n",
       "      <th>0</th>\n",
       "      <td>35321809.1041</td>\n",
       "      <td>Greenpoint</td>\n",
       "      <td>BK01 Williamsburg-Greenpoint (CD 1 Equivalent)</td>\n",
       "      <td>28919.5608108</td>\n",
       "      <td>Brooklyn</td>\n",
       "      <td>0</td>\n",
       "      <td>BK0101</td>\n",
       "      <td>3</td>\n",
       "      <td>047</td>\n",
       "      <td>Grnpt</td>\n",
       "      <td>BK01</td>\n",
       "      <td>MULTIPOLYGON (((-73.93213 40.72816, -73.93238 ...</td>\n",
       "    </tr>\n",
       "    <tr>\n",
       "      <th>1</th>\n",
       "      <td>28852852.7038</td>\n",
       "      <td>Williamsburg</td>\n",
       "      <td>BK01 Williamsburg-Greenpoint (CD 1 Equivalent)</td>\n",
       "      <td>28134.0823238</td>\n",
       "      <td>Brooklyn</td>\n",
       "      <td>0</td>\n",
       "      <td>BK0102</td>\n",
       "      <td>3</td>\n",
       "      <td>047</td>\n",
       "      <td>Wllmsbrg</td>\n",
       "      <td>BK01</td>\n",
       "      <td>MULTIPOLYGON (((-73.95814 40.7244, -73.95772 4...</td>\n",
       "    </tr>\n",
       "    <tr>\n",
       "      <th>2</th>\n",
       "      <td>15208960.7339</td>\n",
       "      <td>South Williamsburg</td>\n",
       "      <td>BK01 Williamsburg-Greenpoint (CD 1 Equivalent)</td>\n",
       "      <td>18250.2805432</td>\n",
       "      <td>Brooklyn</td>\n",
       "      <td>0</td>\n",
       "      <td>BK0103</td>\n",
       "      <td>3</td>\n",
       "      <td>047</td>\n",
       "      <td>SWllmsbrg</td>\n",
       "      <td>BK01</td>\n",
       "      <td>MULTIPOLYGON (((-73.95024 40.70547, -73.94984 ...</td>\n",
       "    </tr>\n",
       "    <tr>\n",
       "      <th>3</th>\n",
       "      <td>52267407.9898</td>\n",
       "      <td>East Williamsburg</td>\n",
       "      <td>BK01 Williamsburg-Greenpoint (CD 1 Equivalent)</td>\n",
       "      <td>43184.7989883</td>\n",
       "      <td>Brooklyn</td>\n",
       "      <td>0</td>\n",
       "      <td>BK0104</td>\n",
       "      <td>3</td>\n",
       "      <td>047</td>\n",
       "      <td>EWllmsbrg</td>\n",
       "      <td>BK01</td>\n",
       "      <td>MULTIPOLYGON (((-73.92406 40.71411, -73.92404 ...</td>\n",
       "    </tr>\n",
       "    <tr>\n",
       "      <th>4</th>\n",
       "      <td>9982321.59069</td>\n",
       "      <td>Brooklyn Heights</td>\n",
       "      <td>BK02 Downtown Brooklyn-Fort Greene (CD 2 Appro...</td>\n",
       "      <td>14312.5049745</td>\n",
       "      <td>Brooklyn</td>\n",
       "      <td>0</td>\n",
       "      <td>BK0201</td>\n",
       "      <td>3</td>\n",
       "      <td>047</td>\n",
       "      <td>BkHts</td>\n",
       "      <td>BK02</td>\n",
       "      <td>MULTIPOLYGON (((-73.99236 40.68969, -73.99436 ...</td>\n",
       "    </tr>\n",
       "  </tbody>\n",
       "</table>\n",
       "</div>"
      ],
      "text/plain": [
       "      shape_area             ntaname  \\\n",
       "0  35321809.1041          Greenpoint   \n",
       "1  28852852.7038        Williamsburg   \n",
       "2  15208960.7339  South Williamsburg   \n",
       "3  52267407.9898   East Williamsburg   \n",
       "4  9982321.59069    Brooklyn Heights   \n",
       "\n",
       "                                            cdtaname     shape_leng  boroname  \\\n",
       "0     BK01 Williamsburg-Greenpoint (CD 1 Equivalent)  28919.5608108  Brooklyn   \n",
       "1     BK01 Williamsburg-Greenpoint (CD 1 Equivalent)  28134.0823238  Brooklyn   \n",
       "2     BK01 Williamsburg-Greenpoint (CD 1 Equivalent)  18250.2805432  Brooklyn   \n",
       "3     BK01 Williamsburg-Greenpoint (CD 1 Equivalent)  43184.7989883  Brooklyn   \n",
       "4  BK02 Downtown Brooklyn-Fort Greene (CD 2 Appro...  14312.5049745  Brooklyn   \n",
       "\n",
       "  ntatype nta2020 borocode countyfips  ntaabbrev cdta2020  \\\n",
       "0       0  BK0101        3        047      Grnpt     BK01   \n",
       "1       0  BK0102        3        047   Wllmsbrg     BK01   \n",
       "2       0  BK0103        3        047  SWllmsbrg     BK01   \n",
       "3       0  BK0104        3        047  EWllmsbrg     BK01   \n",
       "4       0  BK0201        3        047      BkHts     BK02   \n",
       "\n",
       "                                            geometry  \n",
       "0  MULTIPOLYGON (((-73.93213 40.72816, -73.93238 ...  \n",
       "1  MULTIPOLYGON (((-73.95814 40.7244, -73.95772 4...  \n",
       "2  MULTIPOLYGON (((-73.95024 40.70547, -73.94984 ...  \n",
       "3  MULTIPOLYGON (((-73.92406 40.71411, -73.92404 ...  \n",
       "4  MULTIPOLYGON (((-73.99236 40.68969, -73.99436 ...  "
      ]
     },
     "execution_count": 81,
     "metadata": {},
     "output_type": "execute_result"
    }
   ],
   "source": [
    "nta_geo.head()"
   ]
  },
  {
   "cell_type": "code",
   "execution_count": 82,
   "id": "4ec7da82",
   "metadata": {},
   "outputs": [],
   "source": [
    "nta_pop_inc = nta_geo.merge(df_for_export[['GeoID', 'median_hh_income', 'population']],\n",
    "                            how = 'left',\n",
    "                            left_on = 'nta2020',\n",
    "                            right_on = 'GeoID')"
   ]
  },
  {
   "cell_type": "code",
   "execution_count": 83,
   "id": "3b3415e8",
   "metadata": {},
   "outputs": [
    {
     "data": {
      "text/html": [
       "<div>\n",
       "<style scoped>\n",
       "    .dataframe tbody tr th:only-of-type {\n",
       "        vertical-align: middle;\n",
       "    }\n",
       "\n",
       "    .dataframe tbody tr th {\n",
       "        vertical-align: top;\n",
       "    }\n",
       "\n",
       "    .dataframe thead th {\n",
       "        text-align: right;\n",
       "    }\n",
       "</style>\n",
       "<table border=\"1\" class=\"dataframe\">\n",
       "  <thead>\n",
       "    <tr style=\"text-align: right;\">\n",
       "      <th></th>\n",
       "      <th>shape_area</th>\n",
       "      <th>ntaname</th>\n",
       "      <th>cdtaname</th>\n",
       "      <th>shape_leng</th>\n",
       "      <th>boroname</th>\n",
       "      <th>ntatype</th>\n",
       "      <th>nta2020</th>\n",
       "      <th>borocode</th>\n",
       "      <th>countyfips</th>\n",
       "      <th>ntaabbrev</th>\n",
       "      <th>cdta2020</th>\n",
       "      <th>geometry</th>\n",
       "      <th>GeoID</th>\n",
       "      <th>median_hh_income</th>\n",
       "      <th>population</th>\n",
       "    </tr>\n",
       "  </thead>\n",
       "  <tbody>\n",
       "    <tr>\n",
       "      <th>0</th>\n",
       "      <td>35321809.1041</td>\n",
       "      <td>Greenpoint</td>\n",
       "      <td>BK01 Williamsburg-Greenpoint (CD 1 Equivalent)</td>\n",
       "      <td>28919.5608108</td>\n",
       "      <td>Brooklyn</td>\n",
       "      <td>0</td>\n",
       "      <td>BK0101</td>\n",
       "      <td>3</td>\n",
       "      <td>047</td>\n",
       "      <td>Grnpt</td>\n",
       "      <td>BK01</td>\n",
       "      <td>MULTIPOLYGON (((-73.93213 40.72816, -73.93238 ...</td>\n",
       "      <td>BK0101</td>\n",
       "      <td>125469.0</td>\n",
       "      <td>38980.0</td>\n",
       "    </tr>\n",
       "    <tr>\n",
       "      <th>1</th>\n",
       "      <td>28852852.7038</td>\n",
       "      <td>Williamsburg</td>\n",
       "      <td>BK01 Williamsburg-Greenpoint (CD 1 Equivalent)</td>\n",
       "      <td>28134.0823238</td>\n",
       "      <td>Brooklyn</td>\n",
       "      <td>0</td>\n",
       "      <td>BK0102</td>\n",
       "      <td>3</td>\n",
       "      <td>047</td>\n",
       "      <td>Wllmsbrg</td>\n",
       "      <td>BK01</td>\n",
       "      <td>MULTIPOLYGON (((-73.95814 40.7244, -73.95772 4...</td>\n",
       "      <td>BK0102</td>\n",
       "      <td>129838.0</td>\n",
       "      <td>64444.0</td>\n",
       "    </tr>\n",
       "    <tr>\n",
       "      <th>2</th>\n",
       "      <td>15208960.7339</td>\n",
       "      <td>South Williamsburg</td>\n",
       "      <td>BK01 Williamsburg-Greenpoint (CD 1 Equivalent)</td>\n",
       "      <td>18250.2805432</td>\n",
       "      <td>Brooklyn</td>\n",
       "      <td>0</td>\n",
       "      <td>BK0103</td>\n",
       "      <td>3</td>\n",
       "      <td>047</td>\n",
       "      <td>SWllmsbrg</td>\n",
       "      <td>BK01</td>\n",
       "      <td>MULTIPOLYGON (((-73.95024 40.70547, -73.94984 ...</td>\n",
       "      <td>BK0103</td>\n",
       "      <td>36951.0</td>\n",
       "      <td>47703.0</td>\n",
       "    </tr>\n",
       "    <tr>\n",
       "      <th>3</th>\n",
       "      <td>52267407.9898</td>\n",
       "      <td>East Williamsburg</td>\n",
       "      <td>BK01 Williamsburg-Greenpoint (CD 1 Equivalent)</td>\n",
       "      <td>43184.7989883</td>\n",
       "      <td>Brooklyn</td>\n",
       "      <td>0</td>\n",
       "      <td>BK0104</td>\n",
       "      <td>3</td>\n",
       "      <td>047</td>\n",
       "      <td>EWllmsbrg</td>\n",
       "      <td>BK01</td>\n",
       "      <td>MULTIPOLYGON (((-73.92406 40.71411, -73.92404 ...</td>\n",
       "      <td>BK0104</td>\n",
       "      <td>71107.0</td>\n",
       "      <td>52998.0</td>\n",
       "    </tr>\n",
       "    <tr>\n",
       "      <th>4</th>\n",
       "      <td>9982321.59069</td>\n",
       "      <td>Brooklyn Heights</td>\n",
       "      <td>BK02 Downtown Brooklyn-Fort Greene (CD 2 Appro...</td>\n",
       "      <td>14312.5049745</td>\n",
       "      <td>Brooklyn</td>\n",
       "      <td>0</td>\n",
       "      <td>BK0201</td>\n",
       "      <td>3</td>\n",
       "      <td>047</td>\n",
       "      <td>BkHts</td>\n",
       "      <td>BK02</td>\n",
       "      <td>MULTIPOLYGON (((-73.99236 40.68969, -73.99436 ...</td>\n",
       "      <td>BK0201</td>\n",
       "      <td>179877.0</td>\n",
       "      <td>25092.0</td>\n",
       "    </tr>\n",
       "  </tbody>\n",
       "</table>\n",
       "</div>"
      ],
      "text/plain": [
       "      shape_area             ntaname  \\\n",
       "0  35321809.1041          Greenpoint   \n",
       "1  28852852.7038        Williamsburg   \n",
       "2  15208960.7339  South Williamsburg   \n",
       "3  52267407.9898   East Williamsburg   \n",
       "4  9982321.59069    Brooklyn Heights   \n",
       "\n",
       "                                            cdtaname     shape_leng  boroname  \\\n",
       "0     BK01 Williamsburg-Greenpoint (CD 1 Equivalent)  28919.5608108  Brooklyn   \n",
       "1     BK01 Williamsburg-Greenpoint (CD 1 Equivalent)  28134.0823238  Brooklyn   \n",
       "2     BK01 Williamsburg-Greenpoint (CD 1 Equivalent)  18250.2805432  Brooklyn   \n",
       "3     BK01 Williamsburg-Greenpoint (CD 1 Equivalent)  43184.7989883  Brooklyn   \n",
       "4  BK02 Downtown Brooklyn-Fort Greene (CD 2 Appro...  14312.5049745  Brooklyn   \n",
       "\n",
       "  ntatype nta2020 borocode countyfips  ntaabbrev cdta2020  \\\n",
       "0       0  BK0101        3        047      Grnpt     BK01   \n",
       "1       0  BK0102        3        047   Wllmsbrg     BK01   \n",
       "2       0  BK0103        3        047  SWllmsbrg     BK01   \n",
       "3       0  BK0104        3        047  EWllmsbrg     BK01   \n",
       "4       0  BK0201        3        047      BkHts     BK02   \n",
       "\n",
       "                                            geometry   GeoID  \\\n",
       "0  MULTIPOLYGON (((-73.93213 40.72816, -73.93238 ...  BK0101   \n",
       "1  MULTIPOLYGON (((-73.95814 40.7244, -73.95772 4...  BK0102   \n",
       "2  MULTIPOLYGON (((-73.95024 40.70547, -73.94984 ...  BK0103   \n",
       "3  MULTIPOLYGON (((-73.92406 40.71411, -73.92404 ...  BK0104   \n",
       "4  MULTIPOLYGON (((-73.99236 40.68969, -73.99436 ...  BK0201   \n",
       "\n",
       "   median_hh_income  population  \n",
       "0          125469.0     38980.0  \n",
       "1          129838.0     64444.0  \n",
       "2           36951.0     47703.0  \n",
       "3           71107.0     52998.0  \n",
       "4          179877.0     25092.0  "
      ]
     },
     "execution_count": 83,
     "metadata": {},
     "output_type": "execute_result"
    }
   ],
   "source": [
    "nta_pop_inc.head()"
   ]
  },
  {
   "cell_type": "code",
   "execution_count": null,
   "id": "1f7efc85",
   "metadata": {},
   "outputs": [
    {
     "name": "stdout",
     "output_type": "stream",
     "text": [
      "EPSG:4326\n"
     ]
    }
   ],
   "source": [
    "# Checking CRS of data\n",
    "print(nta_pop_inc.crs)"
   ]
  },
  {
   "cell_type": "code",
   "execution_count": 86,
   "id": "7cd1d490",
   "metadata": {},
   "outputs": [],
   "source": [
    "# Reproject to a projected CRS (EPSG:2263 is NY State Plane, in feet)\n",
    "nta_pop_inc = nta_pop_inc.to_crs(epsg=2263)\n",
    "\n",
    "# Calculate area in square kilometers (note: 1 km² = 10.7639 * 1e6 ft²)\n",
    "nta_pop_inc[\"area_km2\"] = nta_pop_inc.geometry.area / (10.7639 * 1e6)\n",
    "\n",
    "# Calculate population density (people per km²)\n",
    "nta_pop_inc[\"pop_density\"] = nta_pop_inc[\"population\"] / nta_pop_inc[\"area_km2\"]"
   ]
  },
  {
   "cell_type": "code",
   "execution_count": 87,
   "id": "1c7e85e9",
   "metadata": {},
   "outputs": [
    {
     "data": {
      "text/html": [
       "<div>\n",
       "<style scoped>\n",
       "    .dataframe tbody tr th:only-of-type {\n",
       "        vertical-align: middle;\n",
       "    }\n",
       "\n",
       "    .dataframe tbody tr th {\n",
       "        vertical-align: top;\n",
       "    }\n",
       "\n",
       "    .dataframe thead th {\n",
       "        text-align: right;\n",
       "    }\n",
       "</style>\n",
       "<table border=\"1\" class=\"dataframe\">\n",
       "  <thead>\n",
       "    <tr style=\"text-align: right;\">\n",
       "      <th></th>\n",
       "      <th>shape_area</th>\n",
       "      <th>ntaname</th>\n",
       "      <th>cdtaname</th>\n",
       "      <th>shape_leng</th>\n",
       "      <th>boroname</th>\n",
       "      <th>ntatype</th>\n",
       "      <th>nta2020</th>\n",
       "      <th>borocode</th>\n",
       "      <th>countyfips</th>\n",
       "      <th>ntaabbrev</th>\n",
       "      <th>cdta2020</th>\n",
       "      <th>geometry</th>\n",
       "      <th>GeoID</th>\n",
       "      <th>median_hh_income</th>\n",
       "      <th>population</th>\n",
       "      <th>area_km2</th>\n",
       "      <th>pop_density</th>\n",
       "    </tr>\n",
       "  </thead>\n",
       "  <tbody>\n",
       "    <tr>\n",
       "      <th>0</th>\n",
       "      <td>35321809.1041</td>\n",
       "      <td>Greenpoint</td>\n",
       "      <td>BK01 Williamsburg-Greenpoint (CD 1 Equivalent)</td>\n",
       "      <td>28919.5608108</td>\n",
       "      <td>Brooklyn</td>\n",
       "      <td>0</td>\n",
       "      <td>BK0101</td>\n",
       "      <td>3</td>\n",
       "      <td>047</td>\n",
       "      <td>Grnpt</td>\n",
       "      <td>BK01</td>\n",
       "      <td>MULTIPOLYGON (((1003059.997 204572.025, 100299...</td>\n",
       "      <td>BK0101</td>\n",
       "      <td>125469.0</td>\n",
       "      <td>38980.0</td>\n",
       "      <td>3.281501</td>\n",
       "      <td>11878.711959</td>\n",
       "    </tr>\n",
       "    <tr>\n",
       "      <th>1</th>\n",
       "      <td>28852852.7038</td>\n",
       "      <td>Williamsburg</td>\n",
       "      <td>BK01 Williamsburg-Greenpoint (CD 1 Equivalent)</td>\n",
       "      <td>28134.0823238</td>\n",
       "      <td>Brooklyn</td>\n",
       "      <td>0</td>\n",
       "      <td>BK0102</td>\n",
       "      <td>3</td>\n",
       "      <td>047</td>\n",
       "      <td>Wllmsbrg</td>\n",
       "      <td>BK01</td>\n",
       "      <td>MULTIPOLYGON (((995851.916 203199.332, 995969....</td>\n",
       "      <td>BK0102</td>\n",
       "      <td>129838.0</td>\n",
       "      <td>64444.0</td>\n",
       "      <td>2.680512</td>\n",
       "      <td>24041.677440</td>\n",
       "    </tr>\n",
       "    <tr>\n",
       "      <th>2</th>\n",
       "      <td>15208960.7339</td>\n",
       "      <td>South Williamsburg</td>\n",
       "      <td>BK01 Williamsburg-Greenpoint (CD 1 Equivalent)</td>\n",
       "      <td>18250.2805432</td>\n",
       "      <td>Brooklyn</td>\n",
       "      <td>0</td>\n",
       "      <td>BK0103</td>\n",
       "      <td>3</td>\n",
       "      <td>047</td>\n",
       "      <td>SWllmsbrg</td>\n",
       "      <td>BK01</td>\n",
       "      <td>MULTIPOLYGON (((998047.21 196303.325, 998157.9...</td>\n",
       "      <td>BK0103</td>\n",
       "      <td>36951.0</td>\n",
       "      <td>47703.0</td>\n",
       "      <td>1.412960</td>\n",
       "      <td>33761.039343</td>\n",
       "    </tr>\n",
       "    <tr>\n",
       "      <th>3</th>\n",
       "      <td>52267407.9898</td>\n",
       "      <td>East Williamsburg</td>\n",
       "      <td>BK01 Williamsburg-Greenpoint (CD 1 Equivalent)</td>\n",
       "      <td>43184.7989883</td>\n",
       "      <td>Brooklyn</td>\n",
       "      <td>0</td>\n",
       "      <td>BK0104</td>\n",
       "      <td>3</td>\n",
       "      <td>047</td>\n",
       "      <td>EWllmsbrg</td>\n",
       "      <td>BK01</td>\n",
       "      <td>MULTIPOLYGON (((1005302.497 199455.73, 1005307...</td>\n",
       "      <td>BK0104</td>\n",
       "      <td>71107.0</td>\n",
       "      <td>52998.0</td>\n",
       "      <td>4.855812</td>\n",
       "      <td>10914.343809</td>\n",
       "    </tr>\n",
       "    <tr>\n",
       "      <th>4</th>\n",
       "      <td>9982321.59069</td>\n",
       "      <td>Brooklyn Heights</td>\n",
       "      <td>BK02 Downtown Brooklyn-Fort Greene (CD 2 Appro...</td>\n",
       "      <td>14312.5049745</td>\n",
       "      <td>Brooklyn</td>\n",
       "      <td>0</td>\n",
       "      <td>BK0201</td>\n",
       "      <td>3</td>\n",
       "      <td>047</td>\n",
       "      <td>BkHts</td>\n",
       "      <td>BK02</td>\n",
       "      <td>MULTIPOLYGON (((986367.735 190549.239, 985813....</td>\n",
       "      <td>BK0201</td>\n",
       "      <td>179877.0</td>\n",
       "      <td>25092.0</td>\n",
       "      <td>0.927395</td>\n",
       "      <td>27056.433378</td>\n",
       "    </tr>\n",
       "  </tbody>\n",
       "</table>\n",
       "</div>"
      ],
      "text/plain": [
       "      shape_area             ntaname  \\\n",
       "0  35321809.1041          Greenpoint   \n",
       "1  28852852.7038        Williamsburg   \n",
       "2  15208960.7339  South Williamsburg   \n",
       "3  52267407.9898   East Williamsburg   \n",
       "4  9982321.59069    Brooklyn Heights   \n",
       "\n",
       "                                            cdtaname     shape_leng  boroname  \\\n",
       "0     BK01 Williamsburg-Greenpoint (CD 1 Equivalent)  28919.5608108  Brooklyn   \n",
       "1     BK01 Williamsburg-Greenpoint (CD 1 Equivalent)  28134.0823238  Brooklyn   \n",
       "2     BK01 Williamsburg-Greenpoint (CD 1 Equivalent)  18250.2805432  Brooklyn   \n",
       "3     BK01 Williamsburg-Greenpoint (CD 1 Equivalent)  43184.7989883  Brooklyn   \n",
       "4  BK02 Downtown Brooklyn-Fort Greene (CD 2 Appro...  14312.5049745  Brooklyn   \n",
       "\n",
       "  ntatype nta2020 borocode countyfips  ntaabbrev cdta2020  \\\n",
       "0       0  BK0101        3        047      Grnpt     BK01   \n",
       "1       0  BK0102        3        047   Wllmsbrg     BK01   \n",
       "2       0  BK0103        3        047  SWllmsbrg     BK01   \n",
       "3       0  BK0104        3        047  EWllmsbrg     BK01   \n",
       "4       0  BK0201        3        047      BkHts     BK02   \n",
       "\n",
       "                                            geometry   GeoID  \\\n",
       "0  MULTIPOLYGON (((1003059.997 204572.025, 100299...  BK0101   \n",
       "1  MULTIPOLYGON (((995851.916 203199.332, 995969....  BK0102   \n",
       "2  MULTIPOLYGON (((998047.21 196303.325, 998157.9...  BK0103   \n",
       "3  MULTIPOLYGON (((1005302.497 199455.73, 1005307...  BK0104   \n",
       "4  MULTIPOLYGON (((986367.735 190549.239, 985813....  BK0201   \n",
       "\n",
       "   median_hh_income  population  area_km2   pop_density  \n",
       "0          125469.0     38980.0  3.281501  11878.711959  \n",
       "1          129838.0     64444.0  2.680512  24041.677440  \n",
       "2           36951.0     47703.0  1.412960  33761.039343  \n",
       "3           71107.0     52998.0  4.855812  10914.343809  \n",
       "4          179877.0     25092.0  0.927395  27056.433378  "
      ]
     },
     "execution_count": 87,
     "metadata": {},
     "output_type": "execute_result"
    }
   ],
   "source": [
    "nta_pop_inc.head()"
   ]
  },
  {
   "cell_type": "code",
   "execution_count": null,
   "id": "727e0897",
   "metadata": {},
   "outputs": [],
   "source": [
    "nta_pop_inc = nta_pop_inc.dropna(subset=[\"pop_density\"])    # dropping missings"
   ]
  },
  {
   "cell_type": "code",
   "execution_count": 90,
   "id": "6161231f",
   "metadata": {},
   "outputs": [],
   "source": [
    "# Saving file with nta polygons with population and income data\n",
    "nta_pop_inc.to_file(\"C:/Data/Citibike_NY_2022/merged/nta_pop_inc.geojson\", driver=\"GeoJSON\")"
   ]
  },
  {
   "cell_type": "code",
   "execution_count": null,
   "id": "f1ac57aa",
   "metadata": {},
   "outputs": [],
   "source": []
  }
 ],
 "metadata": {
  "kernelspec": {
   "display_name": "Python (citibike)",
   "language": "python",
   "name": "citibike-env"
  },
  "language_info": {
   "codemirror_mode": {
    "name": "ipython",
    "version": 3
   },
   "file_extension": ".py",
   "mimetype": "text/x-python",
   "name": "python",
   "nbconvert_exporter": "python",
   "pygments_lexer": "ipython3",
   "version": "3.12.7"
  }
 },
 "nbformat": 4,
 "nbformat_minor": 5
}
