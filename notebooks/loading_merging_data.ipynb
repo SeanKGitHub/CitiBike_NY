{
 "cells": [
  {
   "cell_type": "code",
   "execution_count": 1,
   "id": "78c47215",
   "metadata": {},
   "outputs": [],
   "source": [
    "# Importing Libraries\n",
    "import os\n",
    "from dotenv import load_dotenv\n",
    "import pandas as pd\n",
    "import numpy as np\n",
    "import requests\n",
    "import json\n",
    "from datetime import datetime"
   ]
  },
  {
   "cell_type": "markdown",
   "id": "a0fe31b5",
   "metadata": {},
   "source": [
    "## Loading Citibike data"
   ]
  },
  {
   "cell_type": "code",
   "execution_count": 2,
   "id": "92967c1e",
   "metadata": {},
   "outputs": [],
   "source": [
    "# Creating a list with all files in the folder using a list compehension\n",
    "\n",
    "folderpath = r\"C:\\Data\\Citibike_NY_2022\\2022-citibike-tripdata\\extracted_data\"  # folder where files were extractred (see scripts/extract_data.py)\n",
    "filepaths  = [os.path.join(folderpath, name) for name in os.listdir(folderpath)]    # looping over files within filepath and joining to folder path creating list object"
   ]
  },
  {
   "cell_type": "code",
   "execution_count": 3,
   "id": "d6681e8d",
   "metadata": {},
   "outputs": [
    {
     "data": {
      "text/plain": [
       "['C:\\\\Data\\\\Citibike_NY_2022\\\\2022-citibike-tripdata\\\\extracted_data\\\\202201-citibike-tripdata_1.csv',\n",
       " 'C:\\\\Data\\\\Citibike_NY_2022\\\\2022-citibike-tripdata\\\\extracted_data\\\\202201-citibike-tripdata_2.csv',\n",
       " 'C:\\\\Data\\\\Citibike_NY_2022\\\\2022-citibike-tripdata\\\\extracted_data\\\\202202-citibike-tripdata_1.csv',\n",
       " 'C:\\\\Data\\\\Citibike_NY_2022\\\\2022-citibike-tripdata\\\\extracted_data\\\\202202-citibike-tripdata_2.csv',\n",
       " 'C:\\\\Data\\\\Citibike_NY_2022\\\\2022-citibike-tripdata\\\\extracted_data\\\\202203-citibike-tripdata_1.csv',\n",
       " 'C:\\\\Data\\\\Citibike_NY_2022\\\\2022-citibike-tripdata\\\\extracted_data\\\\202203-citibike-tripdata_2.csv',\n",
       " 'C:\\\\Data\\\\Citibike_NY_2022\\\\2022-citibike-tripdata\\\\extracted_data\\\\202204-citibike-tripdata_1.csv',\n",
       " 'C:\\\\Data\\\\Citibike_NY_2022\\\\2022-citibike-tripdata\\\\extracted_data\\\\202204-citibike-tripdata_2.csv',\n",
       " 'C:\\\\Data\\\\Citibike_NY_2022\\\\2022-citibike-tripdata\\\\extracted_data\\\\202204-citibike-tripdata_3.csv',\n",
       " 'C:\\\\Data\\\\Citibike_NY_2022\\\\2022-citibike-tripdata\\\\extracted_data\\\\202205-citibike-tripdata_1.csv',\n",
       " 'C:\\\\Data\\\\Citibike_NY_2022\\\\2022-citibike-tripdata\\\\extracted_data\\\\202205-citibike-tripdata_2.csv',\n",
       " 'C:\\\\Data\\\\Citibike_NY_2022\\\\2022-citibike-tripdata\\\\extracted_data\\\\202205-citibike-tripdata_3.csv',\n",
       " 'C:\\\\Data\\\\Citibike_NY_2022\\\\2022-citibike-tripdata\\\\extracted_data\\\\202206-citibike-tripdata_1.csv',\n",
       " 'C:\\\\Data\\\\Citibike_NY_2022\\\\2022-citibike-tripdata\\\\extracted_data\\\\202206-citibike-tripdata_2.csv',\n",
       " 'C:\\\\Data\\\\Citibike_NY_2022\\\\2022-citibike-tripdata\\\\extracted_data\\\\202206-citibike-tripdata_3.csv',\n",
       " 'C:\\\\Data\\\\Citibike_NY_2022\\\\2022-citibike-tripdata\\\\extracted_data\\\\202206-citibike-tripdata_4.csv',\n",
       " 'C:\\\\Data\\\\Citibike_NY_2022\\\\2022-citibike-tripdata\\\\extracted_data\\\\202207-citibike-tripdata_1.csv',\n",
       " 'C:\\\\Data\\\\Citibike_NY_2022\\\\2022-citibike-tripdata\\\\extracted_data\\\\202207-citibike-tripdata_2.csv',\n",
       " 'C:\\\\Data\\\\Citibike_NY_2022\\\\2022-citibike-tripdata\\\\extracted_data\\\\202207-citibike-tripdata_3.csv',\n",
       " 'C:\\\\Data\\\\Citibike_NY_2022\\\\2022-citibike-tripdata\\\\extracted_data\\\\202207-citibike-tripdata_4.csv',\n",
       " 'C:\\\\Data\\\\Citibike_NY_2022\\\\2022-citibike-tripdata\\\\extracted_data\\\\202208-citibike-tripdata_1.csv',\n",
       " 'C:\\\\Data\\\\Citibike_NY_2022\\\\2022-citibike-tripdata\\\\extracted_data\\\\202208-citibike-tripdata_2.csv',\n",
       " 'C:\\\\Data\\\\Citibike_NY_2022\\\\2022-citibike-tripdata\\\\extracted_data\\\\202208-citibike-tripdata_3.csv',\n",
       " 'C:\\\\Data\\\\Citibike_NY_2022\\\\2022-citibike-tripdata\\\\extracted_data\\\\202208-citibike-tripdata_4.csv',\n",
       " 'C:\\\\Data\\\\Citibike_NY_2022\\\\2022-citibike-tripdata\\\\extracted_data\\\\202209-citibike-tripdata_1.csv',\n",
       " 'C:\\\\Data\\\\Citibike_NY_2022\\\\2022-citibike-tripdata\\\\extracted_data\\\\202209-citibike-tripdata_2.csv',\n",
       " 'C:\\\\Data\\\\Citibike_NY_2022\\\\2022-citibike-tripdata\\\\extracted_data\\\\202209-citibike-tripdata_3.csv',\n",
       " 'C:\\\\Data\\\\Citibike_NY_2022\\\\2022-citibike-tripdata\\\\extracted_data\\\\202209-citibike-tripdata_4.csv',\n",
       " 'C:\\\\Data\\\\Citibike_NY_2022\\\\2022-citibike-tripdata\\\\extracted_data\\\\202210-citibike-tripdata_1.csv',\n",
       " 'C:\\\\Data\\\\Citibike_NY_2022\\\\2022-citibike-tripdata\\\\extracted_data\\\\202210-citibike-tripdata_2.csv',\n",
       " 'C:\\\\Data\\\\Citibike_NY_2022\\\\2022-citibike-tripdata\\\\extracted_data\\\\202210-citibike-tripdata_3.csv',\n",
       " 'C:\\\\Data\\\\Citibike_NY_2022\\\\2022-citibike-tripdata\\\\extracted_data\\\\202211-citibike-tripdata_1.csv',\n",
       " 'C:\\\\Data\\\\Citibike_NY_2022\\\\2022-citibike-tripdata\\\\extracted_data\\\\202211-citibike-tripdata_2.csv',\n",
       " 'C:\\\\Data\\\\Citibike_NY_2022\\\\2022-citibike-tripdata\\\\extracted_data\\\\202211-citibike-tripdata_3.csv',\n",
       " 'C:\\\\Data\\\\Citibike_NY_2022\\\\2022-citibike-tripdata\\\\extracted_data\\\\202212-citibike-tripdata_1.csv',\n",
       " 'C:\\\\Data\\\\Citibike_NY_2022\\\\2022-citibike-tripdata\\\\extracted_data\\\\202212-citibike-tripdata_2.csv']"
      ]
     },
     "execution_count": 3,
     "metadata": {},
     "output_type": "execute_result"
    }
   ],
   "source": [
    "filepaths"
   ]
  },
  {
   "cell_type": "code",
   "execution_count": 4,
   "id": "0e240e56",
   "metadata": {},
   "outputs": [
    {
     "name": "stderr",
     "output_type": "stream",
     "text": [
      "C:\\Users\\seank\\AppData\\Local\\Temp\\ipykernel_11256\\3335353928.py:4: DtypeWarning: Columns (5,7) have mixed types. Specify dtype option on import or set low_memory=False.\n",
      "  df = pd.concat((pd.read_csv(f) for f in filepaths), ignore_index = True)\n",
      "C:\\Users\\seank\\AppData\\Local\\Temp\\ipykernel_11256\\3335353928.py:4: DtypeWarning: Columns (5,7) have mixed types. Specify dtype option on import or set low_memory=False.\n",
      "  df = pd.concat((pd.read_csv(f) for f in filepaths), ignore_index = True)\n",
      "C:\\Users\\seank\\AppData\\Local\\Temp\\ipykernel_11256\\3335353928.py:4: DtypeWarning: Columns (7) have mixed types. Specify dtype option on import or set low_memory=False.\n",
      "  df = pd.concat((pd.read_csv(f) for f in filepaths), ignore_index = True)\n",
      "C:\\Users\\seank\\AppData\\Local\\Temp\\ipykernel_11256\\3335353928.py:4: DtypeWarning: Columns (5,7) have mixed types. Specify dtype option on import or set low_memory=False.\n",
      "  df = pd.concat((pd.read_csv(f) for f in filepaths), ignore_index = True)\n",
      "C:\\Users\\seank\\AppData\\Local\\Temp\\ipykernel_11256\\3335353928.py:4: DtypeWarning: Columns (5,7) have mixed types. Specify dtype option on import or set low_memory=False.\n",
      "  df = pd.concat((pd.read_csv(f) for f in filepaths), ignore_index = True)\n",
      "C:\\Users\\seank\\AppData\\Local\\Temp\\ipykernel_11256\\3335353928.py:4: DtypeWarning: Columns (5,7) have mixed types. Specify dtype option on import or set low_memory=False.\n",
      "  df = pd.concat((pd.read_csv(f) for f in filepaths), ignore_index = True)\n",
      "C:\\Users\\seank\\AppData\\Local\\Temp\\ipykernel_11256\\3335353928.py:4: DtypeWarning: Columns (5,7) have mixed types. Specify dtype option on import or set low_memory=False.\n",
      "  df = pd.concat((pd.read_csv(f) for f in filepaths), ignore_index = True)\n",
      "C:\\Users\\seank\\AppData\\Local\\Temp\\ipykernel_11256\\3335353928.py:4: DtypeWarning: Columns (5,7) have mixed types. Specify dtype option on import or set low_memory=False.\n",
      "  df = pd.concat((pd.read_csv(f) for f in filepaths), ignore_index = True)\n",
      "C:\\Users\\seank\\AppData\\Local\\Temp\\ipykernel_11256\\3335353928.py:4: DtypeWarning: Columns (5,7) have mixed types. Specify dtype option on import or set low_memory=False.\n",
      "  df = pd.concat((pd.read_csv(f) for f in filepaths), ignore_index = True)\n",
      "C:\\Users\\seank\\AppData\\Local\\Temp\\ipykernel_11256\\3335353928.py:4: DtypeWarning: Columns (5,7) have mixed types. Specify dtype option on import or set low_memory=False.\n",
      "  df = pd.concat((pd.read_csv(f) for f in filepaths), ignore_index = True)\n",
      "C:\\Users\\seank\\AppData\\Local\\Temp\\ipykernel_11256\\3335353928.py:4: DtypeWarning: Columns (5,7) have mixed types. Specify dtype option on import or set low_memory=False.\n",
      "  df = pd.concat((pd.read_csv(f) for f in filepaths), ignore_index = True)\n",
      "C:\\Users\\seank\\AppData\\Local\\Temp\\ipykernel_11256\\3335353928.py:4: DtypeWarning: Columns (5,7) have mixed types. Specify dtype option on import or set low_memory=False.\n",
      "  df = pd.concat((pd.read_csv(f) for f in filepaths), ignore_index = True)\n",
      "C:\\Users\\seank\\AppData\\Local\\Temp\\ipykernel_11256\\3335353928.py:4: DtypeWarning: Columns (5,7) have mixed types. Specify dtype option on import or set low_memory=False.\n",
      "  df = pd.concat((pd.read_csv(f) for f in filepaths), ignore_index = True)\n",
      "C:\\Users\\seank\\AppData\\Local\\Temp\\ipykernel_11256\\3335353928.py:4: DtypeWarning: Columns (5,7) have mixed types. Specify dtype option on import or set low_memory=False.\n",
      "  df = pd.concat((pd.read_csv(f) for f in filepaths), ignore_index = True)\n",
      "C:\\Users\\seank\\AppData\\Local\\Temp\\ipykernel_11256\\3335353928.py:4: DtypeWarning: Columns (5,7) have mixed types. Specify dtype option on import or set low_memory=False.\n",
      "  df = pd.concat((pd.read_csv(f) for f in filepaths), ignore_index = True)\n",
      "C:\\Users\\seank\\AppData\\Local\\Temp\\ipykernel_11256\\3335353928.py:4: DtypeWarning: Columns (5,7) have mixed types. Specify dtype option on import or set low_memory=False.\n",
      "  df = pd.concat((pd.read_csv(f) for f in filepaths), ignore_index = True)\n",
      "C:\\Users\\seank\\AppData\\Local\\Temp\\ipykernel_11256\\3335353928.py:4: DtypeWarning: Columns (5,7) have mixed types. Specify dtype option on import or set low_memory=False.\n",
      "  df = pd.concat((pd.read_csv(f) for f in filepaths), ignore_index = True)\n",
      "C:\\Users\\seank\\AppData\\Local\\Temp\\ipykernel_11256\\3335353928.py:4: DtypeWarning: Columns (5,7) have mixed types. Specify dtype option on import or set low_memory=False.\n",
      "  df = pd.concat((pd.read_csv(f) for f in filepaths), ignore_index = True)\n",
      "C:\\Users\\seank\\AppData\\Local\\Temp\\ipykernel_11256\\3335353928.py:4: DtypeWarning: Columns (5,7) have mixed types. Specify dtype option on import or set low_memory=False.\n",
      "  df = pd.concat((pd.read_csv(f) for f in filepaths), ignore_index = True)\n",
      "C:\\Users\\seank\\AppData\\Local\\Temp\\ipykernel_11256\\3335353928.py:4: DtypeWarning: Columns (5,7) have mixed types. Specify dtype option on import or set low_memory=False.\n",
      "  df = pd.concat((pd.read_csv(f) for f in filepaths), ignore_index = True)\n",
      "C:\\Users\\seank\\AppData\\Local\\Temp\\ipykernel_11256\\3335353928.py:4: DtypeWarning: Columns (5,7) have mixed types. Specify dtype option on import or set low_memory=False.\n",
      "  df = pd.concat((pd.read_csv(f) for f in filepaths), ignore_index = True)\n",
      "C:\\Users\\seank\\AppData\\Local\\Temp\\ipykernel_11256\\3335353928.py:4: DtypeWarning: Columns (5,7) have mixed types. Specify dtype option on import or set low_memory=False.\n",
      "  df = pd.concat((pd.read_csv(f) for f in filepaths), ignore_index = True)\n",
      "C:\\Users\\seank\\AppData\\Local\\Temp\\ipykernel_11256\\3335353928.py:4: DtypeWarning: Columns (5,7) have mixed types. Specify dtype option on import or set low_memory=False.\n",
      "  df = pd.concat((pd.read_csv(f) for f in filepaths), ignore_index = True)\n",
      "C:\\Users\\seank\\AppData\\Local\\Temp\\ipykernel_11256\\3335353928.py:4: DtypeWarning: Columns (5,7) have mixed types. Specify dtype option on import or set low_memory=False.\n",
      "  df = pd.concat((pd.read_csv(f) for f in filepaths), ignore_index = True)\n",
      "C:\\Users\\seank\\AppData\\Local\\Temp\\ipykernel_11256\\3335353928.py:4: DtypeWarning: Columns (5,7) have mixed types. Specify dtype option on import or set low_memory=False.\n",
      "  df = pd.concat((pd.read_csv(f) for f in filepaths), ignore_index = True)\n",
      "C:\\Users\\seank\\AppData\\Local\\Temp\\ipykernel_11256\\3335353928.py:4: DtypeWarning: Columns (5,7) have mixed types. Specify dtype option on import or set low_memory=False.\n",
      "  df = pd.concat((pd.read_csv(f) for f in filepaths), ignore_index = True)\n",
      "C:\\Users\\seank\\AppData\\Local\\Temp\\ipykernel_11256\\3335353928.py:4: DtypeWarning: Columns (5,7) have mixed types. Specify dtype option on import or set low_memory=False.\n",
      "  df = pd.concat((pd.read_csv(f) for f in filepaths), ignore_index = True)\n",
      "C:\\Users\\seank\\AppData\\Local\\Temp\\ipykernel_11256\\3335353928.py:4: DtypeWarning: Columns (5,7) have mixed types. Specify dtype option on import or set low_memory=False.\n",
      "  df = pd.concat((pd.read_csv(f) for f in filepaths), ignore_index = True)\n",
      "C:\\Users\\seank\\AppData\\Local\\Temp\\ipykernel_11256\\3335353928.py:4: DtypeWarning: Columns (5,7) have mixed types. Specify dtype option on import or set low_memory=False.\n",
      "  df = pd.concat((pd.read_csv(f) for f in filepaths), ignore_index = True)\n",
      "C:\\Users\\seank\\AppData\\Local\\Temp\\ipykernel_11256\\3335353928.py:4: DtypeWarning: Columns (5,7) have mixed types. Specify dtype option on import or set low_memory=False.\n",
      "  df = pd.concat((pd.read_csv(f) for f in filepaths), ignore_index = True)\n",
      "C:\\Users\\seank\\AppData\\Local\\Temp\\ipykernel_11256\\3335353928.py:4: DtypeWarning: Columns (5,7) have mixed types. Specify dtype option on import or set low_memory=False.\n",
      "  df = pd.concat((pd.read_csv(f) for f in filepaths), ignore_index = True)\n",
      "C:\\Users\\seank\\AppData\\Local\\Temp\\ipykernel_11256\\3335353928.py:4: DtypeWarning: Columns (5,7) have mixed types. Specify dtype option on import or set low_memory=False.\n",
      "  df = pd.concat((pd.read_csv(f) for f in filepaths), ignore_index = True)\n",
      "C:\\Users\\seank\\AppData\\Local\\Temp\\ipykernel_11256\\3335353928.py:4: DtypeWarning: Columns (7) have mixed types. Specify dtype option on import or set low_memory=False.\n",
      "  df = pd.concat((pd.read_csv(f) for f in filepaths), ignore_index = True)\n",
      "C:\\Users\\seank\\AppData\\Local\\Temp\\ipykernel_11256\\3335353928.py:4: DtypeWarning: Columns (5,7) have mixed types. Specify dtype option on import or set low_memory=False.\n",
      "  df = pd.concat((pd.read_csv(f) for f in filepaths), ignore_index = True)\n",
      "C:\\Users\\seank\\AppData\\Local\\Temp\\ipykernel_11256\\3335353928.py:4: DtypeWarning: Columns (5,7) have mixed types. Specify dtype option on import or set low_memory=False.\n",
      "  df = pd.concat((pd.read_csv(f) for f in filepaths), ignore_index = True)\n"
     ]
    }
   ],
   "source": [
    "# Read and concatenate all files simultaneously. Pass through each file in the filepath list and read the csv,\n",
    "# then appstart it underneath the previous file while keeping columns\n",
    "\n",
    "df = pd.concat((pd.read_csv(f) for f in filepaths), ignore_index = True)"
   ]
  },
  {
   "cell_type": "code",
   "execution_count": 5,
   "id": "02560369",
   "metadata": {},
   "outputs": [
    {
     "data": {
      "text/plain": [
       "(29838806, 13)"
      ]
     },
     "execution_count": 5,
     "metadata": {},
     "output_type": "execute_result"
    }
   ],
   "source": [
    "df.shape"
   ]
  },
  {
   "cell_type": "code",
   "execution_count": 6,
   "id": "2e5b94e6",
   "metadata": {},
   "outputs": [
    {
     "data": {
      "text/html": [
       "<div>\n",
       "<style scoped>\n",
       "    .dataframe tbody tr th:only-of-type {\n",
       "        vertical-align: middle;\n",
       "    }\n",
       "\n",
       "    .dataframe tbody tr th {\n",
       "        vertical-align: top;\n",
       "    }\n",
       "\n",
       "    .dataframe thead th {\n",
       "        text-align: right;\n",
       "    }\n",
       "</style>\n",
       "<table border=\"1\" class=\"dataframe\">\n",
       "  <thead>\n",
       "    <tr style=\"text-align: right;\">\n",
       "      <th></th>\n",
       "      <th>ride_id</th>\n",
       "      <th>rideable_type</th>\n",
       "      <th>started_at</th>\n",
       "      <th>ended_at</th>\n",
       "      <th>start_station_name</th>\n",
       "      <th>start_station_id</th>\n",
       "      <th>end_station_name</th>\n",
       "      <th>end_station_id</th>\n",
       "      <th>start_lat</th>\n",
       "      <th>start_lng</th>\n",
       "      <th>end_lat</th>\n",
       "      <th>end_lng</th>\n",
       "      <th>member_casual</th>\n",
       "    </tr>\n",
       "  </thead>\n",
       "  <tbody>\n",
       "    <tr>\n",
       "      <th>0</th>\n",
       "      <td>BFD29218AB271154</td>\n",
       "      <td>electric_bike</td>\n",
       "      <td>2022-01-21 13:13:43.392</td>\n",
       "      <td>2022-01-21 13:22:31.463</td>\n",
       "      <td>West End Ave &amp; W 107 St</td>\n",
       "      <td>7650.05</td>\n",
       "      <td>Mt Morris Park W &amp; W 120 St</td>\n",
       "      <td>7685.14</td>\n",
       "      <td>40.802117</td>\n",
       "      <td>-73.968181</td>\n",
       "      <td>40.804038</td>\n",
       "      <td>-73.945925</td>\n",
       "      <td>member</td>\n",
       "    </tr>\n",
       "    <tr>\n",
       "      <th>1</th>\n",
       "      <td>7C953F2FD7BE1302</td>\n",
       "      <td>classic_bike</td>\n",
       "      <td>2022-01-10 11:30:54.162</td>\n",
       "      <td>2022-01-10 11:41:43.422</td>\n",
       "      <td>4 Ave &amp; 3 St</td>\n",
       "      <td>4028.04</td>\n",
       "      <td>Boerum Pl\\t&amp; Pacific St</td>\n",
       "      <td>4488.09</td>\n",
       "      <td>40.673746</td>\n",
       "      <td>-73.985649</td>\n",
       "      <td>40.688489</td>\n",
       "      <td>-73.991160</td>\n",
       "      <td>member</td>\n",
       "    </tr>\n",
       "    <tr>\n",
       "      <th>2</th>\n",
       "      <td>95893ABD40CED4B8</td>\n",
       "      <td>electric_bike</td>\n",
       "      <td>2022-01-26 10:52:43.096</td>\n",
       "      <td>2022-01-26 11:06:35.227</td>\n",
       "      <td>1 Ave &amp; E 62 St</td>\n",
       "      <td>6753.08</td>\n",
       "      <td>5 Ave &amp; E 29 St</td>\n",
       "      <td>6248.06</td>\n",
       "      <td>40.761227</td>\n",
       "      <td>-73.960940</td>\n",
       "      <td>40.745168</td>\n",
       "      <td>-73.986831</td>\n",
       "      <td>member</td>\n",
       "    </tr>\n",
       "    <tr>\n",
       "      <th>3</th>\n",
       "      <td>F853B50772137378</td>\n",
       "      <td>classic_bike</td>\n",
       "      <td>2022-01-03 08:35:48.247</td>\n",
       "      <td>2022-01-03 09:10:50.475</td>\n",
       "      <td>2 Ave &amp; E 96 St</td>\n",
       "      <td>7338.02</td>\n",
       "      <td>5 Ave &amp; E 29 St</td>\n",
       "      <td>6248.06</td>\n",
       "      <td>40.783964</td>\n",
       "      <td>-73.947167</td>\n",
       "      <td>40.745168</td>\n",
       "      <td>-73.986831</td>\n",
       "      <td>member</td>\n",
       "    </tr>\n",
       "    <tr>\n",
       "      <th>4</th>\n",
       "      <td>7590ADF834797B4B</td>\n",
       "      <td>classic_bike</td>\n",
       "      <td>2022-01-22 14:14:23.043</td>\n",
       "      <td>2022-01-22 14:34:57.474</td>\n",
       "      <td>6 Ave &amp; W 34 St</td>\n",
       "      <td>6364.10</td>\n",
       "      <td>5 Ave &amp; E 29 St</td>\n",
       "      <td>6248.06</td>\n",
       "      <td>40.749640</td>\n",
       "      <td>-73.988050</td>\n",
       "      <td>40.745168</td>\n",
       "      <td>-73.986831</td>\n",
       "      <td>member</td>\n",
       "    </tr>\n",
       "  </tbody>\n",
       "</table>\n",
       "</div>"
      ],
      "text/plain": [
       "            ride_id  rideable_type               started_at  \\\n",
       "0  BFD29218AB271154  electric_bike  2022-01-21 13:13:43.392   \n",
       "1  7C953F2FD7BE1302   classic_bike  2022-01-10 11:30:54.162   \n",
       "2  95893ABD40CED4B8  electric_bike  2022-01-26 10:52:43.096   \n",
       "3  F853B50772137378   classic_bike  2022-01-03 08:35:48.247   \n",
       "4  7590ADF834797B4B   classic_bike  2022-01-22 14:14:23.043   \n",
       "\n",
       "                  ended_at       start_station_name start_station_id  \\\n",
       "0  2022-01-21 13:22:31.463  West End Ave & W 107 St          7650.05   \n",
       "1  2022-01-10 11:41:43.422             4 Ave & 3 St          4028.04   \n",
       "2  2022-01-26 11:06:35.227          1 Ave & E 62 St          6753.08   \n",
       "3  2022-01-03 09:10:50.475          2 Ave & E 96 St          7338.02   \n",
       "4  2022-01-22 14:34:57.474          6 Ave & W 34 St          6364.10   \n",
       "\n",
       "              end_station_name end_station_id  start_lat  start_lng  \\\n",
       "0  Mt Morris Park W & W 120 St        7685.14  40.802117 -73.968181   \n",
       "1      Boerum Pl\\t& Pacific St        4488.09  40.673746 -73.985649   \n",
       "2              5 Ave & E 29 St        6248.06  40.761227 -73.960940   \n",
       "3              5 Ave & E 29 St        6248.06  40.783964 -73.947167   \n",
       "4              5 Ave & E 29 St        6248.06  40.749640 -73.988050   \n",
       "\n",
       "     end_lat    end_lng member_casual  \n",
       "0  40.804038 -73.945925        member  \n",
       "1  40.688489 -73.991160        member  \n",
       "2  40.745168 -73.986831        member  \n",
       "3  40.745168 -73.986831        member  \n",
       "4  40.745168 -73.986831        member  "
      ]
     },
     "execution_count": 6,
     "metadata": {},
     "output_type": "execute_result"
    }
   ],
   "source": [
    "df.head()"
   ]
  },
  {
   "cell_type": "code",
   "execution_count": 7,
   "id": "0219c9a0",
   "metadata": {},
   "outputs": [
    {
     "data": {
      "text/plain": [
       "ride_id                object\n",
       "rideable_type          object\n",
       "started_at             object\n",
       "ended_at               object\n",
       "start_station_name     object\n",
       "start_station_id       object\n",
       "end_station_name       object\n",
       "end_station_id         object\n",
       "start_lat             float64\n",
       "start_lng             float64\n",
       "end_lat               float64\n",
       "end_lng               float64\n",
       "member_casual          object\n",
       "dtype: object"
      ]
     },
     "execution_count": 7,
     "metadata": {},
     "output_type": "execute_result"
    }
   ],
   "source": [
    "df.dtypes"
   ]
  },
  {
   "cell_type": "code",
   "execution_count": 8,
   "id": "c4b1e5a9",
   "metadata": {},
   "outputs": [
    {
     "data": {
      "text/html": [
       "<div>\n",
       "<style scoped>\n",
       "    .dataframe tbody tr th:only-of-type {\n",
       "        vertical-align: middle;\n",
       "    }\n",
       "\n",
       "    .dataframe tbody tr th {\n",
       "        vertical-align: top;\n",
       "    }\n",
       "\n",
       "    .dataframe thead th {\n",
       "        text-align: right;\n",
       "    }\n",
       "</style>\n",
       "<table border=\"1\" class=\"dataframe\">\n",
       "  <thead>\n",
       "    <tr style=\"text-align: right;\">\n",
       "      <th></th>\n",
       "      <th>ride_id</th>\n",
       "      <th>rideable_type</th>\n",
       "      <th>started_at</th>\n",
       "      <th>ended_at</th>\n",
       "      <th>start_station_name</th>\n",
       "      <th>start_station_id</th>\n",
       "      <th>end_station_name</th>\n",
       "      <th>end_station_id</th>\n",
       "      <th>start_lat</th>\n",
       "      <th>start_lng</th>\n",
       "      <th>end_lat</th>\n",
       "      <th>end_lng</th>\n",
       "      <th>member_casual</th>\n",
       "      <th>date</th>\n",
       "    </tr>\n",
       "  </thead>\n",
       "  <tbody>\n",
       "    <tr>\n",
       "      <th>0</th>\n",
       "      <td>BFD29218AB271154</td>\n",
       "      <td>electric_bike</td>\n",
       "      <td>2022-01-21 13:13:43.392</td>\n",
       "      <td>2022-01-21 13:22:31.463</td>\n",
       "      <td>West End Ave &amp; W 107 St</td>\n",
       "      <td>7650.05</td>\n",
       "      <td>Mt Morris Park W &amp; W 120 St</td>\n",
       "      <td>7685.14</td>\n",
       "      <td>40.802117</td>\n",
       "      <td>-73.968181</td>\n",
       "      <td>40.804038</td>\n",
       "      <td>-73.945925</td>\n",
       "      <td>member</td>\n",
       "      <td>2022-01-21</td>\n",
       "    </tr>\n",
       "    <tr>\n",
       "      <th>1</th>\n",
       "      <td>7C953F2FD7BE1302</td>\n",
       "      <td>classic_bike</td>\n",
       "      <td>2022-01-10 11:30:54.162</td>\n",
       "      <td>2022-01-10 11:41:43.422</td>\n",
       "      <td>4 Ave &amp; 3 St</td>\n",
       "      <td>4028.04</td>\n",
       "      <td>Boerum Pl\\t&amp; Pacific St</td>\n",
       "      <td>4488.09</td>\n",
       "      <td>40.673746</td>\n",
       "      <td>-73.985649</td>\n",
       "      <td>40.688489</td>\n",
       "      <td>-73.991160</td>\n",
       "      <td>member</td>\n",
       "      <td>2022-01-10</td>\n",
       "    </tr>\n",
       "    <tr>\n",
       "      <th>2</th>\n",
       "      <td>95893ABD40CED4B8</td>\n",
       "      <td>electric_bike</td>\n",
       "      <td>2022-01-26 10:52:43.096</td>\n",
       "      <td>2022-01-26 11:06:35.227</td>\n",
       "      <td>1 Ave &amp; E 62 St</td>\n",
       "      <td>6753.08</td>\n",
       "      <td>5 Ave &amp; E 29 St</td>\n",
       "      <td>6248.06</td>\n",
       "      <td>40.761227</td>\n",
       "      <td>-73.960940</td>\n",
       "      <td>40.745168</td>\n",
       "      <td>-73.986831</td>\n",
       "      <td>member</td>\n",
       "      <td>2022-01-26</td>\n",
       "    </tr>\n",
       "    <tr>\n",
       "      <th>3</th>\n",
       "      <td>F853B50772137378</td>\n",
       "      <td>classic_bike</td>\n",
       "      <td>2022-01-03 08:35:48.247</td>\n",
       "      <td>2022-01-03 09:10:50.475</td>\n",
       "      <td>2 Ave &amp; E 96 St</td>\n",
       "      <td>7338.02</td>\n",
       "      <td>5 Ave &amp; E 29 St</td>\n",
       "      <td>6248.06</td>\n",
       "      <td>40.783964</td>\n",
       "      <td>-73.947167</td>\n",
       "      <td>40.745168</td>\n",
       "      <td>-73.986831</td>\n",
       "      <td>member</td>\n",
       "      <td>2022-01-03</td>\n",
       "    </tr>\n",
       "    <tr>\n",
       "      <th>4</th>\n",
       "      <td>7590ADF834797B4B</td>\n",
       "      <td>classic_bike</td>\n",
       "      <td>2022-01-22 14:14:23.043</td>\n",
       "      <td>2022-01-22 14:34:57.474</td>\n",
       "      <td>6 Ave &amp; W 34 St</td>\n",
       "      <td>6364.10</td>\n",
       "      <td>5 Ave &amp; E 29 St</td>\n",
       "      <td>6248.06</td>\n",
       "      <td>40.749640</td>\n",
       "      <td>-73.988050</td>\n",
       "      <td>40.745168</td>\n",
       "      <td>-73.986831</td>\n",
       "      <td>member</td>\n",
       "      <td>2022-01-22</td>\n",
       "    </tr>\n",
       "  </tbody>\n",
       "</table>\n",
       "</div>"
      ],
      "text/plain": [
       "            ride_id  rideable_type              started_at  \\\n",
       "0  BFD29218AB271154  electric_bike 2022-01-21 13:13:43.392   \n",
       "1  7C953F2FD7BE1302   classic_bike 2022-01-10 11:30:54.162   \n",
       "2  95893ABD40CED4B8  electric_bike 2022-01-26 10:52:43.096   \n",
       "3  F853B50772137378   classic_bike 2022-01-03 08:35:48.247   \n",
       "4  7590ADF834797B4B   classic_bike 2022-01-22 14:14:23.043   \n",
       "\n",
       "                 ended_at       start_station_name start_station_id  \\\n",
       "0 2022-01-21 13:22:31.463  West End Ave & W 107 St          7650.05   \n",
       "1 2022-01-10 11:41:43.422             4 Ave & 3 St          4028.04   \n",
       "2 2022-01-26 11:06:35.227          1 Ave & E 62 St          6753.08   \n",
       "3 2022-01-03 09:10:50.475          2 Ave & E 96 St          7338.02   \n",
       "4 2022-01-22 14:34:57.474          6 Ave & W 34 St          6364.10   \n",
       "\n",
       "              end_station_name end_station_id  start_lat  start_lng  \\\n",
       "0  Mt Morris Park W & W 120 St        7685.14  40.802117 -73.968181   \n",
       "1      Boerum Pl\\t& Pacific St        4488.09  40.673746 -73.985649   \n",
       "2              5 Ave & E 29 St        6248.06  40.761227 -73.960940   \n",
       "3              5 Ave & E 29 St        6248.06  40.783964 -73.947167   \n",
       "4              5 Ave & E 29 St        6248.06  40.749640 -73.988050   \n",
       "\n",
       "     end_lat    end_lng member_casual        date  \n",
       "0  40.804038 -73.945925        member  2022-01-21  \n",
       "1  40.688489 -73.991160        member  2022-01-10  \n",
       "2  40.745168 -73.986831        member  2022-01-26  \n",
       "3  40.745168 -73.986831        member  2022-01-03  \n",
       "4  40.745168 -73.986831        member  2022-01-22  "
      ]
     },
     "execution_count": 8,
     "metadata": {},
     "output_type": "execute_result"
    }
   ],
   "source": [
    "# converting times to datetime\n",
    "df['started_at'] = pd.to_datetime(df['started_at'], dayfirst=False)\n",
    "df['ended_at'] = pd.to_datetime(df['ended_at'], dayfirst=False)\n",
    "\n",
    "# Extracting date\n",
    "df['date'] = pd.to_datetime(df['started_at'], format='%Y-%m-%d').dt.date\n",
    "df.head()"
   ]
  },
  {
   "cell_type": "markdown",
   "id": "86a37ea6",
   "metadata": {},
   "source": [
    "## Retrieving Weather Data"
   ]
  },
  {
   "cell_type": "markdown",
   "id": "a115262a",
   "metadata": {},
   "source": [
    "Using LaGuardia Airport (id GHCND:USW00014732 ) data from https://www.ncdc.noaa.gov/cdo-web/datatools/findstation (accessed 20/06/25)"
   ]
  },
  {
   "cell_type": "code",
   "execution_count": 9,
   "id": "65b2515a",
   "metadata": {},
   "outputs": [
    {
     "name": "stdout",
     "output_type": "stream",
     "text": [
      "Token loaded: elVvdrcIkpxEAWPxKSzWsJZeNccsEHnv\n"
     ]
    }
   ],
   "source": [
    "load_dotenv()  # Loading environment variables from .env file\n",
    "\n",
    "Token = os.environ.get('NOAA_TOKEN')\n",
    "\n",
    "print(f\"Token loaded: {Token}\");"
   ]
  },
  {
   "cell_type": "code",
   "execution_count": 10,
   "id": "8fda89fb",
   "metadata": {},
   "outputs": [
    {
     "name": "stdout",
     "output_type": "stream",
     "text": [
      "Fetched 1000 records, total so far: 1000\n",
      "Fetched 95 records, total so far: 1095\n"
     ]
    }
   ],
   "source": [
    "headers = {'token': Token}\n",
    "url = 'https://www.ncdc.noaa.gov/cdo-web/api/v2/data'\n",
    "\n",
    "# defining what data to fetch\n",
    "params = {\n",
    "    'datasetid': 'GHCND',\n",
    "    'datatypeid': ['TAVG', 'PRCP', 'AWND'], \n",
    "    'stationid': 'GHCND:USW00014732',\n",
    "    'startdate': '2022-01-01',\n",
    "    'enddate': '2022-12-31',\n",
    "    'limit': 1000,\n",
    "    'offset': 1\n",
    "}\n",
    "# empty list to store all records from all pages\n",
    "all_results = []\n",
    "# starting loop that will break when end of data reached\n",
    "while True:\n",
    "    r = requests.get(url, headers=headers, params=params)   # send API request with above params\n",
    "    data = r.json() # parse json response to python dictionary\n",
    "    results = data.get('results', [])   # extrac the results elements of the response\n",
    "\n",
    "    if not results:\n",
    "        break  # Exit the loop if no more data to fetch\n",
    "\n",
    "    all_results.extend(results) # add fetched results to main list\n",
    "    params['offset'] += 1000  # since the limit for the api is 1000\n",
    "\n",
    "    print(f\"Fetched {len(results)} records, total so far: {len(all_results)}\")  # print progress"
   ]
  },
  {
   "cell_type": "code",
   "execution_count": 11,
   "id": "4cfe9008",
   "metadata": {},
   "outputs": [
    {
     "name": "stdout",
     "output_type": "stream",
     "text": [
      "1095\n"
     ]
    }
   ],
   "source": [
    "print(365*3)"
   ]
  },
  {
   "cell_type": "code",
   "execution_count": 12,
   "id": "878673fa",
   "metadata": {},
   "outputs": [
    {
     "name": "stdout",
     "output_type": "stream",
     "text": [
      "(1095, 5)\n",
      "                  date datatype            station attributes  value\n",
      "0  2022-01-01T00:00:00     AWND  GHCND:USW00014732       ,,W,     28\n",
      "1  2022-01-01T00:00:00     PRCP  GHCND:USW00014732   ,,W,2400    193\n",
      "2  2022-01-01T00:00:00     TAVG  GHCND:USW00014732      H,,S,    116\n",
      "3  2022-01-02T00:00:00     AWND  GHCND:USW00014732       ,,W,     43\n",
      "4  2022-01-02T00:00:00     PRCP  GHCND:USW00014732   ,,W,2400     10\n",
      "                     date datatype            station attributes  value\n",
      "1090  2022-12-30T00:00:00     PRCP  GHCND:USW00014732   ,,W,2400      0\n",
      "1091  2022-12-30T00:00:00     TAVG  GHCND:USW00014732      H,,S,     93\n",
      "1092  2022-12-31T00:00:00     AWND  GHCND:USW00014732       ,,W,     21\n",
      "1093  2022-12-31T00:00:00     PRCP  GHCND:USW00014732   ,,W,2400     79\n",
      "1094  2022-12-31T00:00:00     TAVG  GHCND:USW00014732      H,,S,     82\n"
     ]
    }
   ],
   "source": [
    "# Convert to df\n",
    "d = pd.DataFrame(all_results)\n",
    "print(d.shape)\n",
    "print(d.head())\n",
    "print(d.tail())"
   ]
  },
  {
   "cell_type": "code",
   "execution_count": 13,
   "id": "84a90656",
   "metadata": {},
   "outputs": [
    {
     "data": {
      "text/html": [
       "<div>\n",
       "<style scoped>\n",
       "    .dataframe tbody tr th:only-of-type {\n",
       "        vertical-align: middle;\n",
       "    }\n",
       "\n",
       "    .dataframe tbody tr th {\n",
       "        vertical-align: top;\n",
       "    }\n",
       "\n",
       "    .dataframe thead th {\n",
       "        text-align: right;\n",
       "    }\n",
       "</style>\n",
       "<table border=\"1\" class=\"dataframe\">\n",
       "  <thead>\n",
       "    <tr style=\"text-align: right;\">\n",
       "      <th></th>\n",
       "      <th>date</th>\n",
       "      <th>datatype</th>\n",
       "      <th>station</th>\n",
       "      <th>attributes</th>\n",
       "      <th>value</th>\n",
       "    </tr>\n",
       "  </thead>\n",
       "  <tbody>\n",
       "    <tr>\n",
       "      <th>0</th>\n",
       "      <td>2022-01-01</td>\n",
       "      <td>AWND</td>\n",
       "      <td>GHCND:USW00014732</td>\n",
       "      <td>,,W,</td>\n",
       "      <td>28</td>\n",
       "    </tr>\n",
       "    <tr>\n",
       "      <th>1</th>\n",
       "      <td>2022-01-01</td>\n",
       "      <td>PRCP</td>\n",
       "      <td>GHCND:USW00014732</td>\n",
       "      <td>,,W,2400</td>\n",
       "      <td>193</td>\n",
       "    </tr>\n",
       "    <tr>\n",
       "      <th>2</th>\n",
       "      <td>2022-01-01</td>\n",
       "      <td>TAVG</td>\n",
       "      <td>GHCND:USW00014732</td>\n",
       "      <td>H,,S,</td>\n",
       "      <td>116</td>\n",
       "    </tr>\n",
       "    <tr>\n",
       "      <th>3</th>\n",
       "      <td>2022-01-02</td>\n",
       "      <td>AWND</td>\n",
       "      <td>GHCND:USW00014732</td>\n",
       "      <td>,,W,</td>\n",
       "      <td>43</td>\n",
       "    </tr>\n",
       "    <tr>\n",
       "      <th>4</th>\n",
       "      <td>2022-01-02</td>\n",
       "      <td>PRCP</td>\n",
       "      <td>GHCND:USW00014732</td>\n",
       "      <td>,,W,2400</td>\n",
       "      <td>10</td>\n",
       "    </tr>\n",
       "  </tbody>\n",
       "</table>\n",
       "</div>"
      ],
      "text/plain": [
       "         date datatype            station attributes  value\n",
       "0  2022-01-01     AWND  GHCND:USW00014732       ,,W,     28\n",
       "1  2022-01-01     PRCP  GHCND:USW00014732   ,,W,2400    193\n",
       "2  2022-01-01     TAVG  GHCND:USW00014732      H,,S,    116\n",
       "3  2022-01-02     AWND  GHCND:USW00014732       ,,W,     43\n",
       "4  2022-01-02     PRCP  GHCND:USW00014732   ,,W,2400     10"
      ]
     },
     "execution_count": 13,
     "metadata": {},
     "output_type": "execute_result"
    }
   ],
   "source": [
    "# dropping time from date var\n",
    "d['date'] = pd.to_datetime(d['date']).dt.date\n",
    "d.head()"
   ]
  },
  {
   "cell_type": "code",
   "execution_count": 14,
   "id": "609f7d29",
   "metadata": {},
   "outputs": [
    {
     "data": {
      "text/html": [
       "<div>\n",
       "<style scoped>\n",
       "    .dataframe tbody tr th:only-of-type {\n",
       "        vertical-align: middle;\n",
       "    }\n",
       "\n",
       "    .dataframe tbody tr th {\n",
       "        vertical-align: top;\n",
       "    }\n",
       "\n",
       "    .dataframe thead th {\n",
       "        text-align: right;\n",
       "    }\n",
       "</style>\n",
       "<table border=\"1\" class=\"dataframe\">\n",
       "  <thead>\n",
       "    <tr style=\"text-align: right;\">\n",
       "      <th>datatype</th>\n",
       "      <th>date</th>\n",
       "      <th>AWND</th>\n",
       "      <th>PRCP</th>\n",
       "      <th>TAVG</th>\n",
       "    </tr>\n",
       "  </thead>\n",
       "  <tbody>\n",
       "    <tr>\n",
       "      <th>0</th>\n",
       "      <td>2022-01-01</td>\n",
       "      <td>28</td>\n",
       "      <td>193</td>\n",
       "      <td>116</td>\n",
       "    </tr>\n",
       "    <tr>\n",
       "      <th>1</th>\n",
       "      <td>2022-01-02</td>\n",
       "      <td>43</td>\n",
       "      <td>10</td>\n",
       "      <td>114</td>\n",
       "    </tr>\n",
       "    <tr>\n",
       "      <th>2</th>\n",
       "      <td>2022-01-03</td>\n",
       "      <td>64</td>\n",
       "      <td>0</td>\n",
       "      <td>14</td>\n",
       "    </tr>\n",
       "    <tr>\n",
       "      <th>3</th>\n",
       "      <td>2022-01-04</td>\n",
       "      <td>39</td>\n",
       "      <td>0</td>\n",
       "      <td>-27</td>\n",
       "    </tr>\n",
       "    <tr>\n",
       "      <th>4</th>\n",
       "      <td>2022-01-05</td>\n",
       "      <td>34</td>\n",
       "      <td>61</td>\n",
       "      <td>32</td>\n",
       "    </tr>\n",
       "  </tbody>\n",
       "</table>\n",
       "</div>"
      ],
      "text/plain": [
       "datatype        date  AWND  PRCP  TAVG\n",
       "0         2022-01-01    28   193   116\n",
       "1         2022-01-02    43    10   114\n",
       "2         2022-01-03    64     0    14\n",
       "3         2022-01-04    39     0   -27\n",
       "4         2022-01-05    34    61    32"
      ]
     },
     "execution_count": 14,
     "metadata": {},
     "output_type": "execute_result"
    }
   ],
   "source": [
    "# pivotting to wide so each row = one day\n",
    "wide_weather = d.pivot(index='date',\n",
    "                       columns='datatype',\n",
    "                       values='value')\n",
    "wide_weather = wide_weather.reset_index()\n",
    "wide_weather.head()"
   ]
  },
  {
   "cell_type": "code",
   "execution_count": 15,
   "id": "bb294b94",
   "metadata": {},
   "outputs": [
    {
     "data": {
      "text/plain": [
       "Index(['date', 'AWND', 'PRCP', 'TAVG'], dtype='object', name='datatype')"
      ]
     },
     "execution_count": 15,
     "metadata": {},
     "output_type": "execute_result"
    }
   ],
   "source": [
    "wide_weather.columns"
   ]
  },
  {
   "cell_type": "code",
   "execution_count": 16,
   "id": "44ac41c8",
   "metadata": {},
   "outputs": [
    {
     "data": {
      "text/plain": [
       "Index(['date', 'AWND', 'PRCP', 'TAVG'], dtype='object')"
      ]
     },
     "execution_count": 16,
     "metadata": {},
     "output_type": "execute_result"
    }
   ],
   "source": [
    "# Remove 'datatype' label which is leftover from pivot\n",
    "wide_weather.columns.name = None\n",
    "wide_weather.columns "
   ]
  },
  {
   "cell_type": "code",
   "execution_count": 18,
   "id": "6df7ab94",
   "metadata": {},
   "outputs": [],
   "source": [
    "# Saving in case there's future issues with data or API access\n",
    "wide_weather.to_csv(r'C:\\Data\\Citibike_NY_2022\\wide_weather.csv',index=False)"
   ]
  },
  {
   "cell_type": "markdown",
   "id": "314efef6",
   "metadata": {},
   "source": [
    "## Merging citibike to weather data"
   ]
  },
  {
   "cell_type": "code",
   "execution_count": 19,
   "id": "d828e4ac",
   "metadata": {},
   "outputs": [],
   "source": [
    "df_all = pd.merge(df, wide_weather,\n",
    "                  how = 'inner',\n",
    "                  on = 'date',\n",
    "                  indicator=True)"
   ]
  },
  {
   "cell_type": "code",
   "execution_count": 20,
   "id": "4edd1a8e",
   "metadata": {},
   "outputs": [],
   "source": [
    "df_all = df_all.sort_values(by='date')"
   ]
  },
  {
   "cell_type": "code",
   "execution_count": 21,
   "id": "dcdf665a",
   "metadata": {},
   "outputs": [
    {
     "data": {
      "text/html": [
       "<div>\n",
       "<style scoped>\n",
       "    .dataframe tbody tr th:only-of-type {\n",
       "        vertical-align: middle;\n",
       "    }\n",
       "\n",
       "    .dataframe tbody tr th {\n",
       "        vertical-align: top;\n",
       "    }\n",
       "\n",
       "    .dataframe thead th {\n",
       "        text-align: right;\n",
       "    }\n",
       "</style>\n",
       "<table border=\"1\" class=\"dataframe\">\n",
       "  <thead>\n",
       "    <tr style=\"text-align: right;\">\n",
       "      <th></th>\n",
       "      <th>ride_id</th>\n",
       "      <th>rideable_type</th>\n",
       "      <th>started_at</th>\n",
       "      <th>ended_at</th>\n",
       "      <th>start_station_name</th>\n",
       "      <th>start_station_id</th>\n",
       "      <th>end_station_name</th>\n",
       "      <th>end_station_id</th>\n",
       "      <th>start_lat</th>\n",
       "      <th>start_lng</th>\n",
       "      <th>end_lat</th>\n",
       "      <th>end_lng</th>\n",
       "      <th>member_casual</th>\n",
       "      <th>date</th>\n",
       "      <th>AWND</th>\n",
       "      <th>PRCP</th>\n",
       "      <th>TAVG</th>\n",
       "      <th>_merge</th>\n",
       "    </tr>\n",
       "  </thead>\n",
       "  <tbody>\n",
       "    <tr>\n",
       "      <th>337365</th>\n",
       "      <td>FB33E3D8F21E2941</td>\n",
       "      <td>electric_bike</td>\n",
       "      <td>2022-01-01 01:49:37.374</td>\n",
       "      <td>2022-01-01 01:57:50.346</td>\n",
       "      <td>Canal St &amp; Rutgers St</td>\n",
       "      <td>5303.08</td>\n",
       "      <td>Norfolk St &amp; Broome St</td>\n",
       "      <td>5374.01</td>\n",
       "      <td>40.714275</td>\n",
       "      <td>-73.989900</td>\n",
       "      <td>40.717227</td>\n",
       "      <td>-73.988021</td>\n",
       "      <td>casual</td>\n",
       "      <td>2022-01-01</td>\n",
       "      <td>28</td>\n",
       "      <td>193</td>\n",
       "      <td>116</td>\n",
       "      <td>both</td>\n",
       "    </tr>\n",
       "    <tr>\n",
       "      <th>934147</th>\n",
       "      <td>755337295F178067</td>\n",
       "      <td>electric_bike</td>\n",
       "      <td>2022-01-01 03:21:09.754</td>\n",
       "      <td>2022-01-01 03:49:33.047</td>\n",
       "      <td>Lewis Ave &amp; Madison St</td>\n",
       "      <td>4425.02</td>\n",
       "      <td>Columbia St &amp; Degraw St</td>\n",
       "      <td>4422.04</td>\n",
       "      <td>40.686312</td>\n",
       "      <td>-73.935775</td>\n",
       "      <td>40.685930</td>\n",
       "      <td>-74.002424</td>\n",
       "      <td>member</td>\n",
       "      <td>2022-01-01</td>\n",
       "      <td>28</td>\n",
       "      <td>193</td>\n",
       "      <td>116</td>\n",
       "      <td>both</td>\n",
       "    </tr>\n",
       "    <tr>\n",
       "      <th>227118</th>\n",
       "      <td>C62CA87E3A475ADD</td>\n",
       "      <td>classic_bike</td>\n",
       "      <td>2022-01-01 08:38:18.156</td>\n",
       "      <td>2022-01-01 08:47:54.213</td>\n",
       "      <td>Carlton Ave &amp; Park Ave</td>\n",
       "      <td>4732.04</td>\n",
       "      <td>Emerson Pl &amp; Myrtle Ave</td>\n",
       "      <td>4683.02</td>\n",
       "      <td>40.695807</td>\n",
       "      <td>-73.973556</td>\n",
       "      <td>40.693631</td>\n",
       "      <td>-73.962236</td>\n",
       "      <td>casual</td>\n",
       "      <td>2022-01-01</td>\n",
       "      <td>28</td>\n",
       "      <td>193</td>\n",
       "      <td>116</td>\n",
       "      <td>both</td>\n",
       "    </tr>\n",
       "    <tr>\n",
       "      <th>913138</th>\n",
       "      <td>CD7A2098AFCD5514</td>\n",
       "      <td>classic_bike</td>\n",
       "      <td>2022-01-01 10:33:58.529</td>\n",
       "      <td>2022-01-01 10:47:05.197</td>\n",
       "      <td>W 100 St &amp; Broadway</td>\n",
       "      <td>7580.01</td>\n",
       "      <td>W 67 St &amp; Broadway</td>\n",
       "      <td>7116.04</td>\n",
       "      <td>40.797372</td>\n",
       "      <td>-73.970412</td>\n",
       "      <td>40.774925</td>\n",
       "      <td>-73.982666</td>\n",
       "      <td>casual</td>\n",
       "      <td>2022-01-01</td>\n",
       "      <td>28</td>\n",
       "      <td>193</td>\n",
       "      <td>116</td>\n",
       "      <td>both</td>\n",
       "    </tr>\n",
       "    <tr>\n",
       "      <th>127328</th>\n",
       "      <td>3F9E0C51F49F78A3</td>\n",
       "      <td>electric_bike</td>\n",
       "      <td>2022-01-01 20:05:19.592</td>\n",
       "      <td>2022-01-01 20:12:00.661</td>\n",
       "      <td>W 18 St &amp; 6 Ave</td>\n",
       "      <td>6064.08</td>\n",
       "      <td>W 42 St &amp; 6 Ave</td>\n",
       "      <td>6517.08</td>\n",
       "      <td>40.739713</td>\n",
       "      <td>-73.994564</td>\n",
       "      <td>40.754920</td>\n",
       "      <td>-73.984550</td>\n",
       "      <td>member</td>\n",
       "      <td>2022-01-01</td>\n",
       "      <td>28</td>\n",
       "      <td>193</td>\n",
       "      <td>116</td>\n",
       "      <td>both</td>\n",
       "    </tr>\n",
       "  </tbody>\n",
       "</table>\n",
       "</div>"
      ],
      "text/plain": [
       "                 ride_id  rideable_type              started_at  \\\n",
       "337365  FB33E3D8F21E2941  electric_bike 2022-01-01 01:49:37.374   \n",
       "934147  755337295F178067  electric_bike 2022-01-01 03:21:09.754   \n",
       "227118  C62CA87E3A475ADD   classic_bike 2022-01-01 08:38:18.156   \n",
       "913138  CD7A2098AFCD5514   classic_bike 2022-01-01 10:33:58.529   \n",
       "127328  3F9E0C51F49F78A3  electric_bike 2022-01-01 20:05:19.592   \n",
       "\n",
       "                      ended_at      start_station_name start_station_id  \\\n",
       "337365 2022-01-01 01:57:50.346   Canal St & Rutgers St          5303.08   \n",
       "934147 2022-01-01 03:49:33.047  Lewis Ave & Madison St          4425.02   \n",
       "227118 2022-01-01 08:47:54.213  Carlton Ave & Park Ave          4732.04   \n",
       "913138 2022-01-01 10:47:05.197     W 100 St & Broadway          7580.01   \n",
       "127328 2022-01-01 20:12:00.661         W 18 St & 6 Ave          6064.08   \n",
       "\n",
       "               end_station_name end_station_id  start_lat  start_lng  \\\n",
       "337365   Norfolk St & Broome St        5374.01  40.714275 -73.989900   \n",
       "934147  Columbia St & Degraw St        4422.04  40.686312 -73.935775   \n",
       "227118  Emerson Pl & Myrtle Ave        4683.02  40.695807 -73.973556   \n",
       "913138       W 67 St & Broadway        7116.04  40.797372 -73.970412   \n",
       "127328          W 42 St & 6 Ave        6517.08  40.739713 -73.994564   \n",
       "\n",
       "          end_lat    end_lng member_casual        date  AWND  PRCP  TAVG  \\\n",
       "337365  40.717227 -73.988021        casual  2022-01-01    28   193   116   \n",
       "934147  40.685930 -74.002424        member  2022-01-01    28   193   116   \n",
       "227118  40.693631 -73.962236        casual  2022-01-01    28   193   116   \n",
       "913138  40.774925 -73.982666        casual  2022-01-01    28   193   116   \n",
       "127328  40.754920 -73.984550        member  2022-01-01    28   193   116   \n",
       "\n",
       "       _merge  \n",
       "337365   both  \n",
       "934147   both  \n",
       "227118   both  \n",
       "913138   both  \n",
       "127328   both  "
      ]
     },
     "execution_count": 21,
     "metadata": {},
     "output_type": "execute_result"
    }
   ],
   "source": [
    "df_all.head()"
   ]
  },
  {
   "cell_type": "code",
   "execution_count": 22,
   "id": "0faeb4f6",
   "metadata": {},
   "outputs": [
    {
     "data": {
      "text/html": [
       "<div>\n",
       "<style scoped>\n",
       "    .dataframe tbody tr th:only-of-type {\n",
       "        vertical-align: middle;\n",
       "    }\n",
       "\n",
       "    .dataframe tbody tr th {\n",
       "        vertical-align: top;\n",
       "    }\n",
       "\n",
       "    .dataframe thead th {\n",
       "        text-align: right;\n",
       "    }\n",
       "</style>\n",
       "<table border=\"1\" class=\"dataframe\">\n",
       "  <thead>\n",
       "    <tr style=\"text-align: right;\">\n",
       "      <th></th>\n",
       "      <th>ride_id</th>\n",
       "      <th>rideable_type</th>\n",
       "      <th>started_at</th>\n",
       "      <th>ended_at</th>\n",
       "      <th>start_station_name</th>\n",
       "      <th>start_station_id</th>\n",
       "      <th>end_station_name</th>\n",
       "      <th>end_station_id</th>\n",
       "      <th>start_lat</th>\n",
       "      <th>start_lng</th>\n",
       "      <th>end_lat</th>\n",
       "      <th>end_lng</th>\n",
       "      <th>member_casual</th>\n",
       "      <th>date</th>\n",
       "      <th>AWND</th>\n",
       "      <th>PRCP</th>\n",
       "      <th>TAVG</th>\n",
       "      <th>_merge</th>\n",
       "    </tr>\n",
       "  </thead>\n",
       "  <tbody>\n",
       "    <tr>\n",
       "      <th>28674012</th>\n",
       "      <td>048F372A8932AF74</td>\n",
       "      <td>classic_bike</td>\n",
       "      <td>2022-12-31 09:42:43.255</td>\n",
       "      <td>2022-12-31 09:53:40.001</td>\n",
       "      <td>Franklin St &amp; W Broadway</td>\n",
       "      <td>5430.08</td>\n",
       "      <td>W 25 St &amp; 6 Ave</td>\n",
       "      <td>6215.04</td>\n",
       "      <td>40.719116</td>\n",
       "      <td>-74.006667</td>\n",
       "      <td>40.743954</td>\n",
       "      <td>-73.991449</td>\n",
       "      <td>member</td>\n",
       "      <td>2022-12-31</td>\n",
       "      <td>21</td>\n",
       "      <td>79</td>\n",
       "      <td>82</td>\n",
       "      <td>both</td>\n",
       "    </tr>\n",
       "    <tr>\n",
       "      <th>28817575</th>\n",
       "      <td>96B836FC53F5B659</td>\n",
       "      <td>electric_bike</td>\n",
       "      <td>2022-12-31 12:43:53.932</td>\n",
       "      <td>2022-12-31 12:49:30.908</td>\n",
       "      <td>Eastern Pkwy &amp; Franklin Ave</td>\n",
       "      <td>3919.07</td>\n",
       "      <td>Monroe St &amp; Classon Ave</td>\n",
       "      <td>4336.01</td>\n",
       "      <td>40.670777</td>\n",
       "      <td>-73.957680</td>\n",
       "      <td>40.684568</td>\n",
       "      <td>-73.958811</td>\n",
       "      <td>member</td>\n",
       "      <td>2022-12-31</td>\n",
       "      <td>21</td>\n",
       "      <td>79</td>\n",
       "      <td>82</td>\n",
       "      <td>both</td>\n",
       "    </tr>\n",
       "    <tr>\n",
       "      <th>29544081</th>\n",
       "      <td>757B088CF96FCBE1</td>\n",
       "      <td>electric_bike</td>\n",
       "      <td>2022-12-31 16:52:05.623</td>\n",
       "      <td>2022-12-31 16:56:09.677</td>\n",
       "      <td>W 63 St &amp; Broadway</td>\n",
       "      <td>7052.01</td>\n",
       "      <td>W 53 St &amp; 10 Ave</td>\n",
       "      <td>6890.01</td>\n",
       "      <td>40.771597</td>\n",
       "      <td>-73.982601</td>\n",
       "      <td>40.766697</td>\n",
       "      <td>-73.990617</td>\n",
       "      <td>member</td>\n",
       "      <td>2022-12-31</td>\n",
       "      <td>21</td>\n",
       "      <td>79</td>\n",
       "      <td>82</td>\n",
       "      <td>both</td>\n",
       "    </tr>\n",
       "    <tr>\n",
       "      <th>28330742</th>\n",
       "      <td>8F4E623EA5E0FF21</td>\n",
       "      <td>classic_bike</td>\n",
       "      <td>2022-12-31 19:09:13.320</td>\n",
       "      <td>2022-12-31 19:15:34.353</td>\n",
       "      <td>E 82 St &amp; East End Ave</td>\n",
       "      <td>7049.04</td>\n",
       "      <td>E 78 St &amp; 2 Ave</td>\n",
       "      <td>7057.07</td>\n",
       "      <td>40.772461</td>\n",
       "      <td>-73.946821</td>\n",
       "      <td>40.772797</td>\n",
       "      <td>-73.955778</td>\n",
       "      <td>member</td>\n",
       "      <td>2022-12-31</td>\n",
       "      <td>21</td>\n",
       "      <td>79</td>\n",
       "      <td>82</td>\n",
       "      <td>both</td>\n",
       "    </tr>\n",
       "    <tr>\n",
       "      <th>29754095</th>\n",
       "      <td>4BD35140231675EB</td>\n",
       "      <td>electric_bike</td>\n",
       "      <td>2022-12-31 19:14:19.795</td>\n",
       "      <td>2022-12-31 20:03:00.165</td>\n",
       "      <td>W 192 St &amp; University Ave</td>\n",
       "      <td>8639.01</td>\n",
       "      <td>W 192 St &amp; University Ave</td>\n",
       "      <td>8639.01</td>\n",
       "      <td>40.866914</td>\n",
       "      <td>-73.901737</td>\n",
       "      <td>40.866899</td>\n",
       "      <td>-73.901942</td>\n",
       "      <td>member</td>\n",
       "      <td>2022-12-31</td>\n",
       "      <td>21</td>\n",
       "      <td>79</td>\n",
       "      <td>82</td>\n",
       "      <td>both</td>\n",
       "    </tr>\n",
       "  </tbody>\n",
       "</table>\n",
       "</div>"
      ],
      "text/plain": [
       "                   ride_id  rideable_type              started_at  \\\n",
       "28674012  048F372A8932AF74   classic_bike 2022-12-31 09:42:43.255   \n",
       "28817575  96B836FC53F5B659  electric_bike 2022-12-31 12:43:53.932   \n",
       "29544081  757B088CF96FCBE1  electric_bike 2022-12-31 16:52:05.623   \n",
       "28330742  8F4E623EA5E0FF21   classic_bike 2022-12-31 19:09:13.320   \n",
       "29754095  4BD35140231675EB  electric_bike 2022-12-31 19:14:19.795   \n",
       "\n",
       "                        ended_at           start_station_name  \\\n",
       "28674012 2022-12-31 09:53:40.001     Franklin St & W Broadway   \n",
       "28817575 2022-12-31 12:49:30.908  Eastern Pkwy & Franklin Ave   \n",
       "29544081 2022-12-31 16:56:09.677           W 63 St & Broadway   \n",
       "28330742 2022-12-31 19:15:34.353       E 82 St & East End Ave   \n",
       "29754095 2022-12-31 20:03:00.165    W 192 St & University Ave   \n",
       "\n",
       "         start_station_id           end_station_name end_station_id  \\\n",
       "28674012          5430.08            W 25 St & 6 Ave        6215.04   \n",
       "28817575          3919.07    Monroe St & Classon Ave        4336.01   \n",
       "29544081          7052.01           W 53 St & 10 Ave        6890.01   \n",
       "28330742          7049.04            E 78 St & 2 Ave        7057.07   \n",
       "29754095          8639.01  W 192 St & University Ave        8639.01   \n",
       "\n",
       "          start_lat  start_lng    end_lat    end_lng member_casual  \\\n",
       "28674012  40.719116 -74.006667  40.743954 -73.991449        member   \n",
       "28817575  40.670777 -73.957680  40.684568 -73.958811        member   \n",
       "29544081  40.771597 -73.982601  40.766697 -73.990617        member   \n",
       "28330742  40.772461 -73.946821  40.772797 -73.955778        member   \n",
       "29754095  40.866914 -73.901737  40.866899 -73.901942        member   \n",
       "\n",
       "                date  AWND  PRCP  TAVG _merge  \n",
       "28674012  2022-12-31    21    79    82   both  \n",
       "28817575  2022-12-31    21    79    82   both  \n",
       "29544081  2022-12-31    21    79    82   both  \n",
       "28330742  2022-12-31    21    79    82   both  \n",
       "29754095  2022-12-31    21    79    82   both  "
      ]
     },
     "execution_count": 22,
     "metadata": {},
     "output_type": "execute_result"
    }
   ],
   "source": [
    "df_all.tail()"
   ]
  },
  {
   "cell_type": "code",
   "execution_count": 23,
   "id": "0295c2e8",
   "metadata": {},
   "outputs": [
    {
     "data": {
      "text/plain": [
       "_merge\n",
       "both          29838166\n",
       "left_only            0\n",
       "right_only           0\n",
       "Name: count, dtype: int64"
      ]
     },
     "execution_count": 23,
     "metadata": {},
     "output_type": "execute_result"
    }
   ],
   "source": [
    "df_all['_merge'].value_counts(dropna=False)"
   ]
  },
  {
   "cell_type": "code",
   "execution_count": 24,
   "id": "d2a46140",
   "metadata": {},
   "outputs": [],
   "source": [
    "# dropping cols\n",
    "df_all = df_all.drop(columns=['_merge'])"
   ]
  },
  {
   "cell_type": "markdown",
   "id": "50ade360",
   "metadata": {},
   "source": [
    "## Data Cleaning"
   ]
  },
  {
   "cell_type": "code",
   "execution_count": 25,
   "id": "c2b8d0c2",
   "metadata": {},
   "outputs": [],
   "source": [
    "# Grouping by id and see how many unique names exist for each\n",
    "start_check = (\n",
    "    df_all.groupby('start_station_id')['start_station_name']\n",
    "    .nunique()\n",
    "    .reset_index(name='unique_start_names_per_id')\n",
    ")"
   ]
  },
  {
   "cell_type": "code",
   "execution_count": 26,
   "id": "fb491bea",
   "metadata": {},
   "outputs": [
    {
     "name": "stdout",
     "output_type": "stream",
     "text": [
      "     start_station_id  unique_start_names_per_id\n",
      "29            3138.09                          2\n",
      "33            3178.02                          2\n",
      "334           4488.09                          2\n",
      "357           4565.04                          2\n",
      "428           4781.05                          3\n",
      "557           5164.05                          2\n",
      "603           5323.06                          2\n",
      "607           5329.08                          3\n",
      "620           5359.13                          2\n",
      "629           5382.07                          3\n",
      "717           5669.12                          2\n",
      "770           5883.06                          2\n",
      "904           6300.04                          2\n",
      "987           6535.04                          3\n",
      "995           6560.14                          2\n",
      "1051          6708.04                          3\n",
      "1592          8241.07                          2\n",
      "1643          8432.11                          2\n",
      "1774          3138.09                          2\n",
      "1778          3178.02                          2\n",
      "2079          4488.09                          2\n",
      "2173          4781.05                          3\n",
      "2302          5164.05                          2\n",
      "2348          5323.06                          2\n",
      "2352          5329.08                          3\n",
      "2365          5359.13                          2\n",
      "2374          5382.07                          3\n",
      "2462          5669.12                          2\n",
      "2515          5883.06                          2\n",
      "2649          6300.04                          2\n",
      "2732          6535.04                          3\n",
      "2740          6560.14                          2\n",
      "2796          6708.04                          3\n",
      "3337          8241.07                          2\n",
      "3388          8432.11                          2\n"
     ]
    }
   ],
   "source": [
    "# Filter where more than 1 name per ID\n",
    "start_mismatches = start_check[start_check['unique_start_names_per_id'] > 1]\n",
    "print(start_mismatches)"
   ]
  },
  {
   "cell_type": "code",
   "execution_count": 27,
   "id": "6513a568",
   "metadata": {},
   "outputs": [
    {
     "data": {
      "text/plain": [
       "(35, 2)"
      ]
     },
     "execution_count": 27,
     "metadata": {},
     "output_type": "execute_result"
    }
   ],
   "source": [
    "start_mismatches.shape"
   ]
  },
  {
   "cell_type": "code",
   "execution_count": 28,
   "id": "10b9f6f1",
   "metadata": {},
   "outputs": [],
   "source": [
    "# Grouping by id and see how many unique names exist for each\n",
    "end_check = (\n",
    "    df_all.groupby('end_station_id')['end_station_name']\n",
    "    .nunique()\n",
    "    .reset_index(name='unique_end_names_per_id')\n",
    ")"
   ]
  },
  {
   "cell_type": "code",
   "execution_count": 29,
   "id": "237eca31",
   "metadata": {},
   "outputs": [
    {
     "name": "stdout",
     "output_type": "stream",
     "text": [
      "     end_station_id  unique_end_names_per_id\n",
      "28          3138.09                        2\n",
      "32          3178.02                        2\n",
      "294         4488.09                        2\n",
      "384         4781.05                        3\n",
      "511         5164.05                        2\n",
      "561         5329.08                        3\n",
      "574         5359.13                        2\n",
      "583         5382.07                        3\n",
      "671         5669.12                        2\n",
      "710         5805.07                        2\n",
      "724         5883.06                        2\n",
      "934         6535.04                        2\n",
      "997         6708.04                        3\n",
      "1536        8241.07                        2\n",
      "1717        3138.09                        2\n",
      "1721        3178.02                        2\n",
      "2020        4488.09                        2\n",
      "2114        4781.05                        3\n",
      "2243        5164.05                        2\n",
      "2289        5323.06                        2\n",
      "2293        5329.08                        3\n",
      "2306        5359.13                        2\n",
      "2315        5382.07                        3\n",
      "2456        5883.06                        2\n",
      "2590        6300.04                        2\n",
      "2673        6535.04                        3\n",
      "2681        6560.14                        2\n",
      "2737        6708.04                        3\n",
      "3278        8241.07                        2\n",
      "3327        8428.05                        2\n",
      "3329        8432.11                        2\n"
     ]
    }
   ],
   "source": [
    "# Filter where more than 1 name per ID\n",
    "end_mismatches = end_check[end_check['unique_end_names_per_id'] > 1]\n",
    "print(end_mismatches)"
   ]
  },
  {
   "cell_type": "code",
   "execution_count": 30,
   "id": "6b19d3a9",
   "metadata": {},
   "outputs": [
    {
     "data": {
      "text/plain": [
       "(31, 2)"
      ]
     },
     "execution_count": 30,
     "metadata": {},
     "output_type": "execute_result"
    }
   ],
   "source": [
    "end_mismatches.shape"
   ]
  },
  {
   "cell_type": "code",
   "execution_count": 31,
   "id": "0a9b69df",
   "metadata": {},
   "outputs": [],
   "source": [
    "# Get problematic end station IDs\n",
    "bad_start_ids = start_mismatches['start_station_id'].unique()\n",
    "bad_end_ids = end_mismatches['end_station_id'].unique()"
   ]
  },
  {
   "cell_type": "code",
   "execution_count": 32,
   "id": "05586fa1",
   "metadata": {},
   "outputs": [
    {
     "data": {
      "text/plain": [
       "(35,)"
      ]
     },
     "execution_count": 32,
     "metadata": {},
     "output_type": "execute_result"
    }
   ],
   "source": [
    "bad_start_ids.shape"
   ]
  },
  {
   "cell_type": "code",
   "execution_count": 33,
   "id": "a9b01f63",
   "metadata": {},
   "outputs": [
    {
     "data": {
      "text/plain": [
       "(31,)"
      ]
     },
     "execution_count": 33,
     "metadata": {},
     "output_type": "execute_result"
    }
   ],
   "source": [
    "bad_end_ids.shape"
   ]
  },
  {
   "cell_type": "code",
   "execution_count": 34,
   "id": "5f5d9479",
   "metadata": {},
   "outputs": [],
   "source": [
    "# Filter those rows in main df\n",
    "end_problem_rows = df_all[df_all['end_station_id'].isin(bad_end_ids)]\n",
    "start_problem_rows = df_all[df_all['start_station_id'].isin(bad_start_ids)]"
   ]
  },
  {
   "cell_type": "code",
   "execution_count": 35,
   "id": "11ca3c59",
   "metadata": {},
   "outputs": [
    {
     "data": {
      "text/plain": [
       "(310577, 17)"
      ]
     },
     "execution_count": 35,
     "metadata": {},
     "output_type": "execute_result"
    }
   ],
   "source": [
    "start_problem_rows.shape"
   ]
  },
  {
   "cell_type": "code",
   "execution_count": 36,
   "id": "bf30f940",
   "metadata": {},
   "outputs": [
    {
     "name": "stdout",
     "output_type": "stream",
     "text": [
      "   end_station_id                                   end_station_name  count\n",
      "0         3138.09                                      58 St & 2 Ave    123\n",
      "1         3138.09  58 St & 2 Ave - Brooklyn Army Terminal Vaccina...     19\n",
      "2         3178.02                                      57 St & 1 Ave    477\n",
      "3         3178.02  57 St & 1 Ave - Brooklyn Army Terminal Vaccina...    238\n",
      "5         4488.09                            Boerum Pl\\t& Pacific St   5123\n",
      "4         4488.09                            Boerum Pl\\t& Pacific St     21\n",
      "8         4781.05                           Nassau St\\t& Duffield St   4663\n",
      "7         4781.05                            Nassau St & Duffield St    116\n",
      "6         4781.05                           Nassau St\\t& Duffield St     65\n",
      "9         5164.05                                Broadway & Berry St   3609\n",
      "10        5164.05                              Broadway and Berry St      2\n",
      "12        5329.08                                Murray St & West St   2841\n",
      "13        5329.08                               Murray St\\t& West St   2144\n",
      "11        5329.08                               Murray St\\t& West St     31\n",
      "15        5359.13                               Church St & Worth St    930\n",
      "14        5359.13                              Church St & Thomas St     40\n",
      "18        5382.07                             Forsyth St\\t& Grand St  15101\n",
      "17        5382.07                              Forsyth St & Grand St   3330\n",
      "16        5382.07                             Forsyth St\\t& Grand St     87\n",
      "19        5669.12                                     E 6 St & 2 Ave  12671\n",
      "20        5669.12                                       E 6 St 2 Ave     11\n",
      "22        5805.07                              7 Ave S & Bleecker St  12401\n",
      "21        5805.07                                7 Ave & Bleecker St      1\n",
      "23        5883.06                        Van Dam St & Greenpoint Ave    850\n",
      "24        5883.06                            Van Dam St & Review Ave     40\n",
      "26        6535.04                           W 34 St &\\tHudson Blvd E  11433\n",
      "25        6535.04                           W 34 St &\\tHudson Blvd E    204\n",
      "29        6708.04                                Broadway\\t& W 48 St  19768\n",
      "28        6708.04                                 Broadway & W 48 St   3150\n",
      "27        6708.04                                Broadway\\t& W 48 St    490\n",
      "30        8241.07                                   3 Ave & E 174 St    975\n",
      "31        8241.07       3 Ave & E 174 St - Bathgate Vaccination Site    150\n",
      "32        3138.09                                      58 St & 2 Ave   1478\n",
      "33        3138.09  58 St & 2 Ave - Brooklyn Army Terminal Vaccina...    604\n",
      "34        3178.02                                      57 St & 1 Ave   1287\n",
      "35        3178.02  57 St & 1 Ave - Brooklyn Army Terminal Vaccina...    157\n",
      "37        4488.09                            Boerum Pl\\t& Pacific St  12564\n",
      "36        4488.09                            Boerum Pl\\t& Pacific St     72\n",
      "40        4781.05                           Nassau St\\t& Duffield St   5178\n",
      "39        4781.05                            Nassau St & Duffield St   1316\n",
      "38        4781.05                           Nassau St\\t& Duffield St     84\n",
      "41        5164.05                                Broadway & Berry St  10197\n",
      "42        5164.05                              Broadway and Berry St    746\n",
      "43        5323.06                               Sharon St & Olive St   5481\n",
      "44        5323.06                           Sharon St & Olive St_new      3\n",
      "47        5329.08                               Murray St\\t& West St  11779\n",
      "46        5329.08                                Murray St & West St    700\n",
      "45        5329.08                               Murray St\\t& West St    197\n",
      "49        5359.13                               Church St & Worth St   3941\n",
      "48        5359.13                              Church St & Thomas St     10\n",
      "52        5382.07                             Forsyth St\\t& Grand St  38201\n",
      "51        5382.07                              Forsyth St & Grand St   6009\n",
      "50        5382.07                             Forsyth St\\t& Grand St    257\n",
      "53        5883.06                        Van Dam St & Greenpoint Ave    986\n",
      "54        5883.06                            Van Dam St & Review Ave     16\n",
      "56        6300.04                              Skillman Ave & 43 Ave   1667\n",
      "55        6300.04                               Skillman Ave & 32 Pl     61\n",
      "59        6535.04                           W 34 St &\\tHudson Blvd E  28556\n",
      "58        6535.04                            W 34 St & Hudson Blvd E   7578\n",
      "57        6535.04                           W 34 St &\\tHudson Blvd E    481\n",
      "60        6560.14                                    W 40 St & 7 Ave   6921\n",
      "61        6560.14                                    W 40 St & 8 Ave     11\n",
      "64        6708.04                                Broadway\\t& W 48 St  27855\n",
      "63        6708.04                                 Broadway & W 48 St   5913\n",
      "62        6708.04                                Broadway\\t& W 48 St    797\n",
      "65        8241.07                                   3 Ave & E 174 St   1624\n",
      "66        8241.07       3 Ave & E 174 St - Bathgate Vaccination Site    415\n",
      "67        8428.05                       Sedgwick Ave & W Tremont Ave    345\n",
      "68        8428.05                 Sedgwick Ave & W Tremont Ave - new      1\n",
      "69        8432.11                           Amsterdam Ave & W 189 St   1297\n",
      "70        8432.11                       Amsterdam Ave & W 189 St new     55\n"
     ]
    }
   ],
   "source": [
    "# Inspect these different versions of names on station ids\n",
    "\n",
    "with pd.option_context('display.max_rows', None):   # Temporarily set display options\n",
    "    print(\n",
    "    df_all[df_all['end_station_id'].isin(bad_end_ids)]\n",
    "    .groupby(['end_station_id', 'end_station_name'])\n",
    "    .size()\n",
    "    .reset_index(name='count')\n",
    "    .sort_values(['end_station_id', 'count'], ascending=[True, False])\n",
    ")"
   ]
  },
  {
   "cell_type": "code",
   "execution_count": 37,
   "id": "3ee2c20a",
   "metadata": {},
   "outputs": [
    {
     "name": "stdout",
     "output_type": "stream",
     "text": [
      "   start_station_id                                 start_station_name  count\n",
      "0           3138.09                                      58 St & 2 Ave    822\n",
      "1           3138.09  58 St & 2 Ave - Brooklyn Army Terminal Vaccina...    449\n",
      "2           3178.02                                      57 St & 1 Ave   1016\n",
      "3           3178.02  57 St & 1 Ave - Brooklyn Army Terminal Vaccina...    288\n",
      "5           4488.09                            Boerum Pl\\t& Pacific St  10362\n",
      "4           4488.09                            Boerum Pl\\t& Pacific St     47\n",
      "6           4565.04                         Schermerhorn St & Court St  10345\n",
      "7           4565.04                       Schermerhorn St and Court St      2\n",
      "10          4781.05                           Nassau St\\t& Duffield St   5649\n",
      "9           4781.05                            Nassau St & Duffield St   1248\n",
      "8           4781.05                           Nassau St\\t& Duffield St     75\n",
      "11          5164.05                                Broadway & Berry St   9351\n",
      "12          5164.05                              Broadway and Berry St    377\n",
      "13          5323.06                               Sharon St & Olive St   4088\n",
      "14          5323.06                           Sharon St & Olive St_new      2\n",
      "17          5329.08                               Murray St\\t& West St   7546\n",
      "16          5329.08                                Murray St & West St   2992\n",
      "15          5329.08                               Murray St\\t& West St     51\n",
      "19          5359.13                               Church St & Worth St   3263\n",
      "18          5359.13                              Church St & Thomas St     10\n",
      "22          5382.07                             Forsyth St\\t& Grand St  32905\n",
      "21          5382.07                              Forsyth St & Grand St   7640\n",
      "20          5382.07                             Forsyth St\\t& Grand St    218\n",
      "23          5669.12                                     E 6 St & 2 Ave  16354\n",
      "24          5669.12                                       E 6 St 2 Ave      4\n",
      "25          5883.06                        Van Dam St & Greenpoint Ave   1020\n",
      "26          5883.06                            Van Dam St & Review Ave     21\n",
      "28          6300.04                              Skillman Ave & 43 Ave   1874\n",
      "27          6300.04                               Skillman Ave & 32 Pl     28\n",
      "31          6535.04                           W 34 St &\\tHudson Blvd E  22418\n",
      "30          6535.04                            W 34 St & Hudson Blvd E   5358\n",
      "29          6535.04                           W 34 St &\\tHudson Blvd E    511\n",
      "32          6560.14                                    W 40 St & 7 Ave  10478\n",
      "33          6560.14                                    W 40 St & 8 Ave      3\n",
      "36          6708.04                                Broadway\\t& W 48 St  29478\n",
      "35          6708.04                                 Broadway & W 48 St   6750\n",
      "34          6708.04                                Broadway\\t& W 48 St    906\n",
      "37          8241.07                                   3 Ave & E 174 St   1488\n",
      "38          8241.07       3 Ave & E 174 St - Bathgate Vaccination Site    370\n",
      "39          8432.11                           Amsterdam Ave & W 189 St    856\n",
      "40          8432.11                       Amsterdam Ave & W 189 St new     23\n",
      "41          3138.09                                      58 St & 2 Ave    660\n",
      "42          3138.09  58 St & 2 Ave - Brooklyn Army Terminal Vaccina...    102\n",
      "43          3178.02                                      57 St & 1 Ave    648\n",
      "44          3178.02  57 St & 1 Ave - Brooklyn Army Terminal Vaccina...     74\n",
      "46          4488.09                            Boerum Pl\\t& Pacific St   7004\n",
      "45          4488.09                            Boerum Pl\\t& Pacific St     33\n",
      "49          4781.05                           Nassau St\\t& Duffield St   3916\n",
      "48          4781.05                            Nassau St & Duffield St    174\n",
      "47          4781.05                           Nassau St\\t& Duffield St     41\n",
      "50          5164.05                                Broadway & Berry St   4427\n",
      "51          5164.05                              Broadway and Berry St    362\n",
      "52          5323.06                               Sharon St & Olive St   2705\n",
      "53          5323.06                           Sharon St & Olive St_new      1\n",
      "56          5329.08                               Murray St\\t& West St   6827\n",
      "55          5329.08                                Murray St & West St    540\n",
      "54          5329.08                               Murray St\\t& West St     61\n",
      "58          5359.13                               Church St & Worth St   1592\n",
      "57          5359.13                              Church St & Thomas St      8\n",
      "61          5382.07                             Forsyth St\\t& Grand St  20162\n",
      "60          5382.07                              Forsyth St & Grand St   1706\n",
      "59          5382.07                             Forsyth St\\t& Grand St    131\n",
      "62          5669.12                                     E 6 St & 2 Ave  10536\n",
      "63          5669.12                                       E 6 St 2 Ave      2\n",
      "64          5883.06                        Van Dam St & Greenpoint Ave    759\n",
      "65          5883.06                            Van Dam St & Review Ave     32\n",
      "67          6300.04                              Skillman Ave & 43 Ave   1004\n",
      "66          6300.04                               Skillman Ave & 32 Pl     25\n",
      "70          6535.04                           W 34 St &\\tHudson Blvd E  16645\n",
      "69          6535.04                            W 34 St & Hudson Blvd E   2182\n",
      "68          6535.04                           W 34 St &\\tHudson Blvd E    419\n",
      "71          6560.14                                    W 40 St & 7 Ave   7325\n",
      "72          6560.14                                    W 40 St & 8 Ave      5\n",
      "75          6708.04                                Broadway\\t& W 48 St  19026\n",
      "74          6708.04                                 Broadway & W 48 St   2323\n",
      "73          6708.04                                Broadway\\t& W 48 St    570\n",
      "76          8241.07                                   3 Ave & E 174 St   1141\n",
      "77          8241.07       3 Ave & E 174 St - Bathgate Vaccination Site    190\n",
      "78          8432.11                           Amsterdam Ave & W 189 St    509\n",
      "79          8432.11                       Amsterdam Ave & W 189 St new     24\n"
     ]
    }
   ],
   "source": [
    "with pd.option_context('display.max_rows', None):   # Temporarily set display options\n",
    "    print(\n",
    "    df_all[df_all['start_station_id'].isin(bad_start_ids)]\n",
    "    .groupby(['start_station_id', 'start_station_name'])\n",
    "    .size()\n",
    "    .reset_index(name='count')\n",
    "    .sort_values(['start_station_id', 'count'], ascending=[True, False])\n",
    ")"
   ]
  },
  {
   "cell_type": "markdown",
   "id": "960bf4fa",
   "metadata": {},
   "source": [
    "These are mostly typos or leading spaces, some have an extra suffix (e.g., Army Vaccination, new...), but they can all be made identical. So now assigning most commonly occuring name to each station"
   ]
  },
  {
   "cell_type": "code",
   "execution_count": 38,
   "id": "db612713",
   "metadata": {},
   "outputs": [],
   "source": [
    "# Group and get the most common name per end_station_id\n",
    "most_common_end_names = (\n",
    "    df_all.groupby(['end_station_id', 'end_station_name'])\n",
    "    .size()\n",
    "    .reset_index(name='count')\n",
    "    .sort_values(['end_station_id', 'count'], ascending=[True, False])\n",
    "    .drop_duplicates(subset='end_station_id')  # keep top name per ID\n",
    ")\n",
    "\n",
    "# Create a dictionary mapping: {end_station_id: most_common_name}\n",
    "end_station_name_map = dict(\n",
    "    zip(most_common_end_names['end_station_id'], most_common_end_names['end_station_name'])\n",
    ")"
   ]
  },
  {
   "cell_type": "code",
   "execution_count": 39,
   "id": "b2bb4a51",
   "metadata": {},
   "outputs": [],
   "source": [
    "# same for starts\n",
    "most_common_start_names = (\n",
    "    df_all.groupby(['start_station_id', 'start_station_name'])\n",
    "    .size()\n",
    "    .reset_index(name='count')\n",
    "    .sort_values(['start_station_id', 'count'], ascending=[True, False])\n",
    "    .drop_duplicates(subset='start_station_id')  # keep top name per ID\n",
    ")\n",
    "\n",
    "#  dictionary mapping: {start_station_id: most_common_name}\n",
    "start_station_name_map = dict(\n",
    "    zip(most_common_start_names['start_station_id'], most_common_start_names['start_station_name'])\n",
    ")"
   ]
  },
  {
   "cell_type": "code",
   "execution_count": 40,
   "id": "734c5e78",
   "metadata": {},
   "outputs": [],
   "source": [
    "# Replace original columns with consistent names\n",
    "df_all['start_station_name'] = df_all['start_station_id'].map(start_station_name_map)\n",
    "df_all['end_station_name'] = df_all['end_station_id'].map(end_station_name_map)"
   ]
  },
  {
   "cell_type": "code",
   "execution_count": 41,
   "id": "203d62e6",
   "metadata": {},
   "outputs": [],
   "source": [
    "# Check again for end station mismatches\n",
    "end_check = (\n",
    "    df_all.groupby('end_station_id')['end_station_name']\n",
    "    .nunique()\n",
    "    .reset_index(name='unique_end_names_per_id')\n",
    ")\n",
    "end_mismatches = end_check[end_check['unique_end_names_per_id'] > 1]\n",
    "\n",
    "# Same for start stations\n",
    "start_check = (\n",
    "    df_all.groupby('start_station_id')['start_station_name']\n",
    "    .nunique()\n",
    "    .reset_index(name='unique_start_names_per_id')\n",
    ")\n",
    "start_mismatches = start_check[start_check['unique_start_names_per_id'] > 1]"
   ]
  },
  {
   "cell_type": "code",
   "execution_count": 42,
   "id": "c8501269",
   "metadata": {},
   "outputs": [
    {
     "data": {
      "text/plain": [
       "0"
      ]
     },
     "execution_count": 42,
     "metadata": {},
     "output_type": "execute_result"
    }
   ],
   "source": [
    "len(start_mismatches)"
   ]
  },
  {
   "cell_type": "code",
   "execution_count": 43,
   "id": "ee68446b",
   "metadata": {},
   "outputs": [
    {
     "data": {
      "text/plain": [
       "0"
      ]
     },
     "execution_count": 43,
     "metadata": {},
     "output_type": "execute_result"
    }
   ],
   "source": [
    "len(end_mismatches)"
   ]
  },
  {
   "cell_type": "code",
   "execution_count": 44,
   "id": "9a0e2a86",
   "metadata": {},
   "outputs": [
    {
     "data": {
      "text/html": [
       "<div>\n",
       "<style scoped>\n",
       "    .dataframe tbody tr th:only-of-type {\n",
       "        vertical-align: middle;\n",
       "    }\n",
       "\n",
       "    .dataframe tbody tr th {\n",
       "        vertical-align: top;\n",
       "    }\n",
       "\n",
       "    .dataframe thead th {\n",
       "        text-align: right;\n",
       "    }\n",
       "</style>\n",
       "<table border=\"1\" class=\"dataframe\">\n",
       "  <thead>\n",
       "    <tr style=\"text-align: right;\">\n",
       "      <th></th>\n",
       "      <th>ride_id</th>\n",
       "      <th>rideable_type</th>\n",
       "      <th>started_at</th>\n",
       "      <th>ended_at</th>\n",
       "      <th>start_station_name</th>\n",
       "      <th>start_station_id</th>\n",
       "      <th>end_station_name</th>\n",
       "      <th>end_station_id</th>\n",
       "      <th>start_lat</th>\n",
       "      <th>start_lng</th>\n",
       "      <th>end_lat</th>\n",
       "      <th>end_lng</th>\n",
       "      <th>member_casual</th>\n",
       "      <th>date</th>\n",
       "      <th>AWND</th>\n",
       "      <th>PRCP</th>\n",
       "      <th>TAVG</th>\n",
       "    </tr>\n",
       "  </thead>\n",
       "  <tbody>\n",
       "    <tr>\n",
       "      <th>337365</th>\n",
       "      <td>FB33E3D8F21E2941</td>\n",
       "      <td>electric_bike</td>\n",
       "      <td>2022-01-01 01:49:37.374</td>\n",
       "      <td>2022-01-01 01:57:50.346</td>\n",
       "      <td>Canal St &amp; Rutgers St</td>\n",
       "      <td>5303.08</td>\n",
       "      <td>Norfolk St &amp; Broome St</td>\n",
       "      <td>5374.01</td>\n",
       "      <td>40.714275</td>\n",
       "      <td>-73.989900</td>\n",
       "      <td>40.717227</td>\n",
       "      <td>-73.988021</td>\n",
       "      <td>casual</td>\n",
       "      <td>2022-01-01</td>\n",
       "      <td>28</td>\n",
       "      <td>193</td>\n",
       "      <td>116</td>\n",
       "    </tr>\n",
       "    <tr>\n",
       "      <th>934147</th>\n",
       "      <td>755337295F178067</td>\n",
       "      <td>electric_bike</td>\n",
       "      <td>2022-01-01 03:21:09.754</td>\n",
       "      <td>2022-01-01 03:49:33.047</td>\n",
       "      <td>Lewis Ave &amp; Madison St</td>\n",
       "      <td>4425.02</td>\n",
       "      <td>Columbia St &amp; Degraw St</td>\n",
       "      <td>4422.04</td>\n",
       "      <td>40.686312</td>\n",
       "      <td>-73.935775</td>\n",
       "      <td>40.685930</td>\n",
       "      <td>-74.002424</td>\n",
       "      <td>member</td>\n",
       "      <td>2022-01-01</td>\n",
       "      <td>28</td>\n",
       "      <td>193</td>\n",
       "      <td>116</td>\n",
       "    </tr>\n",
       "    <tr>\n",
       "      <th>227118</th>\n",
       "      <td>C62CA87E3A475ADD</td>\n",
       "      <td>classic_bike</td>\n",
       "      <td>2022-01-01 08:38:18.156</td>\n",
       "      <td>2022-01-01 08:47:54.213</td>\n",
       "      <td>Carlton Ave &amp; Park Ave</td>\n",
       "      <td>4732.04</td>\n",
       "      <td>Emerson Pl &amp; Myrtle Ave</td>\n",
       "      <td>4683.02</td>\n",
       "      <td>40.695807</td>\n",
       "      <td>-73.973556</td>\n",
       "      <td>40.693631</td>\n",
       "      <td>-73.962236</td>\n",
       "      <td>casual</td>\n",
       "      <td>2022-01-01</td>\n",
       "      <td>28</td>\n",
       "      <td>193</td>\n",
       "      <td>116</td>\n",
       "    </tr>\n",
       "    <tr>\n",
       "      <th>913138</th>\n",
       "      <td>CD7A2098AFCD5514</td>\n",
       "      <td>classic_bike</td>\n",
       "      <td>2022-01-01 10:33:58.529</td>\n",
       "      <td>2022-01-01 10:47:05.197</td>\n",
       "      <td>W 100 St &amp; Broadway</td>\n",
       "      <td>7580.01</td>\n",
       "      <td>W 67 St &amp; Broadway</td>\n",
       "      <td>7116.04</td>\n",
       "      <td>40.797372</td>\n",
       "      <td>-73.970412</td>\n",
       "      <td>40.774925</td>\n",
       "      <td>-73.982666</td>\n",
       "      <td>casual</td>\n",
       "      <td>2022-01-01</td>\n",
       "      <td>28</td>\n",
       "      <td>193</td>\n",
       "      <td>116</td>\n",
       "    </tr>\n",
       "    <tr>\n",
       "      <th>127328</th>\n",
       "      <td>3F9E0C51F49F78A3</td>\n",
       "      <td>electric_bike</td>\n",
       "      <td>2022-01-01 20:05:19.592</td>\n",
       "      <td>2022-01-01 20:12:00.661</td>\n",
       "      <td>W 18 St &amp; 6 Ave</td>\n",
       "      <td>6064.08</td>\n",
       "      <td>W 42 St &amp; 6 Ave</td>\n",
       "      <td>6517.08</td>\n",
       "      <td>40.739713</td>\n",
       "      <td>-73.994564</td>\n",
       "      <td>40.754920</td>\n",
       "      <td>-73.984550</td>\n",
       "      <td>member</td>\n",
       "      <td>2022-01-01</td>\n",
       "      <td>28</td>\n",
       "      <td>193</td>\n",
       "      <td>116</td>\n",
       "    </tr>\n",
       "  </tbody>\n",
       "</table>\n",
       "</div>"
      ],
      "text/plain": [
       "                 ride_id  rideable_type              started_at  \\\n",
       "337365  FB33E3D8F21E2941  electric_bike 2022-01-01 01:49:37.374   \n",
       "934147  755337295F178067  electric_bike 2022-01-01 03:21:09.754   \n",
       "227118  C62CA87E3A475ADD   classic_bike 2022-01-01 08:38:18.156   \n",
       "913138  CD7A2098AFCD5514   classic_bike 2022-01-01 10:33:58.529   \n",
       "127328  3F9E0C51F49F78A3  electric_bike 2022-01-01 20:05:19.592   \n",
       "\n",
       "                      ended_at      start_station_name start_station_id  \\\n",
       "337365 2022-01-01 01:57:50.346   Canal St & Rutgers St          5303.08   \n",
       "934147 2022-01-01 03:49:33.047  Lewis Ave & Madison St          4425.02   \n",
       "227118 2022-01-01 08:47:54.213  Carlton Ave & Park Ave          4732.04   \n",
       "913138 2022-01-01 10:47:05.197     W 100 St & Broadway          7580.01   \n",
       "127328 2022-01-01 20:12:00.661         W 18 St & 6 Ave          6064.08   \n",
       "\n",
       "               end_station_name end_station_id  start_lat  start_lng  \\\n",
       "337365   Norfolk St & Broome St        5374.01  40.714275 -73.989900   \n",
       "934147  Columbia St & Degraw St        4422.04  40.686312 -73.935775   \n",
       "227118  Emerson Pl & Myrtle Ave        4683.02  40.695807 -73.973556   \n",
       "913138       W 67 St & Broadway        7116.04  40.797372 -73.970412   \n",
       "127328          W 42 St & 6 Ave        6517.08  40.739713 -73.994564   \n",
       "\n",
       "          end_lat    end_lng member_casual        date  AWND  PRCP  TAVG  \n",
       "337365  40.717227 -73.988021        casual  2022-01-01    28   193   116  \n",
       "934147  40.685930 -74.002424        member  2022-01-01    28   193   116  \n",
       "227118  40.693631 -73.962236        casual  2022-01-01    28   193   116  \n",
       "913138  40.774925 -73.982666        casual  2022-01-01    28   193   116  \n",
       "127328  40.754920 -73.984550        member  2022-01-01    28   193   116  "
      ]
     },
     "execution_count": 44,
     "metadata": {},
     "output_type": "execute_result"
    }
   ],
   "source": [
    "df_all.head()"
   ]
  },
  {
   "cell_type": "code",
   "execution_count": 45,
   "id": "f32321ae",
   "metadata": {},
   "outputs": [
    {
     "data": {
      "text/plain": [
       "ride_id                       object\n",
       "rideable_type                 object\n",
       "started_at            datetime64[ns]\n",
       "ended_at              datetime64[ns]\n",
       "start_station_name            object\n",
       "start_station_id              object\n",
       "end_station_name              object\n",
       "end_station_id                object\n",
       "start_lat                    float64\n",
       "start_lng                    float64\n",
       "end_lat                      float64\n",
       "end_lng                      float64\n",
       "member_casual                 object\n",
       "date                          object\n",
       "AWND                           int64\n",
       "PRCP                           int64\n",
       "TAVG                           int64\n",
       "dtype: object"
      ]
     },
     "execution_count": 45,
     "metadata": {},
     "output_type": "execute_result"
    }
   ],
   "source": [
    "df_all.dtypes"
   ]
  },
  {
   "cell_type": "markdown",
   "id": "26cd59ac",
   "metadata": {},
   "source": [
    "Coordinates have slight variations per station on different routes so creating one master set per station"
   ]
  },
  {
   "cell_type": "code",
   "execution_count": 46,
   "id": "83a0a55f",
   "metadata": {},
   "outputs": [],
   "source": [
    "# combining start and end records into one long dataframe\n",
    "coords_df = pd.concat([\n",
    "    df_all[['start_station_id', 'start_lat', 'start_lng']].rename(\n",
    "        columns={'start_station_id': 'station_id', 'start_lat': 'lat', 'start_lng': 'lng'}\n",
    "    ),\n",
    "    df_all[['end_station_id', 'end_lat', 'end_lng']].rename(\n",
    "        columns={'end_station_id': 'station_id', 'end_lat': 'lat', 'end_lng': 'lng'}\n",
    "    )\n",
    "])"
   ]
  },
  {
   "cell_type": "code",
   "execution_count": 47,
   "id": "3aa51835",
   "metadata": {},
   "outputs": [],
   "source": [
    "# get most common coordinates\n",
    "master_coords = (\n",
    "    coords_df.groupby('station_id')[['lat', 'lng']]\n",
    "    .agg(lambda x: x.mode().iloc[0] if not x.mode().empty else x.iloc[0])\n",
    "    .reset_index()\n",
    ")"
   ]
  },
  {
   "cell_type": "code",
   "execution_count": 48,
   "id": "bf216322",
   "metadata": {},
   "outputs": [],
   "source": [
    "# Merge master start coords\n",
    "df_all = df_all.drop(columns=['start_lat', 'start_lng'], errors='ignore')\n",
    "df_all = df_all.merge(\n",
    "    master_coords.rename(columns={\n",
    "        'station_id': 'start_station_id',\n",
    "        'lat': 'start_lat',\n",
    "        'lng': 'start_lng'\n",
    "    }),\n",
    "    on='start_station_id',\n",
    "    how='left'\n",
    ")\n",
    "\n",
    "# Merge master end coords\n",
    "df_all = df_all.drop(columns=['end_lat', 'end_lng'], errors='ignore')\n",
    "df_all = df_all.merge(\n",
    "    master_coords.rename(columns={\n",
    "        'station_id': 'end_station_id',\n",
    "        'lat': 'end_lat',\n",
    "        'lng': 'end_lng'\n",
    "    }),\n",
    "    on='end_station_id',\n",
    "    how='left'\n",
    ")"
   ]
  },
  {
   "cell_type": "code",
   "execution_count": 49,
   "id": "3ea4142d",
   "metadata": {},
   "outputs": [
    {
     "data": {
      "text/html": [
       "<div>\n",
       "<style scoped>\n",
       "    .dataframe tbody tr th:only-of-type {\n",
       "        vertical-align: middle;\n",
       "    }\n",
       "\n",
       "    .dataframe tbody tr th {\n",
       "        vertical-align: top;\n",
       "    }\n",
       "\n",
       "    .dataframe thead th {\n",
       "        text-align: right;\n",
       "    }\n",
       "</style>\n",
       "<table border=\"1\" class=\"dataframe\">\n",
       "  <thead>\n",
       "    <tr style=\"text-align: right;\">\n",
       "      <th></th>\n",
       "      <th>ride_id</th>\n",
       "      <th>rideable_type</th>\n",
       "      <th>started_at</th>\n",
       "      <th>ended_at</th>\n",
       "      <th>start_station_name</th>\n",
       "      <th>start_station_id</th>\n",
       "      <th>end_station_name</th>\n",
       "      <th>end_station_id</th>\n",
       "      <th>member_casual</th>\n",
       "      <th>date</th>\n",
       "      <th>AWND</th>\n",
       "      <th>PRCP</th>\n",
       "      <th>TAVG</th>\n",
       "      <th>start_lat</th>\n",
       "      <th>start_lng</th>\n",
       "      <th>end_lat</th>\n",
       "      <th>end_lng</th>\n",
       "    </tr>\n",
       "  </thead>\n",
       "  <tbody>\n",
       "    <tr>\n",
       "      <th>0</th>\n",
       "      <td>FB33E3D8F21E2941</td>\n",
       "      <td>electric_bike</td>\n",
       "      <td>2022-01-01 01:49:37.374</td>\n",
       "      <td>2022-01-01 01:57:50.346</td>\n",
       "      <td>Canal St &amp; Rutgers St</td>\n",
       "      <td>5303.08</td>\n",
       "      <td>Norfolk St &amp; Broome St</td>\n",
       "      <td>5374.01</td>\n",
       "      <td>casual</td>\n",
       "      <td>2022-01-01</td>\n",
       "      <td>28</td>\n",
       "      <td>193</td>\n",
       "      <td>116</td>\n",
       "      <td>40.714275</td>\n",
       "      <td>-73.989900</td>\n",
       "      <td>40.717227</td>\n",
       "      <td>-73.988021</td>\n",
       "    </tr>\n",
       "    <tr>\n",
       "      <th>1</th>\n",
       "      <td>755337295F178067</td>\n",
       "      <td>electric_bike</td>\n",
       "      <td>2022-01-01 03:21:09.754</td>\n",
       "      <td>2022-01-01 03:49:33.047</td>\n",
       "      <td>Lewis Ave &amp; Madison St</td>\n",
       "      <td>4425.02</td>\n",
       "      <td>Columbia St &amp; Degraw St</td>\n",
       "      <td>4422.04</td>\n",
       "      <td>member</td>\n",
       "      <td>2022-01-01</td>\n",
       "      <td>28</td>\n",
       "      <td>193</td>\n",
       "      <td>116</td>\n",
       "      <td>40.686312</td>\n",
       "      <td>-73.935775</td>\n",
       "      <td>40.685930</td>\n",
       "      <td>-74.002424</td>\n",
       "    </tr>\n",
       "    <tr>\n",
       "      <th>2</th>\n",
       "      <td>C62CA87E3A475ADD</td>\n",
       "      <td>classic_bike</td>\n",
       "      <td>2022-01-01 08:38:18.156</td>\n",
       "      <td>2022-01-01 08:47:54.213</td>\n",
       "      <td>Carlton Ave &amp; Park Ave</td>\n",
       "      <td>4732.04</td>\n",
       "      <td>Emerson Pl &amp; Myrtle Ave</td>\n",
       "      <td>4683.02</td>\n",
       "      <td>casual</td>\n",
       "      <td>2022-01-01</td>\n",
       "      <td>28</td>\n",
       "      <td>193</td>\n",
       "      <td>116</td>\n",
       "      <td>40.695807</td>\n",
       "      <td>-73.973556</td>\n",
       "      <td>40.693631</td>\n",
       "      <td>-73.962236</td>\n",
       "    </tr>\n",
       "    <tr>\n",
       "      <th>3</th>\n",
       "      <td>CD7A2098AFCD5514</td>\n",
       "      <td>classic_bike</td>\n",
       "      <td>2022-01-01 10:33:58.529</td>\n",
       "      <td>2022-01-01 10:47:05.197</td>\n",
       "      <td>W 100 St &amp; Broadway</td>\n",
       "      <td>7580.01</td>\n",
       "      <td>W 67 St &amp; Broadway</td>\n",
       "      <td>7116.04</td>\n",
       "      <td>casual</td>\n",
       "      <td>2022-01-01</td>\n",
       "      <td>28</td>\n",
       "      <td>193</td>\n",
       "      <td>116</td>\n",
       "      <td>40.797372</td>\n",
       "      <td>-73.970412</td>\n",
       "      <td>40.774925</td>\n",
       "      <td>-73.982666</td>\n",
       "    </tr>\n",
       "    <tr>\n",
       "      <th>4</th>\n",
       "      <td>3F9E0C51F49F78A3</td>\n",
       "      <td>electric_bike</td>\n",
       "      <td>2022-01-01 20:05:19.592</td>\n",
       "      <td>2022-01-01 20:12:00.661</td>\n",
       "      <td>W 18 St &amp; 6 Ave</td>\n",
       "      <td>6064.08</td>\n",
       "      <td>W 42 St &amp; 6 Ave</td>\n",
       "      <td>6517.08</td>\n",
       "      <td>member</td>\n",
       "      <td>2022-01-01</td>\n",
       "      <td>28</td>\n",
       "      <td>193</td>\n",
       "      <td>116</td>\n",
       "      <td>40.739713</td>\n",
       "      <td>-73.994564</td>\n",
       "      <td>40.754920</td>\n",
       "      <td>-73.984550</td>\n",
       "    </tr>\n",
       "  </tbody>\n",
       "</table>\n",
       "</div>"
      ],
      "text/plain": [
       "            ride_id  rideable_type              started_at  \\\n",
       "0  FB33E3D8F21E2941  electric_bike 2022-01-01 01:49:37.374   \n",
       "1  755337295F178067  electric_bike 2022-01-01 03:21:09.754   \n",
       "2  C62CA87E3A475ADD   classic_bike 2022-01-01 08:38:18.156   \n",
       "3  CD7A2098AFCD5514   classic_bike 2022-01-01 10:33:58.529   \n",
       "4  3F9E0C51F49F78A3  electric_bike 2022-01-01 20:05:19.592   \n",
       "\n",
       "                 ended_at      start_station_name start_station_id  \\\n",
       "0 2022-01-01 01:57:50.346   Canal St & Rutgers St          5303.08   \n",
       "1 2022-01-01 03:49:33.047  Lewis Ave & Madison St          4425.02   \n",
       "2 2022-01-01 08:47:54.213  Carlton Ave & Park Ave          4732.04   \n",
       "3 2022-01-01 10:47:05.197     W 100 St & Broadway          7580.01   \n",
       "4 2022-01-01 20:12:00.661         W 18 St & 6 Ave          6064.08   \n",
       "\n",
       "          end_station_name end_station_id member_casual        date  AWND  \\\n",
       "0   Norfolk St & Broome St        5374.01        casual  2022-01-01    28   \n",
       "1  Columbia St & Degraw St        4422.04        member  2022-01-01    28   \n",
       "2  Emerson Pl & Myrtle Ave        4683.02        casual  2022-01-01    28   \n",
       "3       W 67 St & Broadway        7116.04        casual  2022-01-01    28   \n",
       "4          W 42 St & 6 Ave        6517.08        member  2022-01-01    28   \n",
       "\n",
       "   PRCP  TAVG  start_lat  start_lng    end_lat    end_lng  \n",
       "0   193   116  40.714275 -73.989900  40.717227 -73.988021  \n",
       "1   193   116  40.686312 -73.935775  40.685930 -74.002424  \n",
       "2   193   116  40.695807 -73.973556  40.693631 -73.962236  \n",
       "3   193   116  40.797372 -73.970412  40.774925 -73.982666  \n",
       "4   193   116  40.739713 -73.994564  40.754920 -73.984550  "
      ]
     },
     "execution_count": 49,
     "metadata": {},
     "output_type": "execute_result"
    }
   ],
   "source": [
    "df_all.head()"
   ]
  },
  {
   "cell_type": "code",
   "execution_count": 50,
   "id": "f0d32c18",
   "metadata": {},
   "outputs": [
    {
     "data": {
      "text/plain": [
       "(29838166, 17)"
      ]
     },
     "execution_count": 50,
     "metadata": {},
     "output_type": "execute_result"
    }
   ],
   "source": [
    "df_all.shape"
   ]
  },
  {
   "cell_type": "code",
   "execution_count": 51,
   "id": "6f4adf82",
   "metadata": {},
   "outputs": [],
   "source": [
    "df = df_all.copy() # reassigning 'df' object to merged data"
   ]
  },
  {
   "cell_type": "code",
   "execution_count": 52,
   "id": "0c1ae4cd",
   "metadata": {},
   "outputs": [
    {
     "data": {
      "text/plain": [
       "ride_id                       object\n",
       "rideable_type                 object\n",
       "started_at            datetime64[ns]\n",
       "ended_at              datetime64[ns]\n",
       "start_station_name            object\n",
       "start_station_id              object\n",
       "end_station_name              object\n",
       "end_station_id                object\n",
       "member_casual                 object\n",
       "date                          object\n",
       "AWND                           int64\n",
       "PRCP                           int64\n",
       "TAVG                           int64\n",
       "start_lat                    float64\n",
       "start_lng                    float64\n",
       "end_lat                      float64\n",
       "end_lng                      float64\n",
       "dtype: object"
      ]
     },
     "execution_count": 52,
     "metadata": {},
     "output_type": "execute_result"
    }
   ],
   "source": [
    "df.dtypes"
   ]
  },
  {
   "cell_type": "code",
   "execution_count": 53,
   "id": "dd32bfe4",
   "metadata": {},
   "outputs": [],
   "source": [
    "df['date'] = pd.to_datetime(df['date'])"
   ]
  },
  {
   "cell_type": "code",
   "execution_count": 60,
   "id": "dcd06bab",
   "metadata": {},
   "outputs": [],
   "source": [
    "df['start_station_id'] = df['start_station_id'].astype(str)\n",
    "df['end_station_id'] = df['end_station_id'].astype(str)"
   ]
  },
  {
   "cell_type": "markdown",
   "id": "bba96d59",
   "metadata": {},
   "source": [
    "Missings"
   ]
  },
  {
   "cell_type": "code",
   "execution_count": 54,
   "id": "da5c82b8",
   "metadata": {},
   "outputs": [
    {
     "data": {
      "text/plain": [
       "ride_id                   0\n",
       "rideable_type             0\n",
       "started_at                0\n",
       "ended_at                  0\n",
       "start_station_name       49\n",
       "start_station_id         49\n",
       "end_station_name      69884\n",
       "end_station_id        69884\n",
       "member_casual             0\n",
       "date                      0\n",
       "AWND                      0\n",
       "PRCP                      0\n",
       "TAVG                      0\n",
       "start_lat                49\n",
       "start_lng                49\n",
       "end_lat               69884\n",
       "end_lng               69884\n",
       "dtype: int64"
      ]
     },
     "execution_count": 54,
     "metadata": {},
     "output_type": "execute_result"
    }
   ],
   "source": [
    "df.isnull().sum()"
   ]
  },
  {
   "cell_type": "code",
   "execution_count": 55,
   "id": "95c349a1",
   "metadata": {},
   "outputs": [
    {
     "name": "stdout",
     "output_type": "stream",
     "text": [
      "Dropped 69884 rows (from 29838166 to 29768282)\n"
     ]
    }
   ],
   "source": [
    "before = len(df)\n",
    "df = df.dropna()\n",
    "after = len(df)\n",
    "print(f\"Dropped {before - after} rows (from {before} to {after})\")"
   ]
  },
  {
   "cell_type": "markdown",
   "id": "761a78dc",
   "metadata": {},
   "source": [
    "Duplicates"
   ]
  },
  {
   "cell_type": "code",
   "execution_count": 56,
   "id": "ebca977e",
   "metadata": {},
   "outputs": [
    {
     "data": {
      "text/html": [
       "<div>\n",
       "<style scoped>\n",
       "    .dataframe tbody tr th:only-of-type {\n",
       "        vertical-align: middle;\n",
       "    }\n",
       "\n",
       "    .dataframe tbody tr th {\n",
       "        vertical-align: top;\n",
       "    }\n",
       "\n",
       "    .dataframe thead th {\n",
       "        text-align: right;\n",
       "    }\n",
       "</style>\n",
       "<table border=\"1\" class=\"dataframe\">\n",
       "  <thead>\n",
       "    <tr style=\"text-align: right;\">\n",
       "      <th></th>\n",
       "      <th>ride_id</th>\n",
       "      <th>rideable_type</th>\n",
       "      <th>started_at</th>\n",
       "      <th>ended_at</th>\n",
       "      <th>start_station_name</th>\n",
       "      <th>start_station_id</th>\n",
       "      <th>end_station_name</th>\n",
       "      <th>end_station_id</th>\n",
       "      <th>member_casual</th>\n",
       "      <th>date</th>\n",
       "      <th>AWND</th>\n",
       "      <th>PRCP</th>\n",
       "      <th>TAVG</th>\n",
       "      <th>start_lat</th>\n",
       "      <th>start_lng</th>\n",
       "      <th>end_lat</th>\n",
       "      <th>end_lng</th>\n",
       "    </tr>\n",
       "  </thead>\n",
       "  <tbody>\n",
       "  </tbody>\n",
       "</table>\n",
       "</div>"
      ],
      "text/plain": [
       "Empty DataFrame\n",
       "Columns: [ride_id, rideable_type, started_at, ended_at, start_station_name, start_station_id, end_station_name, end_station_id, member_casual, date, AWND, PRCP, TAVG, start_lat, start_lng, end_lat, end_lng]\n",
       "Index: []"
      ]
     },
     "execution_count": 56,
     "metadata": {},
     "output_type": "execute_result"
    }
   ],
   "source": [
    "d = df.duplicated()\n",
    "df[d]"
   ]
  },
  {
   "cell_type": "markdown",
   "id": "b9955b25",
   "metadata": {},
   "source": [
    "## Deriving trip duration columns"
   ]
  },
  {
   "cell_type": "code",
   "execution_count": 57,
   "id": "2286ad4f",
   "metadata": {},
   "outputs": [],
   "source": [
    "# Creating new column with trip duration\n",
    "df['trip_duration'] = (df['ended_at'] - df['started_at']).dt.total_seconds() / 60"
   ]
  },
  {
   "cell_type": "code",
   "execution_count": 58,
   "id": "38e663eb",
   "metadata": {},
   "outputs": [],
   "source": [
    "# Dropping trips with negative trip duration\n",
    "df = df[df['trip_duration'] >= 0].copy()"
   ]
  },
  {
   "cell_type": "code",
   "execution_count": 61,
   "id": "a28c6ab1",
   "metadata": {},
   "outputs": [],
   "source": [
    "# Exporting DF\n",
    "df.to_parquet(r'C:\\Data\\Citibike_NY_2022\\merged\\df_weather_duration.parquet',index=False)"
   ]
  },
  {
   "cell_type": "code",
   "execution_count": null,
   "id": "974dea95",
   "metadata": {},
   "outputs": [],
   "source": []
  }
 ],
 "metadata": {
  "kernelspec": {
   "display_name": "Python (venv)",
   "language": "python",
   "name": "venv"
  },
  "language_info": {
   "codemirror_mode": {
    "name": "ipython",
    "version": 3
   },
   "file_extension": ".py",
   "mimetype": "text/x-python",
   "name": "python",
   "nbconvert_exporter": "python",
   "pygments_lexer": "ipython3",
   "version": "3.12.7"
  }
 },
 "nbformat": 4,
 "nbformat_minor": 5
}
