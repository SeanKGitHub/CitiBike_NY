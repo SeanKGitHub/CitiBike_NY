{
 "cells": [
  {
   "cell_type": "code",
   "execution_count": 1,
   "id": "78c47215",
   "metadata": {},
   "outputs": [],
   "source": [
    "# Importing Libraries\n",
    "import os\n",
    "from dotenv import load_dotenv\n",
    "import pandas as pd\n",
    "import numpy as np\n",
    "import requests\n",
    "import json\n",
    "from datetime import datetime"
   ]
  },
  {
   "cell_type": "markdown",
   "id": "a0fe31b5",
   "metadata": {},
   "source": [
    "## Loading Citibike data"
   ]
  },
  {
   "cell_type": "code",
   "execution_count": 2,
   "id": "92967c1e",
   "metadata": {},
   "outputs": [],
   "source": [
    "# Creating a list with all files in the folder using a list compehension\n",
    "\n",
    "folderpath = r\"C:\\Data\\Citibike_NY_2022\\2022-citibike-tripdata\\extracted_data\"  # folder where files were extractred (see scripts/extract_data.py)\n",
    "filepaths  = [os.path.join(folderpath, name) for name in os.listdir(folderpath)]    # looping over files within filepath and joining to folder path creating list object"
   ]
  },
  {
   "cell_type": "code",
   "execution_count": 3,
   "id": "d6681e8d",
   "metadata": {},
   "outputs": [
    {
     "data": {
      "text/plain": [
       "['C:\\\\Data\\\\Citibike_NY_2022\\\\2022-citibike-tripdata\\\\extracted_data\\\\202201-citibike-tripdata_1.csv',\n",
       " 'C:\\\\Data\\\\Citibike_NY_2022\\\\2022-citibike-tripdata\\\\extracted_data\\\\202201-citibike-tripdata_2.csv',\n",
       " 'C:\\\\Data\\\\Citibike_NY_2022\\\\2022-citibike-tripdata\\\\extracted_data\\\\202202-citibike-tripdata_1.csv',\n",
       " 'C:\\\\Data\\\\Citibike_NY_2022\\\\2022-citibike-tripdata\\\\extracted_data\\\\202202-citibike-tripdata_2.csv',\n",
       " 'C:\\\\Data\\\\Citibike_NY_2022\\\\2022-citibike-tripdata\\\\extracted_data\\\\202203-citibike-tripdata_1.csv',\n",
       " 'C:\\\\Data\\\\Citibike_NY_2022\\\\2022-citibike-tripdata\\\\extracted_data\\\\202203-citibike-tripdata_2.csv',\n",
       " 'C:\\\\Data\\\\Citibike_NY_2022\\\\2022-citibike-tripdata\\\\extracted_data\\\\202204-citibike-tripdata_1.csv',\n",
       " 'C:\\\\Data\\\\Citibike_NY_2022\\\\2022-citibike-tripdata\\\\extracted_data\\\\202204-citibike-tripdata_2.csv',\n",
       " 'C:\\\\Data\\\\Citibike_NY_2022\\\\2022-citibike-tripdata\\\\extracted_data\\\\202204-citibike-tripdata_3.csv',\n",
       " 'C:\\\\Data\\\\Citibike_NY_2022\\\\2022-citibike-tripdata\\\\extracted_data\\\\202205-citibike-tripdata_1.csv',\n",
       " 'C:\\\\Data\\\\Citibike_NY_2022\\\\2022-citibike-tripdata\\\\extracted_data\\\\202205-citibike-tripdata_2.csv',\n",
       " 'C:\\\\Data\\\\Citibike_NY_2022\\\\2022-citibike-tripdata\\\\extracted_data\\\\202205-citibike-tripdata_3.csv',\n",
       " 'C:\\\\Data\\\\Citibike_NY_2022\\\\2022-citibike-tripdata\\\\extracted_data\\\\202206-citibike-tripdata_1.csv',\n",
       " 'C:\\\\Data\\\\Citibike_NY_2022\\\\2022-citibike-tripdata\\\\extracted_data\\\\202206-citibike-tripdata_2.csv',\n",
       " 'C:\\\\Data\\\\Citibike_NY_2022\\\\2022-citibike-tripdata\\\\extracted_data\\\\202206-citibike-tripdata_3.csv',\n",
       " 'C:\\\\Data\\\\Citibike_NY_2022\\\\2022-citibike-tripdata\\\\extracted_data\\\\202206-citibike-tripdata_4.csv',\n",
       " 'C:\\\\Data\\\\Citibike_NY_2022\\\\2022-citibike-tripdata\\\\extracted_data\\\\202207-citibike-tripdata_1.csv',\n",
       " 'C:\\\\Data\\\\Citibike_NY_2022\\\\2022-citibike-tripdata\\\\extracted_data\\\\202207-citibike-tripdata_2.csv',\n",
       " 'C:\\\\Data\\\\Citibike_NY_2022\\\\2022-citibike-tripdata\\\\extracted_data\\\\202207-citibike-tripdata_3.csv',\n",
       " 'C:\\\\Data\\\\Citibike_NY_2022\\\\2022-citibike-tripdata\\\\extracted_data\\\\202207-citibike-tripdata_4.csv',\n",
       " 'C:\\\\Data\\\\Citibike_NY_2022\\\\2022-citibike-tripdata\\\\extracted_data\\\\202208-citibike-tripdata_1.csv',\n",
       " 'C:\\\\Data\\\\Citibike_NY_2022\\\\2022-citibike-tripdata\\\\extracted_data\\\\202208-citibike-tripdata_2.csv',\n",
       " 'C:\\\\Data\\\\Citibike_NY_2022\\\\2022-citibike-tripdata\\\\extracted_data\\\\202208-citibike-tripdata_3.csv',\n",
       " 'C:\\\\Data\\\\Citibike_NY_2022\\\\2022-citibike-tripdata\\\\extracted_data\\\\202208-citibike-tripdata_4.csv',\n",
       " 'C:\\\\Data\\\\Citibike_NY_2022\\\\2022-citibike-tripdata\\\\extracted_data\\\\202209-citibike-tripdata_1.csv',\n",
       " 'C:\\\\Data\\\\Citibike_NY_2022\\\\2022-citibike-tripdata\\\\extracted_data\\\\202209-citibike-tripdata_2.csv',\n",
       " 'C:\\\\Data\\\\Citibike_NY_2022\\\\2022-citibike-tripdata\\\\extracted_data\\\\202209-citibike-tripdata_3.csv',\n",
       " 'C:\\\\Data\\\\Citibike_NY_2022\\\\2022-citibike-tripdata\\\\extracted_data\\\\202209-citibike-tripdata_4.csv',\n",
       " 'C:\\\\Data\\\\Citibike_NY_2022\\\\2022-citibike-tripdata\\\\extracted_data\\\\202210-citibike-tripdata_1.csv',\n",
       " 'C:\\\\Data\\\\Citibike_NY_2022\\\\2022-citibike-tripdata\\\\extracted_data\\\\202210-citibike-tripdata_2.csv',\n",
       " 'C:\\\\Data\\\\Citibike_NY_2022\\\\2022-citibike-tripdata\\\\extracted_data\\\\202210-citibike-tripdata_3.csv',\n",
       " 'C:\\\\Data\\\\Citibike_NY_2022\\\\2022-citibike-tripdata\\\\extracted_data\\\\202211-citibike-tripdata_1.csv',\n",
       " 'C:\\\\Data\\\\Citibike_NY_2022\\\\2022-citibike-tripdata\\\\extracted_data\\\\202211-citibike-tripdata_2.csv',\n",
       " 'C:\\\\Data\\\\Citibike_NY_2022\\\\2022-citibike-tripdata\\\\extracted_data\\\\202211-citibike-tripdata_3.csv',\n",
       " 'C:\\\\Data\\\\Citibike_NY_2022\\\\2022-citibike-tripdata\\\\extracted_data\\\\202212-citibike-tripdata_1.csv',\n",
       " 'C:\\\\Data\\\\Citibike_NY_2022\\\\2022-citibike-tripdata\\\\extracted_data\\\\202212-citibike-tripdata_2.csv']"
      ]
     },
     "execution_count": 3,
     "metadata": {},
     "output_type": "execute_result"
    }
   ],
   "source": [
    "filepaths"
   ]
  },
  {
   "cell_type": "code",
   "execution_count": 4,
   "id": "0e240e56",
   "metadata": {},
   "outputs": [
    {
     "name": "stderr",
     "output_type": "stream",
     "text": [
      "C:\\Users\\seank\\AppData\\Local\\Temp\\ipykernel_11972\\4118626668.py:4: DtypeWarning: Columns (5,7) have mixed types. Specify dtype option on import or set low_memory=False.\n",
      "  df = pd.concat((pd.read_csv(f) for f in filepaths), ignore_index = True)\n",
      "C:\\Users\\seank\\AppData\\Local\\Temp\\ipykernel_11972\\4118626668.py:4: DtypeWarning: Columns (5,7) have mixed types. Specify dtype option on import or set low_memory=False.\n",
      "  df = pd.concat((pd.read_csv(f) for f in filepaths), ignore_index = True)\n",
      "C:\\Users\\seank\\AppData\\Local\\Temp\\ipykernel_11972\\4118626668.py:4: DtypeWarning: Columns (7) have mixed types. Specify dtype option on import or set low_memory=False.\n",
      "  df = pd.concat((pd.read_csv(f) for f in filepaths), ignore_index = True)\n",
      "C:\\Users\\seank\\AppData\\Local\\Temp\\ipykernel_11972\\4118626668.py:4: DtypeWarning: Columns (5,7) have mixed types. Specify dtype option on import or set low_memory=False.\n",
      "  df = pd.concat((pd.read_csv(f) for f in filepaths), ignore_index = True)\n",
      "C:\\Users\\seank\\AppData\\Local\\Temp\\ipykernel_11972\\4118626668.py:4: DtypeWarning: Columns (5,7) have mixed types. Specify dtype option on import or set low_memory=False.\n",
      "  df = pd.concat((pd.read_csv(f) for f in filepaths), ignore_index = True)\n",
      "C:\\Users\\seank\\AppData\\Local\\Temp\\ipykernel_11972\\4118626668.py:4: DtypeWarning: Columns (5,7) have mixed types. Specify dtype option on import or set low_memory=False.\n",
      "  df = pd.concat((pd.read_csv(f) for f in filepaths), ignore_index = True)\n",
      "C:\\Users\\seank\\AppData\\Local\\Temp\\ipykernel_11972\\4118626668.py:4: DtypeWarning: Columns (5,7) have mixed types. Specify dtype option on import or set low_memory=False.\n",
      "  df = pd.concat((pd.read_csv(f) for f in filepaths), ignore_index = True)\n",
      "C:\\Users\\seank\\AppData\\Local\\Temp\\ipykernel_11972\\4118626668.py:4: DtypeWarning: Columns (5,7) have mixed types. Specify dtype option on import or set low_memory=False.\n",
      "  df = pd.concat((pd.read_csv(f) for f in filepaths), ignore_index = True)\n",
      "C:\\Users\\seank\\AppData\\Local\\Temp\\ipykernel_11972\\4118626668.py:4: DtypeWarning: Columns (5,7) have mixed types. Specify dtype option on import or set low_memory=False.\n",
      "  df = pd.concat((pd.read_csv(f) for f in filepaths), ignore_index = True)\n",
      "C:\\Users\\seank\\AppData\\Local\\Temp\\ipykernel_11972\\4118626668.py:4: DtypeWarning: Columns (5,7) have mixed types. Specify dtype option on import or set low_memory=False.\n",
      "  df = pd.concat((pd.read_csv(f) for f in filepaths), ignore_index = True)\n",
      "C:\\Users\\seank\\AppData\\Local\\Temp\\ipykernel_11972\\4118626668.py:4: DtypeWarning: Columns (5,7) have mixed types. Specify dtype option on import or set low_memory=False.\n",
      "  df = pd.concat((pd.read_csv(f) for f in filepaths), ignore_index = True)\n",
      "C:\\Users\\seank\\AppData\\Local\\Temp\\ipykernel_11972\\4118626668.py:4: DtypeWarning: Columns (5,7) have mixed types. Specify dtype option on import or set low_memory=False.\n",
      "  df = pd.concat((pd.read_csv(f) for f in filepaths), ignore_index = True)\n",
      "C:\\Users\\seank\\AppData\\Local\\Temp\\ipykernel_11972\\4118626668.py:4: DtypeWarning: Columns (5,7) have mixed types. Specify dtype option on import or set low_memory=False.\n",
      "  df = pd.concat((pd.read_csv(f) for f in filepaths), ignore_index = True)\n",
      "C:\\Users\\seank\\AppData\\Local\\Temp\\ipykernel_11972\\4118626668.py:4: DtypeWarning: Columns (5,7) have mixed types. Specify dtype option on import or set low_memory=False.\n",
      "  df = pd.concat((pd.read_csv(f) for f in filepaths), ignore_index = True)\n",
      "C:\\Users\\seank\\AppData\\Local\\Temp\\ipykernel_11972\\4118626668.py:4: DtypeWarning: Columns (5,7) have mixed types. Specify dtype option on import or set low_memory=False.\n",
      "  df = pd.concat((pd.read_csv(f) for f in filepaths), ignore_index = True)\n",
      "C:\\Users\\seank\\AppData\\Local\\Temp\\ipykernel_11972\\4118626668.py:4: DtypeWarning: Columns (5,7) have mixed types. Specify dtype option on import or set low_memory=False.\n",
      "  df = pd.concat((pd.read_csv(f) for f in filepaths), ignore_index = True)\n",
      "C:\\Users\\seank\\AppData\\Local\\Temp\\ipykernel_11972\\4118626668.py:4: DtypeWarning: Columns (5,7) have mixed types. Specify dtype option on import or set low_memory=False.\n",
      "  df = pd.concat((pd.read_csv(f) for f in filepaths), ignore_index = True)\n",
      "C:\\Users\\seank\\AppData\\Local\\Temp\\ipykernel_11972\\4118626668.py:4: DtypeWarning: Columns (5,7) have mixed types. Specify dtype option on import or set low_memory=False.\n",
      "  df = pd.concat((pd.read_csv(f) for f in filepaths), ignore_index = True)\n",
      "C:\\Users\\seank\\AppData\\Local\\Temp\\ipykernel_11972\\4118626668.py:4: DtypeWarning: Columns (5,7) have mixed types. Specify dtype option on import or set low_memory=False.\n",
      "  df = pd.concat((pd.read_csv(f) for f in filepaths), ignore_index = True)\n",
      "C:\\Users\\seank\\AppData\\Local\\Temp\\ipykernel_11972\\4118626668.py:4: DtypeWarning: Columns (5,7) have mixed types. Specify dtype option on import or set low_memory=False.\n",
      "  df = pd.concat((pd.read_csv(f) for f in filepaths), ignore_index = True)\n",
      "C:\\Users\\seank\\AppData\\Local\\Temp\\ipykernel_11972\\4118626668.py:4: DtypeWarning: Columns (5,7) have mixed types. Specify dtype option on import or set low_memory=False.\n",
      "  df = pd.concat((pd.read_csv(f) for f in filepaths), ignore_index = True)\n",
      "C:\\Users\\seank\\AppData\\Local\\Temp\\ipykernel_11972\\4118626668.py:4: DtypeWarning: Columns (5,7) have mixed types. Specify dtype option on import or set low_memory=False.\n",
      "  df = pd.concat((pd.read_csv(f) for f in filepaths), ignore_index = True)\n",
      "C:\\Users\\seank\\AppData\\Local\\Temp\\ipykernel_11972\\4118626668.py:4: DtypeWarning: Columns (5,7) have mixed types. Specify dtype option on import or set low_memory=False.\n",
      "  df = pd.concat((pd.read_csv(f) for f in filepaths), ignore_index = True)\n",
      "C:\\Users\\seank\\AppData\\Local\\Temp\\ipykernel_11972\\4118626668.py:4: DtypeWarning: Columns (5,7) have mixed types. Specify dtype option on import or set low_memory=False.\n",
      "  df = pd.concat((pd.read_csv(f) for f in filepaths), ignore_index = True)\n",
      "C:\\Users\\seank\\AppData\\Local\\Temp\\ipykernel_11972\\4118626668.py:4: DtypeWarning: Columns (5,7) have mixed types. Specify dtype option on import or set low_memory=False.\n",
      "  df = pd.concat((pd.read_csv(f) for f in filepaths), ignore_index = True)\n",
      "C:\\Users\\seank\\AppData\\Local\\Temp\\ipykernel_11972\\4118626668.py:4: DtypeWarning: Columns (5,7) have mixed types. Specify dtype option on import or set low_memory=False.\n",
      "  df = pd.concat((pd.read_csv(f) for f in filepaths), ignore_index = True)\n",
      "C:\\Users\\seank\\AppData\\Local\\Temp\\ipykernel_11972\\4118626668.py:4: DtypeWarning: Columns (5,7) have mixed types. Specify dtype option on import or set low_memory=False.\n",
      "  df = pd.concat((pd.read_csv(f) for f in filepaths), ignore_index = True)\n",
      "C:\\Users\\seank\\AppData\\Local\\Temp\\ipykernel_11972\\4118626668.py:4: DtypeWarning: Columns (5,7) have mixed types. Specify dtype option on import or set low_memory=False.\n",
      "  df = pd.concat((pd.read_csv(f) for f in filepaths), ignore_index = True)\n",
      "C:\\Users\\seank\\AppData\\Local\\Temp\\ipykernel_11972\\4118626668.py:4: DtypeWarning: Columns (5,7) have mixed types. Specify dtype option on import or set low_memory=False.\n",
      "  df = pd.concat((pd.read_csv(f) for f in filepaths), ignore_index = True)\n",
      "C:\\Users\\seank\\AppData\\Local\\Temp\\ipykernel_11972\\4118626668.py:4: DtypeWarning: Columns (5,7) have mixed types. Specify dtype option on import or set low_memory=False.\n",
      "  df = pd.concat((pd.read_csv(f) for f in filepaths), ignore_index = True)\n",
      "C:\\Users\\seank\\AppData\\Local\\Temp\\ipykernel_11972\\4118626668.py:4: DtypeWarning: Columns (5,7) have mixed types. Specify dtype option on import or set low_memory=False.\n",
      "  df = pd.concat((pd.read_csv(f) for f in filepaths), ignore_index = True)\n",
      "C:\\Users\\seank\\AppData\\Local\\Temp\\ipykernel_11972\\4118626668.py:4: DtypeWarning: Columns (5,7) have mixed types. Specify dtype option on import or set low_memory=False.\n",
      "  df = pd.concat((pd.read_csv(f) for f in filepaths), ignore_index = True)\n",
      "C:\\Users\\seank\\AppData\\Local\\Temp\\ipykernel_11972\\4118626668.py:4: DtypeWarning: Columns (7) have mixed types. Specify dtype option on import or set low_memory=False.\n",
      "  df = pd.concat((pd.read_csv(f) for f in filepaths), ignore_index = True)\n",
      "C:\\Users\\seank\\AppData\\Local\\Temp\\ipykernel_11972\\4118626668.py:4: DtypeWarning: Columns (5,7) have mixed types. Specify dtype option on import or set low_memory=False.\n",
      "  df = pd.concat((pd.read_csv(f) for f in filepaths), ignore_index = True)\n",
      "C:\\Users\\seank\\AppData\\Local\\Temp\\ipykernel_11972\\4118626668.py:4: DtypeWarning: Columns (5,7) have mixed types. Specify dtype option on import or set low_memory=False.\n",
      "  df = pd.concat((pd.read_csv(f) for f in filepaths), ignore_index = True)\n"
     ]
    }
   ],
   "source": [
    "# Read and concatenate all files simultaneously. Pass through each file in the filepath list and read the csv,\n",
    "# then append it underneath the previous file while keeping columns\n",
    "\n",
    "df = pd.concat((pd.read_csv(f) for f in filepaths), ignore_index = True)"
   ]
  },
  {
   "cell_type": "code",
   "execution_count": 5,
   "id": "02560369",
   "metadata": {},
   "outputs": [
    {
     "data": {
      "text/plain": [
       "(29838806, 13)"
      ]
     },
     "execution_count": 5,
     "metadata": {},
     "output_type": "execute_result"
    }
   ],
   "source": [
    "df.shape"
   ]
  },
  {
   "cell_type": "code",
   "execution_count": 6,
   "id": "2e5b94e6",
   "metadata": {},
   "outputs": [
    {
     "data": {
      "text/html": [
       "<div>\n",
       "<style scoped>\n",
       "    .dataframe tbody tr th:only-of-type {\n",
       "        vertical-align: middle;\n",
       "    }\n",
       "\n",
       "    .dataframe tbody tr th {\n",
       "        vertical-align: top;\n",
       "    }\n",
       "\n",
       "    .dataframe thead th {\n",
       "        text-align: right;\n",
       "    }\n",
       "</style>\n",
       "<table border=\"1\" class=\"dataframe\">\n",
       "  <thead>\n",
       "    <tr style=\"text-align: right;\">\n",
       "      <th></th>\n",
       "      <th>ride_id</th>\n",
       "      <th>rideable_type</th>\n",
       "      <th>started_at</th>\n",
       "      <th>ended_at</th>\n",
       "      <th>start_station_name</th>\n",
       "      <th>start_station_id</th>\n",
       "      <th>end_station_name</th>\n",
       "      <th>end_station_id</th>\n",
       "      <th>start_lat</th>\n",
       "      <th>start_lng</th>\n",
       "      <th>end_lat</th>\n",
       "      <th>end_lng</th>\n",
       "      <th>member_casual</th>\n",
       "    </tr>\n",
       "  </thead>\n",
       "  <tbody>\n",
       "    <tr>\n",
       "      <th>0</th>\n",
       "      <td>BFD29218AB271154</td>\n",
       "      <td>electric_bike</td>\n",
       "      <td>2022-01-21 13:13:43.392</td>\n",
       "      <td>2022-01-21 13:22:31.463</td>\n",
       "      <td>West End Ave &amp; W 107 St</td>\n",
       "      <td>7650.05</td>\n",
       "      <td>Mt Morris Park W &amp; W 120 St</td>\n",
       "      <td>7685.14</td>\n",
       "      <td>40.802117</td>\n",
       "      <td>-73.968181</td>\n",
       "      <td>40.804038</td>\n",
       "      <td>-73.945925</td>\n",
       "      <td>member</td>\n",
       "    </tr>\n",
       "    <tr>\n",
       "      <th>1</th>\n",
       "      <td>7C953F2FD7BE1302</td>\n",
       "      <td>classic_bike</td>\n",
       "      <td>2022-01-10 11:30:54.162</td>\n",
       "      <td>2022-01-10 11:41:43.422</td>\n",
       "      <td>4 Ave &amp; 3 St</td>\n",
       "      <td>4028.04</td>\n",
       "      <td>Boerum Pl\\t&amp; Pacific St</td>\n",
       "      <td>4488.09</td>\n",
       "      <td>40.673746</td>\n",
       "      <td>-73.985649</td>\n",
       "      <td>40.688489</td>\n",
       "      <td>-73.991160</td>\n",
       "      <td>member</td>\n",
       "    </tr>\n",
       "    <tr>\n",
       "      <th>2</th>\n",
       "      <td>95893ABD40CED4B8</td>\n",
       "      <td>electric_bike</td>\n",
       "      <td>2022-01-26 10:52:43.096</td>\n",
       "      <td>2022-01-26 11:06:35.227</td>\n",
       "      <td>1 Ave &amp; E 62 St</td>\n",
       "      <td>6753.08</td>\n",
       "      <td>5 Ave &amp; E 29 St</td>\n",
       "      <td>6248.06</td>\n",
       "      <td>40.761227</td>\n",
       "      <td>-73.960940</td>\n",
       "      <td>40.745168</td>\n",
       "      <td>-73.986831</td>\n",
       "      <td>member</td>\n",
       "    </tr>\n",
       "    <tr>\n",
       "      <th>3</th>\n",
       "      <td>F853B50772137378</td>\n",
       "      <td>classic_bike</td>\n",
       "      <td>2022-01-03 08:35:48.247</td>\n",
       "      <td>2022-01-03 09:10:50.475</td>\n",
       "      <td>2 Ave &amp; E 96 St</td>\n",
       "      <td>7338.02</td>\n",
       "      <td>5 Ave &amp; E 29 St</td>\n",
       "      <td>6248.06</td>\n",
       "      <td>40.783964</td>\n",
       "      <td>-73.947167</td>\n",
       "      <td>40.745168</td>\n",
       "      <td>-73.986831</td>\n",
       "      <td>member</td>\n",
       "    </tr>\n",
       "    <tr>\n",
       "      <th>4</th>\n",
       "      <td>7590ADF834797B4B</td>\n",
       "      <td>classic_bike</td>\n",
       "      <td>2022-01-22 14:14:23.043</td>\n",
       "      <td>2022-01-22 14:34:57.474</td>\n",
       "      <td>6 Ave &amp; W 34 St</td>\n",
       "      <td>6364.10</td>\n",
       "      <td>5 Ave &amp; E 29 St</td>\n",
       "      <td>6248.06</td>\n",
       "      <td>40.749640</td>\n",
       "      <td>-73.988050</td>\n",
       "      <td>40.745168</td>\n",
       "      <td>-73.986831</td>\n",
       "      <td>member</td>\n",
       "    </tr>\n",
       "  </tbody>\n",
       "</table>\n",
       "</div>"
      ],
      "text/plain": [
       "            ride_id  rideable_type               started_at  \\\n",
       "0  BFD29218AB271154  electric_bike  2022-01-21 13:13:43.392   \n",
       "1  7C953F2FD7BE1302   classic_bike  2022-01-10 11:30:54.162   \n",
       "2  95893ABD40CED4B8  electric_bike  2022-01-26 10:52:43.096   \n",
       "3  F853B50772137378   classic_bike  2022-01-03 08:35:48.247   \n",
       "4  7590ADF834797B4B   classic_bike  2022-01-22 14:14:23.043   \n",
       "\n",
       "                  ended_at       start_station_name start_station_id  \\\n",
       "0  2022-01-21 13:22:31.463  West End Ave & W 107 St          7650.05   \n",
       "1  2022-01-10 11:41:43.422             4 Ave & 3 St          4028.04   \n",
       "2  2022-01-26 11:06:35.227          1 Ave & E 62 St          6753.08   \n",
       "3  2022-01-03 09:10:50.475          2 Ave & E 96 St          7338.02   \n",
       "4  2022-01-22 14:34:57.474          6 Ave & W 34 St          6364.10   \n",
       "\n",
       "              end_station_name end_station_id  start_lat  start_lng  \\\n",
       "0  Mt Morris Park W & W 120 St        7685.14  40.802117 -73.968181   \n",
       "1      Boerum Pl\\t& Pacific St        4488.09  40.673746 -73.985649   \n",
       "2              5 Ave & E 29 St        6248.06  40.761227 -73.960940   \n",
       "3              5 Ave & E 29 St        6248.06  40.783964 -73.947167   \n",
       "4              5 Ave & E 29 St        6248.06  40.749640 -73.988050   \n",
       "\n",
       "     end_lat    end_lng member_casual  \n",
       "0  40.804038 -73.945925        member  \n",
       "1  40.688489 -73.991160        member  \n",
       "2  40.745168 -73.986831        member  \n",
       "3  40.745168 -73.986831        member  \n",
       "4  40.745168 -73.986831        member  "
      ]
     },
     "execution_count": 6,
     "metadata": {},
     "output_type": "execute_result"
    }
   ],
   "source": [
    "df.head()"
   ]
  },
  {
   "cell_type": "code",
   "execution_count": 7,
   "id": "0219c9a0",
   "metadata": {},
   "outputs": [
    {
     "data": {
      "text/plain": [
       "ride_id                object\n",
       "rideable_type          object\n",
       "started_at             object\n",
       "ended_at               object\n",
       "start_station_name     object\n",
       "start_station_id       object\n",
       "end_station_name       object\n",
       "end_station_id         object\n",
       "start_lat             float64\n",
       "start_lng             float64\n",
       "end_lat               float64\n",
       "end_lng               float64\n",
       "member_casual          object\n",
       "dtype: object"
      ]
     },
     "execution_count": 7,
     "metadata": {},
     "output_type": "execute_result"
    }
   ],
   "source": [
    "df.dtypes"
   ]
  },
  {
   "cell_type": "code",
   "execution_count": 8,
   "id": "c4b1e5a9",
   "metadata": {},
   "outputs": [
    {
     "data": {
      "text/html": [
       "<div>\n",
       "<style scoped>\n",
       "    .dataframe tbody tr th:only-of-type {\n",
       "        vertical-align: middle;\n",
       "    }\n",
       "\n",
       "    .dataframe tbody tr th {\n",
       "        vertical-align: top;\n",
       "    }\n",
       "\n",
       "    .dataframe thead th {\n",
       "        text-align: right;\n",
       "    }\n",
       "</style>\n",
       "<table border=\"1\" class=\"dataframe\">\n",
       "  <thead>\n",
       "    <tr style=\"text-align: right;\">\n",
       "      <th></th>\n",
       "      <th>ride_id</th>\n",
       "      <th>rideable_type</th>\n",
       "      <th>started_at</th>\n",
       "      <th>ended_at</th>\n",
       "      <th>start_station_name</th>\n",
       "      <th>start_station_id</th>\n",
       "      <th>end_station_name</th>\n",
       "      <th>end_station_id</th>\n",
       "      <th>start_lat</th>\n",
       "      <th>start_lng</th>\n",
       "      <th>end_lat</th>\n",
       "      <th>end_lng</th>\n",
       "      <th>member_casual</th>\n",
       "      <th>date</th>\n",
       "    </tr>\n",
       "  </thead>\n",
       "  <tbody>\n",
       "    <tr>\n",
       "      <th>0</th>\n",
       "      <td>BFD29218AB271154</td>\n",
       "      <td>electric_bike</td>\n",
       "      <td>2022-01-21 13:13:43.392</td>\n",
       "      <td>2022-01-21 13:22:31.463</td>\n",
       "      <td>West End Ave &amp; W 107 St</td>\n",
       "      <td>7650.05</td>\n",
       "      <td>Mt Morris Park W &amp; W 120 St</td>\n",
       "      <td>7685.14</td>\n",
       "      <td>40.802117</td>\n",
       "      <td>-73.968181</td>\n",
       "      <td>40.804038</td>\n",
       "      <td>-73.945925</td>\n",
       "      <td>member</td>\n",
       "      <td>2022-01-21</td>\n",
       "    </tr>\n",
       "    <tr>\n",
       "      <th>1</th>\n",
       "      <td>7C953F2FD7BE1302</td>\n",
       "      <td>classic_bike</td>\n",
       "      <td>2022-01-10 11:30:54.162</td>\n",
       "      <td>2022-01-10 11:41:43.422</td>\n",
       "      <td>4 Ave &amp; 3 St</td>\n",
       "      <td>4028.04</td>\n",
       "      <td>Boerum Pl\\t&amp; Pacific St</td>\n",
       "      <td>4488.09</td>\n",
       "      <td>40.673746</td>\n",
       "      <td>-73.985649</td>\n",
       "      <td>40.688489</td>\n",
       "      <td>-73.991160</td>\n",
       "      <td>member</td>\n",
       "      <td>2022-01-10</td>\n",
       "    </tr>\n",
       "    <tr>\n",
       "      <th>2</th>\n",
       "      <td>95893ABD40CED4B8</td>\n",
       "      <td>electric_bike</td>\n",
       "      <td>2022-01-26 10:52:43.096</td>\n",
       "      <td>2022-01-26 11:06:35.227</td>\n",
       "      <td>1 Ave &amp; E 62 St</td>\n",
       "      <td>6753.08</td>\n",
       "      <td>5 Ave &amp; E 29 St</td>\n",
       "      <td>6248.06</td>\n",
       "      <td>40.761227</td>\n",
       "      <td>-73.960940</td>\n",
       "      <td>40.745168</td>\n",
       "      <td>-73.986831</td>\n",
       "      <td>member</td>\n",
       "      <td>2022-01-26</td>\n",
       "    </tr>\n",
       "    <tr>\n",
       "      <th>3</th>\n",
       "      <td>F853B50772137378</td>\n",
       "      <td>classic_bike</td>\n",
       "      <td>2022-01-03 08:35:48.247</td>\n",
       "      <td>2022-01-03 09:10:50.475</td>\n",
       "      <td>2 Ave &amp; E 96 St</td>\n",
       "      <td>7338.02</td>\n",
       "      <td>5 Ave &amp; E 29 St</td>\n",
       "      <td>6248.06</td>\n",
       "      <td>40.783964</td>\n",
       "      <td>-73.947167</td>\n",
       "      <td>40.745168</td>\n",
       "      <td>-73.986831</td>\n",
       "      <td>member</td>\n",
       "      <td>2022-01-03</td>\n",
       "    </tr>\n",
       "    <tr>\n",
       "      <th>4</th>\n",
       "      <td>7590ADF834797B4B</td>\n",
       "      <td>classic_bike</td>\n",
       "      <td>2022-01-22 14:14:23.043</td>\n",
       "      <td>2022-01-22 14:34:57.474</td>\n",
       "      <td>6 Ave &amp; W 34 St</td>\n",
       "      <td>6364.10</td>\n",
       "      <td>5 Ave &amp; E 29 St</td>\n",
       "      <td>6248.06</td>\n",
       "      <td>40.749640</td>\n",
       "      <td>-73.988050</td>\n",
       "      <td>40.745168</td>\n",
       "      <td>-73.986831</td>\n",
       "      <td>member</td>\n",
       "      <td>2022-01-22</td>\n",
       "    </tr>\n",
       "  </tbody>\n",
       "</table>\n",
       "</div>"
      ],
      "text/plain": [
       "            ride_id  rideable_type              started_at  \\\n",
       "0  BFD29218AB271154  electric_bike 2022-01-21 13:13:43.392   \n",
       "1  7C953F2FD7BE1302   classic_bike 2022-01-10 11:30:54.162   \n",
       "2  95893ABD40CED4B8  electric_bike 2022-01-26 10:52:43.096   \n",
       "3  F853B50772137378   classic_bike 2022-01-03 08:35:48.247   \n",
       "4  7590ADF834797B4B   classic_bike 2022-01-22 14:14:23.043   \n",
       "\n",
       "                 ended_at       start_station_name start_station_id  \\\n",
       "0 2022-01-21 13:22:31.463  West End Ave & W 107 St          7650.05   \n",
       "1 2022-01-10 11:41:43.422             4 Ave & 3 St          4028.04   \n",
       "2 2022-01-26 11:06:35.227          1 Ave & E 62 St          6753.08   \n",
       "3 2022-01-03 09:10:50.475          2 Ave & E 96 St          7338.02   \n",
       "4 2022-01-22 14:34:57.474          6 Ave & W 34 St          6364.10   \n",
       "\n",
       "              end_station_name end_station_id  start_lat  start_lng  \\\n",
       "0  Mt Morris Park W & W 120 St        7685.14  40.802117 -73.968181   \n",
       "1      Boerum Pl\\t& Pacific St        4488.09  40.673746 -73.985649   \n",
       "2              5 Ave & E 29 St        6248.06  40.761227 -73.960940   \n",
       "3              5 Ave & E 29 St        6248.06  40.783964 -73.947167   \n",
       "4              5 Ave & E 29 St        6248.06  40.749640 -73.988050   \n",
       "\n",
       "     end_lat    end_lng member_casual        date  \n",
       "0  40.804038 -73.945925        member  2022-01-21  \n",
       "1  40.688489 -73.991160        member  2022-01-10  \n",
       "2  40.745168 -73.986831        member  2022-01-26  \n",
       "3  40.745168 -73.986831        member  2022-01-03  \n",
       "4  40.745168 -73.986831        member  2022-01-22  "
      ]
     },
     "execution_count": 8,
     "metadata": {},
     "output_type": "execute_result"
    }
   ],
   "source": [
    "# converting times to datetime\n",
    "df['started_at'] = pd.to_datetime(df['started_at'], dayfirst=False)\n",
    "df['ended_at'] = pd.to_datetime(df['ended_at'], dayfirst=False)\n",
    "\n",
    "# Extracting date\n",
    "df['date'] = pd.to_datetime(df['started_at'], format='%Y-%m-%d').dt.date\n",
    "df.head()"
   ]
  },
  {
   "cell_type": "markdown",
   "id": "86a37ea6",
   "metadata": {},
   "source": [
    "## Retrieving Weather Data"
   ]
  },
  {
   "cell_type": "markdown",
   "id": "a115262a",
   "metadata": {},
   "source": [
    "Using LaGuardia Airport (id GHCND:USW00014732 ) data from https://www.ncdc.noaa.gov/cdo-web/datatools/findstation (accessed 20/06/25)"
   ]
  },
  {
   "cell_type": "code",
   "execution_count": 9,
   "id": "65b2515a",
   "metadata": {},
   "outputs": [
    {
     "name": "stdout",
     "output_type": "stream",
     "text": [
      "Token loaded: elVvdrcIkpxEAWPxKSzWsJZeNccsEHnv\n"
     ]
    }
   ],
   "source": [
    "load_dotenv()  # Loading environment variables from .env file\n",
    "\n",
    "Token = os.environ.get('NOAA_TOKEN')\n",
    "\n",
    "print(f\"Token loaded: {Token}\");"
   ]
  },
  {
   "cell_type": "code",
   "execution_count": 10,
   "id": "8fda89fb",
   "metadata": {},
   "outputs": [
    {
     "name": "stdout",
     "output_type": "stream",
     "text": [
      "Fetched 1000 records, total so far: 1000\n",
      "Fetched 95 records, total so far: 1095\n"
     ]
    },
    {
     "ename": "JSONDecodeError",
     "evalue": "Expecting value: line 1 column 1 (char 0)",
     "output_type": "error",
     "traceback": [
      "\u001b[1;31m---------------------------------------------------------------------------\u001b[0m",
      "\u001b[1;31mJSONDecodeError\u001b[0m                           Traceback (most recent call last)",
      "File \u001b[1;32mc:\\Users\\seank\\anaconda3\\Lib\\site-packages\\requests\\models.py:974\u001b[0m, in \u001b[0;36mResponse.json\u001b[1;34m(self, **kwargs)\u001b[0m\n\u001b[0;32m    973\u001b[0m \u001b[38;5;28;01mtry\u001b[39;00m:\n\u001b[1;32m--> 974\u001b[0m     \u001b[38;5;28;01mreturn\u001b[39;00m complexjson\u001b[38;5;241m.\u001b[39mloads(\u001b[38;5;28mself\u001b[39m\u001b[38;5;241m.\u001b[39mtext, \u001b[38;5;241m*\u001b[39m\u001b[38;5;241m*\u001b[39mkwargs)\n\u001b[0;32m    975\u001b[0m \u001b[38;5;28;01mexcept\u001b[39;00m JSONDecodeError \u001b[38;5;28;01mas\u001b[39;00m e:\n\u001b[0;32m    976\u001b[0m     \u001b[38;5;66;03m# Catch JSON-related errors and raise as requests.JSONDecodeError\u001b[39;00m\n\u001b[0;32m    977\u001b[0m     \u001b[38;5;66;03m# This aliases json.JSONDecodeError and simplejson.JSONDecodeError\u001b[39;00m\n",
      "File \u001b[1;32mc:\\Users\\seank\\anaconda3\\Lib\\json\\__init__.py:346\u001b[0m, in \u001b[0;36mloads\u001b[1;34m(s, cls, object_hook, parse_float, parse_int, parse_constant, object_pairs_hook, **kw)\u001b[0m\n\u001b[0;32m    343\u001b[0m \u001b[38;5;28;01mif\u001b[39;00m (\u001b[38;5;28mcls\u001b[39m \u001b[38;5;129;01mis\u001b[39;00m \u001b[38;5;28;01mNone\u001b[39;00m \u001b[38;5;129;01mand\u001b[39;00m object_hook \u001b[38;5;129;01mis\u001b[39;00m \u001b[38;5;28;01mNone\u001b[39;00m \u001b[38;5;129;01mand\u001b[39;00m\n\u001b[0;32m    344\u001b[0m         parse_int \u001b[38;5;129;01mis\u001b[39;00m \u001b[38;5;28;01mNone\u001b[39;00m \u001b[38;5;129;01mand\u001b[39;00m parse_float \u001b[38;5;129;01mis\u001b[39;00m \u001b[38;5;28;01mNone\u001b[39;00m \u001b[38;5;129;01mand\u001b[39;00m\n\u001b[0;32m    345\u001b[0m         parse_constant \u001b[38;5;129;01mis\u001b[39;00m \u001b[38;5;28;01mNone\u001b[39;00m \u001b[38;5;129;01mand\u001b[39;00m object_pairs_hook \u001b[38;5;129;01mis\u001b[39;00m \u001b[38;5;28;01mNone\u001b[39;00m \u001b[38;5;129;01mand\u001b[39;00m \u001b[38;5;129;01mnot\u001b[39;00m kw):\n\u001b[1;32m--> 346\u001b[0m     \u001b[38;5;28;01mreturn\u001b[39;00m _default_decoder\u001b[38;5;241m.\u001b[39mdecode(s)\n\u001b[0;32m    347\u001b[0m \u001b[38;5;28;01mif\u001b[39;00m \u001b[38;5;28mcls\u001b[39m \u001b[38;5;129;01mis\u001b[39;00m \u001b[38;5;28;01mNone\u001b[39;00m:\n",
      "File \u001b[1;32mc:\\Users\\seank\\anaconda3\\Lib\\json\\decoder.py:337\u001b[0m, in \u001b[0;36mJSONDecoder.decode\u001b[1;34m(self, s, _w)\u001b[0m\n\u001b[0;32m    333\u001b[0m \u001b[38;5;250m\u001b[39m\u001b[38;5;124;03m\"\"\"Return the Python representation of ``s`` (a ``str`` instance\u001b[39;00m\n\u001b[0;32m    334\u001b[0m \u001b[38;5;124;03mcontaining a JSON document).\u001b[39;00m\n\u001b[0;32m    335\u001b[0m \n\u001b[0;32m    336\u001b[0m \u001b[38;5;124;03m\"\"\"\u001b[39;00m\n\u001b[1;32m--> 337\u001b[0m obj, end \u001b[38;5;241m=\u001b[39m \u001b[38;5;28mself\u001b[39m\u001b[38;5;241m.\u001b[39mraw_decode(s, idx\u001b[38;5;241m=\u001b[39m_w(s, \u001b[38;5;241m0\u001b[39m)\u001b[38;5;241m.\u001b[39mend())\n\u001b[0;32m    338\u001b[0m end \u001b[38;5;241m=\u001b[39m _w(s, end)\u001b[38;5;241m.\u001b[39mend()\n",
      "File \u001b[1;32mc:\\Users\\seank\\anaconda3\\Lib\\json\\decoder.py:355\u001b[0m, in \u001b[0;36mJSONDecoder.raw_decode\u001b[1;34m(self, s, idx)\u001b[0m\n\u001b[0;32m    354\u001b[0m \u001b[38;5;28;01mexcept\u001b[39;00m \u001b[38;5;167;01mStopIteration\u001b[39;00m \u001b[38;5;28;01mas\u001b[39;00m err:\n\u001b[1;32m--> 355\u001b[0m     \u001b[38;5;28;01mraise\u001b[39;00m JSONDecodeError(\u001b[38;5;124m\"\u001b[39m\u001b[38;5;124mExpecting value\u001b[39m\u001b[38;5;124m\"\u001b[39m, s, err\u001b[38;5;241m.\u001b[39mvalue) \u001b[38;5;28;01mfrom\u001b[39;00m \u001b[38;5;28;01mNone\u001b[39;00m\n\u001b[0;32m    356\u001b[0m \u001b[38;5;28;01mreturn\u001b[39;00m obj, end\n",
      "\u001b[1;31mJSONDecodeError\u001b[0m: Expecting value: line 1 column 1 (char 0)",
      "\nDuring handling of the above exception, another exception occurred:\n",
      "\u001b[1;31mJSONDecodeError\u001b[0m                           Traceback (most recent call last)",
      "Cell \u001b[1;32mIn[10], line 19\u001b[0m\n\u001b[0;32m     17\u001b[0m \u001b[38;5;28;01mwhile\u001b[39;00m \u001b[38;5;28;01mTrue\u001b[39;00m:\n\u001b[0;32m     18\u001b[0m     r \u001b[38;5;241m=\u001b[39m requests\u001b[38;5;241m.\u001b[39mget(url, headers\u001b[38;5;241m=\u001b[39mheaders, params\u001b[38;5;241m=\u001b[39mparams)   \u001b[38;5;66;03m# send API request with above params\u001b[39;00m\n\u001b[1;32m---> 19\u001b[0m     data \u001b[38;5;241m=\u001b[39m r\u001b[38;5;241m.\u001b[39mjson() \u001b[38;5;66;03m# parse json response to python dictionary\u001b[39;00m\n\u001b[0;32m     20\u001b[0m     results \u001b[38;5;241m=\u001b[39m data\u001b[38;5;241m.\u001b[39mget(\u001b[38;5;124m'\u001b[39m\u001b[38;5;124mresults\u001b[39m\u001b[38;5;124m'\u001b[39m, [])   \u001b[38;5;66;03m# extrac the results elements of the response\u001b[39;00m\n\u001b[0;32m     22\u001b[0m     \u001b[38;5;28;01mif\u001b[39;00m \u001b[38;5;129;01mnot\u001b[39;00m results:\n",
      "File \u001b[1;32mc:\\Users\\seank\\anaconda3\\Lib\\site-packages\\requests\\models.py:978\u001b[0m, in \u001b[0;36mResponse.json\u001b[1;34m(self, **kwargs)\u001b[0m\n\u001b[0;32m    974\u001b[0m     \u001b[38;5;28;01mreturn\u001b[39;00m complexjson\u001b[38;5;241m.\u001b[39mloads(\u001b[38;5;28mself\u001b[39m\u001b[38;5;241m.\u001b[39mtext, \u001b[38;5;241m*\u001b[39m\u001b[38;5;241m*\u001b[39mkwargs)\n\u001b[0;32m    975\u001b[0m \u001b[38;5;28;01mexcept\u001b[39;00m JSONDecodeError \u001b[38;5;28;01mas\u001b[39;00m e:\n\u001b[0;32m    976\u001b[0m     \u001b[38;5;66;03m# Catch JSON-related errors and raise as requests.JSONDecodeError\u001b[39;00m\n\u001b[0;32m    977\u001b[0m     \u001b[38;5;66;03m# This aliases json.JSONDecodeError and simplejson.JSONDecodeError\u001b[39;00m\n\u001b[1;32m--> 978\u001b[0m     \u001b[38;5;28;01mraise\u001b[39;00m RequestsJSONDecodeError(e\u001b[38;5;241m.\u001b[39mmsg, e\u001b[38;5;241m.\u001b[39mdoc, e\u001b[38;5;241m.\u001b[39mpos)\n",
      "\u001b[1;31mJSONDecodeError\u001b[0m: Expecting value: line 1 column 1 (char 0)"
     ]
    }
   ],
   "source": [
    "headers = {'token': Token}\n",
    "url = 'https://www.ncdc.noaa.gov/cdo-web/api/v2/data'\n",
    "\n",
    "# defining what data to fetch\n",
    "params = {\n",
    "    'datasetid': 'GHCND',\n",
    "    'datatypeid': ['TAVG', 'PRCP', 'AWND'], \n",
    "    'stationid': 'GHCND:USW00014732',\n",
    "    'startdate': '2022-01-01',\n",
    "    'enddate': '2022-12-31',\n",
    "    'limit': 1000,\n",
    "    'offset': 1\n",
    "}\n",
    "# empty list to store all records from all pages\n",
    "all_results = []\n",
    "# starting loop that will break when end of data reached\n",
    "while True:\n",
    "    r = requests.get(url, headers=headers, params=params)   # send API request with above params\n",
    "    data = r.json() # parse json response to python dictionary\n",
    "    results = data.get('results', [])   # extrac the results elements of the response\n",
    "\n",
    "    if not results:\n",
    "        break  # Exit the loop if no more data to fetch\n",
    "\n",
    "    all_results.extend(results) # add fetched results to main list\n",
    "    params['offset'] += 1000  # since the limit for the api is 1000\n",
    "\n",
    "    print(f\"Fetched {len(results)} records, total so far: {len(all_results)}\")  # print progress"
   ]
  },
  {
   "cell_type": "code",
   "execution_count": 11,
   "id": "4cfe9008",
   "metadata": {},
   "outputs": [
    {
     "name": "stdout",
     "output_type": "stream",
     "text": [
      "1095\n"
     ]
    }
   ],
   "source": [
    "print(365*3)"
   ]
  },
  {
   "cell_type": "code",
   "execution_count": 12,
   "id": "878673fa",
   "metadata": {},
   "outputs": [
    {
     "name": "stdout",
     "output_type": "stream",
     "text": [
      "(1095, 5)\n",
      "                  date datatype            station attributes  value\n",
      "0  2022-01-01T00:00:00     AWND  GHCND:USW00014732       ,,W,     28\n",
      "1  2022-01-01T00:00:00     PRCP  GHCND:USW00014732   ,,W,2400    193\n",
      "2  2022-01-01T00:00:00     TAVG  GHCND:USW00014732      H,,S,    116\n",
      "3  2022-01-02T00:00:00     AWND  GHCND:USW00014732       ,,W,     43\n",
      "4  2022-01-02T00:00:00     PRCP  GHCND:USW00014732   ,,W,2400     10\n",
      "                     date datatype            station attributes  value\n",
      "1090  2022-12-30T00:00:00     PRCP  GHCND:USW00014732   ,,W,2400      0\n",
      "1091  2022-12-30T00:00:00     TAVG  GHCND:USW00014732      H,,S,     93\n",
      "1092  2022-12-31T00:00:00     AWND  GHCND:USW00014732       ,,W,     21\n",
      "1093  2022-12-31T00:00:00     PRCP  GHCND:USW00014732   ,,W,2400     79\n",
      "1094  2022-12-31T00:00:00     TAVG  GHCND:USW00014732      H,,S,     82\n"
     ]
    }
   ],
   "source": [
    "# Convert to df\n",
    "d = pd.DataFrame(all_results)\n",
    "print(d.shape)\n",
    "print(d.head())\n",
    "print(d.tail())"
   ]
  },
  {
   "cell_type": "code",
   "execution_count": 13,
   "id": "84a90656",
   "metadata": {},
   "outputs": [
    {
     "data": {
      "text/html": [
       "<div>\n",
       "<style scoped>\n",
       "    .dataframe tbody tr th:only-of-type {\n",
       "        vertical-align: middle;\n",
       "    }\n",
       "\n",
       "    .dataframe tbody tr th {\n",
       "        vertical-align: top;\n",
       "    }\n",
       "\n",
       "    .dataframe thead th {\n",
       "        text-align: right;\n",
       "    }\n",
       "</style>\n",
       "<table border=\"1\" class=\"dataframe\">\n",
       "  <thead>\n",
       "    <tr style=\"text-align: right;\">\n",
       "      <th></th>\n",
       "      <th>date</th>\n",
       "      <th>datatype</th>\n",
       "      <th>station</th>\n",
       "      <th>attributes</th>\n",
       "      <th>value</th>\n",
       "    </tr>\n",
       "  </thead>\n",
       "  <tbody>\n",
       "    <tr>\n",
       "      <th>0</th>\n",
       "      <td>2022-01-01</td>\n",
       "      <td>AWND</td>\n",
       "      <td>GHCND:USW00014732</td>\n",
       "      <td>,,W,</td>\n",
       "      <td>28</td>\n",
       "    </tr>\n",
       "    <tr>\n",
       "      <th>1</th>\n",
       "      <td>2022-01-01</td>\n",
       "      <td>PRCP</td>\n",
       "      <td>GHCND:USW00014732</td>\n",
       "      <td>,,W,2400</td>\n",
       "      <td>193</td>\n",
       "    </tr>\n",
       "    <tr>\n",
       "      <th>2</th>\n",
       "      <td>2022-01-01</td>\n",
       "      <td>TAVG</td>\n",
       "      <td>GHCND:USW00014732</td>\n",
       "      <td>H,,S,</td>\n",
       "      <td>116</td>\n",
       "    </tr>\n",
       "    <tr>\n",
       "      <th>3</th>\n",
       "      <td>2022-01-02</td>\n",
       "      <td>AWND</td>\n",
       "      <td>GHCND:USW00014732</td>\n",
       "      <td>,,W,</td>\n",
       "      <td>43</td>\n",
       "    </tr>\n",
       "    <tr>\n",
       "      <th>4</th>\n",
       "      <td>2022-01-02</td>\n",
       "      <td>PRCP</td>\n",
       "      <td>GHCND:USW00014732</td>\n",
       "      <td>,,W,2400</td>\n",
       "      <td>10</td>\n",
       "    </tr>\n",
       "  </tbody>\n",
       "</table>\n",
       "</div>"
      ],
      "text/plain": [
       "         date datatype            station attributes  value\n",
       "0  2022-01-01     AWND  GHCND:USW00014732       ,,W,     28\n",
       "1  2022-01-01     PRCP  GHCND:USW00014732   ,,W,2400    193\n",
       "2  2022-01-01     TAVG  GHCND:USW00014732      H,,S,    116\n",
       "3  2022-01-02     AWND  GHCND:USW00014732       ,,W,     43\n",
       "4  2022-01-02     PRCP  GHCND:USW00014732   ,,W,2400     10"
      ]
     },
     "execution_count": 13,
     "metadata": {},
     "output_type": "execute_result"
    }
   ],
   "source": [
    "# dropping time from date var\n",
    "d['date'] = pd.to_datetime(d['date']).dt.date\n",
    "d.head()"
   ]
  },
  {
   "cell_type": "code",
   "execution_count": 14,
   "id": "609f7d29",
   "metadata": {},
   "outputs": [
    {
     "data": {
      "text/html": [
       "<div>\n",
       "<style scoped>\n",
       "    .dataframe tbody tr th:only-of-type {\n",
       "        vertical-align: middle;\n",
       "    }\n",
       "\n",
       "    .dataframe tbody tr th {\n",
       "        vertical-align: top;\n",
       "    }\n",
       "\n",
       "    .dataframe thead th {\n",
       "        text-align: right;\n",
       "    }\n",
       "</style>\n",
       "<table border=\"1\" class=\"dataframe\">\n",
       "  <thead>\n",
       "    <tr style=\"text-align: right;\">\n",
       "      <th>datatype</th>\n",
       "      <th>date</th>\n",
       "      <th>AWND</th>\n",
       "      <th>PRCP</th>\n",
       "      <th>TAVG</th>\n",
       "    </tr>\n",
       "  </thead>\n",
       "  <tbody>\n",
       "    <tr>\n",
       "      <th>0</th>\n",
       "      <td>2022-01-01</td>\n",
       "      <td>28</td>\n",
       "      <td>193</td>\n",
       "      <td>116</td>\n",
       "    </tr>\n",
       "    <tr>\n",
       "      <th>1</th>\n",
       "      <td>2022-01-02</td>\n",
       "      <td>43</td>\n",
       "      <td>10</td>\n",
       "      <td>114</td>\n",
       "    </tr>\n",
       "    <tr>\n",
       "      <th>2</th>\n",
       "      <td>2022-01-03</td>\n",
       "      <td>64</td>\n",
       "      <td>0</td>\n",
       "      <td>14</td>\n",
       "    </tr>\n",
       "    <tr>\n",
       "      <th>3</th>\n",
       "      <td>2022-01-04</td>\n",
       "      <td>39</td>\n",
       "      <td>0</td>\n",
       "      <td>-27</td>\n",
       "    </tr>\n",
       "    <tr>\n",
       "      <th>4</th>\n",
       "      <td>2022-01-05</td>\n",
       "      <td>34</td>\n",
       "      <td>61</td>\n",
       "      <td>32</td>\n",
       "    </tr>\n",
       "  </tbody>\n",
       "</table>\n",
       "</div>"
      ],
      "text/plain": [
       "datatype        date  AWND  PRCP  TAVG\n",
       "0         2022-01-01    28   193   116\n",
       "1         2022-01-02    43    10   114\n",
       "2         2022-01-03    64     0    14\n",
       "3         2022-01-04    39     0   -27\n",
       "4         2022-01-05    34    61    32"
      ]
     },
     "execution_count": 14,
     "metadata": {},
     "output_type": "execute_result"
    }
   ],
   "source": [
    "# pivotting to wide so each row = one day\n",
    "wide_weather = d.pivot(index='date',\n",
    "                       columns='datatype',\n",
    "                       values='value')\n",
    "wide_weather = wide_weather.reset_index()\n",
    "wide_weather.head()"
   ]
  },
  {
   "cell_type": "code",
   "execution_count": 15,
   "id": "bb294b94",
   "metadata": {},
   "outputs": [
    {
     "data": {
      "text/plain": [
       "Index(['date', 'AWND', 'PRCP', 'TAVG'], dtype='object', name='datatype')"
      ]
     },
     "execution_count": 15,
     "metadata": {},
     "output_type": "execute_result"
    }
   ],
   "source": [
    "wide_weather.columns"
   ]
  },
  {
   "cell_type": "code",
   "execution_count": 16,
   "id": "44ac41c8",
   "metadata": {},
   "outputs": [
    {
     "data": {
      "text/plain": [
       "Index(['date', 'AWND', 'PRCP', 'TAVG'], dtype='object')"
      ]
     },
     "execution_count": 16,
     "metadata": {},
     "output_type": "execute_result"
    }
   ],
   "source": [
    "# Remove 'datatype' label which is leftover from pivot\n",
    "wide_weather.columns.name = None\n",
    "wide_weather.columns "
   ]
  },
  {
   "cell_type": "markdown",
   "id": "314efef6",
   "metadata": {},
   "source": [
    "## Merging citibike to weather data"
   ]
  },
  {
   "cell_type": "code",
   "execution_count": 17,
   "id": "d828e4ac",
   "metadata": {},
   "outputs": [],
   "source": [
    "df_all = pd.merge(df, wide_weather,\n",
    "                  how = 'inner',\n",
    "                  on = 'date',\n",
    "                  indicator=True)"
   ]
  },
  {
   "cell_type": "code",
   "execution_count": 18,
   "id": "4edd1a8e",
   "metadata": {},
   "outputs": [],
   "source": [
    "df_all = df_all.sort_values(by='date')"
   ]
  },
  {
   "cell_type": "code",
   "execution_count": 19,
   "id": "dcdf665a",
   "metadata": {},
   "outputs": [
    {
     "data": {
      "text/html": [
       "<div>\n",
       "<style scoped>\n",
       "    .dataframe tbody tr th:only-of-type {\n",
       "        vertical-align: middle;\n",
       "    }\n",
       "\n",
       "    .dataframe tbody tr th {\n",
       "        vertical-align: top;\n",
       "    }\n",
       "\n",
       "    .dataframe thead th {\n",
       "        text-align: right;\n",
       "    }\n",
       "</style>\n",
       "<table border=\"1\" class=\"dataframe\">\n",
       "  <thead>\n",
       "    <tr style=\"text-align: right;\">\n",
       "      <th></th>\n",
       "      <th>ride_id</th>\n",
       "      <th>rideable_type</th>\n",
       "      <th>started_at</th>\n",
       "      <th>ended_at</th>\n",
       "      <th>start_station_name</th>\n",
       "      <th>start_station_id</th>\n",
       "      <th>end_station_name</th>\n",
       "      <th>end_station_id</th>\n",
       "      <th>start_lat</th>\n",
       "      <th>start_lng</th>\n",
       "      <th>end_lat</th>\n",
       "      <th>end_lng</th>\n",
       "      <th>member_casual</th>\n",
       "      <th>date</th>\n",
       "      <th>AWND</th>\n",
       "      <th>PRCP</th>\n",
       "      <th>TAVG</th>\n",
       "      <th>_merge</th>\n",
       "    </tr>\n",
       "  </thead>\n",
       "  <tbody>\n",
       "    <tr>\n",
       "      <th>337365</th>\n",
       "      <td>FB33E3D8F21E2941</td>\n",
       "      <td>electric_bike</td>\n",
       "      <td>2022-01-01 01:49:37.374</td>\n",
       "      <td>2022-01-01 01:57:50.346</td>\n",
       "      <td>Canal St &amp; Rutgers St</td>\n",
       "      <td>5303.08</td>\n",
       "      <td>Norfolk St &amp; Broome St</td>\n",
       "      <td>5374.01</td>\n",
       "      <td>40.714275</td>\n",
       "      <td>-73.989900</td>\n",
       "      <td>40.717227</td>\n",
       "      <td>-73.988021</td>\n",
       "      <td>casual</td>\n",
       "      <td>2022-01-01</td>\n",
       "      <td>28</td>\n",
       "      <td>193</td>\n",
       "      <td>116</td>\n",
       "      <td>both</td>\n",
       "    </tr>\n",
       "    <tr>\n",
       "      <th>934147</th>\n",
       "      <td>755337295F178067</td>\n",
       "      <td>electric_bike</td>\n",
       "      <td>2022-01-01 03:21:09.754</td>\n",
       "      <td>2022-01-01 03:49:33.047</td>\n",
       "      <td>Lewis Ave &amp; Madison St</td>\n",
       "      <td>4425.02</td>\n",
       "      <td>Columbia St &amp; Degraw St</td>\n",
       "      <td>4422.04</td>\n",
       "      <td>40.686312</td>\n",
       "      <td>-73.935775</td>\n",
       "      <td>40.685930</td>\n",
       "      <td>-74.002424</td>\n",
       "      <td>member</td>\n",
       "      <td>2022-01-01</td>\n",
       "      <td>28</td>\n",
       "      <td>193</td>\n",
       "      <td>116</td>\n",
       "      <td>both</td>\n",
       "    </tr>\n",
       "    <tr>\n",
       "      <th>227118</th>\n",
       "      <td>C62CA87E3A475ADD</td>\n",
       "      <td>classic_bike</td>\n",
       "      <td>2022-01-01 08:38:18.156</td>\n",
       "      <td>2022-01-01 08:47:54.213</td>\n",
       "      <td>Carlton Ave &amp; Park Ave</td>\n",
       "      <td>4732.04</td>\n",
       "      <td>Emerson Pl &amp; Myrtle Ave</td>\n",
       "      <td>4683.02</td>\n",
       "      <td>40.695807</td>\n",
       "      <td>-73.973556</td>\n",
       "      <td>40.693631</td>\n",
       "      <td>-73.962236</td>\n",
       "      <td>casual</td>\n",
       "      <td>2022-01-01</td>\n",
       "      <td>28</td>\n",
       "      <td>193</td>\n",
       "      <td>116</td>\n",
       "      <td>both</td>\n",
       "    </tr>\n",
       "    <tr>\n",
       "      <th>913138</th>\n",
       "      <td>CD7A2098AFCD5514</td>\n",
       "      <td>classic_bike</td>\n",
       "      <td>2022-01-01 10:33:58.529</td>\n",
       "      <td>2022-01-01 10:47:05.197</td>\n",
       "      <td>W 100 St &amp; Broadway</td>\n",
       "      <td>7580.01</td>\n",
       "      <td>W 67 St &amp; Broadway</td>\n",
       "      <td>7116.04</td>\n",
       "      <td>40.797372</td>\n",
       "      <td>-73.970412</td>\n",
       "      <td>40.774925</td>\n",
       "      <td>-73.982666</td>\n",
       "      <td>casual</td>\n",
       "      <td>2022-01-01</td>\n",
       "      <td>28</td>\n",
       "      <td>193</td>\n",
       "      <td>116</td>\n",
       "      <td>both</td>\n",
       "    </tr>\n",
       "    <tr>\n",
       "      <th>127328</th>\n",
       "      <td>3F9E0C51F49F78A3</td>\n",
       "      <td>electric_bike</td>\n",
       "      <td>2022-01-01 20:05:19.592</td>\n",
       "      <td>2022-01-01 20:12:00.661</td>\n",
       "      <td>W 18 St &amp; 6 Ave</td>\n",
       "      <td>6064.08</td>\n",
       "      <td>W 42 St &amp; 6 Ave</td>\n",
       "      <td>6517.08</td>\n",
       "      <td>40.739713</td>\n",
       "      <td>-73.994564</td>\n",
       "      <td>40.754920</td>\n",
       "      <td>-73.984550</td>\n",
       "      <td>member</td>\n",
       "      <td>2022-01-01</td>\n",
       "      <td>28</td>\n",
       "      <td>193</td>\n",
       "      <td>116</td>\n",
       "      <td>both</td>\n",
       "    </tr>\n",
       "  </tbody>\n",
       "</table>\n",
       "</div>"
      ],
      "text/plain": [
       "                 ride_id  rideable_type              started_at  \\\n",
       "337365  FB33E3D8F21E2941  electric_bike 2022-01-01 01:49:37.374   \n",
       "934147  755337295F178067  electric_bike 2022-01-01 03:21:09.754   \n",
       "227118  C62CA87E3A475ADD   classic_bike 2022-01-01 08:38:18.156   \n",
       "913138  CD7A2098AFCD5514   classic_bike 2022-01-01 10:33:58.529   \n",
       "127328  3F9E0C51F49F78A3  electric_bike 2022-01-01 20:05:19.592   \n",
       "\n",
       "                      ended_at      start_station_name start_station_id  \\\n",
       "337365 2022-01-01 01:57:50.346   Canal St & Rutgers St          5303.08   \n",
       "934147 2022-01-01 03:49:33.047  Lewis Ave & Madison St          4425.02   \n",
       "227118 2022-01-01 08:47:54.213  Carlton Ave & Park Ave          4732.04   \n",
       "913138 2022-01-01 10:47:05.197     W 100 St & Broadway          7580.01   \n",
       "127328 2022-01-01 20:12:00.661         W 18 St & 6 Ave          6064.08   \n",
       "\n",
       "               end_station_name end_station_id  start_lat  start_lng  \\\n",
       "337365   Norfolk St & Broome St        5374.01  40.714275 -73.989900   \n",
       "934147  Columbia St & Degraw St        4422.04  40.686312 -73.935775   \n",
       "227118  Emerson Pl & Myrtle Ave        4683.02  40.695807 -73.973556   \n",
       "913138       W 67 St & Broadway        7116.04  40.797372 -73.970412   \n",
       "127328          W 42 St & 6 Ave        6517.08  40.739713 -73.994564   \n",
       "\n",
       "          end_lat    end_lng member_casual        date  AWND  PRCP  TAVG  \\\n",
       "337365  40.717227 -73.988021        casual  2022-01-01    28   193   116   \n",
       "934147  40.685930 -74.002424        member  2022-01-01    28   193   116   \n",
       "227118  40.693631 -73.962236        casual  2022-01-01    28   193   116   \n",
       "913138  40.774925 -73.982666        casual  2022-01-01    28   193   116   \n",
       "127328  40.754920 -73.984550        member  2022-01-01    28   193   116   \n",
       "\n",
       "       _merge  \n",
       "337365   both  \n",
       "934147   both  \n",
       "227118   both  \n",
       "913138   both  \n",
       "127328   both  "
      ]
     },
     "execution_count": 19,
     "metadata": {},
     "output_type": "execute_result"
    }
   ],
   "source": [
    "df_all.head()"
   ]
  },
  {
   "cell_type": "code",
   "execution_count": 20,
   "id": "0faeb4f6",
   "metadata": {},
   "outputs": [
    {
     "data": {
      "text/html": [
       "<div>\n",
       "<style scoped>\n",
       "    .dataframe tbody tr th:only-of-type {\n",
       "        vertical-align: middle;\n",
       "    }\n",
       "\n",
       "    .dataframe tbody tr th {\n",
       "        vertical-align: top;\n",
       "    }\n",
       "\n",
       "    .dataframe thead th {\n",
       "        text-align: right;\n",
       "    }\n",
       "</style>\n",
       "<table border=\"1\" class=\"dataframe\">\n",
       "  <thead>\n",
       "    <tr style=\"text-align: right;\">\n",
       "      <th></th>\n",
       "      <th>ride_id</th>\n",
       "      <th>rideable_type</th>\n",
       "      <th>started_at</th>\n",
       "      <th>ended_at</th>\n",
       "      <th>start_station_name</th>\n",
       "      <th>start_station_id</th>\n",
       "      <th>end_station_name</th>\n",
       "      <th>end_station_id</th>\n",
       "      <th>start_lat</th>\n",
       "      <th>start_lng</th>\n",
       "      <th>end_lat</th>\n",
       "      <th>end_lng</th>\n",
       "      <th>member_casual</th>\n",
       "      <th>date</th>\n",
       "      <th>AWND</th>\n",
       "      <th>PRCP</th>\n",
       "      <th>TAVG</th>\n",
       "      <th>_merge</th>\n",
       "    </tr>\n",
       "  </thead>\n",
       "  <tbody>\n",
       "    <tr>\n",
       "      <th>28674012</th>\n",
       "      <td>048F372A8932AF74</td>\n",
       "      <td>classic_bike</td>\n",
       "      <td>2022-12-31 09:42:43.255</td>\n",
       "      <td>2022-12-31 09:53:40.001</td>\n",
       "      <td>Franklin St &amp; W Broadway</td>\n",
       "      <td>5430.08</td>\n",
       "      <td>W 25 St &amp; 6 Ave</td>\n",
       "      <td>6215.04</td>\n",
       "      <td>40.719116</td>\n",
       "      <td>-74.006667</td>\n",
       "      <td>40.743954</td>\n",
       "      <td>-73.991449</td>\n",
       "      <td>member</td>\n",
       "      <td>2022-12-31</td>\n",
       "      <td>21</td>\n",
       "      <td>79</td>\n",
       "      <td>82</td>\n",
       "      <td>both</td>\n",
       "    </tr>\n",
       "    <tr>\n",
       "      <th>28817575</th>\n",
       "      <td>96B836FC53F5B659</td>\n",
       "      <td>electric_bike</td>\n",
       "      <td>2022-12-31 12:43:53.932</td>\n",
       "      <td>2022-12-31 12:49:30.908</td>\n",
       "      <td>Eastern Pkwy &amp; Franklin Ave</td>\n",
       "      <td>3919.07</td>\n",
       "      <td>Monroe St &amp; Classon Ave</td>\n",
       "      <td>4336.01</td>\n",
       "      <td>40.670777</td>\n",
       "      <td>-73.957680</td>\n",
       "      <td>40.684568</td>\n",
       "      <td>-73.958811</td>\n",
       "      <td>member</td>\n",
       "      <td>2022-12-31</td>\n",
       "      <td>21</td>\n",
       "      <td>79</td>\n",
       "      <td>82</td>\n",
       "      <td>both</td>\n",
       "    </tr>\n",
       "    <tr>\n",
       "      <th>29544081</th>\n",
       "      <td>757B088CF96FCBE1</td>\n",
       "      <td>electric_bike</td>\n",
       "      <td>2022-12-31 16:52:05.623</td>\n",
       "      <td>2022-12-31 16:56:09.677</td>\n",
       "      <td>W 63 St &amp; Broadway</td>\n",
       "      <td>7052.01</td>\n",
       "      <td>W 53 St &amp; 10 Ave</td>\n",
       "      <td>6890.01</td>\n",
       "      <td>40.771597</td>\n",
       "      <td>-73.982601</td>\n",
       "      <td>40.766697</td>\n",
       "      <td>-73.990617</td>\n",
       "      <td>member</td>\n",
       "      <td>2022-12-31</td>\n",
       "      <td>21</td>\n",
       "      <td>79</td>\n",
       "      <td>82</td>\n",
       "      <td>both</td>\n",
       "    </tr>\n",
       "    <tr>\n",
       "      <th>28330742</th>\n",
       "      <td>8F4E623EA5E0FF21</td>\n",
       "      <td>classic_bike</td>\n",
       "      <td>2022-12-31 19:09:13.320</td>\n",
       "      <td>2022-12-31 19:15:34.353</td>\n",
       "      <td>E 82 St &amp; East End Ave</td>\n",
       "      <td>7049.04</td>\n",
       "      <td>E 78 St &amp; 2 Ave</td>\n",
       "      <td>7057.07</td>\n",
       "      <td>40.772461</td>\n",
       "      <td>-73.946821</td>\n",
       "      <td>40.772797</td>\n",
       "      <td>-73.955778</td>\n",
       "      <td>member</td>\n",
       "      <td>2022-12-31</td>\n",
       "      <td>21</td>\n",
       "      <td>79</td>\n",
       "      <td>82</td>\n",
       "      <td>both</td>\n",
       "    </tr>\n",
       "    <tr>\n",
       "      <th>29754095</th>\n",
       "      <td>4BD35140231675EB</td>\n",
       "      <td>electric_bike</td>\n",
       "      <td>2022-12-31 19:14:19.795</td>\n",
       "      <td>2022-12-31 20:03:00.165</td>\n",
       "      <td>W 192 St &amp; University Ave</td>\n",
       "      <td>8639.01</td>\n",
       "      <td>W 192 St &amp; University Ave</td>\n",
       "      <td>8639.01</td>\n",
       "      <td>40.866914</td>\n",
       "      <td>-73.901737</td>\n",
       "      <td>40.866899</td>\n",
       "      <td>-73.901942</td>\n",
       "      <td>member</td>\n",
       "      <td>2022-12-31</td>\n",
       "      <td>21</td>\n",
       "      <td>79</td>\n",
       "      <td>82</td>\n",
       "      <td>both</td>\n",
       "    </tr>\n",
       "  </tbody>\n",
       "</table>\n",
       "</div>"
      ],
      "text/plain": [
       "                   ride_id  rideable_type              started_at  \\\n",
       "28674012  048F372A8932AF74   classic_bike 2022-12-31 09:42:43.255   \n",
       "28817575  96B836FC53F5B659  electric_bike 2022-12-31 12:43:53.932   \n",
       "29544081  757B088CF96FCBE1  electric_bike 2022-12-31 16:52:05.623   \n",
       "28330742  8F4E623EA5E0FF21   classic_bike 2022-12-31 19:09:13.320   \n",
       "29754095  4BD35140231675EB  electric_bike 2022-12-31 19:14:19.795   \n",
       "\n",
       "                        ended_at           start_station_name  \\\n",
       "28674012 2022-12-31 09:53:40.001     Franklin St & W Broadway   \n",
       "28817575 2022-12-31 12:49:30.908  Eastern Pkwy & Franklin Ave   \n",
       "29544081 2022-12-31 16:56:09.677           W 63 St & Broadway   \n",
       "28330742 2022-12-31 19:15:34.353       E 82 St & East End Ave   \n",
       "29754095 2022-12-31 20:03:00.165    W 192 St & University Ave   \n",
       "\n",
       "         start_station_id           end_station_name end_station_id  \\\n",
       "28674012          5430.08            W 25 St & 6 Ave        6215.04   \n",
       "28817575          3919.07    Monroe St & Classon Ave        4336.01   \n",
       "29544081          7052.01           W 53 St & 10 Ave        6890.01   \n",
       "28330742          7049.04            E 78 St & 2 Ave        7057.07   \n",
       "29754095          8639.01  W 192 St & University Ave        8639.01   \n",
       "\n",
       "          start_lat  start_lng    end_lat    end_lng member_casual  \\\n",
       "28674012  40.719116 -74.006667  40.743954 -73.991449        member   \n",
       "28817575  40.670777 -73.957680  40.684568 -73.958811        member   \n",
       "29544081  40.771597 -73.982601  40.766697 -73.990617        member   \n",
       "28330742  40.772461 -73.946821  40.772797 -73.955778        member   \n",
       "29754095  40.866914 -73.901737  40.866899 -73.901942        member   \n",
       "\n",
       "                date  AWND  PRCP  TAVG _merge  \n",
       "28674012  2022-12-31    21    79    82   both  \n",
       "28817575  2022-12-31    21    79    82   both  \n",
       "29544081  2022-12-31    21    79    82   both  \n",
       "28330742  2022-12-31    21    79    82   both  \n",
       "29754095  2022-12-31    21    79    82   both  "
      ]
     },
     "execution_count": 20,
     "metadata": {},
     "output_type": "execute_result"
    }
   ],
   "source": [
    "df_all.tail()"
   ]
  },
  {
   "cell_type": "code",
   "execution_count": 21,
   "id": "0295c2e8",
   "metadata": {},
   "outputs": [
    {
     "data": {
      "text/plain": [
       "_merge\n",
       "both          29838166\n",
       "left_only            0\n",
       "right_only           0\n",
       "Name: count, dtype: int64"
      ]
     },
     "execution_count": 21,
     "metadata": {},
     "output_type": "execute_result"
    }
   ],
   "source": [
    "df_all['_merge'].value_counts(dropna=False)"
   ]
  },
  {
   "cell_type": "code",
   "execution_count": 22,
   "id": "83a0a55f",
   "metadata": {},
   "outputs": [],
   "source": [
    "df_all['start_station_id'] = df_all['start_station_id'].astype(str)\n",
    "df_all['end_station_id'] = df_all['end_station_id'].astype(str)"
   ]
  },
  {
   "cell_type": "code",
   "execution_count": 23,
   "id": "f0d32c18",
   "metadata": {},
   "outputs": [
    {
     "data": {
      "text/plain": [
       "(29838166, 18)"
      ]
     },
     "execution_count": 23,
     "metadata": {},
     "output_type": "execute_result"
    }
   ],
   "source": [
    "df_all.shape"
   ]
  },
  {
   "cell_type": "code",
   "execution_count": 24,
   "id": "6f4adf82",
   "metadata": {},
   "outputs": [],
   "source": [
    "df = df_all.copy() # reassigning 'df' object to merged data"
   ]
  },
  {
   "cell_type": "markdown",
   "id": "7ff2af8b",
   "metadata": {},
   "source": [
    "## Data Cleaning"
   ]
  },
  {
   "cell_type": "code",
   "execution_count": 25,
   "id": "0c1ae4cd",
   "metadata": {},
   "outputs": [
    {
     "data": {
      "text/plain": [
       "ride_id                       object\n",
       "rideable_type                 object\n",
       "started_at            datetime64[ns]\n",
       "ended_at              datetime64[ns]\n",
       "start_station_name            object\n",
       "start_station_id              object\n",
       "end_station_name              object\n",
       "end_station_id                object\n",
       "start_lat                    float64\n",
       "start_lng                    float64\n",
       "end_lat                      float64\n",
       "end_lng                      float64\n",
       "member_casual                 object\n",
       "date                          object\n",
       "AWND                           int64\n",
       "PRCP                           int64\n",
       "TAVG                           int64\n",
       "_merge                      category\n",
       "dtype: object"
      ]
     },
     "execution_count": 25,
     "metadata": {},
     "output_type": "execute_result"
    }
   ],
   "source": [
    "df.dtypes"
   ]
  },
  {
   "cell_type": "code",
   "execution_count": 26,
   "id": "dd32bfe4",
   "metadata": {},
   "outputs": [],
   "source": [
    "df['date'] = pd.to_datetime(df['date'])"
   ]
  },
  {
   "cell_type": "markdown",
   "id": "bba96d59",
   "metadata": {},
   "source": [
    "Missings"
   ]
  },
  {
   "cell_type": "code",
   "execution_count": 28,
   "id": "da5c82b8",
   "metadata": {},
   "outputs": [
    {
     "data": {
      "text/plain": [
       "ride_id                   0\n",
       "rideable_type             0\n",
       "started_at                0\n",
       "ended_at                  0\n",
       "start_station_name       49\n",
       "start_station_id          0\n",
       "end_station_name      69884\n",
       "end_station_id            0\n",
       "start_lat                 0\n",
       "start_lng                 0\n",
       "end_lat               37223\n",
       "end_lng               37223\n",
       "member_casual             0\n",
       "date                      0\n",
       "AWND                      0\n",
       "PRCP                      0\n",
       "TAVG                      0\n",
       "_merge                    0\n",
       "dtype: int64"
      ]
     },
     "execution_count": 28,
     "metadata": {},
     "output_type": "execute_result"
    }
   ],
   "source": [
    "df.isnull().sum()"
   ]
  },
  {
   "cell_type": "code",
   "execution_count": 29,
   "id": "95c349a1",
   "metadata": {},
   "outputs": [
    {
     "name": "stdout",
     "output_type": "stream",
     "text": [
      "Dropped 69884 rows (from 29838166 to 29768282)\n"
     ]
    }
   ],
   "source": [
    "before = len(df)\n",
    "df = df.dropna()\n",
    "after = len(df)\n",
    "print(f\"Dropped {before - after} rows (from {before} to {after})\")"
   ]
  },
  {
   "cell_type": "markdown",
   "id": "761a78dc",
   "metadata": {},
   "source": [
    "Duplicates"
   ]
  },
  {
   "cell_type": "code",
   "execution_count": 32,
   "id": "ebca977e",
   "metadata": {},
   "outputs": [
    {
     "data": {
      "text/html": [
       "<div>\n",
       "<style scoped>\n",
       "    .dataframe tbody tr th:only-of-type {\n",
       "        vertical-align: middle;\n",
       "    }\n",
       "\n",
       "    .dataframe tbody tr th {\n",
       "        vertical-align: top;\n",
       "    }\n",
       "\n",
       "    .dataframe thead th {\n",
       "        text-align: right;\n",
       "    }\n",
       "</style>\n",
       "<table border=\"1\" class=\"dataframe\">\n",
       "  <thead>\n",
       "    <tr style=\"text-align: right;\">\n",
       "      <th></th>\n",
       "      <th>ride_id</th>\n",
       "      <th>rideable_type</th>\n",
       "      <th>started_at</th>\n",
       "      <th>ended_at</th>\n",
       "      <th>start_station_name</th>\n",
       "      <th>start_station_id</th>\n",
       "      <th>end_station_name</th>\n",
       "      <th>end_station_id</th>\n",
       "      <th>start_lat</th>\n",
       "      <th>start_lng</th>\n",
       "      <th>end_lat</th>\n",
       "      <th>end_lng</th>\n",
       "      <th>member_casual</th>\n",
       "      <th>date</th>\n",
       "      <th>AWND</th>\n",
       "      <th>PRCP</th>\n",
       "      <th>TAVG</th>\n",
       "      <th>_merge</th>\n",
       "    </tr>\n",
       "  </thead>\n",
       "  <tbody>\n",
       "  </tbody>\n",
       "</table>\n",
       "</div>"
      ],
      "text/plain": [
       "Empty DataFrame\n",
       "Columns: [ride_id, rideable_type, started_at, ended_at, start_station_name, start_station_id, end_station_name, end_station_id, start_lat, start_lng, end_lat, end_lng, member_casual, date, AWND, PRCP, TAVG, _merge]\n",
       "Index: []"
      ]
     },
     "execution_count": 32,
     "metadata": {},
     "output_type": "execute_result"
    }
   ],
   "source": [
    "d = df.duplicated()\n",
    "df[d]"
   ]
  },
  {
   "cell_type": "code",
   "execution_count": 33,
   "id": "517d32e7",
   "metadata": {},
   "outputs": [],
   "source": [
    "# dropping cols\n",
    "df = df.drop(columns=['start_station_id', 'end_station_id', '_merge'])"
   ]
  },
  {
   "cell_type": "markdown",
   "id": "b9955b25",
   "metadata": {},
   "source": [
    "## Deriving duration"
   ]
  },
  {
   "cell_type": "code",
   "execution_count": 34,
   "id": "2286ad4f",
   "metadata": {},
   "outputs": [],
   "source": [
    "# Creating new column with trip duration\n",
    "df['trip_duration'] = (df['ended_at'] - df['started_at']).dt.total_seconds() / 60"
   ]
  },
  {
   "cell_type": "code",
   "execution_count": 35,
   "id": "38e663eb",
   "metadata": {},
   "outputs": [],
   "source": [
    "# Dropping trips with negative trip duration\n",
    "df = df[df['trip_duration'] >= 0].copy()"
   ]
  },
  {
   "cell_type": "code",
   "execution_count": 36,
   "id": "a28c6ab1",
   "metadata": {},
   "outputs": [],
   "source": [
    "# Exporting DF\n",
    "df.to_parquet(r'C:\\Data\\Citibike_NY_2022\\merged\\df_weather_duration.parquet',index=False)"
   ]
  }
 ],
 "metadata": {
  "kernelspec": {
   "display_name": "Python (venv)",
   "language": "python",
   "name": "venv"
  },
  "language_info": {
   "codemirror_mode": {
    "name": "ipython",
    "version": 3
   },
   "file_extension": ".py",
   "mimetype": "text/x-python",
   "name": "python",
   "nbconvert_exporter": "python",
   "pygments_lexer": "ipython3",
   "version": "3.12.7"
  }
 },
 "nbformat": 4,
 "nbformat_minor": 5
}
