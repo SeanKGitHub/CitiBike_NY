{
 "cells": [
  {
   "cell_type": "markdown",
   "id": "87a0df5e",
   "metadata": {},
   "source": [
    "# This script creates 3 Kepler GL maps. One with the top 100 busiest stations, one with population density as the background layer and one with median household income."
   ]
  },
  {
   "cell_type": "code",
   "execution_count": 1,
   "id": "4b061e6c",
   "metadata": {},
   "outputs": [
    {
     "name": "stderr",
     "output_type": "stream",
     "text": [
      "c:\\Users\\seank\\OneDrive\\Dokumente\\Career Foundry Data Analytics Course\\Python_visualisation\\CitiBike_NY\\venv\\Lib\\site-packages\\keplergl\\keplergl.py:13: UserWarning: pkg_resources is deprecated as an API. See https://setuptools.pypa.io/en/latest/pkg_resources.html. The pkg_resources package is slated for removal as early as 2025-11-30. Refrain from using this package or pin to Setuptools<81.\n",
      "  from pkg_resources import resource_string\n"
     ]
    }
   ],
   "source": [
    "import pandas as pd\n",
    "import numpy as np\n",
    "from keplergl import KeplerGl\n",
    "from pyproj import CRS\n",
    "from matplotlib import pyplot as plt\n",
    "import os\n",
    "import geopandas as gpd\n",
    "import json"
   ]
  },
  {
   "cell_type": "code",
   "execution_count": 2,
   "id": "b65a5056",
   "metadata": {},
   "outputs": [],
   "source": [
    "df = pd.read_csv(r'C:\\Data\\Citibike_NY_2022\\merged\\station_summary.csv')"
   ]
  },
  {
   "cell_type": "code",
   "execution_count": 3,
   "id": "46149cf5",
   "metadata": {},
   "outputs": [
    {
     "data": {
      "text/html": [
       "<div>\n",
       "<style scoped>\n",
       "    .dataframe tbody tr th:only-of-type {\n",
       "        vertical-align: middle;\n",
       "    }\n",
       "\n",
       "    .dataframe tbody tr th {\n",
       "        vertical-align: top;\n",
       "    }\n",
       "\n",
       "    .dataframe thead th {\n",
       "        text-align: right;\n",
       "    }\n",
       "</style>\n",
       "<table border=\"1\" class=\"dataframe\">\n",
       "  <thead>\n",
       "    <tr style=\"text-align: right;\">\n",
       "      <th></th>\n",
       "      <th>station_name</th>\n",
       "      <th>lat</th>\n",
       "      <th>lng</th>\n",
       "      <th>no_return_pc</th>\n",
       "      <th>daily_deps</th>\n",
       "      <th>daily_arrs</th>\n",
       "    </tr>\n",
       "  </thead>\n",
       "  <tbody>\n",
       "    <tr>\n",
       "      <th>0</th>\n",
       "      <td>1 Ave &amp; E 110 St</td>\n",
       "      <td>40.792327</td>\n",
       "      <td>-73.938300</td>\n",
       "      <td>-0.7</td>\n",
       "      <td>58.8</td>\n",
       "      <td>59.2</td>\n",
       "    </tr>\n",
       "    <tr>\n",
       "      <th>1</th>\n",
       "      <td>1 Ave &amp; E 16 St</td>\n",
       "      <td>40.732219</td>\n",
       "      <td>-73.981656</td>\n",
       "      <td>1.3</td>\n",
       "      <td>184.2</td>\n",
       "      <td>181.9</td>\n",
       "    </tr>\n",
       "    <tr>\n",
       "      <th>2</th>\n",
       "      <td>1 Ave &amp; E 18 St</td>\n",
       "      <td>40.733812</td>\n",
       "      <td>-73.980544</td>\n",
       "      <td>0.4</td>\n",
       "      <td>193.8</td>\n",
       "      <td>193.1</td>\n",
       "    </tr>\n",
       "    <tr>\n",
       "      <th>3</th>\n",
       "      <td>1 Ave &amp; E 30 St</td>\n",
       "      <td>40.741444</td>\n",
       "      <td>-73.975361</td>\n",
       "      <td>-1.4</td>\n",
       "      <td>124.2</td>\n",
       "      <td>126.0</td>\n",
       "    </tr>\n",
       "    <tr>\n",
       "      <th>4</th>\n",
       "      <td>1 Ave &amp; E 39 St</td>\n",
       "      <td>40.747140</td>\n",
       "      <td>-73.971130</td>\n",
       "      <td>-0.8</td>\n",
       "      <td>143.3</td>\n",
       "      <td>144.4</td>\n",
       "    </tr>\n",
       "  </tbody>\n",
       "</table>\n",
       "</div>"
      ],
      "text/plain": [
       "       station_name        lat        lng  no_return_pc  daily_deps  \\\n",
       "0  1 Ave & E 110 St  40.792327 -73.938300          -0.7        58.8   \n",
       "1   1 Ave & E 16 St  40.732219 -73.981656           1.3       184.2   \n",
       "2   1 Ave & E 18 St  40.733812 -73.980544           0.4       193.8   \n",
       "3   1 Ave & E 30 St  40.741444 -73.975361          -1.4       124.2   \n",
       "4   1 Ave & E 39 St  40.747140 -73.971130          -0.8       143.3   \n",
       "\n",
       "   daily_arrs  \n",
       "0        59.2  \n",
       "1       181.9  \n",
       "2       193.1  \n",
       "3       126.0  \n",
       "4       144.4  "
      ]
     },
     "execution_count": 3,
     "metadata": {},
     "output_type": "execute_result"
    }
   ],
   "source": [
    "df.head()"
   ]
  },
  {
   "cell_type": "code",
   "execution_count": 4,
   "id": "40f03cce",
   "metadata": {},
   "outputs": [
    {
     "data": {
      "text/plain": [
       "(1818, 6)"
      ]
     },
     "execution_count": 4,
     "metadata": {},
     "output_type": "execute_result"
    }
   ],
   "source": [
    "df.shape"
   ]
  },
  {
   "cell_type": "markdown",
   "id": "c6b3cfab",
   "metadata": {},
   "source": [
    "## Plotting with KeplerGl"
   ]
  },
  {
   "cell_type": "code",
   "execution_count": 5,
   "id": "6df40709",
   "metadata": {},
   "outputs": [
    {
     "data": {
      "text/plain": [
       "station_name     object\n",
       "lat             float64\n",
       "lng             float64\n",
       "no_return_pc    float64\n",
       "daily_deps      float64\n",
       "daily_arrs      float64\n",
       "dtype: object"
      ]
     },
     "execution_count": 5,
     "metadata": {},
     "output_type": "execute_result"
    }
   ],
   "source": [
    "df.dtypes"
   ]
  },
  {
   "cell_type": "code",
   "execution_count": 6,
   "id": "df776690",
   "metadata": {},
   "outputs": [
    {
     "name": "stdout",
     "output_type": "stream",
     "text": [
      "c:\\Users\\seank\\OneDrive\\Dokumente\\Career Foundry Data Analytics Course\\Python_visualisation\\CitiBike_NY\\notebooks\n"
     ]
    }
   ],
   "source": [
    "print(os.getcwd())"
   ]
  },
  {
   "cell_type": "code",
   "execution_count": 7,
   "id": "50624887",
   "metadata": {},
   "outputs": [],
   "source": [
    "# load the subway lines GeoJSON \n",
    "subway_lines = gpd.read_file(\"../subway_lines.geojson\")"
   ]
  },
  {
   "cell_type": "code",
   "execution_count": 8,
   "id": "9dc2bd0e",
   "metadata": {},
   "outputs": [],
   "source": [
    "# load subway stations GeoJson\n",
    "subway_stations = gpd.read_file(\"../subway_stations.geojson\")"
   ]
  },
  {
   "cell_type": "code",
   "execution_count": 9,
   "id": "13707c4e",
   "metadata": {},
   "outputs": [
    {
     "name": "stdout",
     "output_type": "stream",
     "text": [
      "['Point']\n"
     ]
    }
   ],
   "source": [
    "print(subway_stations.geometry.geom_type.unique())"
   ]
  },
  {
   "cell_type": "code",
   "execution_count": 10,
   "id": "091efaec",
   "metadata": {},
   "outputs": [
    {
     "data": {
      "text/plain": [
       "shape_area            object\n",
       "ntaname               object\n",
       "cdtaname              object\n",
       "shape_leng            object\n",
       "boroname              object\n",
       "ntatype               object\n",
       "nta2020               object\n",
       "borocode              object\n",
       "countyfips            object\n",
       "ntaabbrev             object\n",
       "cdta2020              object\n",
       "GeoID                 object\n",
       "median_hh_income     float64\n",
       "population           float64\n",
       "area_km2             float64\n",
       "pop_density          float64\n",
       "geometry            geometry\n",
       "dtype: object"
      ]
     },
     "execution_count": 10,
     "metadata": {},
     "output_type": "execute_result"
    }
   ],
   "source": [
    "# load NTA shapes with population and income data merged\n",
    "ntas = gpd.read_file(\"C:/Data/Citibike_NY_2022/merged/nta_pop_inc.geojson\")\n",
    "ntas.dtypes"
   ]
  },
  {
   "cell_type": "markdown",
   "id": "57144753",
   "metadata": {},
   "source": [
    "## Map with just the top 100 stations and subway"
   ]
  },
  {
   "cell_type": "code",
   "execution_count": 11,
   "id": "c16c15da",
   "metadata": {},
   "outputs": [
    {
     "data": {
      "text/html": [
       "<div>\n",
       "<style scoped>\n",
       "    .dataframe tbody tr th:only-of-type {\n",
       "        vertical-align: middle;\n",
       "    }\n",
       "\n",
       "    .dataframe tbody tr th {\n",
       "        vertical-align: top;\n",
       "    }\n",
       "\n",
       "    .dataframe thead th {\n",
       "        text-align: right;\n",
       "    }\n",
       "</style>\n",
       "<table border=\"1\" class=\"dataframe\">\n",
       "  <thead>\n",
       "    <tr style=\"text-align: right;\">\n",
       "      <th></th>\n",
       "      <th>station_name</th>\n",
       "      <th>lat</th>\n",
       "      <th>lng</th>\n",
       "      <th>no_return_pc</th>\n",
       "      <th>daily_deps</th>\n",
       "      <th>daily_arrs</th>\n",
       "    </tr>\n",
       "  </thead>\n",
       "  <tbody>\n",
       "    <tr>\n",
       "      <th>1643</th>\n",
       "      <td>W 21 St &amp; 6 Ave</td>\n",
       "      <td>40.741740</td>\n",
       "      <td>-73.994156</td>\n",
       "      <td>-1.1</td>\n",
       "      <td>352.9</td>\n",
       "      <td>356.7</td>\n",
       "    </tr>\n",
       "    <tr>\n",
       "      <th>1773</th>\n",
       "      <td>West St &amp; Chambers St</td>\n",
       "      <td>40.717548</td>\n",
       "      <td>-74.013221</td>\n",
       "      <td>-1.0</td>\n",
       "      <td>337.1</td>\n",
       "      <td>340.6</td>\n",
       "    </tr>\n",
       "    <tr>\n",
       "      <th>506</th>\n",
       "      <td>Broadway &amp; W 58 St</td>\n",
       "      <td>40.766953</td>\n",
       "      <td>-73.981693</td>\n",
       "      <td>3.3</td>\n",
       "      <td>312.4</td>\n",
       "      <td>302.2</td>\n",
       "    </tr>\n",
       "    <tr>\n",
       "      <th>288</th>\n",
       "      <td>6 Ave &amp; W 33 St</td>\n",
       "      <td>40.749013</td>\n",
       "      <td>-73.988484</td>\n",
       "      <td>1.2</td>\n",
       "      <td>291.1</td>\n",
       "      <td>287.5</td>\n",
       "    </tr>\n",
       "    <tr>\n",
       "      <th>8</th>\n",
       "      <td>1 Ave &amp; E 68 St</td>\n",
       "      <td>40.765005</td>\n",
       "      <td>-73.958185</td>\n",
       "      <td>-0.4</td>\n",
       "      <td>286.8</td>\n",
       "      <td>288.0</td>\n",
       "    </tr>\n",
       "  </tbody>\n",
       "</table>\n",
       "</div>"
      ],
      "text/plain": [
       "               station_name        lat        lng  no_return_pc  daily_deps  \\\n",
       "1643        W 21 St & 6 Ave  40.741740 -73.994156          -1.1       352.9   \n",
       "1773  West St & Chambers St  40.717548 -74.013221          -1.0       337.1   \n",
       "506      Broadway & W 58 St  40.766953 -73.981693           3.3       312.4   \n",
       "288         6 Ave & W 33 St  40.749013 -73.988484           1.2       291.1   \n",
       "8           1 Ave & E 68 St  40.765005 -73.958185          -0.4       286.8   \n",
       "\n",
       "      daily_arrs  \n",
       "1643       356.7  \n",
       "1773       340.6  \n",
       "506        302.2  \n",
       "288        287.5  \n",
       "8          288.0  "
      ]
     },
     "execution_count": 11,
     "metadata": {},
     "output_type": "execute_result"
    }
   ],
   "source": [
    "# subsetting top 100 stations\n",
    "df_100 = df.sort_values(by='daily_deps', ascending=False).head(100).copy()\n",
    "df_100.head()"
   ]
  },
  {
   "cell_type": "code",
   "execution_count": 12,
   "id": "40686c07",
   "metadata": {},
   "outputs": [
    {
     "data": {
      "text/html": [
       "<div>\n",
       "<style scoped>\n",
       "    .dataframe tbody tr th:only-of-type {\n",
       "        vertical-align: middle;\n",
       "    }\n",
       "\n",
       "    .dataframe tbody tr th {\n",
       "        vertical-align: top;\n",
       "    }\n",
       "\n",
       "    .dataframe thead th {\n",
       "        text-align: right;\n",
       "    }\n",
       "</style>\n",
       "<table border=\"1\" class=\"dataframe\">\n",
       "  <thead>\n",
       "    <tr style=\"text-align: right;\">\n",
       "      <th></th>\n",
       "      <th>lat</th>\n",
       "      <th>lng</th>\n",
       "      <th>no_return_pc</th>\n",
       "      <th>daily_deps</th>\n",
       "      <th>daily_arrs</th>\n",
       "    </tr>\n",
       "  </thead>\n",
       "  <tbody>\n",
       "    <tr>\n",
       "      <th>count</th>\n",
       "      <td>100.000000</td>\n",
       "      <td>100.000000</td>\n",
       "      <td>100.000000</td>\n",
       "      <td>100.000000</td>\n",
       "      <td>100.000000</td>\n",
       "    </tr>\n",
       "    <tr>\n",
       "      <th>mean</th>\n",
       "      <td>40.742871</td>\n",
       "      <td>-73.989408</td>\n",
       "      <td>-0.266000</td>\n",
       "      <td>197.697000</td>\n",
       "      <td>198.172000</td>\n",
       "    </tr>\n",
       "    <tr>\n",
       "      <th>std</th>\n",
       "      <td>0.017715</td>\n",
       "      <td>0.013517</td>\n",
       "      <td>1.409006</td>\n",
       "      <td>40.586567</td>\n",
       "      <td>40.494454</td>\n",
       "    </tr>\n",
       "    <tr>\n",
       "      <th>min</th>\n",
       "      <td>40.711444</td>\n",
       "      <td>-74.016584</td>\n",
       "      <td>-5.500000</td>\n",
       "      <td>157.100000</td>\n",
       "      <td>155.400000</td>\n",
       "    </tr>\n",
       "    <tr>\n",
       "      <th>25%</th>\n",
       "      <td>40.729760</td>\n",
       "      <td>-73.997252</td>\n",
       "      <td>-0.700000</td>\n",
       "      <td>168.525000</td>\n",
       "      <td>170.300000</td>\n",
       "    </tr>\n",
       "    <tr>\n",
       "      <th>50%</th>\n",
       "      <td>40.742889</td>\n",
       "      <td>-73.990426</td>\n",
       "      <td>-0.300000</td>\n",
       "      <td>184.500000</td>\n",
       "      <td>184.300000</td>\n",
       "    </tr>\n",
       "    <tr>\n",
       "      <th>75%</th>\n",
       "      <td>40.754974</td>\n",
       "      <td>-73.981597</td>\n",
       "      <td>0.200000</td>\n",
       "      <td>210.375000</td>\n",
       "      <td>210.750000</td>\n",
       "    </tr>\n",
       "    <tr>\n",
       "      <th>max</th>\n",
       "      <td>40.779668</td>\n",
       "      <td>-73.953517</td>\n",
       "      <td>4.000000</td>\n",
       "      <td>352.900000</td>\n",
       "      <td>356.700000</td>\n",
       "    </tr>\n",
       "  </tbody>\n",
       "</table>\n",
       "</div>"
      ],
      "text/plain": [
       "              lat         lng  no_return_pc  daily_deps  daily_arrs\n",
       "count  100.000000  100.000000    100.000000  100.000000  100.000000\n",
       "mean    40.742871  -73.989408     -0.266000  197.697000  198.172000\n",
       "std      0.017715    0.013517      1.409006   40.586567   40.494454\n",
       "min     40.711444  -74.016584     -5.500000  157.100000  155.400000\n",
       "25%     40.729760  -73.997252     -0.700000  168.525000  170.300000\n",
       "50%     40.742889  -73.990426     -0.300000  184.500000  184.300000\n",
       "75%     40.754974  -73.981597      0.200000  210.375000  210.750000\n",
       "max     40.779668  -73.953517      4.000000  352.900000  356.700000"
      ]
     },
     "execution_count": 12,
     "metadata": {},
     "output_type": "execute_result"
    }
   ],
   "source": [
    "df_100.describe()"
   ]
  },
  {
   "cell_type": "code",
   "execution_count": null,
   "id": "05ee2a57",
   "metadata": {},
   "outputs": [
    {
     "name": "stdout",
     "output_type": "stream",
     "text": [
      "User Guide: https://docs.kepler.gl/docs/keplergl-jupyter\n"
     ]
    },
    {
     "data": {
      "application/vnd.jupyter.widget-view+json": {
       "model_id": "42091380687444bbb529aac080c09333",
       "version_major": 2,
       "version_minor": 0
      },
      "text/plain": [
       "KeplerGl(config={'version': 'v1', 'config': {'visState': {'filters': [], 'layers': [{'id': 'lbngg4c', 'type': …"
      ]
     },
     "execution_count": 14,
     "metadata": {},
     "output_type": "execute_result"
    }
   ],
   "source": [
    "# loading config settings\n",
    "with open(\"config_top100.json\") as f:\n",
    "    config = json.load(f)\n",
    "\n",
    "m_top100 = KeplerGl(height=700, data={\"data_100\": df_100}, config=config)\n",
    "m_top100"
   ]
  },
  {
   "cell_type": "code",
   "execution_count": 14,
   "id": "d44d1847",
   "metadata": {},
   "outputs": [],
   "source": [
    "# save settings\n",
    "config_top100 = m_top100.config\n",
    "\n",
    "with open(\"config_top100.json\", \"w\") as outfile:\n",
    "    json.dump(config_top100, outfile)"
   ]
  },
  {
   "cell_type": "code",
   "execution_count": 15,
   "id": "a9913b17",
   "metadata": {},
   "outputs": [
    {
     "name": "stdout",
     "output_type": "stream",
     "text": [
      "Map saved to ../visualisations/top100_stations.html!\n"
     ]
    }
   ],
   "source": [
    "# Saving visualisation\n",
    "m_top100.save_to_html(file_name = '../visualisations/top100_stations.html', \n",
    "               read_only = False, \n",
    "               config = config_top100)"
   ]
  },
  {
   "cell_type": "markdown",
   "id": "aeb998db",
   "metadata": {},
   "source": [
    "### Map with population density as background layer"
   ]
  },
  {
   "cell_type": "code",
   "execution_count": null,
   "id": "b46b8e9a",
   "metadata": {},
   "outputs": [
    {
     "name": "stdout",
     "output_type": "stream",
     "text": [
      "User Guide: https://docs.kepler.gl/docs/keplergl-jupyter\n"
     ]
    },
    {
     "name": "stderr",
     "output_type": "stream",
     "text": [
      "c:\\Users\\seank\\OneDrive\\Dokumente\\Career Foundry Data Analytics Course\\Python_visualisation\\CitiBike_NY\\venv\\Lib\\site-packages\\jupyter_client\\session.py:721: UserWarning: Message serialization failed with:\n",
      "Out of range float values are not JSON compliant: nan\n",
      "Supporting this message is deprecated in jupyter-client 7, please make sure your message is JSON-compliant\n",
      "  content = self.pack(content)\n",
      "c:\\Users\\seank\\OneDrive\\Dokumente\\Career Foundry Data Analytics Course\\Python_visualisation\\CitiBike_NY\\venv\\Lib\\site-packages\\jupyter_client\\session.py:721: UserWarning: Message serialization failed with:\n",
      "Out of range float values are not JSON compliant: nan\n",
      "Supporting this message is deprecated in jupyter-client 7, please make sure your message is JSON-compliant\n",
      "  content = self.pack(content)\n",
      "c:\\Users\\seank\\OneDrive\\Dokumente\\Career Foundry Data Analytics Course\\Python_visualisation\\CitiBike_NY\\venv\\Lib\\site-packages\\jupyter_client\\session.py:721: UserWarning: Message serialization failed with:\n",
      "Out of range float values are not JSON compliant: nan\n",
      "Supporting this message is deprecated in jupyter-client 7, please make sure your message is JSON-compliant\n",
      "  content = self.pack(content)\n",
      "c:\\Users\\seank\\OneDrive\\Dokumente\\Career Foundry Data Analytics Course\\Python_visualisation\\CitiBike_NY\\venv\\Lib\\site-packages\\jupyter_client\\session.py:721: UserWarning: Message serialization failed with:\n",
      "Out of range float values are not JSON compliant: nan\n",
      "Supporting this message is deprecated in jupyter-client 7, please make sure your message is JSON-compliant\n",
      "  content = self.pack(content)\n"
     ]
    },
    {
     "data": {
      "application/vnd.jupyter.widget-view+json": {
       "model_id": "9aa131e07eb84c2bba12c659d28f1055",
       "version_major": 2,
       "version_minor": 0
      },
      "text/plain": [
       "KeplerGl(config={'version': 'v1', 'config': {'visState': {'filters': [], 'layers': [{'id': 'ozyje6h', 'type': …"
      ]
     },
     "execution_count": 19,
     "metadata": {},
     "output_type": "execute_result"
    }
   ],
   "source": [
    "# Creating KeplerGL map instance for citibike stations and subway network overlaid with population\n",
    "# loading saved config\n",
    "with open(\"config_pop_dens.json\") as f:\n",
    "    config = json.load(f)\n",
    "\n",
    "# --- Ensure UI config is present ---\n",
    "if \"uiState\" not in config:\n",
    "    config[\"uiState\"] = {}\n",
    "\n",
    "# --- Make sure mapControls exist ---\n",
    "if \"mapControls\" not in config[\"uiState\"]:\n",
    "    config[\"uiState\"][\"mapControls\"] = {}\n",
    "\n",
    "# --- Force legend + controls visible and active ---\n",
    "config[\"uiState\"][\"mapControls\"].update({\n",
    "    \"visibleLayers\": True,\n",
    "    \"mapLegend\": {\"show\": True, \"active\": True},  # ensure legend is visible + expanded\n",
    "    \"toggle3d\": False,\n",
    "    \"splitMap\": False\n",
    "})\n",
    "\n",
    "m_pop = KeplerGl(height=700, data={\"data_1\": df}, config=config)\n",
    "m_pop.add_data(subway_lines, name=\"Subway Lines\")\n",
    "m_pop.add_data(subway_stations, name=\"Subway Stations\")\n",
    "m_pop.add_data(ntas, name=\"Income and Population by NTA\")\n",
    "m_pop"
   ]
  },
  {
   "cell_type": "code",
   "execution_count": 20,
   "id": "8ace95ea",
   "metadata": {},
   "outputs": [],
   "source": [
    "# save settings\n",
    "config_pop = m_pop.config"
   ]
  },
  {
   "cell_type": "code",
   "execution_count": 21,
   "id": "0a34d8da",
   "metadata": {},
   "outputs": [],
   "source": [
    "with open(\"config_pop_dens.json\", \"w\") as outfile:\n",
    "    json.dump(config_pop, outfile)"
   ]
  },
  {
   "cell_type": "code",
   "execution_count": 22,
   "id": "ca20aec8",
   "metadata": {},
   "outputs": [
    {
     "name": "stdout",
     "output_type": "stream",
     "text": [
      "Map saved to ../visualisations/stops_layers_pop.html!\n"
     ]
    }
   ],
   "source": [
    "m_pop.save_to_html(file_name = '../visualisations/stops_layers_pop.html', \n",
    "               read_only = False, \n",
    "               config = config_pop)"
   ]
  },
  {
   "cell_type": "markdown",
   "id": "a5dd2b09",
   "metadata": {},
   "source": [
    "### Map with median household income as background layer"
   ]
  },
  {
   "cell_type": "code",
   "execution_count": 11,
   "id": "670e67d2",
   "metadata": {},
   "outputs": [
    {
     "name": "stdout",
     "output_type": "stream",
     "text": [
      "User Guide: https://docs.kepler.gl/docs/keplergl-jupyter\n"
     ]
    },
    {
     "name": "stderr",
     "output_type": "stream",
     "text": [
      "c:\\Users\\seank\\OneDrive\\Dokumente\\Career Foundry Data Analytics Course\\Python_visualisation\\CitiBike_NY\\venv\\Lib\\site-packages\\jupyter_client\\session.py:721: UserWarning: Message serialization failed with:\n",
      "Out of range float values are not JSON compliant: nan\n",
      "Supporting this message is deprecated in jupyter-client 7, please make sure your message is JSON-compliant\n",
      "  content = self.pack(content)\n",
      "c:\\Users\\seank\\OneDrive\\Dokumente\\Career Foundry Data Analytics Course\\Python_visualisation\\CitiBike_NY\\venv\\Lib\\site-packages\\jupyter_client\\session.py:721: UserWarning: Message serialization failed with:\n",
      "Out of range float values are not JSON compliant: nan\n",
      "Supporting this message is deprecated in jupyter-client 7, please make sure your message is JSON-compliant\n",
      "  content = self.pack(content)\n",
      "c:\\Users\\seank\\OneDrive\\Dokumente\\Career Foundry Data Analytics Course\\Python_visualisation\\CitiBike_NY\\venv\\Lib\\site-packages\\jupyter_client\\session.py:721: UserWarning: Message serialization failed with:\n",
      "Out of range float values are not JSON compliant: nan\n",
      "Supporting this message is deprecated in jupyter-client 7, please make sure your message is JSON-compliant\n",
      "  content = self.pack(content)\n",
      "c:\\Users\\seank\\OneDrive\\Dokumente\\Career Foundry Data Analytics Course\\Python_visualisation\\CitiBike_NY\\venv\\Lib\\site-packages\\jupyter_client\\session.py:721: UserWarning: Message serialization failed with:\n",
      "Out of range float values are not JSON compliant: nan\n",
      "Supporting this message is deprecated in jupyter-client 7, please make sure your message is JSON-compliant\n",
      "  content = self.pack(content)\n"
     ]
    },
    {
     "data": {
      "application/vnd.jupyter.widget-view+json": {
       "model_id": "63ba6fad518b4d2aa407853e157ff7e5",
       "version_major": 2,
       "version_minor": 0
      },
      "text/plain": [
       "KeplerGl(config={'version': 'v1', 'config': {'visState': {'filters': [], 'layers': [{'id': 'ozyje6h', 'type': …"
      ]
     },
     "execution_count": 11,
     "metadata": {},
     "output_type": "execute_result"
    }
   ],
   "source": [
    "# Creating KeplerGL map instance for citibike stations and subway network overlaid with population\n",
    "\n",
    "with open(\"config_income.json\") as f:\n",
    "    config = json.load(f)\n",
    "\n",
    "m_inc = KeplerGl(height=700, data={\"data_1\": df}, config=config)  \n",
    "m_inc.add_data(subway_lines, name=\"Subway Lines\")\n",
    "m_inc.add_data(subway_stations, name=\"Subway Stations\")\n",
    "m_inc.add_data(ntas, name=\"Income and Population by NTA\")\n",
    "m_inc"
   ]
  },
  {
   "cell_type": "code",
   "execution_count": 21,
   "id": "b3933da4",
   "metadata": {},
   "outputs": [],
   "source": [
    "# save settings\n",
    "config_inc = m_inc.config\n",
    "with open(\"config_income.json\", \"w\") as outfile:\n",
    "    json.dump(config_inc, outfile)"
   ]
  },
  {
   "cell_type": "code",
   "execution_count": 22,
   "id": "c4996d04",
   "metadata": {},
   "outputs": [
    {
     "name": "stdout",
     "output_type": "stream",
     "text": [
      "Map saved to ../visualisations/stops_layers_inc.html!\n"
     ]
    }
   ],
   "source": [
    "# Saving visualisation\n",
    "m_inc.save_to_html(file_name=\"../visualisations/stops_layers_inc.html\",\n",
    "    read_only=False,\n",
    "    config=config_inc)"
   ]
  },
  {
   "cell_type": "code",
   "execution_count": null,
   "id": "858a09e4",
   "metadata": {},
   "outputs": [],
   "source": []
  }
 ],
 "metadata": {
  "kernelspec": {
   "display_name": "Python (citibike)",
   "language": "python",
   "name": "citibike-env"
  },
  "language_info": {
   "codemirror_mode": {
    "name": "ipython",
    "version": 3
   },
   "file_extension": ".py",
   "mimetype": "text/x-python",
   "name": "python",
   "nbconvert_exporter": "python",
   "pygments_lexer": "ipython3",
   "version": "3.12.7"
  }
 },
 "nbformat": 4,
 "nbformat_minor": 5
}
