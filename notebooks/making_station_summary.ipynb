{
 "cells": [
  {
   "cell_type": "code",
   "execution_count": 1,
   "id": "37864f5a",
   "metadata": {},
   "outputs": [],
   "source": [
    "import pandas as pd\n",
    "import os\n",
    "import numpy as np"
   ]
  },
  {
   "cell_type": "code",
   "execution_count": 2,
   "id": "5e8e4327",
   "metadata": {},
   "outputs": [],
   "source": [
    "df = pd.read_parquet(r'C:\\Data\\Citibike_NY_2022\\merged\\df_weather_duration.parquet')"
   ]
  },
  {
   "cell_type": "markdown",
   "id": "1812f138",
   "metadata": {},
   "source": [
    "# Creating station summary df to plot points "
   ]
  },
  {
   "cell_type": "code",
   "execution_count": 3,
   "id": "804700b2",
   "metadata": {},
   "outputs": [],
   "source": [
    "# Count outbound (departures)\n",
    "trips_from = df.groupby('start_station_name').size().reset_index(name='trips_from')\n",
    "\n",
    "# Count inbound (arrivals)\n",
    "trips_to = df.groupby('end_station_name').size().reset_index(name='trips_to')\n",
    "\n",
    "# Merge into a station-level summary\n",
    "station_summary = pd.merge(\n",
    "    trips_from, \n",
    "    trips_to, \n",
    "    left_on='start_station_name', \n",
    "    right_on='end_station_name', \n",
    "    how='outer'\n",
    ")"
   ]
  },
  {
   "cell_type": "code",
   "execution_count": 4,
   "id": "becce6a7",
   "metadata": {},
   "outputs": [
    {
     "data": {
      "text/html": [
       "<div>\n",
       "<style scoped>\n",
       "    .dataframe tbody tr th:only-of-type {\n",
       "        vertical-align: middle;\n",
       "    }\n",
       "\n",
       "    .dataframe tbody tr th {\n",
       "        vertical-align: top;\n",
       "    }\n",
       "\n",
       "    .dataframe thead th {\n",
       "        text-align: right;\n",
       "    }\n",
       "</style>\n",
       "<table border=\"1\" class=\"dataframe\">\n",
       "  <thead>\n",
       "    <tr style=\"text-align: right;\">\n",
       "      <th></th>\n",
       "      <th>start_station_name</th>\n",
       "      <th>trips_from</th>\n",
       "      <th>end_station_name</th>\n",
       "      <th>trips_to</th>\n",
       "    </tr>\n",
       "  </thead>\n",
       "  <tbody>\n",
       "    <tr>\n",
       "      <th>0</th>\n",
       "      <td>1 Ave &amp; E 110 St</td>\n",
       "      <td>21478.0</td>\n",
       "      <td>1 Ave &amp; E 110 St</td>\n",
       "      <td>21621</td>\n",
       "    </tr>\n",
       "    <tr>\n",
       "      <th>1</th>\n",
       "      <td>1 Ave &amp; E 16 St</td>\n",
       "      <td>67235.0</td>\n",
       "      <td>1 Ave &amp; E 16 St</td>\n",
       "      <td>66392</td>\n",
       "    </tr>\n",
       "    <tr>\n",
       "      <th>2</th>\n",
       "      <td>1 Ave &amp; E 18 St</td>\n",
       "      <td>70731.0</td>\n",
       "      <td>1 Ave &amp; E 18 St</td>\n",
       "      <td>70483</td>\n",
       "    </tr>\n",
       "    <tr>\n",
       "      <th>3</th>\n",
       "      <td>1 Ave &amp; E 30 St</td>\n",
       "      <td>45340.0</td>\n",
       "      <td>1 Ave &amp; E 30 St</td>\n",
       "      <td>45993</td>\n",
       "    </tr>\n",
       "    <tr>\n",
       "      <th>4</th>\n",
       "      <td>1 Ave &amp; E 39 St</td>\n",
       "      <td>52287.0</td>\n",
       "      <td>1 Ave &amp; E 39 St</td>\n",
       "      <td>52693</td>\n",
       "    </tr>\n",
       "  </tbody>\n",
       "</table>\n",
       "</div>"
      ],
      "text/plain": [
       "  start_station_name  trips_from  end_station_name  trips_to\n",
       "0   1 Ave & E 110 St     21478.0  1 Ave & E 110 St     21621\n",
       "1    1 Ave & E 16 St     67235.0   1 Ave & E 16 St     66392\n",
       "2    1 Ave & E 18 St     70731.0   1 Ave & E 18 St     70483\n",
       "3    1 Ave & E 30 St     45340.0   1 Ave & E 30 St     45993\n",
       "4    1 Ave & E 39 St     52287.0   1 Ave & E 39 St     52693"
      ]
     },
     "execution_count": 4,
     "metadata": {},
     "output_type": "execute_result"
    }
   ],
   "source": [
    "station_summary.head()"
   ]
  },
  {
   "cell_type": "code",
   "execution_count": 5,
   "id": "83e90831",
   "metadata": {},
   "outputs": [
    {
     "data": {
      "text/plain": [
       "(1818, 4)"
      ]
     },
     "execution_count": 5,
     "metadata": {},
     "output_type": "execute_result"
    }
   ],
   "source": [
    "station_summary.shape"
   ]
  },
  {
   "cell_type": "code",
   "execution_count": 6,
   "id": "ac718f80",
   "metadata": {},
   "outputs": [],
   "source": [
    "# Making fresh name col (and if there's no starting value, taking the end)\n",
    "station_summary['station_name'] = station_summary['start_station_name'].combine_first(station_summary['end_station_name'])"
   ]
  },
  {
   "cell_type": "code",
   "execution_count": 7,
   "id": "a48ec2c1",
   "metadata": {},
   "outputs": [],
   "source": [
    "# dropping excess cols and putting name first\n",
    "station_summary = station_summary[['station_name', 'trips_from', 'trips_to']]"
   ]
  },
  {
   "cell_type": "code",
   "execution_count": 8,
   "id": "be79e9ca",
   "metadata": {},
   "outputs": [
    {
     "data": {
      "text/plain": [
       "(1818, 3)"
      ]
     },
     "execution_count": 8,
     "metadata": {},
     "output_type": "execute_result"
    }
   ],
   "source": [
    "station_summary.shape"
   ]
  },
  {
   "cell_type": "code",
   "execution_count": 9,
   "id": "d4dd36c0",
   "metadata": {},
   "outputs": [],
   "source": [
    "# Filling NAs in case any station has only in or outbound trips\n",
    "station_summary[['trips_from', 'trips_to']] = station_summary[['trips_from', 'trips_to']].fillna(0).astype(int)"
   ]
  },
  {
   "cell_type": "code",
   "execution_count": 10,
   "id": "c79436b3",
   "metadata": {},
   "outputs": [],
   "source": [
    "# Extracting coordinates from individual trip df\n",
    "station_coords = pd.concat([\n",
    "    df[['start_station_name', 'start_lat', 'start_lng']].rename(\n",
    "        columns={'start_station_name': 'station_name', 'start_lat': 'lat', 'start_lng': 'lng'}\n",
    "    ),\n",
    "    df[['end_station_name', 'end_lat', 'end_lng']].rename(\n",
    "        columns={'end_station_name': 'station_name', 'end_lat': 'lat', 'end_lng': 'lng'}\n",
    "    )\n",
    "])"
   ]
  },
  {
   "cell_type": "code",
   "execution_count": 11,
   "id": "1dc83c7f",
   "metadata": {},
   "outputs": [],
   "source": [
    "# Getting most commong coords per station \n",
    "    # I already made uniform for start and end in main cleaning notebook, this step makes sure coords are uniform across start and end\n",
    "station_coords_clean = (\n",
    "    station_coords\n",
    "    .groupby('station_name')[['lat', 'lng']]\n",
    "    .agg(lambda x: x.mode().iloc[0] if not x.mode().empty else x.iloc[0])\n",
    "    .reset_index()\n",
    ")"
   ]
  },
  {
   "cell_type": "code",
   "execution_count": 12,
   "id": "02add5ea",
   "metadata": {},
   "outputs": [],
   "source": [
    "# Meergin coordinates onto summary stats\n",
    "station_summary = station_summary.merge(\n",
    "    station_coords_clean,\n",
    "    on='station_name',\n",
    "    how='left'\n",
    ")"
   ]
  },
  {
   "cell_type": "code",
   "execution_count": 13,
   "id": "0ce8f5e0",
   "metadata": {},
   "outputs": [
    {
     "data": {
      "text/html": [
       "<div>\n",
       "<style scoped>\n",
       "    .dataframe tbody tr th:only-of-type {\n",
       "        vertical-align: middle;\n",
       "    }\n",
       "\n",
       "    .dataframe tbody tr th {\n",
       "        vertical-align: top;\n",
       "    }\n",
       "\n",
       "    .dataframe thead th {\n",
       "        text-align: right;\n",
       "    }\n",
       "</style>\n",
       "<table border=\"1\" class=\"dataframe\">\n",
       "  <thead>\n",
       "    <tr style=\"text-align: right;\">\n",
       "      <th></th>\n",
       "      <th>station_name</th>\n",
       "      <th>trips_from</th>\n",
       "      <th>trips_to</th>\n",
       "      <th>lat</th>\n",
       "      <th>lng</th>\n",
       "    </tr>\n",
       "  </thead>\n",
       "  <tbody>\n",
       "    <tr>\n",
       "      <th>0</th>\n",
       "      <td>1 Ave &amp; E 110 St</td>\n",
       "      <td>21478</td>\n",
       "      <td>21621</td>\n",
       "      <td>40.792327</td>\n",
       "      <td>-73.938300</td>\n",
       "    </tr>\n",
       "    <tr>\n",
       "      <th>1</th>\n",
       "      <td>1 Ave &amp; E 16 St</td>\n",
       "      <td>67235</td>\n",
       "      <td>66392</td>\n",
       "      <td>40.732219</td>\n",
       "      <td>-73.981656</td>\n",
       "    </tr>\n",
       "    <tr>\n",
       "      <th>2</th>\n",
       "      <td>1 Ave &amp; E 18 St</td>\n",
       "      <td>70731</td>\n",
       "      <td>70483</td>\n",
       "      <td>40.733812</td>\n",
       "      <td>-73.980544</td>\n",
       "    </tr>\n",
       "    <tr>\n",
       "      <th>3</th>\n",
       "      <td>1 Ave &amp; E 30 St</td>\n",
       "      <td>45340</td>\n",
       "      <td>45993</td>\n",
       "      <td>40.741444</td>\n",
       "      <td>-73.975361</td>\n",
       "    </tr>\n",
       "    <tr>\n",
       "      <th>4</th>\n",
       "      <td>1 Ave &amp; E 39 St</td>\n",
       "      <td>52287</td>\n",
       "      <td>52693</td>\n",
       "      <td>40.747140</td>\n",
       "      <td>-73.971130</td>\n",
       "    </tr>\n",
       "  </tbody>\n",
       "</table>\n",
       "</div>"
      ],
      "text/plain": [
       "       station_name  trips_from  trips_to        lat        lng\n",
       "0  1 Ave & E 110 St       21478     21621  40.792327 -73.938300\n",
       "1   1 Ave & E 16 St       67235     66392  40.732219 -73.981656\n",
       "2   1 Ave & E 18 St       70731     70483  40.733812 -73.980544\n",
       "3   1 Ave & E 30 St       45340     45993  40.741444 -73.975361\n",
       "4   1 Ave & E 39 St       52287     52693  40.747140 -73.971130"
      ]
     },
     "execution_count": 13,
     "metadata": {},
     "output_type": "execute_result"
    }
   ],
   "source": [
    "station_summary.head()"
   ]
  },
  {
   "cell_type": "code",
   "execution_count": 14,
   "id": "771a57d5",
   "metadata": {},
   "outputs": [
    {
     "data": {
      "text/plain": [
       "(1818, 5)"
      ]
     },
     "execution_count": 14,
     "metadata": {},
     "output_type": "execute_result"
    }
   ],
   "source": [
    "station_summary.shape"
   ]
  },
  {
   "cell_type": "markdown",
   "id": "64c42905",
   "metadata": {},
   "source": [
    "Calculating how much a station is a sender or receiver station, by calculating the difference between inbound and outbound bikes as % of outbound trips"
   ]
  },
  {
   "cell_type": "code",
   "execution_count": 15,
   "id": "ba2430c9",
   "metadata": {},
   "outputs": [],
   "source": [
    "# Compute no-return percentage\n",
    "station_summary['no_return_pc'] = (\n",
    "    (station_summary['trips_from'] - station_summary['trips_to'])*100\n",
    "    ) / station_summary['trips_from'].replace(0, np.nan)    # replacing 0 with missing to avoid errors"
   ]
  },
  {
   "cell_type": "code",
   "execution_count": 16,
   "id": "ce1aa7a5",
   "metadata": {},
   "outputs": [
    {
     "data": {
      "text/html": [
       "<div>\n",
       "<style scoped>\n",
       "    .dataframe tbody tr th:only-of-type {\n",
       "        vertical-align: middle;\n",
       "    }\n",
       "\n",
       "    .dataframe tbody tr th {\n",
       "        vertical-align: top;\n",
       "    }\n",
       "\n",
       "    .dataframe thead th {\n",
       "        text-align: right;\n",
       "    }\n",
       "</style>\n",
       "<table border=\"1\" class=\"dataframe\">\n",
       "  <thead>\n",
       "    <tr style=\"text-align: right;\">\n",
       "      <th></th>\n",
       "      <th>station_name</th>\n",
       "      <th>trips_from</th>\n",
       "      <th>trips_to</th>\n",
       "      <th>lat</th>\n",
       "      <th>lng</th>\n",
       "      <th>no_return_pc</th>\n",
       "    </tr>\n",
       "  </thead>\n",
       "  <tbody>\n",
       "    <tr>\n",
       "      <th>0</th>\n",
       "      <td>1 Ave &amp; E 110 St</td>\n",
       "      <td>21478</td>\n",
       "      <td>21621</td>\n",
       "      <td>40.792327</td>\n",
       "      <td>-73.938300</td>\n",
       "      <td>-0.7</td>\n",
       "    </tr>\n",
       "    <tr>\n",
       "      <th>1</th>\n",
       "      <td>1 Ave &amp; E 16 St</td>\n",
       "      <td>67235</td>\n",
       "      <td>66392</td>\n",
       "      <td>40.732219</td>\n",
       "      <td>-73.981656</td>\n",
       "      <td>1.3</td>\n",
       "    </tr>\n",
       "    <tr>\n",
       "      <th>2</th>\n",
       "      <td>1 Ave &amp; E 18 St</td>\n",
       "      <td>70731</td>\n",
       "      <td>70483</td>\n",
       "      <td>40.733812</td>\n",
       "      <td>-73.980544</td>\n",
       "      <td>0.4</td>\n",
       "    </tr>\n",
       "    <tr>\n",
       "      <th>3</th>\n",
       "      <td>1 Ave &amp; E 30 St</td>\n",
       "      <td>45340</td>\n",
       "      <td>45993</td>\n",
       "      <td>40.741444</td>\n",
       "      <td>-73.975361</td>\n",
       "      <td>-1.4</td>\n",
       "    </tr>\n",
       "    <tr>\n",
       "      <th>4</th>\n",
       "      <td>1 Ave &amp; E 39 St</td>\n",
       "      <td>52287</td>\n",
       "      <td>52693</td>\n",
       "      <td>40.747140</td>\n",
       "      <td>-73.971130</td>\n",
       "      <td>-0.8</td>\n",
       "    </tr>\n",
       "  </tbody>\n",
       "</table>\n",
       "</div>"
      ],
      "text/plain": [
       "       station_name  trips_from  trips_to        lat        lng  no_return_pc\n",
       "0  1 Ave & E 110 St       21478     21621  40.792327 -73.938300          -0.7\n",
       "1   1 Ave & E 16 St       67235     66392  40.732219 -73.981656           1.3\n",
       "2   1 Ave & E 18 St       70731     70483  40.733812 -73.980544           0.4\n",
       "3   1 Ave & E 30 St       45340     45993  40.741444 -73.975361          -1.4\n",
       "4   1 Ave & E 39 St       52287     52693  40.747140 -73.971130          -0.8"
      ]
     },
     "execution_count": 16,
     "metadata": {},
     "output_type": "execute_result"
    }
   ],
   "source": [
    "station_summary['no_return_pc'] = station_summary['no_return_pc'].round(1)\n",
    "station_summary.head()"
   ]
  },
  {
   "cell_type": "code",
   "execution_count": 17,
   "id": "553a89c1",
   "metadata": {},
   "outputs": [
    {
     "data": {
      "text/html": [
       "<div>\n",
       "<style scoped>\n",
       "    .dataframe tbody tr th:only-of-type {\n",
       "        vertical-align: middle;\n",
       "    }\n",
       "\n",
       "    .dataframe tbody tr th {\n",
       "        vertical-align: top;\n",
       "    }\n",
       "\n",
       "    .dataframe thead th {\n",
       "        text-align: right;\n",
       "    }\n",
       "</style>\n",
       "<table border=\"1\" class=\"dataframe\">\n",
       "  <thead>\n",
       "    <tr style=\"text-align: right;\">\n",
       "      <th></th>\n",
       "      <th>trips_from</th>\n",
       "      <th>trips_to</th>\n",
       "      <th>lat</th>\n",
       "      <th>lng</th>\n",
       "      <th>no_return_pc</th>\n",
       "    </tr>\n",
       "  </thead>\n",
       "  <tbody>\n",
       "    <tr>\n",
       "      <th>count</th>\n",
       "      <td>1818.000000</td>\n",
       "      <td>1818.000000</td>\n",
       "      <td>1818.000000</td>\n",
       "      <td>1818.000000</td>\n",
       "      <td>1739.000000</td>\n",
       "    </tr>\n",
       "    <tr>\n",
       "      <th>mean</th>\n",
       "      <td>16373.996150</td>\n",
       "      <td>16373.996150</td>\n",
       "      <td>40.748353</td>\n",
       "      <td>-73.956375</td>\n",
       "      <td>0.017021</td>\n",
       "    </tr>\n",
       "    <tr>\n",
       "      <th>std</th>\n",
       "      <td>19655.406382</td>\n",
       "      <td>19677.423804</td>\n",
       "      <td>0.059887</td>\n",
       "      <td>0.039713</td>\n",
       "      <td>6.635691</td>\n",
       "    </tr>\n",
       "    <tr>\n",
       "      <th>min</th>\n",
       "      <td>0.000000</td>\n",
       "      <td>1.000000</td>\n",
       "      <td>40.633385</td>\n",
       "      <td>-74.086701</td>\n",
       "      <td>-113.800000</td>\n",
       "    </tr>\n",
       "    <tr>\n",
       "      <th>25%</th>\n",
       "      <td>2535.250000</td>\n",
       "      <td>2497.750000</td>\n",
       "      <td>40.701065</td>\n",
       "      <td>-73.987741</td>\n",
       "      <td>-1.400000</td>\n",
       "    </tr>\n",
       "    <tr>\n",
       "      <th>50%</th>\n",
       "      <td>8156.000000</td>\n",
       "      <td>8149.000000</td>\n",
       "      <td>40.742777</td>\n",
       "      <td>-73.953245</td>\n",
       "      <td>-0.300000</td>\n",
       "    </tr>\n",
       "    <tr>\n",
       "      <th>75%</th>\n",
       "      <td>24343.750000</td>\n",
       "      <td>24507.000000</td>\n",
       "      <td>40.794882</td>\n",
       "      <td>-73.922651</td>\n",
       "      <td>1.100000</td>\n",
       "    </tr>\n",
       "    <tr>\n",
       "      <th>max</th>\n",
       "      <td>128822.000000</td>\n",
       "      <td>130178.000000</td>\n",
       "      <td>40.882260</td>\n",
       "      <td>-73.881450</td>\n",
       "      <td>50.500000</td>\n",
       "    </tr>\n",
       "  </tbody>\n",
       "</table>\n",
       "</div>"
      ],
      "text/plain": [
       "          trips_from       trips_to          lat          lng  no_return_pc\n",
       "count    1818.000000    1818.000000  1818.000000  1818.000000   1739.000000\n",
       "mean    16373.996150   16373.996150    40.748353   -73.956375      0.017021\n",
       "std     19655.406382   19677.423804     0.059887     0.039713      6.635691\n",
       "min         0.000000       1.000000    40.633385   -74.086701   -113.800000\n",
       "25%      2535.250000    2497.750000    40.701065   -73.987741     -1.400000\n",
       "50%      8156.000000    8149.000000    40.742777   -73.953245     -0.300000\n",
       "75%     24343.750000   24507.000000    40.794882   -73.922651      1.100000\n",
       "max    128822.000000  130178.000000    40.882260   -73.881450     50.500000"
      ]
     },
     "execution_count": 17,
     "metadata": {},
     "output_type": "execute_result"
    }
   ],
   "source": [
    "station_summary.describe()"
   ]
  },
  {
   "cell_type": "markdown",
   "id": "535ece7e",
   "metadata": {},
   "source": [
    "Creating cols to express trips as daily figures for better interpretation"
   ]
  },
  {
   "cell_type": "code",
   "execution_count": 18,
   "id": "b55206f6",
   "metadata": {},
   "outputs": [],
   "source": [
    "station_summary['daily_deps'] = (station_summary['trips_from']/365).round(1)\n",
    "station_summary['daily_arrs'] = (station_summary['trips_to']/365).round(1)\n",
    "\n",
    "station_summary = station_summary.drop(columns=['trips_from', 'trips_to'])  # dropping totals"
   ]
  },
  {
   "cell_type": "code",
   "execution_count": 19,
   "id": "4d87ee1b",
   "metadata": {},
   "outputs": [
    {
     "data": {
      "text/html": [
       "<div>\n",
       "<style scoped>\n",
       "    .dataframe tbody tr th:only-of-type {\n",
       "        vertical-align: middle;\n",
       "    }\n",
       "\n",
       "    .dataframe tbody tr th {\n",
       "        vertical-align: top;\n",
       "    }\n",
       "\n",
       "    .dataframe thead th {\n",
       "        text-align: right;\n",
       "    }\n",
       "</style>\n",
       "<table border=\"1\" class=\"dataframe\">\n",
       "  <thead>\n",
       "    <tr style=\"text-align: right;\">\n",
       "      <th></th>\n",
       "      <th>lat</th>\n",
       "      <th>lng</th>\n",
       "      <th>no_return_pc</th>\n",
       "      <th>daily_deps</th>\n",
       "      <th>daily_arrs</th>\n",
       "    </tr>\n",
       "  </thead>\n",
       "  <tbody>\n",
       "    <tr>\n",
       "      <th>count</th>\n",
       "      <td>1818.000000</td>\n",
       "      <td>1818.000000</td>\n",
       "      <td>1739.000000</td>\n",
       "      <td>1818.000000</td>\n",
       "      <td>1818.000000</td>\n",
       "    </tr>\n",
       "    <tr>\n",
       "      <th>mean</th>\n",
       "      <td>40.748353</td>\n",
       "      <td>-73.956375</td>\n",
       "      <td>0.017021</td>\n",
       "      <td>44.859461</td>\n",
       "      <td>44.860286</td>\n",
       "    </tr>\n",
       "    <tr>\n",
       "      <th>std</th>\n",
       "      <td>0.059887</td>\n",
       "      <td>0.039713</td>\n",
       "      <td>6.635691</td>\n",
       "      <td>53.850202</td>\n",
       "      <td>53.911984</td>\n",
       "    </tr>\n",
       "    <tr>\n",
       "      <th>min</th>\n",
       "      <td>40.633385</td>\n",
       "      <td>-74.086701</td>\n",
       "      <td>-113.800000</td>\n",
       "      <td>0.000000</td>\n",
       "      <td>0.000000</td>\n",
       "    </tr>\n",
       "    <tr>\n",
       "      <th>25%</th>\n",
       "      <td>40.701065</td>\n",
       "      <td>-73.987741</td>\n",
       "      <td>-1.400000</td>\n",
       "      <td>6.925000</td>\n",
       "      <td>6.825000</td>\n",
       "    </tr>\n",
       "    <tr>\n",
       "      <th>50%</th>\n",
       "      <td>40.742777</td>\n",
       "      <td>-73.953245</td>\n",
       "      <td>-0.300000</td>\n",
       "      <td>22.350000</td>\n",
       "      <td>22.300000</td>\n",
       "    </tr>\n",
       "    <tr>\n",
       "      <th>75%</th>\n",
       "      <td>40.794882</td>\n",
       "      <td>-73.922651</td>\n",
       "      <td>1.100000</td>\n",
       "      <td>66.700000</td>\n",
       "      <td>67.150000</td>\n",
       "    </tr>\n",
       "    <tr>\n",
       "      <th>max</th>\n",
       "      <td>40.882260</td>\n",
       "      <td>-73.881450</td>\n",
       "      <td>50.500000</td>\n",
       "      <td>352.900000</td>\n",
       "      <td>356.700000</td>\n",
       "    </tr>\n",
       "  </tbody>\n",
       "</table>\n",
       "</div>"
      ],
      "text/plain": [
       "               lat          lng  no_return_pc   daily_deps   daily_arrs\n",
       "count  1818.000000  1818.000000   1739.000000  1818.000000  1818.000000\n",
       "mean     40.748353   -73.956375      0.017021    44.859461    44.860286\n",
       "std       0.059887     0.039713      6.635691    53.850202    53.911984\n",
       "min      40.633385   -74.086701   -113.800000     0.000000     0.000000\n",
       "25%      40.701065   -73.987741     -1.400000     6.925000     6.825000\n",
       "50%      40.742777   -73.953245     -0.300000    22.350000    22.300000\n",
       "75%      40.794882   -73.922651      1.100000    66.700000    67.150000\n",
       "max      40.882260   -73.881450     50.500000   352.900000   356.700000"
      ]
     },
     "execution_count": 19,
     "metadata": {},
     "output_type": "execute_result"
    }
   ],
   "source": [
    "station_summary.describe()"
   ]
  },
  {
   "cell_type": "code",
   "execution_count": 20,
   "id": "e8ff9ecb",
   "metadata": {},
   "outputs": [
    {
     "data": {
      "text/html": [
       "<div>\n",
       "<style scoped>\n",
       "    .dataframe tbody tr th:only-of-type {\n",
       "        vertical-align: middle;\n",
       "    }\n",
       "\n",
       "    .dataframe tbody tr th {\n",
       "        vertical-align: top;\n",
       "    }\n",
       "\n",
       "    .dataframe thead th {\n",
       "        text-align: right;\n",
       "    }\n",
       "</style>\n",
       "<table border=\"1\" class=\"dataframe\">\n",
       "  <thead>\n",
       "    <tr style=\"text-align: right;\">\n",
       "      <th></th>\n",
       "      <th>station_name</th>\n",
       "      <th>lat</th>\n",
       "      <th>lng</th>\n",
       "      <th>no_return_pc</th>\n",
       "      <th>daily_deps</th>\n",
       "      <th>daily_arrs</th>\n",
       "    </tr>\n",
       "  </thead>\n",
       "  <tbody>\n",
       "    <tr>\n",
       "      <th>0</th>\n",
       "      <td>1 Ave &amp; E 110 St</td>\n",
       "      <td>40.792327</td>\n",
       "      <td>-73.938300</td>\n",
       "      <td>-0.7</td>\n",
       "      <td>58.8</td>\n",
       "      <td>59.2</td>\n",
       "    </tr>\n",
       "    <tr>\n",
       "      <th>1</th>\n",
       "      <td>1 Ave &amp; E 16 St</td>\n",
       "      <td>40.732219</td>\n",
       "      <td>-73.981656</td>\n",
       "      <td>1.3</td>\n",
       "      <td>184.2</td>\n",
       "      <td>181.9</td>\n",
       "    </tr>\n",
       "    <tr>\n",
       "      <th>2</th>\n",
       "      <td>1 Ave &amp; E 18 St</td>\n",
       "      <td>40.733812</td>\n",
       "      <td>-73.980544</td>\n",
       "      <td>0.4</td>\n",
       "      <td>193.8</td>\n",
       "      <td>193.1</td>\n",
       "    </tr>\n",
       "    <tr>\n",
       "      <th>3</th>\n",
       "      <td>1 Ave &amp; E 30 St</td>\n",
       "      <td>40.741444</td>\n",
       "      <td>-73.975361</td>\n",
       "      <td>-1.4</td>\n",
       "      <td>124.2</td>\n",
       "      <td>126.0</td>\n",
       "    </tr>\n",
       "    <tr>\n",
       "      <th>4</th>\n",
       "      <td>1 Ave &amp; E 39 St</td>\n",
       "      <td>40.747140</td>\n",
       "      <td>-73.971130</td>\n",
       "      <td>-0.8</td>\n",
       "      <td>143.3</td>\n",
       "      <td>144.4</td>\n",
       "    </tr>\n",
       "  </tbody>\n",
       "</table>\n",
       "</div>"
      ],
      "text/plain": [
       "       station_name        lat        lng  no_return_pc  daily_deps  \\\n",
       "0  1 Ave & E 110 St  40.792327 -73.938300          -0.7        58.8   \n",
       "1   1 Ave & E 16 St  40.732219 -73.981656           1.3       184.2   \n",
       "2   1 Ave & E 18 St  40.733812 -73.980544           0.4       193.8   \n",
       "3   1 Ave & E 30 St  40.741444 -73.975361          -1.4       124.2   \n",
       "4   1 Ave & E 39 St  40.747140 -73.971130          -0.8       143.3   \n",
       "\n",
       "   daily_arrs  \n",
       "0        59.2  \n",
       "1       181.9  \n",
       "2       193.1  \n",
       "3       126.0  \n",
       "4       144.4  "
      ]
     },
     "execution_count": 20,
     "metadata": {},
     "output_type": "execute_result"
    }
   ],
   "source": [
    "station_summary.head()"
   ]
  },
  {
   "cell_type": "code",
   "execution_count": 21,
   "id": "34c0049f",
   "metadata": {},
   "outputs": [],
   "source": [
    "# Exporting\n",
    "station_summary.to_csv(r'C:\\Data\\Citibike_NY_2022\\merged\\station_summary.csv',\n",
    "                       index=False)"
   ]
  },
  {
   "cell_type": "code",
   "execution_count": null,
   "id": "98e86353",
   "metadata": {},
   "outputs": [],
   "source": []
  }
 ],
 "metadata": {
  "kernelspec": {
   "display_name": "Python (citibike)",
   "language": "python",
   "name": "citibike-env"
  },
  "language_info": {
   "codemirror_mode": {
    "name": "ipython",
    "version": 3
   },
   "file_extension": ".py",
   "mimetype": "text/x-python",
   "name": "python",
   "nbconvert_exporter": "python",
   "pygments_lexer": "ipython3",
   "version": "3.12.7"
  }
 },
 "nbformat": 4,
 "nbformat_minor": 5
}
